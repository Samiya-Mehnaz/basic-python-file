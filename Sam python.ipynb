{
 "cells": [
  {
   "cell_type": "markdown",
   "id": "6c859707",
   "metadata": {},
   "source": [
    "heading and markdown\n",
    "# heading 1\n",
    "## heading 2\n",
    "### heading 3\n",
    " This is demo test note\n",
    " "
   ]
  },
  {
   "cell_type": "code",
   "execution_count": null,
   "id": "9f392e6f",
   "metadata": {},
   "outputs": [],
   "source": []
  },
  {
   "cell_type": "code",
   "execution_count": 3,
   "id": "1fb959c2",
   "metadata": {},
   "outputs": [
    {
     "name": "stdout",
     "output_type": "stream",
     "text": [
      "2\n"
     ]
    }
   ],
   "source": [
    "a=2\n",
    "b=3\n",
    "c=a+b\n",
    "print(a)"
   ]
  },
  {
   "cell_type": "markdown",
   "id": "005b6071",
   "metadata": {},
   "source": [
    "in statically  typed language we write \n",
    "int number = 10;\n",
    "but python is dynamically typed language where we write \n",
    "number = 10"
   ]
  },
  {
   "cell_type": "code",
   "execution_count": 10,
   "id": "6af64cae",
   "metadata": {},
   "outputs": [
    {
     "name": "stdout",
     "output_type": "stream",
     "text": [
      "36\n",
      "35\n"
     ]
    }
   ],
   "source": [
    "#python is case sensitive\n",
    "age = 36\n",
    "Age = 35\n",
    "print(age)\n",
    "print(Age)"
   ]
  },
  {
   "cell_type": "code",
   "execution_count": 7,
   "id": "2c13935c",
   "metadata": {},
   "outputs": [
    {
     "name": "stdout",
     "output_type": "stream",
     "text": [
      "69.0\n"
     ]
    }
   ],
   "source": [
    "marks = 69.0 #float number\n",
    "print(marks)"
   ]
  },
  {
   "cell_type": "code",
   "execution_count": 8,
   "id": "bd6217bd",
   "metadata": {},
   "outputs": [],
   "source": [
    "name =\"samiya\""
   ]
  },
  {
   "cell_type": "code",
   "execution_count": 9,
   "id": "90a3f713",
   "metadata": {},
   "outputs": [
    {
     "name": "stdout",
     "output_type": "stream",
     "text": [
      "samiya\n"
     ]
    }
   ],
   "source": [
    "print(name)"
   ]
  },
  {
   "cell_type": "markdown",
   "id": "b31fdaaf",
   "metadata": {},
   "source": [
    "python uses both complier and interpretor  but it is callled interpreted language."
   ]
  },
  {
   "cell_type": "markdown",
   "id": "42931a9b",
   "metadata": {},
   "source": [
    "# error in python\n",
    "compile time error -byte code is not generated\n",
    "\n",
    "runtime error"
   ]
  },
  {
   "cell_type": "markdown",
   "id": "3e5db572",
   "metadata": {},
   "source": [
    "# sorce code(.py)>compilier>byte code(.pyc)>interpreter>machine code>executed>output.\n"
   ]
  },
  {
   "cell_type": "code",
   "execution_count": 5,
   "id": "04832ce5",
   "metadata": {},
   "outputs": [
    {
     "name": "stdout",
     "output_type": "stream",
     "text": [
      "10\n",
      "20\n",
      "30\n"
     ]
    }
   ],
   "source": [
    "a = 10\n",
    "print(a)\n",
    "b = 20\n",
    "print(b)\n",
    "c= a+b\n",
    "print(c)"
   ]
  },
  {
   "cell_type": "code",
   "execution_count": 7,
   "id": "954fc451",
   "metadata": {},
   "outputs": [
    {
     "ename": "SyntaxError",
     "evalue": "'(' was never closed (3909246351.py, line 3)",
     "output_type": "error",
     "traceback": [
      "\u001b[1;36m  Cell \u001b[1;32mIn[7], line 3\u001b[1;36m\u001b[0m\n\u001b[1;33m    print(a\u001b[0m\n\u001b[1;37m         ^\u001b[0m\n\u001b[1;31mSyntaxError\u001b[0m\u001b[1;31m:\u001b[0m '(' was never closed\n"
     ]
    }
   ],
   "source": [
    "# syntax error example\n",
    "a = 10\n",
    "print(a\n",
    "b = 20\n",
    "print(b)\n",
    "c= a+b\n",
    "print(c)"
   ]
  },
  {
   "cell_type": "code",
   "execution_count": 9,
   "id": "2d542580",
   "metadata": {},
   "outputs": [
    {
     "name": "stdout",
     "output_type": "stream",
     "text": [
      "10\n",
      "20\n"
     ]
    },
    {
     "ename": "NameError",
     "evalue": "name 'd' is not defined",
     "output_type": "error",
     "traceback": [
      "\u001b[1;31m---------------------------------------------------------------------------\u001b[0m",
      "\u001b[1;31mNameError\u001b[0m                                 Traceback (most recent call last)",
      "Cell \u001b[1;32mIn[9], line 7\u001b[0m\n\u001b[0;32m      5\u001b[0m b \u001b[38;5;241m=\u001b[39m \u001b[38;5;241m20\u001b[39m\n\u001b[0;32m      6\u001b[0m \u001b[38;5;28mprint\u001b[39m(b)\n\u001b[1;32m----> 7\u001b[0m c\u001b[38;5;241m=\u001b[39m a\u001b[38;5;241m+\u001b[39md\n\u001b[0;32m      8\u001b[0m \u001b[38;5;28mprint\u001b[39m(c)\n",
      "\u001b[1;31mNameError\u001b[0m: name 'd' is not defined"
     ]
    }
   ],
   "source": [
    "# run time error example- it will be complied but will have run time error\n",
    "##note: anything apart from syntaxe error and indentation error is run time error.\n",
    "a = 10\n",
    "print(a)\n",
    "b = 20\n",
    "print(b)\n",
    "c= a+d\n",
    "print(c)"
   ]
  },
  {
   "cell_type": "markdown",
   "id": "293dab25",
   "metadata": {},
   "source": [
    "# in complie time error output is not genetrated as it will not be converted into byte code. but in run time error as interpreter execute line by line, output for line before error line are executed and out put is generated."
   ]
  },
  {
   "cell_type": "code",
   "execution_count": 10,
   "id": "5154cc1a",
   "metadata": {},
   "outputs": [
    {
     "name": "stdout",
     "output_type": "stream",
     "text": [
      "1654649445488\n"
     ]
    }
   ],
   "source": [
    "#id() function is used to get the memory address of any variable.\n",
    "a=1000\n",
    "b=2000\n",
    "print(id(a))"
   ]
  },
  {
   "cell_type": "code",
   "execution_count": 11,
   "id": "e586fdcf",
   "metadata": {},
   "outputs": [
    {
     "data": {
      "text/plain": [
       "1654649445072"
      ]
     },
     "execution_count": 11,
     "metadata": {},
     "output_type": "execute_result"
    }
   ],
   "source": [
    "print(id(b))"
   ]
  },
  {
   "cell_type": "code",
   "execution_count": 14,
   "id": "c8f73c31",
   "metadata": {},
   "outputs": [
    {
     "data": {
      "text/plain": [
       "1654649445072"
      ]
     },
     "execution_count": 14,
     "metadata": {},
     "output_type": "execute_result"
    }
   ],
   "source": [
    "c=1000\n",
    "id(c) #new memoey is allocated."
   ]
  },
  {
   "cell_type": "code",
   "execution_count": 15,
   "id": "7c6f8abf",
   "metadata": {},
   "outputs": [
    {
     "data": {
      "text/plain": [
       "1654649444848"
      ]
     },
     "execution_count": 15,
     "metadata": {},
     "output_type": "execute_result"
    }
   ],
   "source": [
    "id(a)\n",
    "id(b) #if print is not used only last ;ine will be executed."
   ]
  },
  {
   "cell_type": "code",
   "execution_count": 17,
   "id": "9b8b777b",
   "metadata": {},
   "outputs": [
    {
     "data": {
      "text/plain": [
       "1654649445488"
      ]
     },
     "execution_count": 17,
     "metadata": {},
     "output_type": "execute_result"
    }
   ],
   "source": [
    "d = a\n",
    "id(d) #d and a adrress will be same "
   ]
  },
  {
   "cell_type": "code",
   "execution_count": 18,
   "id": "da1d9071",
   "metadata": {},
   "outputs": [
    {
     "data": {
      "text/plain": [
       "1654649444656"
      ]
     },
     "execution_count": 18,
     "metadata": {},
     "output_type": "execute_result"
    }
   ],
   "source": [
    "a = 2500\n",
    "id(a) #reassignment "
   ]
  },
  {
   "cell_type": "code",
   "execution_count": 19,
   "id": "0a279499",
   "metadata": {},
   "outputs": [
    {
     "data": {
      "text/plain": [
       "1654649445488"
      ]
     },
     "execution_count": 19,
     "metadata": {},
     "output_type": "execute_result"
    }
   ],
   "source": [
    "id(d) #its address will not be changed"
   ]
  },
  {
   "cell_type": "code",
   "execution_count": 20,
   "id": "63c742a8",
   "metadata": {},
   "outputs": [
    {
     "data": {
      "text/plain": [
       "1654649446320"
      ]
     },
     "execution_count": 20,
     "metadata": {},
     "output_type": "execute_result"
    }
   ],
   "source": [
    "d=1500\n",
    "id(d)\n"
   ]
  },
  {
   "cell_type": "markdown",
   "id": "212f02aa",
   "metadata": {},
   "source": [
    "# reference count of address 1654649445488 is now zero. Garbage collector will delete the memory of that adddress and will be resend in future."
   ]
  },
  {
   "cell_type": "code",
   "execution_count": 21,
   "id": "8305a92c",
   "metadata": {},
   "outputs": [
    {
     "data": {
      "text/plain": [
       "140736732567880"
      ]
     },
     "execution_count": 21,
     "metadata": {},
     "output_type": "execute_result"
    }
   ],
   "source": [
    "x=50\n",
    "id(x)"
   ]
  },
  {
   "cell_type": "code",
   "execution_count": 22,
   "id": "1a5c54c6",
   "metadata": {},
   "outputs": [
    {
     "data": {
      "text/plain": [
       "140736732567880"
      ]
     },
     "execution_count": 22,
     "metadata": {},
     "output_type": "execute_result"
    }
   ],
   "source": [
    "y=50\n",
    "id(y)"
   ]
  },
  {
   "cell_type": "markdown",
   "id": "9cdeac8d",
   "metadata": {},
   "source": [
    "# execption if the values are from  -5 to 256 , the memory address will be same. its a memoery management rule. example is above"
   ]
  },
  {
   "cell_type": "markdown",
   "id": "2bc3890f",
   "metadata": {},
   "source": [
    "### Literal\n",
    "Literal is the value of data\n",
    "name = \"john\" \n",
    "here john is a literal\n",
    "age = 20\n",
    " 20 is literal\n",
    " \n",
    "    \n",
    "    \n",
    "    "
   ]
  },
  {
   "cell_type": "markdown",
   "id": "52b04472",
   "metadata": {},
   "source": [
    "# numerical literal\n",
    "-integer:whole number (+ve and -ve),0 to 9, base 10, decimal number system ,eg:100,-5,0,-3451\n",
    "-binary: base 2,0,1. 0b1001, 0b110110\n",
    "-octal-base 8, 0-7, 0o17,0o76\n",
    "-hexadecimal:base 16, 0-9, A-f, eg: 0x3E, 0x100\n",
    "-floats: fractional number with the decimal point , 10.67, -50.89,20.0\n",
    "-complex number: real and imaginary ,a+bj where a is the real part and b is the imaginary part and j is the square root of -1."
   ]
  },
  {
   "cell_type": "code",
   "execution_count": 25,
   "id": "92b3da2d",
   "metadata": {},
   "outputs": [
    {
     "data": {
      "text/plain": [
       "100"
      ]
     },
     "execution_count": 25,
     "metadata": {},
     "output_type": "execute_result"
    }
   ],
   "source": [
    "num1=100\n",
    "num1\n"
   ]
  },
  {
   "cell_type": "code",
   "execution_count": 29,
   "id": "8068c636",
   "metadata": {},
   "outputs": [
    {
     "name": "stdout",
     "output_type": "stream",
     "text": [
      "10\n",
      "10\n"
     ]
    }
   ],
   "source": [
    "num2=0b1010\n",
    "print(int(num2))\n",
    "print(num2) #it alwas gives output in int value"
   ]
  },
  {
   "cell_type": "code",
   "execution_count": 30,
   "id": "d4cfeadc",
   "metadata": {},
   "outputs": [
    {
     "name": "stdout",
     "output_type": "stream",
     "text": [
      "0b1010\n",
      "0b1100100\n"
     ]
    }
   ],
   "source": [
    "print(bin(10)) # to get the values in binary\n",
    "print(bin(100))"
   ]
  },
  {
   "cell_type": "code",
   "execution_count": 32,
   "id": "0c44a015",
   "metadata": {},
   "outputs": [
    {
     "name": "stdout",
     "output_type": "stream",
     "text": [
      "0b1100100\n"
     ]
    }
   ],
   "source": [
    "print(bin(num1)) # to get the values in binary"
   ]
  },
  {
   "cell_type": "code",
   "execution_count": 33,
   "id": "b9acfc74",
   "metadata": {},
   "outputs": [
    {
     "data": {
      "text/plain": [
       "8"
      ]
     },
     "execution_count": 33,
     "metadata": {},
     "output_type": "execute_result"
    }
   ],
   "source": [
    "num3=0o10 #octal value\n",
    "num3"
   ]
  },
  {
   "cell_type": "code",
   "execution_count": 34,
   "id": "03ecf986",
   "metadata": {},
   "outputs": [
    {
     "name": "stdout",
     "output_type": "stream",
     "text": [
      "0o12\n"
     ]
    }
   ],
   "source": [
    "print(oct(10))# to get oct value"
   ]
  },
  {
   "cell_type": "code",
   "execution_count": 37,
   "id": "3b3aadb8",
   "metadata": {},
   "outputs": [
    {
     "name": "stdout",
     "output_type": "stream",
     "text": [
      "62\n",
      "0x3e\n"
     ]
    }
   ],
   "source": [
    "num5=0x3E # to get hex value\n",
    "print(num5)\n",
    "print(hex(num5))# hex value is given in small letter such as 0x3e"
   ]
  },
  {
   "cell_type": "code",
   "execution_count": 38,
   "id": "243afc35",
   "metadata": {},
   "outputs": [
    {
     "name": "stdout",
     "output_type": "stream",
     "text": [
      "140736732569480\n"
     ]
    }
   ],
   "source": [
    "print(id(100))"
   ]
  },
  {
   "cell_type": "code",
   "execution_count": 40,
   "id": "eed84a1b",
   "metadata": {},
   "outputs": [
    {
     "name": "stdout",
     "output_type": "stream",
     "text": [
      "0x7fffd2f39f88\n"
     ]
    }
   ],
   "source": [
    "print(hex(id(100))) # memoery address are usually present in hexa"
   ]
  },
  {
   "cell_type": "code",
   "execution_count": 46,
   "id": "13672fae",
   "metadata": {},
   "outputs": [
    {
     "data": {
      "text/plain": [
       "10.5"
      ]
     },
     "execution_count": 46,
     "metadata": {},
     "output_type": "execute_result"
    }
   ],
   "source": [
    "num6 = 10.5 #float number\n",
    "num6"
   ]
  },
  {
   "cell_type": "code",
   "execution_count": 42,
   "id": "878fbea1",
   "metadata": {},
   "outputs": [
    {
     "name": "stdout",
     "output_type": "stream",
     "text": [
      "-100.45\n"
     ]
    }
   ],
   "source": [
    "num7 = -100.45\n",
    "print(num7)"
   ]
  },
  {
   "cell_type": "code",
   "execution_count": 48,
   "id": "a4c3e907",
   "metadata": {},
   "outputs": [
    {
     "name": "stdout",
     "output_type": "stream",
     "text": [
      "140736732569480\n",
      "140736732569480\n"
     ]
    }
   ],
   "source": [
    "print(id(num1))\n",
    "print(id(100)) # id is used to get the address value of both value and variable\n"
   ]
  },
  {
   "cell_type": "code",
   "execution_count": 49,
   "id": "7ca9ed04",
   "metadata": {},
   "outputs": [
    {
     "data": {
      "text/plain": [
       "'0x64'"
      ]
     },
     "execution_count": 49,
     "metadata": {},
     "output_type": "execute_result"
    }
   ],
   "source": [
    "hex(100)"
   ]
  },
  {
   "cell_type": "code",
   "execution_count": 50,
   "id": "e5a691a0",
   "metadata": {},
   "outputs": [
    {
     "name": "stdout",
     "output_type": "stream",
     "text": [
      "1654649450256\n",
      "1654649449936\n",
      "1654649450640\n",
      "1654649450544\n"
     ]
    }
   ],
   "source": [
    "a=1000\n",
    "b=1000\n",
    "print(id(a))#different address is allocated\n",
    "print(id(b))#ifferent address is allocated\n",
    "print(id(1000))#different address is allocated every time\n",
    "print(id(1000))"
   ]
  },
  {
   "cell_type": "code",
   "execution_count": 51,
   "id": "1a91d712",
   "metadata": {},
   "outputs": [
    {
     "data": {
      "text/plain": [
       "(3+2j)"
      ]
     },
     "execution_count": 51,
     "metadata": {},
     "output_type": "execute_result"
    }
   ],
   "source": [
    "num9 = 3 +2j\n",
    "num9"
   ]
  },
  {
   "cell_type": "code",
   "execution_count": 54,
   "id": "a85a1964",
   "metadata": {},
   "outputs": [
    {
     "ename": "TypeError",
     "evalue": "int() argument must be a string, a bytes-like object or a real number, not 'complex'",
     "output_type": "error",
     "traceback": [
      "\u001b[1;31m---------------------------------------------------------------------------\u001b[0m",
      "\u001b[1;31mTypeError\u001b[0m                                 Traceback (most recent call last)",
      "Cell \u001b[1;32mIn[54], line 1\u001b[0m\n\u001b[1;32m----> 1\u001b[0m \u001b[38;5;28mint\u001b[39m(num9)\n",
      "\u001b[1;31mTypeError\u001b[0m: int() argument must be a string, a bytes-like object or a real number, not 'complex'"
     ]
    }
   ],
   "source": [
    "int(num9) # we cannot convert imagnery num to real number"
   ]
  },
  {
   "cell_type": "markdown",
   "id": "1bead663",
   "metadata": {},
   "source": [
    "# string literal\n"
   ]
  },
  {
   "cell_type": "code",
   "execution_count": 58,
   "id": "7685ee60",
   "metadata": {},
   "outputs": [
    {
     "name": "stdout",
     "output_type": "stream",
     "text": [
      "sam\n"
     ]
    }
   ],
   "source": [
    "#difeerent format to write strings \n",
    "s1 = \"sam\" \n",
    "s2 = 'naaz'\n",
    "s3 = '''samiya'''\n",
    "s4 = \"\"\"mehnaz\"\"\"\n",
    "print(s1)"
   ]
  },
  {
   "cell_type": "code",
   "execution_count": 59,
   "id": "e5e19a48",
   "metadata": {},
   "outputs": [
    {
     "data": {
      "text/plain": [
       "'sam'"
      ]
     },
     "execution_count": 59,
     "metadata": {},
     "output_type": "execute_result"
    }
   ],
   "source": [
    "s1 # quotes are not part of the values and only comes with signal quote in output if we dont use print function."
   ]
  },
  {
   "cell_type": "code",
   "execution_count": 60,
   "id": "cea96fa3",
   "metadata": {},
   "outputs": [
    {
     "data": {
      "text/plain": [
       "'hello, how are you?'"
      ]
     },
     "execution_count": 60,
     "metadata": {},
     "output_type": "execute_result"
    }
   ],
   "source": [
    "s5 = 'hello, how are you?'\n",
    "s5"
   ]
  },
  {
   "cell_type": "code",
   "execution_count": 61,
   "id": "a2eb4d9a",
   "metadata": {},
   "outputs": [
    {
     "ename": "SyntaxError",
     "evalue": "unterminated string literal (detected at line 1) (2641601638.py, line 1)",
     "output_type": "error",
     "traceback": [
      "\u001b[1;36m  Cell \u001b[1;32mIn[61], line 1\u001b[1;36m\u001b[0m\n\u001b[1;33m    s6 = 'This is python's class'\u001b[0m\n\u001b[1;37m                                ^\u001b[0m\n\u001b[1;31mSyntaxError\u001b[0m\u001b[1;31m:\u001b[0m unterminated string literal (detected at line 1)\n"
     ]
    }
   ],
   "source": [
    "s6 = 'This is python's class' #error as it considered as quote is closed after n\n",
    "s6"
   ]
  },
  {
   "cell_type": "code",
   "execution_count": 63,
   "id": "f4dc070d",
   "metadata": {},
   "outputs": [
    {
     "data": {
      "text/plain": [
       "\"This is python's class\""
      ]
     },
     "execution_count": 63,
     "metadata": {},
     "output_type": "execute_result"
    }
   ],
   "source": [
    "s7 = \"This is python's class\"\n",
    "s7"
   ]
  },
  {
   "cell_type": "code",
   "execution_count": 66,
   "id": "7203450f",
   "metadata": {},
   "outputs": [
    {
     "data": {
      "text/plain": [
       "\"This is python's class\""
      ]
     },
     "execution_count": 66,
     "metadata": {},
     "output_type": "execute_result"
    }
   ],
   "source": [
    "s8 = 'This is python\\'s class' # slash can also be used to indicate that quote is a prt of the string and it negative the negate the meaning od special charater\n",
    "s8"
   ]
  },
  {
   "cell_type": "code",
   "execution_count": 67,
   "id": "a8c81905",
   "metadata": {},
   "outputs": [
    {
     "ename": "SyntaxError",
     "evalue": "unterminated string literal (detected at line 1) (1251254864.py, line 1)",
     "output_type": "error",
     "traceback": [
      "\u001b[1;36m  Cell \u001b[1;32mIn[67], line 1\u001b[1;36m\u001b[0m\n\u001b[1;33m    s9 = \"hello\u001b[0m\n\u001b[1;37m         ^\u001b[0m\n\u001b[1;31mSyntaxError\u001b[0m\u001b[1;31m:\u001b[0m unterminated string literal (detected at line 1)\n"
     ]
    }
   ],
   "source": [
    "s9 = \"hello \n",
    "how are you?\"\n",
    "s9"
   ]
  },
  {
   "cell_type": "code",
   "execution_count": 70,
   "id": "9304cc3c",
   "metadata": {},
   "outputs": [
    {
     "data": {
      "text/plain": [
       "'hello \\nhow are you?'"
      ]
     },
     "execution_count": 70,
     "metadata": {},
     "output_type": "execute_result"
    }
   ],
   "source": [
    "s10 = '''hello \n",
    "how are you?''' #tripal quotes can be used to write the data in next line without error\n",
    "s10"
   ]
  },
  {
   "cell_type": "code",
   "execution_count": 69,
   "id": "6c645475",
   "metadata": {},
   "outputs": [
    {
     "name": "stdout",
     "output_type": "stream",
     "text": [
      "hello\n",
      "how are you?\n"
     ]
    }
   ],
   "source": [
    "print(s10) # it using print function, print in next line"
   ]
  },
  {
   "cell_type": "markdown",
   "id": "d4c99ad7",
   "metadata": {},
   "source": [
    " ## \\n is a new line character"
   ]
  },
  {
   "cell_type": "code",
   "execution_count": 76,
   "id": "cab92c50",
   "metadata": {},
   "outputs": [
    {
     "data": {
      "text/plain": [
       "'hey\\nhow are you?'"
      ]
     },
     "execution_count": 76,
     "metadata": {},
     "output_type": "execute_result"
    }
   ],
   "source": [
    "s11 = \"hey\\nhow are you?\"\n",
    "s11"
   ]
  },
  {
   "cell_type": "code",
   "execution_count": 77,
   "id": "92fa305b",
   "metadata": {},
   "outputs": [
    {
     "name": "stdout",
     "output_type": "stream",
     "text": [
      "hey\n",
      "how are you?\n"
     ]
    }
   ],
   "source": [
    "print(s11)"
   ]
  },
  {
   "cell_type": "code",
   "execution_count": 79,
   "id": "896ad328",
   "metadata": {},
   "outputs": [
    {
     "name": "stdout",
     "output_type": "stream",
     "text": [
      "old\n",
      "ew\n"
     ]
    }
   ],
   "source": [
    "s13 = \"old\\new\"\n",
    "print(s13)"
   ]
  },
  {
   "cell_type": "markdown",
   "id": "bcf95690",
   "metadata": {},
   "source": [
    "# boolean literral \n",
    "  They are True and False\n",
    "## special literal - NONE\n",
    "None is a value that takes a memory"
   ]
  },
  {
   "cell_type": "code",
   "execution_count": 83,
   "id": "b5e618eb",
   "metadata": {},
   "outputs": [
    {
     "name": "stdout",
     "output_type": "stream",
     "text": [
      "None\n",
      "140736731179760\n"
     ]
    }
   ],
   "source": [
    "value = None\n",
    "print(value)\n",
    "print(id(value))"
   ]
  },
  {
   "cell_type": "code",
   "execution_count": 86,
   "id": "034e9857",
   "metadata": {},
   "outputs": [],
   "source": [
    "value "
   ]
  },
  {
   "cell_type": "code",
   "execution_count": 87,
   "id": "a71dda5c",
   "metadata": {},
   "outputs": [
    {
     "name": "stdout",
     "output_type": "stream",
     "text": [
      "None\n"
     ]
    }
   ],
   "source": [
    "print(value) # to print none we have use print becuase the value will not give you output"
   ]
  },
  {
   "cell_type": "markdown",
   "id": "c8382c94",
   "metadata": {},
   "source": [
    "# Identifier:\n",
    "Its a name give to variable, function, class. "
   ]
  },
  {
   "cell_type": "code",
   "execution_count": 88,
   "id": "779a1478",
   "metadata": {},
   "outputs": [],
   "source": [
    "name = \"samiya\"\n",
    "# name is identifier, john is string literal, = is operator."
   ]
  },
  {
   "cell_type": "code",
   "execution_count": 89,
   "id": "c055a20c",
   "metadata": {},
   "outputs": [],
   "source": [
    "#variable is same rule as identifiers\n"
   ]
  },
  {
   "cell_type": "markdown",
   "id": "0fc5684c",
   "metadata": {},
   "source": [
    "# constant\n",
    "-fixed value,\n",
    "-we use upper case to define constant\n",
    "example : GRAVITY=9.8\n",
    "PI= 3.14\n",
    "note: the values can be edited and changed but in order to not to change it in future we used it as campital letters to indecate that the valu is constant and we should not edit it. \n"
   ]
  },
  {
   "cell_type": "markdown",
   "id": "02f2a8a8",
   "metadata": {},
   "source": [
    "# key words\n",
    "pre define reserved words that have special meanings\n",
    "they are 36 key words currently\n",
    "ex: def,for,if,else,import,\n",
    "how to check it: there is a list of keywords present inside a module called \"keyword\"\n",
    "to get it we need to import the module..\n",
    "in the keyword module there is a variable defined - kwlist which has a list of all the keywords\n"
   ]
  },
  {
   "cell_type": "code",
   "execution_count": 91,
   "id": "4310bfdf",
   "metadata": {},
   "outputs": [],
   "source": [
    "import keyword"
   ]
  },
  {
   "cell_type": "code",
   "execution_count": 94,
   "id": "17ec412c",
   "metadata": {},
   "outputs": [
    {
     "name": "stdout",
     "output_type": "stream",
     "text": [
      "['False', 'None', 'True', 'and', 'as', 'assert', 'async', 'await', 'break', 'class', 'continue', 'def', 'del', 'elif', 'else', 'except', 'finally', 'for', 'from', 'global', 'if', 'import', 'in', 'is', 'lambda', 'nonlocal', 'not', 'or', 'pass', 'raise', 'return', 'try', 'while', 'with', 'yield']\n"
     ]
    }
   ],
   "source": [
    "print(keyword.kwlist)"
   ]
  },
  {
   "cell_type": "markdown",
   "id": "c4c1a5d2",
   "metadata": {},
   "source": [
    "# COMMENT\n",
    "\n",
    "notes written inside the program\n",
    "description of the code , its a good practise and # is used to write single line comment and triple quotes are used to write multiple line comments. \n",
    "\n",
    "ctrl+? is short cut for comment"
   ]
  },
  {
   "cell_type": "code",
   "execution_count": 95,
   "id": "4d046ef1",
   "metadata": {},
   "outputs": [
    {
     "name": "stdout",
     "output_type": "stream",
     "text": [
      "30\n"
     ]
    }
   ],
   "source": [
    "# adding two int\n",
    "a=10\n",
    "b=20\n",
    "c = a+b \n",
    "print(c)"
   ]
  },
  {
   "cell_type": "code",
   "execution_count": 96,
   "id": "9112fff3",
   "metadata": {},
   "outputs": [
    {
     "name": "stdout",
     "output_type": "stream",
     "text": [
      "30\n"
     ]
    }
   ],
   "source": [
    "'''hi its triple code comment '''\n",
    "a=10\n",
    "b=20\n",
    "c = a+b \n",
    "print(c)"
   ]
  },
  {
   "cell_type": "code",
   "execution_count": 98,
   "id": "490c87f7",
   "metadata": {},
   "outputs": [
    {
     "ename": "SyntaxError",
     "evalue": "invalid syntax (2383713188.py, line 3)",
     "output_type": "error",
     "traceback": [
      "\u001b[1;36m  Cell \u001b[1;32mIn[98], line 3\u001b[1;36m\u001b[0m\n\u001b[1;33m    b=20 '''hi its triple code comment '''\u001b[0m\n\u001b[1;37m         ^\u001b[0m\n\u001b[1;31mSyntaxError\u001b[0m\u001b[1;31m:\u001b[0m invalid syntax\n"
     ]
    }
   ],
   "source": [
    "# triple quote is used in starting only or it will give error\n",
    "a=10\n",
    "b=20 '''hi its triple code comment '''\n",
    "c = a+b \n",
    "print(c)"
   ]
  },
  {
   "cell_type": "markdown",
   "id": "3cbdc235",
   "metadata": {},
   "source": [
    "# expression :  combination of values/ data , variable and operators.\n"
   ]
  },
  {
   "cell_type": "code",
   "execution_count": 99,
   "id": "417bebd0",
   "metadata": {},
   "outputs": [
    {
     "name": "stdout",
     "output_type": "stream",
     "text": [
      "30\n"
     ]
    }
   ],
   "source": [
    "a= 10\n",
    "result = a*2+10 # a*2+10  is an expression\n",
    "print(result) # this is a statement, that is instruction we write in code"
   ]
  },
  {
   "cell_type": "markdown",
   "id": "473fa045",
   "metadata": {},
   "source": [
    "# indentations and block  \n",
    "\n",
    "BLOCK: combenations of statements\n",
    "we use indenation to write blocks in python.\n",
    "indenation is space /tabs used for writing blocks.\n",
    "-4 SpACES IS THE STANdard indentation."
   ]
  },
  {
   "cell_type": "code",
   "execution_count": 105,
   "id": "d2d6ece7",
   "metadata": {},
   "outputs": [
    {
     "name": "stdout",
     "output_type": "stream",
     "text": [
      "negative value\n"
     ]
    }
   ],
   "source": [
    "number = -10\n",
    "if number < 0:\n",
    "    print(\"negative value\")\n",
    "else:\n",
    "    print (\"POSITIVE VALUE\")\n"
   ]
  },
  {
   "cell_type": "code",
   "execution_count": 106,
   "id": "c7973d3d",
   "metadata": {},
   "outputs": [
    {
     "name": "stdout",
     "output_type": "stream",
     "text": [
      "POSITIVE VALUE\n"
     ]
    }
   ],
   "source": [
    "number = 10\n",
    "if number < 0:\n",
    "    print(\"negative value\")\n",
    "else:\n",
    "    print (\"POSITIVE VALUE\")\n"
   ]
  },
  {
   "cell_type": "markdown",
   "id": "42a99e57",
   "metadata": {},
   "source": [
    "# DATA TYPES IN PYTHON\n",
    "\n",
    "## fundemental data types-\n",
    "int,flots,comples,string,boolean,special\n",
    "## derived data types:\n",
    "lists, tuple,frozenset, dictionary"
   ]
  },
  {
   "cell_type": "code",
   "execution_count": 107,
   "id": "61f727b3",
   "metadata": {},
   "outputs": [
    {
     "data": {
      "text/plain": [
       "100"
      ]
     },
     "execution_count": 107,
     "metadata": {},
     "output_type": "execute_result"
    }
   ],
   "source": [
    "# integers\n",
    "num1 = 100\n",
    "num1\n"
   ]
  },
  {
   "cell_type": "code",
   "execution_count": 108,
   "id": "1229a442",
   "metadata": {},
   "outputs": [
    {
     "name": "stdout",
     "output_type": "stream",
     "text": [
      "<class 'int'>\n"
     ]
    }
   ],
   "source": [
    "print(type(num1)) # return datatype of variable."
   ]
  },
  {
   "cell_type": "code",
   "execution_count": 109,
   "id": "aa4fcc13",
   "metadata": {},
   "outputs": [
    {
     "data": {
      "text/plain": [
       "str"
      ]
     },
     "execution_count": 109,
     "metadata": {},
     "output_type": "execute_result"
    }
   ],
   "source": [
    "a = \"sam\"\n",
    "type(a)"
   ]
  },
  {
   "cell_type": "code",
   "execution_count": 110,
   "id": "de03e12f",
   "metadata": {},
   "outputs": [
    {
     "name": "stdout",
     "output_type": "stream",
     "text": [
      "<class 'str'>\n"
     ]
    }
   ],
   "source": [
    "print(type(a))"
   ]
  },
  {
   "cell_type": "code",
   "execution_count": 111,
   "id": "46fa85fd",
   "metadata": {},
   "outputs": [
    {
     "data": {
      "text/plain": [
       "int"
      ]
     },
     "execution_count": 111,
     "metadata": {},
     "output_type": "execute_result"
    }
   ],
   "source": [
    "num2 = 0b1011\n",
    "type(num2) #binary are representation of int so it will give int only "
   ]
  },
  {
   "cell_type": "code",
   "execution_count": 112,
   "id": "66120b7d",
   "metadata": {},
   "outputs": [
    {
     "name": "stdout",
     "output_type": "stream",
     "text": [
      "11\n"
     ]
    }
   ],
   "source": [
    "print(num2)"
   ]
  },
  {
   "cell_type": "code",
   "execution_count": 113,
   "id": "eae0b0c4",
   "metadata": {},
   "outputs": [
    {
     "name": "stdout",
     "output_type": "stream",
     "text": [
      "164\n"
     ]
    },
    {
     "data": {
      "text/plain": [
       "int"
      ]
     },
     "execution_count": 113,
     "metadata": {},
     "output_type": "execute_result"
    }
   ],
   "source": [
    "num3 = 0xa4\n",
    "print(num3)\n",
    "type(num3)"
   ]
  },
  {
   "cell_type": "code",
   "execution_count": 114,
   "id": "2b35e0e3",
   "metadata": {},
   "outputs": [
    {
     "data": {
      "text/plain": [
       "float"
      ]
     },
     "execution_count": 114,
     "metadata": {},
     "output_type": "execute_result"
    }
   ],
   "source": [
    "num5=10.5\n",
    "type(num5)"
   ]
  },
  {
   "cell_type": "code",
   "execution_count": 115,
   "id": "a5f21237",
   "metadata": {},
   "outputs": [
    {
     "data": {
      "text/plain": [
       "float"
      ]
     },
     "execution_count": 115,
     "metadata": {},
     "output_type": "execute_result"
    }
   ],
   "source": [
    "num6 =10.6\n",
    "type(num6)"
   ]
  },
  {
   "cell_type": "code",
   "execution_count": 117,
   "id": "92a7c9a8",
   "metadata": {},
   "outputs": [
    {
     "data": {
      "text/plain": [
       "110.5"
      ]
     },
     "execution_count": 117,
     "metadata": {},
     "output_type": "execute_result"
    }
   ],
   "source": [
    "num1+num5"
   ]
  },
  {
   "cell_type": "code",
   "execution_count": 118,
   "id": "5889f5c9",
   "metadata": {},
   "outputs": [
    {
     "data": {
      "text/plain": [
       "complex"
      ]
     },
     "execution_count": 118,
     "metadata": {},
     "output_type": "execute_result"
    }
   ],
   "source": [
    "#complex numbers -a+bj\n",
    "c1= 4+3j\n",
    "type(c1)"
   ]
  },
  {
   "cell_type": "code",
   "execution_count": 119,
   "id": "cfda4c98",
   "metadata": {},
   "outputs": [
    {
     "data": {
      "text/plain": [
       "(7+1j)"
      ]
     },
     "execution_count": 119,
     "metadata": {},
     "output_type": "execute_result"
    }
   ],
   "source": [
    "c2= 3-2j\n",
    "c1+c2"
   ]
  },
  {
   "cell_type": "code",
   "execution_count": 120,
   "id": "825b890a",
   "metadata": {},
   "outputs": [
    {
     "data": {
      "text/plain": [
       "(104+3j)"
      ]
     },
     "execution_count": 120,
     "metadata": {},
     "output_type": "execute_result"
    }
   ],
   "source": [
    "num1+c1"
   ]
  },
  {
   "cell_type": "code",
   "execution_count": 121,
   "id": "aa90d383",
   "metadata": {},
   "outputs": [
    {
     "data": {
      "text/plain": [
       "(14.5+3j)"
      ]
     },
     "execution_count": 121,
     "metadata": {},
     "output_type": "execute_result"
    }
   ],
   "source": [
    "num5+c1"
   ]
  },
  {
   "cell_type": "code",
   "execution_count": 122,
   "id": "e0b5f8af",
   "metadata": {},
   "outputs": [
    {
     "data": {
      "text/plain": [
       "(18+1j)"
      ]
     },
     "execution_count": 122,
     "metadata": {},
     "output_type": "execute_result"
    }
   ],
   "source": [
    "c1*c2"
   ]
  },
  {
   "cell_type": "code",
   "execution_count": 123,
   "id": "cd0fda49",
   "metadata": {},
   "outputs": [
    {
     "name": "stdout",
     "output_type": "stream",
     "text": [
      "Help on built-in function print in module builtins:\n",
      "\n",
      "print(*args, sep=' ', end='\\n', file=None, flush=False)\n",
      "    Prints the values to a stream, or to sys.stdout by default.\n",
      "    \n",
      "    sep\n",
      "      string inserted between values, default a space.\n",
      "    end\n",
      "      string appended after the last value, default a newline.\n",
      "    file\n",
      "      a file-like object (stream); defaults to the current sys.stdout.\n",
      "    flush\n",
      "      whether to forcibly flush the stream.\n",
      "\n"
     ]
    }
   ],
   "source": [
    "help(print) #help function gives all the details about a data type"
   ]
  },
  {
   "cell_type": "code",
   "execution_count": 124,
   "id": "dcbfe953",
   "metadata": {},
   "outputs": [
    {
     "name": "stdout",
     "output_type": "stream",
     "text": [
      "Help on class complex in module builtins:\n",
      "\n",
      "class complex(object)\n",
      " |  complex(real=0, imag=0)\n",
      " |  \n",
      " |  Create a complex number from a real part and an optional imaginary part.\n",
      " |  \n",
      " |  This is equivalent to (real + imag*1j) where imag defaults to 0.\n",
      " |  \n",
      " |  Methods defined here:\n",
      " |  \n",
      " |  __abs__(self, /)\n",
      " |      abs(self)\n",
      " |  \n",
      " |  __add__(self, value, /)\n",
      " |      Return self+value.\n",
      " |  \n",
      " |  __bool__(self, /)\n",
      " |      True if self else False\n",
      " |  \n",
      " |  __complex__(self, /)\n",
      " |      Convert this value to exact type complex.\n",
      " |  \n",
      " |  __eq__(self, value, /)\n",
      " |      Return self==value.\n",
      " |  \n",
      " |  __format__(self, format_spec, /)\n",
      " |      Convert to a string according to format_spec.\n",
      " |  \n",
      " |  __ge__(self, value, /)\n",
      " |      Return self>=value.\n",
      " |  \n",
      " |  __getattribute__(self, name, /)\n",
      " |      Return getattr(self, name).\n",
      " |  \n",
      " |  __getnewargs__(self, /)\n",
      " |  \n",
      " |  __gt__(self, value, /)\n",
      " |      Return self>value.\n",
      " |  \n",
      " |  __hash__(self, /)\n",
      " |      Return hash(self).\n",
      " |  \n",
      " |  __le__(self, value, /)\n",
      " |      Return self<=value.\n",
      " |  \n",
      " |  __lt__(self, value, /)\n",
      " |      Return self<value.\n",
      " |  \n",
      " |  __mul__(self, value, /)\n",
      " |      Return self*value.\n",
      " |  \n",
      " |  __ne__(self, value, /)\n",
      " |      Return self!=value.\n",
      " |  \n",
      " |  __neg__(self, /)\n",
      " |      -self\n",
      " |  \n",
      " |  __pos__(self, /)\n",
      " |      +self\n",
      " |  \n",
      " |  __pow__(self, value, mod=None, /)\n",
      " |      Return pow(self, value, mod).\n",
      " |  \n",
      " |  __radd__(self, value, /)\n",
      " |      Return value+self.\n",
      " |  \n",
      " |  __repr__(self, /)\n",
      " |      Return repr(self).\n",
      " |  \n",
      " |  __rmul__(self, value, /)\n",
      " |      Return value*self.\n",
      " |  \n",
      " |  __rpow__(self, value, mod=None, /)\n",
      " |      Return pow(value, self, mod).\n",
      " |  \n",
      " |  __rsub__(self, value, /)\n",
      " |      Return value-self.\n",
      " |  \n",
      " |  __rtruediv__(self, value, /)\n",
      " |      Return value/self.\n",
      " |  \n",
      " |  __sub__(self, value, /)\n",
      " |      Return self-value.\n",
      " |  \n",
      " |  __truediv__(self, value, /)\n",
      " |      Return self/value.\n",
      " |  \n",
      " |  conjugate(self, /)\n",
      " |      Return the complex conjugate of its argument. (3-4j).conjugate() == 3+4j.\n",
      " |  \n",
      " |  ----------------------------------------------------------------------\n",
      " |  Static methods defined here:\n",
      " |  \n",
      " |  __new__(*args, **kwargs) from builtins.type\n",
      " |      Create and return a new object.  See help(type) for accurate signature.\n",
      " |  \n",
      " |  ----------------------------------------------------------------------\n",
      " |  Data descriptors defined here:\n",
      " |  \n",
      " |  imag\n",
      " |      the imaginary part of a complex number\n",
      " |  \n",
      " |  real\n",
      " |      the real part of a complex number\n",
      "\n"
     ]
    }
   ],
   "source": [
    "help(complex)"
   ]
  },
  {
   "cell_type": "code",
   "execution_count": 125,
   "id": "99310d47",
   "metadata": {},
   "outputs": [
    {
     "data": {
      "text/plain": [
       "(4+3j)"
      ]
     },
     "execution_count": 125,
     "metadata": {},
     "output_type": "execute_result"
    }
   ],
   "source": [
    "c1"
   ]
  },
  {
   "cell_type": "code",
   "execution_count": 126,
   "id": "dde441fd",
   "metadata": {},
   "outputs": [
    {
     "data": {
      "text/plain": [
       "(4-3j)"
      ]
     },
     "execution_count": 126,
     "metadata": {},
     "output_type": "execute_result"
    }
   ],
   "source": [
    "c1.conjugate()"
   ]
  },
  {
   "cell_type": "code",
   "execution_count": 128,
   "id": "3f572703",
   "metadata": {},
   "outputs": [
    {
     "data": {
      "text/plain": [
       "(-3+4j)"
      ]
     },
     "execution_count": 128,
     "metadata": {},
     "output_type": "execute_result"
    }
   ],
   "source": [
    "(-3-4j).conjugate()"
   ]
  },
  {
   "cell_type": "code",
   "execution_count": 129,
   "id": "9c2789c4",
   "metadata": {},
   "outputs": [
    {
     "data": {
      "text/plain": [
       "4.0"
      ]
     },
     "execution_count": 129,
     "metadata": {},
     "output_type": "execute_result"
    }
   ],
   "source": [
    "c1.real #real and imag always give value in float"
   ]
  },
  {
   "cell_type": "code",
   "execution_count": 131,
   "id": "6c21d6e1",
   "metadata": {},
   "outputs": [
    {
     "data": {
      "text/plain": [
       "3.0"
      ]
     },
     "execution_count": 131,
     "metadata": {},
     "output_type": "execute_result"
    }
   ],
   "source": [
    "c1.imag"
   ]
  },
  {
   "cell_type": "code",
   "execution_count": 132,
   "id": "a3c437df",
   "metadata": {},
   "outputs": [
    {
     "data": {
      "text/plain": [
       "(9+3j)"
      ]
     },
     "execution_count": 132,
     "metadata": {},
     "output_type": "execute_result"
    }
   ],
   "source": [
    "a=5\n",
    "c1+a"
   ]
  },
  {
   "cell_type": "code",
   "execution_count": 133,
   "id": "8251c4f9",
   "metadata": {},
   "outputs": [
    {
     "data": {
      "text/plain": [
       "(4+8j)"
      ]
     },
     "execution_count": 133,
     "metadata": {},
     "output_type": "execute_result"
    }
   ],
   "source": [
    "b=5j\n",
    "c1+b"
   ]
  },
  {
   "cell_type": "markdown",
   "id": "0f362c9d",
   "metadata": {},
   "source": [
    "# boolean\n",
    "True and False\n",
    "True value is 1 and false value is zero"
   ]
  },
  {
   "cell_type": "code",
   "execution_count": 136,
   "id": "51f57c62",
   "metadata": {},
   "outputs": [
    {
     "data": {
      "text/plain": [
       "bool"
      ]
     },
     "execution_count": 136,
     "metadata": {},
     "output_type": "execute_result"
    }
   ],
   "source": [
    "val1=True\n",
    "type(val1)"
   ]
  },
  {
   "cell_type": "code",
   "execution_count": 137,
   "id": "0cab14aa",
   "metadata": {},
   "outputs": [
    {
     "data": {
      "text/plain": [
       "bool"
      ]
     },
     "execution_count": 137,
     "metadata": {},
     "output_type": "execute_result"
    }
   ],
   "source": [
    "val2=False\n",
    "type(val2)"
   ]
  },
  {
   "cell_type": "code",
   "execution_count": 138,
   "id": "6a5033b2",
   "metadata": {},
   "outputs": [
    {
     "data": {
      "text/plain": [
       "False"
      ]
     },
     "execution_count": 138,
     "metadata": {},
     "output_type": "execute_result"
    }
   ],
   "source": [
    "10<4"
   ]
  },
  {
   "cell_type": "code",
   "execution_count": 140,
   "id": "e30de2ee",
   "metadata": {},
   "outputs": [
    {
     "data": {
      "text/plain": [
       "10"
      ]
     },
     "execution_count": 140,
     "metadata": {},
     "output_type": "execute_result"
    }
   ],
   "source": [
    "val1 + a"
   ]
  },
  {
   "cell_type": "code",
   "execution_count": 142,
   "id": "3264bc5b",
   "metadata": {},
   "outputs": [
    {
     "data": {
      "text/plain": [
       "2"
      ]
     },
     "execution_count": 142,
     "metadata": {},
     "output_type": "execute_result"
    }
   ],
   "source": [
    "True+True #boolean and can considered in arthimatic operator as 1 and 0"
   ]
  },
  {
   "cell_type": "markdown",
   "id": "41e68345",
   "metadata": {},
   "source": [
    "# Strings\n",
    "seq of charaecter enclosed within quotes. "
   ]
  },
  {
   "cell_type": "code",
   "execution_count": null,
   "id": "786912ac",
   "metadata": {},
   "outputs": [],
   "source": [
    "s1=\"samiya\""
   ]
  },
  {
   "cell_type": "code",
   "execution_count": 144,
   "id": "63fa14a5",
   "metadata": {},
   "outputs": [
    {
     "data": {
      "text/plain": [
       "str"
      ]
     },
     "execution_count": 144,
     "metadata": {},
     "output_type": "execute_result"
    }
   ],
   "source": [
    "type(s1)"
   ]
  },
  {
   "cell_type": "code",
   "execution_count": 145,
   "id": "0afa58ad",
   "metadata": {},
   "outputs": [
    {
     "name": "stdout",
     "output_type": "stream",
     "text": [
      "<class 'str'>\n"
     ]
    }
   ],
   "source": [
    "print(type(s1))"
   ]
  },
  {
   "cell_type": "code",
   "execution_count": 146,
   "id": "9aaf2631",
   "metadata": {},
   "outputs": [],
   "source": [
    "#indexing in strings.\n",
    "#positioning of the strings \n",
    "#index starts from zero anddone using []\n",
    "# n is the length of strings"
   ]
  },
  {
   "cell_type": "code",
   "execution_count": 148,
   "id": "c795f2a3",
   "metadata": {},
   "outputs": [
    {
     "data": {
      "text/plain": [
       "'w'"
      ]
     },
     "execution_count": 148,
     "metadata": {},
     "output_type": "execute_result"
    }
   ],
   "source": [
    "s1 =\"Hello world\"\n",
    "s1[6]"
   ]
  },
  {
   "cell_type": "code",
   "execution_count": 149,
   "id": "1806fb3e",
   "metadata": {},
   "outputs": [
    {
     "name": "stdout",
     "output_type": "stream",
     "text": [
      "w\n"
     ]
    }
   ],
   "source": [
    "print(s1[6])"
   ]
  },
  {
   "cell_type": "code",
   "execution_count": 150,
   "id": "2aee10b8",
   "metadata": {},
   "outputs": [
    {
     "data": {
      "text/plain": [
       "11"
      ]
     },
     "execution_count": 150,
     "metadata": {},
     "output_type": "execute_result"
    }
   ],
   "source": [
    "len(s1) #gives length of string"
   ]
  },
  {
   "cell_type": "code",
   "execution_count": 151,
   "id": "a5f02a20",
   "metadata": {},
   "outputs": [
    {
     "ename": "IndexError",
     "evalue": "string index out of range",
     "output_type": "error",
     "traceback": [
      "\u001b[1;31m---------------------------------------------------------------------------\u001b[0m",
      "\u001b[1;31mIndexError\u001b[0m                                Traceback (most recent call last)",
      "Cell \u001b[1;32mIn[151], line 1\u001b[0m\n\u001b[1;32m----> 1\u001b[0m s1[\u001b[38;5;241m12\u001b[39m]\n",
      "\u001b[1;31mIndexError\u001b[0m: string index out of range"
     ]
    }
   ],
   "source": [
    "s1[12] #if we give value beyound the range it will give error"
   ]
  },
  {
   "cell_type": "code",
   "execution_count": 152,
   "id": "9cf8c0c2",
   "metadata": {},
   "outputs": [
    {
     "data": {
      "text/plain": [
       "'d'"
      ]
     },
     "execution_count": 152,
     "metadata": {},
     "output_type": "execute_result"
    }
   ],
   "source": [
    "s1[-1] #it will start backwords with -1 value and goes till -n."
   ]
  },
  {
   "cell_type": "code",
   "execution_count": 153,
   "id": "ec99b5dd",
   "metadata": {},
   "outputs": [
    {
     "data": {
      "text/plain": [
       "'H'"
      ]
     },
     "execution_count": 153,
     "metadata": {},
     "output_type": "execute_result"
    }
   ],
   "source": [
    "s1[-11]"
   ]
  },
  {
   "cell_type": "markdown",
   "id": "078c0c6a",
   "metadata": {},
   "source": [
    "# slicing\n",
    "featching a substring or a part of the string\n"
   ]
  },
  {
   "cell_type": "code",
   "execution_count": 3,
   "id": "7d44efd8",
   "metadata": {},
   "outputs": [
    {
     "data": {
      "text/plain": [
       "'hello world'"
      ]
     },
     "execution_count": 3,
     "metadata": {},
     "output_type": "execute_result"
    }
   ],
   "source": [
    "s1 = \"hello world\"\n",
    "s1\n"
   ]
  },
  {
   "cell_type": "markdown",
   "id": "dc7099cc",
   "metadata": {},
   "source": [
    "# string[start:stop:step]\n",
    "stop is excluded "
   ]
  },
  {
   "cell_type": "code",
   "execution_count": 2,
   "id": "72e4de62",
   "metadata": {},
   "outputs": [
    {
     "data": {
      "text/plain": [
       "'lo wo'"
      ]
     },
     "execution_count": 2,
     "metadata": {},
     "output_type": "execute_result"
    }
   ],
   "source": [
    "s1[3:8:1]"
   ]
  },
  {
   "cell_type": "code",
   "execution_count": 3,
   "id": "e186ea13",
   "metadata": {},
   "outputs": [
    {
     "data": {
      "text/plain": [
       "'l o'"
      ]
     },
     "execution_count": 3,
     "metadata": {},
     "output_type": "execute_result"
    }
   ],
   "source": [
    "s1[3:8:2]"
   ]
  },
  {
   "cell_type": "code",
   "execution_count": 4,
   "id": "2951272f",
   "metadata": {},
   "outputs": [
    {
     "data": {
      "text/plain": [
       "'lowr'"
      ]
     },
     "execution_count": 4,
     "metadata": {},
     "output_type": "execute_result"
    }
   ],
   "source": [
    "s1[2:10:2]"
   ]
  },
  {
   "cell_type": "code",
   "execution_count": 5,
   "id": "7d94ae0b",
   "metadata": {},
   "outputs": [
    {
     "data": {
      "text/plain": [
       "'o wo'"
      ]
     },
     "execution_count": 5,
     "metadata": {},
     "output_type": "execute_result"
    }
   ],
   "source": [
    "s1[4:8] #if step value is not given, by default its value is one"
   ]
  },
  {
   "cell_type": "code",
   "execution_count": 11,
   "id": "6aed6109",
   "metadata": {},
   "outputs": [
    {
     "data": {
      "text/plain": [
       "'h d'"
      ]
     },
     "execution_count": 11,
     "metadata": {},
     "output_type": "execute_result"
    }
   ],
   "source": [
    "s1[::5] #start and stop are considered as start is zero and stop is n-1"
   ]
  },
  {
   "cell_type": "code",
   "execution_count": 9,
   "id": "c9b31c3f",
   "metadata": {},
   "outputs": [
    {
     "data": {
      "text/plain": [
       "'lo'"
      ]
     },
     "execution_count": 9,
     "metadata": {},
     "output_type": "execute_result"
    }
   ],
   "source": [
    "s1[2::5]"
   ]
  },
  {
   "cell_type": "code",
   "execution_count": 10,
   "id": "fc08bb8c",
   "metadata": {},
   "outputs": [
    {
     "data": {
      "text/plain": [
       "'hl'"
      ]
     },
     "execution_count": 10,
     "metadata": {},
     "output_type": "execute_result"
    }
   ],
   "source": [
    "s1[:4:3]"
   ]
  },
  {
   "cell_type": "code",
   "execution_count": 2,
   "id": "4360d9fb",
   "metadata": {},
   "outputs": [
    {
     "ename": "NameError",
     "evalue": "name 's1' is not defined",
     "output_type": "error",
     "traceback": [
      "\u001b[1;31m---------------------------------------------------------------------------\u001b[0m",
      "\u001b[1;31mNameError\u001b[0m                                 Traceback (most recent call last)",
      "Cell \u001b[1;32mIn[2], line 1\u001b[0m\n\u001b[1;32m----> 1\u001b[0m s1\n",
      "\u001b[1;31mNameError\u001b[0m: name 's1' is not defined"
     ]
    }
   ],
   "source": [
    "s1"
   ]
  },
  {
   "cell_type": "code",
   "execution_count": 4,
   "id": "e861f4d9",
   "metadata": {},
   "outputs": [
    {
     "data": {
      "text/plain": [
       "'hello world'"
      ]
     },
     "execution_count": 4,
     "metadata": {},
     "output_type": "execute_result"
    }
   ],
   "source": [
    "s1"
   ]
  },
  {
   "cell_type": "code",
   "execution_count": 5,
   "id": "bbe5475a",
   "metadata": {},
   "outputs": [
    {
     "data": {
      "text/plain": [
       "''"
      ]
     },
     "execution_count": 5,
     "metadata": {},
     "output_type": "execute_result"
    }
   ],
   "source": [
    "s1[4:9:-1] #logical error"
   ]
  },
  {
   "cell_type": "code",
   "execution_count": 6,
   "id": "d7fb1428",
   "metadata": {},
   "outputs": [
    {
     "data": {
      "text/plain": [
       "'lrow '"
      ]
     },
     "execution_count": 6,
     "metadata": {},
     "output_type": "execute_result"
    }
   ],
   "source": [
    "# '' is called empty string\n",
    "s1[9:4:-1]"
   ]
  },
  {
   "cell_type": "code",
   "execution_count": 7,
   "id": "814c64ae",
   "metadata": {},
   "outputs": [
    {
     "data": {
      "text/plain": [
       "'oll'"
      ]
     },
     "execution_count": 7,
     "metadata": {},
     "output_type": "execute_result"
    }
   ],
   "source": [
    "s1[4:1:-1]"
   ]
  },
  {
   "cell_type": "code",
   "execution_count": 9,
   "id": "8a077535",
   "metadata": {},
   "outputs": [
    {
     "data": {
      "text/plain": [
       "'ol'"
      ]
     },
     "execution_count": 9,
     "metadata": {},
     "output_type": "execute_result"
    }
   ],
   "source": [
    "s1[4:2:-1]"
   ]
  },
  {
   "cell_type": "code",
   "execution_count": 11,
   "id": "76a9e007",
   "metadata": {},
   "outputs": [
    {
     "data": {
      "text/plain": [
       "'o wor'"
      ]
     },
     "execution_count": 11,
     "metadata": {},
     "output_type": "execute_result"
    }
   ],
   "source": [
    "s1[-7:-2:1]"
   ]
  },
  {
   "cell_type": "code",
   "execution_count": 12,
   "id": "f71013c5",
   "metadata": {},
   "outputs": [
    {
     "data": {
      "text/plain": [
       "'lo l'"
      ]
     },
     "execution_count": 12,
     "metadata": {},
     "output_type": "execute_result"
    }
   ],
   "source": [
    "s1[9:-9:-2]"
   ]
  },
  {
   "cell_type": "code",
   "execution_count": 13,
   "id": "ad392d7d",
   "metadata": {},
   "outputs": [
    {
     "data": {
      "text/plain": [
       "'drw'"
      ]
     },
     "execution_count": 13,
     "metadata": {},
     "output_type": "execute_result"
    }
   ],
   "source": [
    "s1[:5:-2] #start depends on sign of the step if the step is +ve start is zero , if the step is negative start will be -1 "
   ]
  },
  {
   "cell_type": "code",
   "execution_count": 14,
   "id": "03501ca1",
   "metadata": {},
   "outputs": [
    {
     "data": {
      "text/plain": [
       "'lo world'"
      ]
     },
     "execution_count": 14,
     "metadata": {},
     "output_type": "execute_result"
    }
   ],
   "source": [
    "s1[3::1] # if we dont give the end value, last charecter will be included"
   ]
  },
  {
   "cell_type": "code",
   "execution_count": 15,
   "id": "7c5d1177",
   "metadata": {},
   "outputs": [
    {
     "data": {
      "text/plain": [
       "'world'"
      ]
     },
     "execution_count": 15,
     "metadata": {},
     "output_type": "execute_result"
    }
   ],
   "source": [
    "s1[6:25:1]"
   ]
  },
  {
   "cell_type": "code",
   "execution_count": 16,
   "id": "e2cc9505",
   "metadata": {},
   "outputs": [
    {
     "data": {
      "text/plain": [
       "'dlro'"
      ]
     },
     "execution_count": 16,
     "metadata": {},
     "output_type": "execute_result"
    }
   ],
   "source": [
    "s1[25:6:-1]"
   ]
  },
  {
   "cell_type": "code",
   "execution_count": 18,
   "id": "c2f94667",
   "metadata": {},
   "outputs": [
    {
     "data": {
      "text/plain": [
       "'dlrow olleh'"
      ]
     },
     "execution_count": 18,
     "metadata": {},
     "output_type": "execute_result"
    }
   ],
   "source": [
    "s1[::-1]"
   ]
  },
  {
   "cell_type": "code",
   "execution_count": 19,
   "id": "3ae3d724",
   "metadata": {},
   "outputs": [
    {
     "data": {
      "text/plain": [
       "'o'"
      ]
     },
     "execution_count": 19,
     "metadata": {},
     "output_type": "execute_result"
    }
   ],
   "source": [
    "s1[-4:6:-1]"
   ]
  },
  {
   "cell_type": "markdown",
   "id": "d6abf063",
   "metadata": {},
   "source": [
    "# concatinations\n",
    "joining the strings together\n"
   ]
  },
  {
   "cell_type": "code",
   "execution_count": 20,
   "id": "2453ab97",
   "metadata": {},
   "outputs": [
    {
     "data": {
      "text/plain": [
       "'hello world'"
      ]
     },
     "execution_count": 20,
     "metadata": {},
     "output_type": "execute_result"
    }
   ],
   "source": [
    "s1"
   ]
  },
  {
   "cell_type": "code",
   "execution_count": 21,
   "id": "425efb5c",
   "metadata": {},
   "outputs": [],
   "source": [
    "s2 = \"bye\""
   ]
  },
  {
   "cell_type": "code",
   "execution_count": 23,
   "id": "d4632aa7",
   "metadata": {},
   "outputs": [
    {
     "data": {
      "text/plain": [
       "'hello worldbye'"
      ]
     },
     "execution_count": 23,
     "metadata": {},
     "output_type": "execute_result"
    }
   ],
   "source": [
    "s1 + s2"
   ]
  },
  {
   "cell_type": "code",
   "execution_count": 26,
   "id": "dbd8d5b0",
   "metadata": {},
   "outputs": [
    {
     "data": {
      "text/plain": [
       "'hello world bye'"
      ]
     },
     "execution_count": 26,
     "metadata": {},
     "output_type": "execute_result"
    }
   ],
   "source": [
    "s1 + \" \" + s2 # for space"
   ]
  },
  {
   "cell_type": "code",
   "execution_count": 28,
   "id": "6bd1abcf",
   "metadata": {},
   "outputs": [
    {
     "ename": "TypeError",
     "evalue": "can only concatenate str (not \"float\") to str",
     "output_type": "error",
     "traceback": [
      "\u001b[1;31m---------------------------------------------------------------------------\u001b[0m",
      "\u001b[1;31mTypeError\u001b[0m                                 Traceback (most recent call last)",
      "Cell \u001b[1;32mIn[28], line 3\u001b[0m\n\u001b[0;32m      1\u001b[0m lang \u001b[38;5;241m=\u001b[39m \u001b[38;5;124m'\u001b[39m\u001b[38;5;124mpython\u001b[39m\u001b[38;5;124m'\u001b[39m\n\u001b[0;32m      2\u001b[0m version \u001b[38;5;241m=\u001b[39m \u001b[38;5;241m3.11\u001b[39m\n\u001b[1;32m----> 3\u001b[0m lang \u001b[38;5;241m+\u001b[39m version\n",
      "\u001b[1;31mTypeError\u001b[0m: can only concatenate str (not \"float\") to str"
     ]
    }
   ],
   "source": [
    "lang = 'python'\n",
    "version = 3.11\n",
    "lang + version"
   ]
  },
  {
   "cell_type": "code",
   "execution_count": 29,
   "id": "8def05cd",
   "metadata": {},
   "outputs": [],
   "source": [
    "version = \"3.11\""
   ]
  },
  {
   "cell_type": "code",
   "execution_count": 30,
   "id": "e93c8348",
   "metadata": {},
   "outputs": [
    {
     "data": {
      "text/plain": [
       "'python3.11'"
      ]
     },
     "execution_count": 30,
     "metadata": {},
     "output_type": "execute_result"
    }
   ],
   "source": [
    "lang + version"
   ]
  },
  {
   "cell_type": "markdown",
   "id": "c8933a9f",
   "metadata": {},
   "source": [
    "# special type\n",
    "## none\n"
   ]
  },
  {
   "cell_type": "code",
   "execution_count": 31,
   "id": "67acfc5d",
   "metadata": {},
   "outputs": [
    {
     "data": {
      "text/plain": [
       "NoneType"
      ]
     },
     "execution_count": 31,
     "metadata": {},
     "output_type": "execute_result"
    }
   ],
   "source": [
    "value = None\n",
    "type(value)"
   ]
  },
  {
   "cell_type": "markdown",
   "id": "51fbbaa9",
   "metadata": {},
   "source": [
    "# type casting\n",
    "# convering and changing the value from1 data type to one to another."
   ]
  },
  {
   "cell_type": "code",
   "execution_count": 33,
   "id": "b1a2ce8f",
   "metadata": {},
   "outputs": [],
   "source": [
    "num1 = 10"
   ]
  },
  {
   "cell_type": "code",
   "execution_count": 34,
   "id": "136f0345",
   "metadata": {},
   "outputs": [
    {
     "data": {
      "text/plain": [
       "10.0"
      ]
     },
     "execution_count": 34,
     "metadata": {},
     "output_type": "execute_result"
    }
   ],
   "source": [
    "float(num1)"
   ]
  },
  {
   "cell_type": "code",
   "execution_count": 36,
   "id": "36da5cf2",
   "metadata": {},
   "outputs": [
    {
     "data": {
      "text/plain": [
       "10"
      ]
     },
     "execution_count": 36,
     "metadata": {},
     "output_type": "execute_result"
    }
   ],
   "source": [
    "num1 # its value is not changed in type casting untill we assign the value to it\n"
   ]
  },
  {
   "cell_type": "code",
   "execution_count": 37,
   "id": "f1b910a5",
   "metadata": {},
   "outputs": [
    {
     "data": {
      "text/plain": [
       "76"
      ]
     },
     "execution_count": 37,
     "metadata": {},
     "output_type": "execute_result"
    }
   ],
   "source": [
    "n1 = 76.5\n",
    "int(n1)"
   ]
  },
  {
   "cell_type": "code",
   "execution_count": 38,
   "id": "00a2fafb",
   "metadata": {},
   "outputs": [
    {
     "data": {
      "text/plain": [
       "99"
      ]
     },
     "execution_count": 38,
     "metadata": {},
     "output_type": "execute_result"
    }
   ],
   "source": [
    "n2 = 99.9\n",
    "int(n2)"
   ]
  },
  {
   "cell_type": "code",
   "execution_count": 39,
   "id": "a8654f91",
   "metadata": {},
   "outputs": [
    {
     "data": {
      "text/plain": [
       "'90'"
      ]
     },
     "execution_count": 39,
     "metadata": {},
     "output_type": "execute_result"
    }
   ],
   "source": [
    "n3 = 90\n",
    "str(n3)"
   ]
  },
  {
   "cell_type": "code",
   "execution_count": 40,
   "id": "1ae0acde",
   "metadata": {},
   "outputs": [
    {
     "data": {
      "text/plain": [
       "'python3.11'"
      ]
     },
     "execution_count": 40,
     "metadata": {},
     "output_type": "execute_result"
    }
   ],
   "source": [
    "language = \"python\"\n",
    "version = 3.11\n",
    "language+str(version)"
   ]
  },
  {
   "cell_type": "code",
   "execution_count": 41,
   "id": "b8f2ea2c",
   "metadata": {},
   "outputs": [
    {
     "ename": "ValueError",
     "evalue": "invalid literal for int() with base 10: 'python'",
     "output_type": "error",
     "traceback": [
      "\u001b[1;31m---------------------------------------------------------------------------\u001b[0m",
      "\u001b[1;31mValueError\u001b[0m                                Traceback (most recent call last)",
      "Cell \u001b[1;32mIn[41], line 1\u001b[0m\n\u001b[1;32m----> 1\u001b[0m \u001b[38;5;28mint\u001b[39m(language)\n",
      "\u001b[1;31mValueError\u001b[0m: invalid literal for int() with base 10: 'python'"
     ]
    }
   ],
   "source": [
    "int(language) #string cannot be converted to int"
   ]
  },
  {
   "cell_type": "code",
   "execution_count": 43,
   "id": "b5d42625",
   "metadata": {},
   "outputs": [
    {
     "name": "stdout",
     "output_type": "stream",
     "text": [
      "33\n"
     ]
    },
    {
     "data": {
      "text/plain": [
       "10.0"
      ]
     },
     "execution_count": 43,
     "metadata": {},
     "output_type": "execute_result"
    }
   ],
   "source": [
    "print(int(33.3))\n",
    "float(10)\n"
   ]
  },
  {
   "cell_type": "code",
   "execution_count": 44,
   "id": "8fe17dc9",
   "metadata": {},
   "outputs": [
    {
     "ename": "ValueError",
     "evalue": "could not convert string to float: 'abc'",
     "output_type": "error",
     "traceback": [
      "\u001b[1;31m---------------------------------------------------------------------------\u001b[0m",
      "\u001b[1;31mValueError\u001b[0m                                Traceback (most recent call last)",
      "Cell \u001b[1;32mIn[44], line 1\u001b[0m\n\u001b[1;32m----> 1\u001b[0m \u001b[38;5;28mfloat\u001b[39m(\u001b[38;5;124m\"\u001b[39m\u001b[38;5;124mabc\u001b[39m\u001b[38;5;124m\"\u001b[39m)\n",
      "\u001b[1;31mValueError\u001b[0m: could not convert string to float: 'abc'"
     ]
    }
   ],
   "source": [
    "float(\"abc\") # not possible"
   ]
  },
  {
   "cell_type": "code",
   "execution_count": 45,
   "id": "b6544a57",
   "metadata": {},
   "outputs": [
    {
     "data": {
      "text/plain": [
       "3.11"
      ]
     },
     "execution_count": 45,
     "metadata": {},
     "output_type": "execute_result"
    }
   ],
   "source": [
    "float(\"3.11\")"
   ]
  },
  {
   "cell_type": "code",
   "execution_count": 48,
   "id": "85eb0f4b",
   "metadata": {},
   "outputs": [
    {
     "ename": "ValueError",
     "evalue": "could not convert string to float: '3.11.1'",
     "output_type": "error",
     "traceback": [
      "\u001b[1;31m---------------------------------------------------------------------------\u001b[0m",
      "\u001b[1;31mValueError\u001b[0m                                Traceback (most recent call last)",
      "Cell \u001b[1;32mIn[48], line 1\u001b[0m\n\u001b[1;32m----> 1\u001b[0m \u001b[38;5;28mfloat\u001b[39m(\u001b[38;5;124m\"\u001b[39m\u001b[38;5;124m3.11.1\u001b[39m\u001b[38;5;124m\"\u001b[39m)\n",
      "\u001b[1;31mValueError\u001b[0m: could not convert string to float: '3.11.1'"
     ]
    }
   ],
   "source": [
    "float(\"3.11.1\")"
   ]
  },
  {
   "cell_type": "code",
   "execution_count": 49,
   "id": "1cc92449",
   "metadata": {},
   "outputs": [
    {
     "ename": "ValueError",
     "evalue": "could not convert string to float: '3.11a'",
     "output_type": "error",
     "traceback": [
      "\u001b[1;31m---------------------------------------------------------------------------\u001b[0m",
      "\u001b[1;31mValueError\u001b[0m                                Traceback (most recent call last)",
      "Cell \u001b[1;32mIn[49], line 1\u001b[0m\n\u001b[1;32m----> 1\u001b[0m \u001b[38;5;28mfloat\u001b[39m(\u001b[38;5;124m\"\u001b[39m\u001b[38;5;124m3.11a\u001b[39m\u001b[38;5;124m\"\u001b[39m)\n",
      "\u001b[1;31mValueError\u001b[0m: could not convert string to float: '3.11a'"
     ]
    }
   ],
   "source": [
    "float(\"3.11a\")"
   ]
  },
  {
   "cell_type": "code",
   "execution_count": 50,
   "id": "2e879270",
   "metadata": {},
   "outputs": [
    {
     "data": {
      "text/plain": [
       "100"
      ]
     },
     "execution_count": 50,
     "metadata": {},
     "output_type": "execute_result"
    }
   ],
   "source": [
    "int('100')"
   ]
  },
  {
   "cell_type": "code",
   "execution_count": 51,
   "id": "b9faf54a",
   "metadata": {},
   "outputs": [
    {
     "ename": "ValueError",
     "evalue": "invalid literal for int() with base 10: '100.1'",
     "output_type": "error",
     "traceback": [
      "\u001b[1;31m---------------------------------------------------------------------------\u001b[0m",
      "\u001b[1;31mValueError\u001b[0m                                Traceback (most recent call last)",
      "Cell \u001b[1;32mIn[51], line 1\u001b[0m\n\u001b[1;32m----> 1\u001b[0m \u001b[38;5;28mint\u001b[39m(\u001b[38;5;124m\"\u001b[39m\u001b[38;5;124m100.1\u001b[39m\u001b[38;5;124m\"\u001b[39m)\n",
      "\u001b[1;31mValueError\u001b[0m: invalid literal for int() with base 10: '100.1'"
     ]
    }
   ],
   "source": [
    "int(\"100.1\")"
   ]
  },
  {
   "cell_type": "code",
   "execution_count": 52,
   "id": "4ebad064",
   "metadata": {},
   "outputs": [
    {
     "data": {
      "text/plain": [
       "100"
      ]
     },
     "execution_count": 52,
     "metadata": {},
     "output_type": "execute_result"
    }
   ],
   "source": [
    "int(100.1)"
   ]
  },
  {
   "cell_type": "code",
   "execution_count": 46,
   "id": "f4baddcc",
   "metadata": {},
   "outputs": [
    {
     "data": {
      "text/plain": [
       "97"
      ]
     },
     "execution_count": 46,
     "metadata": {},
     "output_type": "execute_result"
    }
   ],
   "source": [
    "#ASCII VALUE\n",
    "\n",
    "ord(\"a\") # function to get ascii value of a"
   ]
  },
  {
   "cell_type": "code",
   "execution_count": 47,
   "id": "b5c35690",
   "metadata": {},
   "outputs": [
    {
     "data": {
      "text/plain": [
       "'A'"
      ]
     },
     "execution_count": 47,
     "metadata": {},
     "output_type": "execute_result"
    }
   ],
   "source": [
    "chr(65) #function to get the charaecter from ASCII value"
   ]
  },
  {
   "cell_type": "code",
   "execution_count": 54,
   "id": "9f03b471",
   "metadata": {},
   "outputs": [
    {
     "data": {
      "text/plain": [
       "3"
      ]
     },
     "execution_count": 54,
     "metadata": {},
     "output_type": "execute_result"
    }
   ],
   "source": [
    "ver = 3.11 # output 3\n",
    "int(float(3.11))"
   ]
  },
  {
   "cell_type": "code",
   "execution_count": 55,
   "id": "d65abcf6",
   "metadata": {},
   "outputs": [
    {
     "data": {
      "text/plain": [
       "1"
      ]
     },
     "execution_count": 55,
     "metadata": {},
     "output_type": "execute_result"
    }
   ],
   "source": [
    "int(True)"
   ]
  },
  {
   "cell_type": "code",
   "execution_count": 56,
   "id": "d257886b",
   "metadata": {},
   "outputs": [
    {
     "data": {
      "text/plain": [
       "0"
      ]
     },
     "execution_count": 56,
     "metadata": {},
     "output_type": "execute_result"
    }
   ],
   "source": [
    "int(False)"
   ]
  },
  {
   "cell_type": "code",
   "execution_count": 57,
   "id": "ad26a59a",
   "metadata": {},
   "outputs": [
    {
     "data": {
      "text/plain": [
       "1.0"
      ]
     },
     "execution_count": 57,
     "metadata": {},
     "output_type": "execute_result"
    }
   ],
   "source": [
    "float(True)"
   ]
  },
  {
   "cell_type": "code",
   "execution_count": 58,
   "id": "85bea8e9",
   "metadata": {},
   "outputs": [
    {
     "data": {
      "text/plain": [
       "True"
      ]
     },
     "execution_count": 58,
     "metadata": {},
     "output_type": "execute_result"
    }
   ],
   "source": [
    "bool(1)"
   ]
  },
  {
   "cell_type": "code",
   "execution_count": 59,
   "id": "0fc5db53",
   "metadata": {},
   "outputs": [
    {
     "data": {
      "text/plain": [
       "False"
      ]
     },
     "execution_count": 59,
     "metadata": {},
     "output_type": "execute_result"
    }
   ],
   "source": [
    "bool(0)"
   ]
  },
  {
   "cell_type": "code",
   "execution_count": 61,
   "id": "fc9bf0e8",
   "metadata": {},
   "outputs": [
    {
     "data": {
      "text/plain": [
       "True"
      ]
     },
     "execution_count": 61,
     "metadata": {},
     "output_type": "execute_result"
    }
   ],
   "source": [
    "bool(100) #anyother number apart from zero is false"
   ]
  },
  {
   "cell_type": "code",
   "execution_count": null,
   "id": "26b5917c",
   "metadata": {},
   "outputs": [],
   "source": []
  },
  {
   "cell_type": "code",
   "execution_count": 62,
   "id": "0eab0698",
   "metadata": {},
   "outputs": [
    {
     "data": {
      "text/plain": [
       "True"
      ]
     },
     "execution_count": 62,
     "metadata": {},
     "output_type": "execute_result"
    }
   ],
   "source": [
    "bool(-190)"
   ]
  },
  {
   "cell_type": "code",
   "execution_count": 63,
   "id": "da6b5f81",
   "metadata": {},
   "outputs": [
    {
     "data": {
      "text/plain": [
       "True"
      ]
     },
     "execution_count": 63,
     "metadata": {},
     "output_type": "execute_result"
    }
   ],
   "source": [
    "bool('how are you')"
   ]
  },
  {
   "cell_type": "code",
   "execution_count": 67,
   "id": "f8616722",
   "metadata": {},
   "outputs": [
    {
     "data": {
      "text/plain": [
       "True"
      ]
     },
     "execution_count": 67,
     "metadata": {},
     "output_type": "execute_result"
    }
   ],
   "source": [
    "bool(\"false\") #bool of any string execpt empty string is true"
   ]
  },
  {
   "cell_type": "code",
   "execution_count": 66,
   "id": "f86109d8",
   "metadata": {},
   "outputs": [
    {
     "data": {
      "text/plain": [
       "False"
      ]
     },
     "execution_count": 66,
     "metadata": {},
     "output_type": "execute_result"
    }
   ],
   "source": [
    "bool(\"\") #bool of empty string is false"
   ]
  },
  {
   "cell_type": "markdown",
   "id": "648f496b",
   "metadata": {},
   "source": [
    "# list\n",
    "-collection of data types or items (heterogenous means different)\n",
    "-comma seperated sequence of elements enclosed within []\n"
   ]
  },
  {
   "cell_type": "code",
   "execution_count": 1,
   "id": "00e7a5e2",
   "metadata": {},
   "outputs": [
    {
     "data": {
      "text/plain": [
       "[10, 98.5, 'python', 1000, True, None, 'john']"
      ]
     },
     "execution_count": 1,
     "metadata": {},
     "output_type": "execute_result"
    }
   ],
   "source": [
    "l1=[10, 98.5, 'python', 1000, True, None, 'john']\n",
    "l1"
   ]
  },
  {
   "cell_type": "code",
   "execution_count": 3,
   "id": "18a9eaea",
   "metadata": {},
   "outputs": [
    {
     "data": {
      "text/plain": [
       "list"
      ]
     },
     "execution_count": 3,
     "metadata": {},
     "output_type": "execute_result"
    }
   ],
   "source": [
    "type(l1)"
   ]
  },
  {
   "cell_type": "code",
   "execution_count": 4,
   "id": "00424e44",
   "metadata": {},
   "outputs": [
    {
     "data": {
      "text/plain": [
       "7"
      ]
     },
     "execution_count": 4,
     "metadata": {},
     "output_type": "execute_result"
    }
   ],
   "source": [
    "#indexing in list is same as string.\n",
    "\n",
    "len(l1) #length of the list"
   ]
  },
  {
   "cell_type": "code",
   "execution_count": 6,
   "id": "d9e5aa55",
   "metadata": {},
   "outputs": [
    {
     "data": {
      "text/plain": [
       "10"
      ]
     },
     "execution_count": 6,
     "metadata": {},
     "output_type": "execute_result"
    }
   ],
   "source": [
    "l1[0]"
   ]
  },
  {
   "cell_type": "code",
   "execution_count": 7,
   "id": "30b82890",
   "metadata": {},
   "outputs": [
    {
     "data": {
      "text/plain": [
       "'john'"
      ]
     },
     "execution_count": 7,
     "metadata": {},
     "output_type": "execute_result"
    }
   ],
   "source": [
    "l1[6]"
   ]
  },
  {
   "cell_type": "code",
   "execution_count": 8,
   "id": "b392ef12",
   "metadata": {},
   "outputs": [
    {
     "data": {
      "text/plain": [
       "'john'"
      ]
     },
     "execution_count": 8,
     "metadata": {},
     "output_type": "execute_result"
    }
   ],
   "source": [
    "l1[-1]"
   ]
  },
  {
   "cell_type": "code",
   "execution_count": 9,
   "id": "6e665548",
   "metadata": {},
   "outputs": [
    {
     "data": {
      "text/plain": [
       "int"
      ]
     },
     "execution_count": 9,
     "metadata": {},
     "output_type": "execute_result"
    }
   ],
   "source": [
    "type(l1[0])"
   ]
  },
  {
   "cell_type": "code",
   "execution_count": 10,
   "id": "f4ecd64a",
   "metadata": {},
   "outputs": [
    {
     "data": {
      "text/plain": [
       "str"
      ]
     },
     "execution_count": 10,
     "metadata": {},
     "output_type": "execute_result"
    }
   ],
   "source": [
    "type(l1[-1])"
   ]
  },
  {
   "cell_type": "code",
   "execution_count": 11,
   "id": "96fc7fce",
   "metadata": {},
   "outputs": [
    {
     "data": {
      "text/plain": [
       "'y'"
      ]
     },
     "execution_count": 11,
     "metadata": {},
     "output_type": "execute_result"
    }
   ],
   "source": [
    "l1[2][1] # get the element of the main elemnt in list that is y of python. only possible in string."
   ]
  },
  {
   "cell_type": "code",
   "execution_count": 12,
   "id": "ace12730",
   "metadata": {},
   "outputs": [
    {
     "ename": "TypeError",
     "evalue": "'float' object is not subscriptable",
     "output_type": "error",
     "traceback": [
      "\u001b[1;31m---------------------------------------------------------------------------\u001b[0m",
      "\u001b[1;31mTypeError\u001b[0m                                 Traceback (most recent call last)",
      "Cell \u001b[1;32mIn[12], line 1\u001b[0m\n\u001b[1;32m----> 1\u001b[0m l1[\u001b[38;5;241m1\u001b[39m][\u001b[38;5;241m2\u001b[39m]\n",
      "\u001b[1;31mTypeError\u001b[0m: 'float' object is not subscriptable"
     ]
    }
   ],
   "source": [
    "l1[1][2]"
   ]
  },
  {
   "cell_type": "code",
   "execution_count": 13,
   "id": "b8b16047",
   "metadata": {},
   "outputs": [
    {
     "ename": "TypeError",
     "evalue": "'bool' object is not subscriptable",
     "output_type": "error",
     "traceback": [
      "\u001b[1;31m---------------------------------------------------------------------------\u001b[0m",
      "\u001b[1;31mTypeError\u001b[0m                                 Traceback (most recent call last)",
      "Cell \u001b[1;32mIn[13], line 1\u001b[0m\n\u001b[1;32m----> 1\u001b[0m l1[\u001b[38;5;241m4\u001b[39m][\u001b[38;5;241m1\u001b[39m]\n",
      "\u001b[1;31mTypeError\u001b[0m: 'bool' object is not subscriptable"
     ]
    }
   ],
   "source": [
    "l1[4][1]"
   ]
  },
  {
   "cell_type": "code",
   "execution_count": 14,
   "id": "c4928a5a",
   "metadata": {},
   "outputs": [
    {
     "data": {
      "text/plain": [
       "[10, 98.5, 'python', 1000, True]"
      ]
     },
     "execution_count": 14,
     "metadata": {},
     "output_type": "execute_result"
    }
   ],
   "source": [
    "l1[0:5]"
   ]
  },
  {
   "cell_type": "code",
   "execution_count": 15,
   "id": "0e8ce2a6",
   "metadata": {},
   "outputs": [
    {
     "data": {
      "text/plain": [
       "[98.5, 'python']"
      ]
     },
     "execution_count": 15,
     "metadata": {},
     "output_type": "execute_result"
    }
   ],
   "source": [
    "l1[1:3:1]"
   ]
  },
  {
   "cell_type": "code",
   "execution_count": 18,
   "id": "28e678ad",
   "metadata": {},
   "outputs": [
    {
     "data": {
      "text/plain": [
       "'hoj'"
      ]
     },
     "execution_count": 18,
     "metadata": {},
     "output_type": "execute_result"
    }
   ],
   "source": [
    "l1[-1][2::-1]"
   ]
  },
  {
   "cell_type": "code",
   "execution_count": 19,
   "id": "0b155ef6",
   "metadata": {},
   "outputs": [
    {
     "data": {
      "text/plain": [
       "[10, 20, 30, 40, 30, 20, 10]"
      ]
     },
     "execution_count": 19,
     "metadata": {},
     "output_type": "execute_result"
    }
   ],
   "source": [
    "# list can have dublicates values.\n",
    "l2=[10,20,30,40,30,20,10]\n",
    "l2"
   ]
  },
  {
   "cell_type": "code",
   "execution_count": 20,
   "id": "5c336bc8",
   "metadata": {},
   "outputs": [
    {
     "data": {
      "text/plain": [
       "[10, 98.5, 'python', 1000, True, None, 'john']"
      ]
     },
     "execution_count": 20,
     "metadata": {},
     "output_type": "execute_result"
    }
   ],
   "source": [
    "# lists are ordered.\n",
    "#list can be modified /mutalble/can be changed.\n",
    "l1"
   ]
  },
  {
   "cell_type": "code",
   "execution_count": 21,
   "id": "55b22a3d",
   "metadata": {},
   "outputs": [],
   "source": [
    "l1[0]=45"
   ]
  },
  {
   "cell_type": "code",
   "execution_count": 22,
   "id": "13f82063",
   "metadata": {},
   "outputs": [
    {
     "data": {
      "text/plain": [
       "[45, 98.5, 'python', 1000, True, None, 'john']"
      ]
     },
     "execution_count": 22,
     "metadata": {},
     "output_type": "execute_result"
    }
   ],
   "source": [
    "l1"
   ]
  },
  {
   "cell_type": "code",
   "execution_count": 23,
   "id": "53467c2e",
   "metadata": {},
   "outputs": [
    {
     "data": {
      "text/plain": [
       "'hello'"
      ]
     },
     "execution_count": 23,
     "metadata": {},
     "output_type": "execute_result"
    }
   ],
   "source": [
    "s1= \"hello\"\n",
    "s1"
   ]
  },
  {
   "cell_type": "code",
   "execution_count": 25,
   "id": "31925f91",
   "metadata": {},
   "outputs": [
    {
     "data": {
      "text/plain": [
       "str"
      ]
     },
     "execution_count": 25,
     "metadata": {},
     "output_type": "execute_result"
    }
   ],
   "source": [
    "type(s1)"
   ]
  },
  {
   "cell_type": "code",
   "execution_count": 30,
   "id": "5a1e8dc8",
   "metadata": {},
   "outputs": [
    {
     "ename": "TypeError",
     "evalue": "'str' object does not support item assignment",
     "output_type": "error",
     "traceback": [
      "\u001b[1;31m---------------------------------------------------------------------------\u001b[0m",
      "\u001b[1;31mTypeError\u001b[0m                                 Traceback (most recent call last)",
      "Cell \u001b[1;32mIn[30], line 1\u001b[0m\n\u001b[1;32m----> 1\u001b[0m s1[\u001b[38;5;241m0\u001b[39m]\u001b[38;5;241m=\u001b[39m\u001b[38;5;124m\"\u001b[39m\u001b[38;5;124mb\u001b[39m\u001b[38;5;124m\"\u001b[39m\n",
      "\u001b[1;31mTypeError\u001b[0m: 'str' object does not support item assignment"
     ]
    }
   ],
   "source": [
    "s1[0]=\"b\" #strings are not mutable but list are mutable\n"
   ]
  },
  {
   "cell_type": "code",
   "execution_count": 31,
   "id": "8dc19ede",
   "metadata": {},
   "outputs": [
    {
     "data": {
      "text/plain": [
       "1555068254400"
      ]
     },
     "execution_count": 31,
     "metadata": {},
     "output_type": "execute_result"
    }
   ],
   "source": [
    "id(l1) #check the address of l1"
   ]
  },
  {
   "cell_type": "code",
   "execution_count": 32,
   "id": "83b1dddc",
   "metadata": {},
   "outputs": [],
   "source": [
    "l1[-1]=500 #value can be changed to any data type"
   ]
  },
  {
   "cell_type": "code",
   "execution_count": 33,
   "id": "43e39788",
   "metadata": {},
   "outputs": [
    {
     "data": {
      "text/plain": [
       "[45, 98.5, 'python', 1000, True, None, 500]"
      ]
     },
     "execution_count": 33,
     "metadata": {},
     "output_type": "execute_result"
    }
   ],
   "source": [
    "l1"
   ]
  },
  {
   "cell_type": "code",
   "execution_count": 34,
   "id": "82e2cff9",
   "metadata": {},
   "outputs": [
    {
     "data": {
      "text/plain": [
       "1555068254400"
      ]
     },
     "execution_count": 34,
     "metadata": {},
     "output_type": "execute_result"
    }
   ],
   "source": [
    "id(l1) # memeory of the address after the modification is the same.\n"
   ]
  },
  {
   "cell_type": "code",
   "execution_count": 35,
   "id": "eb1b7cfb",
   "metadata": {},
   "outputs": [
    {
     "data": {
      "text/plain": [
       "[45, 98.5, 'python', 1000, True, None, 500]"
      ]
     },
     "execution_count": 35,
     "metadata": {},
     "output_type": "execute_result"
    }
   ],
   "source": [
    "l1"
   ]
  },
  {
   "cell_type": "code",
   "execution_count": 37,
   "id": "416a1dd0",
   "metadata": {},
   "outputs": [],
   "source": [
    "#append- add element to end of the list\n",
    "l1.append(1)"
   ]
  },
  {
   "cell_type": "code",
   "execution_count": 38,
   "id": "9e19a766",
   "metadata": {},
   "outputs": [
    {
     "data": {
      "text/plain": [
       "[45, 98.5, 'python', 1000, True, None, 500, 1, 1]"
      ]
     },
     "execution_count": 38,
     "metadata": {},
     "output_type": "execute_result"
    }
   ],
   "source": [
    "l1"
   ]
  },
  {
   "cell_type": "code",
   "execution_count": 40,
   "id": "75dc3f82",
   "metadata": {},
   "outputs": [
    {
     "data": {
      "text/plain": [
       "[45, 98.5, 'python', 1000, True, None, 500, 1, 1, 'bye']"
      ]
     },
     "execution_count": 40,
     "metadata": {},
     "output_type": "execute_result"
    }
   ],
   "source": [
    "l1.append('bye')\n",
    "l1"
   ]
  },
  {
   "cell_type": "code",
   "execution_count": 41,
   "id": "cc22368c",
   "metadata": {},
   "outputs": [
    {
     "data": {
      "text/plain": [
       "1555068254400"
      ]
     },
     "execution_count": 41,
     "metadata": {},
     "output_type": "execute_result"
    }
   ],
   "source": [
    "id(l1) #address will not be chnaged"
   ]
  },
  {
   "cell_type": "code",
   "execution_count": 42,
   "id": "25eea94e",
   "metadata": {},
   "outputs": [],
   "source": [
    "l1.append([10,10])"
   ]
  },
  {
   "cell_type": "code",
   "execution_count": 43,
   "id": "d3c45ec6",
   "metadata": {},
   "outputs": [
    {
     "data": {
      "text/plain": [
       "[45, 98.5, 'python', 1000, True, None, 500, 1, 1, 'bye', [10, 10]]"
      ]
     },
     "execution_count": 43,
     "metadata": {},
     "output_type": "execute_result"
    }
   ],
   "source": [
    "l1"
   ]
  },
  {
   "cell_type": "code",
   "execution_count": 44,
   "id": "f28ad09a",
   "metadata": {},
   "outputs": [
    {
     "data": {
      "text/plain": [
       "[45, 98.5, 'python', 1000, True, None, 500, 1, 1, 'bye', [10, 10], [10, 20]]"
      ]
     },
     "execution_count": 44,
     "metadata": {},
     "output_type": "execute_result"
    }
   ],
   "source": [
    "var = [10,20]\n",
    "l1.append(var)\n",
    "l1"
   ]
  },
  {
   "cell_type": "code",
   "execution_count": 45,
   "id": "a5036a30",
   "metadata": {},
   "outputs": [
    {
     "data": {
      "text/plain": [
       "10"
      ]
     },
     "execution_count": 45,
     "metadata": {},
     "output_type": "execute_result"
    }
   ],
   "source": [
    "l1[-1][0]"
   ]
  },
  {
   "cell_type": "code",
   "execution_count": 46,
   "id": "3786d8be",
   "metadata": {},
   "outputs": [
    {
     "data": {
      "text/plain": [
       "[45, 98.5, 'python', 1000, True, None, 500, 1, 1, 'bye', [10, 10], [10, 20]]"
      ]
     },
     "execution_count": 46,
     "metadata": {},
     "output_type": "execute_result"
    }
   ],
   "source": [
    "l1"
   ]
  },
  {
   "cell_type": "code",
   "execution_count": 47,
   "id": "3158e136",
   "metadata": {},
   "outputs": [
    {
     "data": {
      "text/plain": [
       "[10, 20, 30, 40, 30, 20, 10]"
      ]
     },
     "execution_count": 47,
     "metadata": {},
     "output_type": "execute_result"
    }
   ],
   "source": [
    "l2"
   ]
  },
  {
   "cell_type": "code",
   "execution_count": 49,
   "id": "53e4d1a0",
   "metadata": {},
   "outputs": [
    {
     "name": "stdout",
     "output_type": "stream",
     "text": [
      "[45, 98.5, 'python', 1000, True, None, 500, 1, 1, 'bye', [10, 10], [10, 20], 10, 20, 30, 40, 30, 20, 10]\n"
     ]
    }
   ],
   "source": [
    "print(l1+l2) #concatenation"
   ]
  },
  {
   "cell_type": "code",
   "execution_count": 50,
   "id": "d2b7e8c8",
   "metadata": {},
   "outputs": [],
   "source": [
    "l3=l1+l2"
   ]
  },
  {
   "cell_type": "code",
   "execution_count": 51,
   "id": "5dc30d16",
   "metadata": {},
   "outputs": [
    {
     "data": {
      "text/plain": [
       "1555081213376"
      ]
     },
     "execution_count": 51,
     "metadata": {},
     "output_type": "execute_result"
    }
   ],
   "source": [
    "id(l3)"
   ]
  },
  {
   "cell_type": "markdown",
   "id": "bea5a1af",
   "metadata": {},
   "source": [
    "# Tuple\n",
    "# collection of heterogeneous elements\n",
    "# ordered\n",
    "# immutable\n",
    "# comma seprated heterogenous elements enclosed within ()"
   ]
  },
  {
   "cell_type": "code",
   "execution_count": 53,
   "id": "2085226f",
   "metadata": {},
   "outputs": [
    {
     "data": {
      "text/plain": [
       "(10, 78.5, 'python', True)"
      ]
     },
     "execution_count": 53,
     "metadata": {},
     "output_type": "execute_result"
    }
   ],
   "source": [
    "t1=(10,78.5,\"python\", True)\n",
    "t1"
   ]
  },
  {
   "cell_type": "code",
   "execution_count": 54,
   "id": "ddf06c72",
   "metadata": {},
   "outputs": [
    {
     "data": {
      "text/plain": [
       "tuple"
      ]
     },
     "execution_count": 54,
     "metadata": {},
     "output_type": "execute_result"
    }
   ],
   "source": [
    "type(t1)"
   ]
  },
  {
   "cell_type": "code",
   "execution_count": 55,
   "id": "807358b5",
   "metadata": {},
   "outputs": [
    {
     "data": {
      "text/plain": [
       "4"
      ]
     },
     "execution_count": 55,
     "metadata": {},
     "output_type": "execute_result"
    }
   ],
   "source": [
    "len(t1)"
   ]
  },
  {
   "cell_type": "code",
   "execution_count": 56,
   "id": "ced9028a",
   "metadata": {},
   "outputs": [
    {
     "data": {
      "text/plain": [
       "10"
      ]
     },
     "execution_count": 56,
     "metadata": {},
     "output_type": "execute_result"
    }
   ],
   "source": [
    "t1[0] #indexing"
   ]
  },
  {
   "cell_type": "code",
   "execution_count": 57,
   "id": "ad6c08d1",
   "metadata": {},
   "outputs": [
    {
     "data": {
      "text/plain": [
       "True"
      ]
     },
     "execution_count": 57,
     "metadata": {},
     "output_type": "execute_result"
    }
   ],
   "source": [
    "t1[3]"
   ]
  },
  {
   "cell_type": "code",
   "execution_count": 58,
   "id": "92f43a3e",
   "metadata": {},
   "outputs": [
    {
     "ename": "TypeError",
     "evalue": "'tuple' object does not support item assignment",
     "output_type": "error",
     "traceback": [
      "\u001b[1;31m---------------------------------------------------------------------------\u001b[0m",
      "\u001b[1;31mTypeError\u001b[0m                                 Traceback (most recent call last)",
      "Cell \u001b[1;32mIn[58], line 1\u001b[0m\n\u001b[1;32m----> 1\u001b[0m t1[\u001b[38;5;241m0\u001b[39m]\u001b[38;5;241m=\u001b[39m\u001b[38;5;241m100\u001b[39m\n",
      "\u001b[1;31mTypeError\u001b[0m: 'tuple' object does not support item assignment"
     ]
    }
   ],
   "source": [
    "t1[0]=100 #cannot change the values it is immutable just like string"
   ]
  },
  {
   "cell_type": "markdown",
   "id": "84e98caf",
   "metadata": {},
   "source": [
    " # tuple can have dublicates value"
   ]
  },
  {
   "cell_type": "code",
   "execution_count": 59,
   "id": "dac7b53b",
   "metadata": {},
   "outputs": [
    {
     "data": {
      "text/plain": [
       "(10, 10, 20, 30, 90, 20)"
      ]
     },
     "execution_count": 59,
     "metadata": {},
     "output_type": "execute_result"
    }
   ],
   "source": [
    "t2=(10,10,20,30,90,20)\n",
    "t2"
   ]
  },
  {
   "cell_type": "code",
   "execution_count": 61,
   "id": "653a3a55",
   "metadata": {},
   "outputs": [
    {
     "data": {
      "text/plain": [
       "(10, 78.5, 'python', True, 10, 10, 20, 30, 90, 20)"
      ]
     },
     "execution_count": 61,
     "metadata": {},
     "output_type": "execute_result"
    }
   ],
   "source": [
    "t3=t1+t2\n",
    "t3"
   ]
  },
  {
   "cell_type": "code",
   "execution_count": 64,
   "id": "e77aeff9",
   "metadata": {},
   "outputs": [],
   "source": [
    " t4=(10,20,(1,2,3),'python', [1,2,34])"
   ]
  },
  {
   "cell_type": "code",
   "execution_count": 65,
   "id": "5efccc21",
   "metadata": {},
   "outputs": [
    {
     "data": {
      "text/plain": [
       "(10, 20, (1, 2, 3), 'python', [1, 2, 34])"
      ]
     },
     "execution_count": 65,
     "metadata": {},
     "output_type": "execute_result"
    }
   ],
   "source": [
    "t4"
   ]
  },
  {
   "cell_type": "code",
   "execution_count": 66,
   "id": "88b11c6c",
   "metadata": {},
   "outputs": [
    {
     "data": {
      "text/plain": [
       "5"
      ]
     },
     "execution_count": 66,
     "metadata": {},
     "output_type": "execute_result"
    }
   ],
   "source": [
    "len(t4)"
   ]
  },
  {
   "cell_type": "code",
   "execution_count": 67,
   "id": "e57c1459",
   "metadata": {},
   "outputs": [
    {
     "data": {
      "text/plain": [
       "3"
      ]
     },
     "execution_count": 67,
     "metadata": {},
     "output_type": "execute_result"
    }
   ],
   "source": [
    "len(t4[2])"
   ]
  },
  {
   "cell_type": "code",
   "execution_count": 68,
   "id": "39910b4f",
   "metadata": {},
   "outputs": [
    {
     "data": {
      "text/plain": [
       "34"
      ]
     },
     "execution_count": 68,
     "metadata": {},
     "output_type": "execute_result"
    }
   ],
   "source": [
    "t4[-1][-1]"
   ]
  },
  {
   "cell_type": "code",
   "execution_count": 69,
   "id": "ab58e337",
   "metadata": {},
   "outputs": [
    {
     "data": {
      "text/plain": [
       "(10, 20, (1, 2, 3), 'python', [5, 2, 34])"
      ]
     },
     "execution_count": 69,
     "metadata": {},
     "output_type": "execute_result"
    }
   ],
   "source": [
    "t4[-1][0]=5 #list elements present inside the tuple can be modified.\n",
    "t4"
   ]
  },
  {
   "cell_type": "code",
   "execution_count": 74,
   "id": "d982191e",
   "metadata": {},
   "outputs": [
    {
     "data": {
      "text/plain": [
       "(10, 20, (1, 2, 3), 'python', [5, 2, 34, 4, 4, 4])"
      ]
     },
     "execution_count": 74,
     "metadata": {},
     "output_type": "execute_result"
    }
   ],
   "source": [
    "t4[-1].append(4) #in list we can also append the value as the list address will not be chnaged \n",
    "t4"
   ]
  },
  {
   "cell_type": "code",
   "execution_count": 76,
   "id": "088f7244",
   "metadata": {},
   "outputs": [
    {
     "data": {
      "text/plain": [
       "[1, 2, 3, (1, 2, 3)]"
      ]
     },
     "execution_count": 76,
     "metadata": {},
     "output_type": "execute_result"
    }
   ],
   "source": [
    "l4=[1,2,3,(1,2,3)]\n",
    "l4"
   ]
  },
  {
   "cell_type": "code",
   "execution_count": 77,
   "id": "cf97d58a",
   "metadata": {},
   "outputs": [],
   "source": [
    "l4[-1]=100"
   ]
  },
  {
   "cell_type": "code",
   "execution_count": 78,
   "id": "33327e46",
   "metadata": {},
   "outputs": [
    {
     "data": {
      "text/plain": [
       "[1, 2, 3, 100]"
      ]
     },
     "execution_count": 78,
     "metadata": {},
     "output_type": "execute_result"
    }
   ],
   "source": [
    "l4"
   ]
  },
  {
   "cell_type": "markdown",
   "id": "50082ff7",
   "metadata": {},
   "source": [
    "# sets\n",
    "# collection of elements, no dublicates are allowed, they are unordered.\n",
    "# not in a sequence, mutable, no indexing,no slicing\n",
    "# comma seprated enclosed within flower bracket\n"
   ]
  },
  {
   "cell_type": "code",
   "execution_count": 80,
   "id": "e303b074",
   "metadata": {},
   "outputs": [
    {
     "data": {
      "text/plain": [
       "{10, 200, 4.5, True, 'python'}"
      ]
     },
     "execution_count": 80,
     "metadata": {},
     "output_type": "execute_result"
    }
   ],
   "source": [
    "set1 = {10,200,4.5,'python', True}\n",
    "set1"
   ]
  },
  {
   "cell_type": "code",
   "execution_count": 81,
   "id": "142ef97d",
   "metadata": {},
   "outputs": [
    {
     "data": {
      "text/plain": [
       "set"
      ]
     },
     "execution_count": 81,
     "metadata": {},
     "output_type": "execute_result"
    }
   ],
   "source": [
    "type(set1)"
   ]
  },
  {
   "cell_type": "code",
   "execution_count": 82,
   "id": "28f0fa48",
   "metadata": {},
   "outputs": [
    {
     "data": {
      "text/plain": [
       "{10, 200, 4.5, True, 'python'}"
      ]
     },
     "execution_count": 82,
     "metadata": {},
     "output_type": "execute_result"
    }
   ],
   "source": [
    "set1"
   ]
  },
  {
   "cell_type": "code",
   "execution_count": 84,
   "id": "f7a135c7",
   "metadata": {},
   "outputs": [
    {
     "data": {
      "text/plain": [
       "{10, 20, 30}"
      ]
     },
     "execution_count": 84,
     "metadata": {},
     "output_type": "execute_result"
    }
   ],
   "source": [
    "set2 = {10,20,30,10} #set will be created but dublicate will be removed.\n",
    "set2"
   ]
  },
  {
   "cell_type": "code",
   "execution_count": 85,
   "id": "18704319",
   "metadata": {},
   "outputs": [
    {
     "ename": "TypeError",
     "evalue": "unhashable type: 'list'",
     "output_type": "error",
     "traceback": [
      "\u001b[1;31m---------------------------------------------------------------------------\u001b[0m",
      "\u001b[1;31mTypeError\u001b[0m                                 Traceback (most recent call last)",
      "Cell \u001b[1;32mIn[85], line 1\u001b[0m\n\u001b[1;32m----> 1\u001b[0m set3 \u001b[38;5;241m=\u001b[39m {\u001b[38;5;241m10\u001b[39m,[\u001b[38;5;241m1\u001b[39m,\u001b[38;5;241m2\u001b[39m,\u001b[38;5;241m3\u001b[39m], \u001b[38;5;124m'\u001b[39m\u001b[38;5;124mpython\u001b[39m\u001b[38;5;124m'\u001b[39m}\n",
      "\u001b[1;31mTypeError\u001b[0m: unhashable type: 'list'"
     ]
    }
   ],
   "source": [
    "set3 = {10,[1,2,3], 'python'} #mutable cannot be element of set"
   ]
  },
  {
   "cell_type": "code",
   "execution_count": 87,
   "id": "36cef3a3",
   "metadata": {},
   "outputs": [
    {
     "data": {
      "text/plain": [
       "{(1, 2, 3), 10, 'python'}"
      ]
     },
     "execution_count": 87,
     "metadata": {},
     "output_type": "execute_result"
    }
   ],
   "source": [
    "set3 = {10,(1,2,3), 'python'} #only immutable data type are allowed in set\n",
    "set3 "
   ]
  },
  {
   "cell_type": "code",
   "execution_count": 89,
   "id": "4ec73df6",
   "metadata": {},
   "outputs": [
    {
     "ename": "TypeError",
     "evalue": "unhashable type: 'set'",
     "output_type": "error",
     "traceback": [
      "\u001b[1;31m---------------------------------------------------------------------------\u001b[0m",
      "\u001b[1;31mTypeError\u001b[0m                                 Traceback (most recent call last)",
      "Cell \u001b[1;32mIn[89], line 1\u001b[0m\n\u001b[1;32m----> 1\u001b[0m set4\u001b[38;5;241m=\u001b[39m{\u001b[38;5;241m1\u001b[39m,\u001b[38;5;241m2\u001b[39m,\u001b[38;5;241m3\u001b[39m,{\u001b[38;5;241m1\u001b[39m,\u001b[38;5;241m2\u001b[39m,\u001b[38;5;241m3\u001b[39m}}\n",
      "\u001b[1;31mTypeError\u001b[0m: unhashable type: 'set'"
     ]
    }
   ],
   "source": [
    "set4={1,2,3,{1,2,3}} #set cannot have another set inside it"
   ]
  },
  {
   "cell_type": "code",
   "execution_count": 90,
   "id": "27c9644c",
   "metadata": {},
   "outputs": [
    {
     "data": {
      "text/plain": [
       "{10, 200, 4.5, True, 'python'}"
      ]
     },
     "execution_count": 90,
     "metadata": {},
     "output_type": "execute_result"
    }
   ],
   "source": [
    "set1"
   ]
  },
  {
   "cell_type": "code",
   "execution_count": 91,
   "id": "574c560a",
   "metadata": {},
   "outputs": [],
   "source": [
    "set1.add(500)"
   ]
  },
  {
   "cell_type": "code",
   "execution_count": 92,
   "id": "90721e7d",
   "metadata": {},
   "outputs": [
    {
     "data": {
      "text/plain": [
       "{10, 200, 4.5, 500, True, 'python'}"
      ]
     },
     "execution_count": 92,
     "metadata": {},
     "output_type": "execute_result"
    }
   ],
   "source": [
    "set1"
   ]
  },
  {
   "cell_type": "code",
   "execution_count": 93,
   "id": "b898be04",
   "metadata": {},
   "outputs": [
    {
     "data": {
      "text/plain": [
       "1555076017824"
      ]
     },
     "execution_count": 93,
     "metadata": {},
     "output_type": "execute_result"
    }
   ],
   "source": [
    "id(set1)"
   ]
  },
  {
   "cell_type": "markdown",
   "id": "f82041d4",
   "metadata": {},
   "source": [
    "# Dictionary\n",
    "## comma seprated its a collecton of key value pair enclosed within {}\n",
    "\n",
    "example:  {key1:value1, key2:value2, key3:value3}\n",
    "\n",
    "# unordered, no indexing, we fetch the value using keys ,mutable, keys should be unique and values can be dublicate.\n",
    "\n",
    "# keys should only be immutable objects\n",
    "# values can be of any data types.\n",
    "\n"
   ]
  },
  {
   "cell_type": "code",
   "execution_count": 3,
   "id": "2e15e588",
   "metadata": {},
   "outputs": [
    {
     "data": {
      "text/plain": [
       "{'roll': 1001, 'name': 'john', 'percent': 81.5}"
      ]
     },
     "execution_count": 3,
     "metadata": {},
     "output_type": "execute_result"
    }
   ],
   "source": [
    "student1 = {\"roll\":1001, \"name\":\"john\", \"percent\":81.5}\n",
    "student1"
   ]
  },
  {
   "cell_type": "code",
   "execution_count": 4,
   "id": "49d8379a",
   "metadata": {},
   "outputs": [
    {
     "data": {
      "text/plain": [
       "dict"
      ]
     },
     "execution_count": 4,
     "metadata": {},
     "output_type": "execute_result"
    }
   ],
   "source": [
    "type(student1)"
   ]
  },
  {
   "cell_type": "code",
   "execution_count": 5,
   "id": "5a02a2d9",
   "metadata": {},
   "outputs": [
    {
     "data": {
      "text/plain": [
       "{65: 'A', 97: 'a'}"
      ]
     },
     "execution_count": 5,
     "metadata": {},
     "output_type": "execute_result"
    }
   ],
   "source": [
    "ascii_dist = {65:\"A\", 97:\"a\"}\n",
    "ascii_dist"
   ]
  },
  {
   "cell_type": "code",
   "execution_count": 7,
   "id": "7f2ec3c0",
   "metadata": {},
   "outputs": [
    {
     "data": {
      "text/plain": [
       "{(1, 2, 3): 7, (1, 5): 6}"
      ]
     },
     "execution_count": 7,
     "metadata": {},
     "output_type": "execute_result"
    }
   ],
   "source": [
    "d1={(1,2,3):7, (1,5):6} #tuple is immutable hence it is aloowed as the key\n",
    "d1"
   ]
  },
  {
   "cell_type": "code",
   "execution_count": 8,
   "id": "aca06728",
   "metadata": {},
   "outputs": [
    {
     "ename": "TypeError",
     "evalue": "unhashable type: 'list'",
     "output_type": "error",
     "traceback": [
      "\u001b[1;31m---------------------------------------------------------------------------\u001b[0m",
      "\u001b[1;31mTypeError\u001b[0m                                 Traceback (most recent call last)",
      "Cell \u001b[1;32mIn[8], line 1\u001b[0m\n\u001b[1;32m----> 1\u001b[0m d1\u001b[38;5;241m=\u001b[39m{[\u001b[38;5;241m1\u001b[39m,\u001b[38;5;241m2\u001b[39m,\u001b[38;5;241m3\u001b[39m]:\u001b[38;5;241m7\u001b[39m, [\u001b[38;5;241m1\u001b[39m,\u001b[38;5;241m2\u001b[39m]:\u001b[38;5;241m3\u001b[39m}\n",
      "\u001b[1;31mTypeError\u001b[0m: unhashable type: 'list'"
     ]
    }
   ],
   "source": [
    "d1={[1,2,3]:7, [1,2]:3} #list is mutable and is not aloowed as key"
   ]
  },
  {
   "cell_type": "code",
   "execution_count": 9,
   "id": "4daea1b4",
   "metadata": {},
   "outputs": [],
   "source": [
    "student2= {\"roll\": 1002, \"name\":\"jill\", \"grade\":\"b\", \"percent\":87.5}"
   ]
  },
  {
   "cell_type": "code",
   "execution_count": 10,
   "id": "a4686bfd",
   "metadata": {},
   "outputs": [
    {
     "data": {
      "text/plain": [
       "{'roll': 1002, 'name': 'jill', 'grade': 'b', 'percent': 87.5}"
      ]
     },
     "execution_count": 10,
     "metadata": {},
     "output_type": "execute_result"
    }
   ],
   "source": [
    "student2"
   ]
  },
  {
   "cell_type": "code",
   "execution_count": 11,
   "id": "a8f59e6e",
   "metadata": {},
   "outputs": [
    {
     "data": {
      "text/plain": [
       "dict"
      ]
     },
     "execution_count": 11,
     "metadata": {},
     "output_type": "execute_result"
    }
   ],
   "source": [
    "type(student2)"
   ]
  },
  {
   "cell_type": "code",
   "execution_count": 12,
   "id": "01e01197",
   "metadata": {},
   "outputs": [],
   "source": [
    "l1=[] #tio create empty list\n",
    "t1=() #empty tuple\n",
    "d1={} #empty dictoner\n",
    "s1=set() #empty set\n",
    " #or \n",
    "l2=list()\n",
    "t2=tuple()\n",
    "d2=dict()\n",
    "#set only have one method to crete new empty set\n"
   ]
  },
  {
   "cell_type": "code",
   "execution_count": 13,
   "id": "453b79e5",
   "metadata": {},
   "outputs": [
    {
     "data": {
      "text/plain": [
       "{'roll': 1003, 'name': 'mill', 'marks': [100, 25, 85, 95.4]}"
      ]
     },
     "execution_count": 13,
     "metadata": {},
     "output_type": "execute_result"
    }
   ],
   "source": [
    "student3= {\"roll\": 1003, \"name\":\"mill\", \"marks\":[100,25,85,95.4]} #list can be value\n",
    "student3"
   ]
  },
  {
   "cell_type": "code",
   "execution_count": 14,
   "id": "3000b26f",
   "metadata": {},
   "outputs": [
    {
     "data": {
      "text/plain": [
       "{'roll': 1003,\n",
       " 'name': 'mill',\n",
       " 'marks': {'eng': 100, 'maths': 25, 'python': 85, 'hindi': 95.4}}"
      ]
     },
     "execution_count": 14,
     "metadata": {},
     "output_type": "execute_result"
    }
   ],
   "source": [
    "student4= {\"roll\": 1003, \"name\":\"mill\", \"marks\":{'eng':100, 'maths':25, 'python':85, \"hindi\":95.4}} #dict inside dict \n",
    "student4"
   ]
  },
  {
   "cell_type": "code",
   "execution_count": 15,
   "id": "edd971ac",
   "metadata": {},
   "outputs": [
    {
     "data": {
      "text/plain": [
       "'mill'"
      ]
     },
     "execution_count": 15,
     "metadata": {},
     "output_type": "execute_result"
    }
   ],
   "source": [
    "student4[\"name\"]"
   ]
  },
  {
   "cell_type": "code",
   "execution_count": 16,
   "id": "502c4c41",
   "metadata": {},
   "outputs": [
    {
     "data": {
      "text/plain": [
       "95.4"
      ]
     },
     "execution_count": 16,
     "metadata": {},
     "output_type": "execute_result"
    }
   ],
   "source": [
    "student4[\"marks\"][\"hindi\"]"
   ]
  },
  {
   "cell_type": "code",
   "execution_count": 17,
   "id": "cd86b5ef",
   "metadata": {},
   "outputs": [
    {
     "data": {
      "text/plain": [
       "{'roll': 1003, 'name': 'mill', 'marks': [100, 25, 85, 95.4]}"
      ]
     },
     "execution_count": 17,
     "metadata": {},
     "output_type": "execute_result"
    }
   ],
   "source": [
    "student3"
   ]
  },
  {
   "cell_type": "code",
   "execution_count": 18,
   "id": "358fd0ae",
   "metadata": {},
   "outputs": [
    {
     "data": {
      "text/plain": [
       "25"
      ]
     },
     "execution_count": 18,
     "metadata": {},
     "output_type": "execute_result"
    }
   ],
   "source": [
    "student3[\"marks\"][1]"
   ]
  },
  {
   "cell_type": "code",
   "execution_count": 19,
   "id": "d451d8b8",
   "metadata": {},
   "outputs": [
    {
     "data": {
      "text/plain": [
       "{'roll': 1001, 'name': 'john', 'percent': 81.5}"
      ]
     },
     "execution_count": 19,
     "metadata": {},
     "output_type": "execute_result"
    }
   ],
   "source": [
    "student1"
   ]
  },
  {
   "cell_type": "code",
   "execution_count": 21,
   "id": "deb87b6f",
   "metadata": {},
   "outputs": [],
   "source": [
    "student1[\"percent\"]=99 #changing value"
   ]
  },
  {
   "cell_type": "code",
   "execution_count": 22,
   "id": "127df510",
   "metadata": {},
   "outputs": [
    {
     "data": {
      "text/plain": [
       "{'roll': 1001, 'name': 'john', 'percent': 99}"
      ]
     },
     "execution_count": 22,
     "metadata": {},
     "output_type": "execute_result"
    }
   ],
   "source": [
    "student1"
   ]
  },
  {
   "cell_type": "code",
   "execution_count": 23,
   "id": "c7d3c2fd",
   "metadata": {},
   "outputs": [],
   "source": [
    "student1[\"grade\"]=\"b\" #add new key value pair"
   ]
  },
  {
   "cell_type": "code",
   "execution_count": 24,
   "id": "bf3ac7ad",
   "metadata": {},
   "outputs": [
    {
     "data": {
      "text/plain": [
       "{'roll': 1001, 'name': 'john', 'percent': 99, 'grade': 'b'}"
      ]
     },
     "execution_count": 24,
     "metadata": {},
     "output_type": "execute_result"
    }
   ],
   "source": [
    "student1"
   ]
  },
  {
   "cell_type": "code",
   "execution_count": 25,
   "id": "00050c17",
   "metadata": {},
   "outputs": [
    {
     "ename": "NameError",
     "evalue": "name 'key' is not defined",
     "output_type": "error",
     "traceback": [
      "\u001b[1;31m---------------------------------------------------------------------------\u001b[0m",
      "\u001b[1;31mNameError\u001b[0m                                 Traceback (most recent call last)",
      "Cell \u001b[1;32mIn[25], line 1\u001b[0m\n\u001b[1;32m----> 1\u001b[0m student1[key]\n",
      "\u001b[1;31mNameError\u001b[0m: name 'key' is not defined"
     ]
    }
   ],
   "source": []
  },
  {
   "cell_type": "code",
   "execution_count": 27,
   "id": "c62f837d",
   "metadata": {},
   "outputs": [
    {
     "data": {
      "text/plain": [
       "{101: 'sam', 102: 'mehnaz', 103: 'samiya'}"
      ]
     },
     "execution_count": 27,
     "metadata": {},
     "output_type": "execute_result"
    }
   ],
   "source": [
    "student = {101:\"sam\", 102:\"naaz\", 102:\"mehnaz\", 103:\"samiya\"} #if dublicate key is present it will condier the last value \n",
    "student"
   ]
  },
  {
   "cell_type": "code",
   "execution_count": 28,
   "id": "c425e8d6",
   "metadata": {},
   "outputs": [
    {
     "ename": "TypeError",
     "evalue": "unsupported operand type(s) for +: 'dict' and 'dict'",
     "output_type": "error",
     "traceback": [
      "\u001b[1;31m---------------------------------------------------------------------------\u001b[0m",
      "\u001b[1;31mTypeError\u001b[0m                                 Traceback (most recent call last)",
      "Cell \u001b[1;32mIn[28], line 1\u001b[0m\n\u001b[1;32m----> 1\u001b[0m student1\u001b[38;5;241m+\u001b[39mstudent\n",
      "\u001b[1;31mTypeError\u001b[0m: unsupported operand type(s) for +: 'dict' and 'dict'"
     ]
    }
   ],
   "source": [
    "student1+student #concatination is not allowed "
   ]
  },
  {
   "cell_type": "code",
   "execution_count": 29,
   "id": "36c2ee66",
   "metadata": {},
   "outputs": [
    {
     "data": {
      "text/plain": [
       "{'eng': 100, 'maths': 100, 'python': 100}"
      ]
     },
     "execution_count": 29,
     "metadata": {},
     "output_type": "execute_result"
    }
   ],
   "source": [
    "marks={\"eng\":100, 'maths':100, 'python':100} #dublicate values can be present\n",
    "marks"
   ]
  },
  {
   "cell_type": "code",
   "execution_count": null,
   "id": "2e269137",
   "metadata": {},
   "outputs": [],
   "source": []
  },
  {
   "cell_type": "markdown",
   "id": "60bfd60d",
   "metadata": {},
   "source": [
    "# mutable: list,set,dict\n",
    "# immutable: int,float,complex,string,bool,none,tuple"
   ]
  },
  {
   "cell_type": "code",
   "execution_count": 40,
   "id": "55e49035",
   "metadata": {},
   "outputs": [
    {
     "name": "stdout",
     "output_type": "stream",
     "text": [
      "{'roll': 1001, 'name': 'john', 'percent': 99, 'grade': 'b'}\n"
     ]
    },
    {
     "data": {
      "text/plain": [
       "dict_keys(['roll', 'name', 'percent', 'grade'])"
      ]
     },
     "execution_count": 40,
     "metadata": {},
     "output_type": "execute_result"
    }
   ],
   "source": [
    "#fetching keys \n",
    "print(student1)\n",
    "k1=student1.keys()\n",
    "k1"
   ]
  },
  {
   "cell_type": "code",
   "execution_count": 37,
   "id": "6215ddb5",
   "metadata": {},
   "outputs": [
    {
     "data": {
      "text/plain": [
       "dict_keys"
      ]
     },
     "execution_count": 37,
     "metadata": {},
     "output_type": "execute_result"
    }
   ],
   "source": [
    "type(k1)"
   ]
  },
  {
   "cell_type": "code",
   "execution_count": 46,
   "id": "4c968907",
   "metadata": {},
   "outputs": [
    {
     "name": "stdout",
     "output_type": "stream",
     "text": [
      "dict_keys(['roll', 'name', 'percent', 'grade'])\n"
     ]
    }
   ],
   "source": [
    "print(k1) #to avoide confucion it will give out put as list enclosed within () to avoide the confusion of list or tuple"
   ]
  },
  {
   "cell_type": "code",
   "execution_count": 47,
   "id": "996c182b",
   "metadata": {},
   "outputs": [
    {
     "data": {
      "text/plain": [
       "['roll', 'name', 'percent', 'grade']"
      ]
     },
     "execution_count": 47,
     "metadata": {},
     "output_type": "execute_result"
    }
   ],
   "source": [
    "list(k1) #typecasting keys value to list"
   ]
  },
  {
   "cell_type": "code",
   "execution_count": 49,
   "id": "a204bd6a",
   "metadata": {},
   "outputs": [
    {
     "data": {
      "text/plain": [
       "('roll', 'name', 'percent', 'grade')"
      ]
     },
     "execution_count": 49,
     "metadata": {},
     "output_type": "execute_result"
    }
   ],
   "source": [
    "tuple(k1) #typecasting to tuple"
   ]
  },
  {
   "cell_type": "code",
   "execution_count": 54,
   "id": "b7d4d8c1",
   "metadata": {},
   "outputs": [
    {
     "name": "stdout",
     "output_type": "stream",
     "text": [
      "[1, 2, 2, 2, 3, 4, 5, 6, 6, 7, 8, 8, 8]\n",
      "{1, 2, 3, 4, 5, 6, 7, 8}\n"
     ]
    },
    {
     "data": {
      "text/plain": [
       "[1, 2, 3, 4, 5, 6, 7, 8]"
      ]
     },
     "execution_count": 54,
     "metadata": {},
     "output_type": "execute_result"
    }
   ],
   "source": [
    "#removing dublicates from the list and converting bacj to the list\n",
    "l1=[1,2,2,2,3,4,5,6,6,7,8,8,8]\n",
    "print(l1)\n",
    "print(set(l1))\n",
    "list(set(l1))"
   ]
  },
  {
   "cell_type": "code",
   "execution_count": 55,
   "id": "395c7afe",
   "metadata": {},
   "outputs": [
    {
     "data": {
      "text/plain": [
       "{'roll': 1001, 'name': 'john', 'percent': 99, 'grade': 'b'}"
      ]
     },
     "execution_count": 55,
     "metadata": {},
     "output_type": "execute_result"
    }
   ],
   "source": [
    "student1"
   ]
  },
  {
   "cell_type": "code",
   "execution_count": 57,
   "id": "24f9350f",
   "metadata": {},
   "outputs": [
    {
     "data": {
      "text/plain": [
       "dict_values([1001, 'john', 99, 'b'])"
      ]
     },
     "execution_count": 57,
     "metadata": {},
     "output_type": "execute_result"
    }
   ],
   "source": [
    "v2=student1.values()\n",
    "v2"
   ]
  },
  {
   "cell_type": "code",
   "execution_count": 58,
   "id": "e9d659a0",
   "metadata": {},
   "outputs": [
    {
     "data": {
      "text/plain": [
       "dict_values"
      ]
     },
     "execution_count": 58,
     "metadata": {},
     "output_type": "execute_result"
    }
   ],
   "source": [
    "type(v2)"
   ]
  },
  {
   "cell_type": "code",
   "execution_count": 59,
   "id": "c1abacb0",
   "metadata": {},
   "outputs": [
    {
     "data": {
      "text/plain": [
       "[1001, 'john', 99, 'b']"
      ]
     },
     "execution_count": 59,
     "metadata": {},
     "output_type": "execute_result"
    }
   ],
   "source": [
    "list(v2)"
   ]
  },
  {
   "cell_type": "code",
   "execution_count": 60,
   "id": "bc9a5528",
   "metadata": {},
   "outputs": [
    {
     "data": {
      "text/plain": [
       "(1001, 'john', 99, 'b')"
      ]
     },
     "execution_count": 60,
     "metadata": {},
     "output_type": "execute_result"
    }
   ],
   "source": [
    "tuple(v2)"
   ]
  },
  {
   "cell_type": "markdown",
   "id": "d09a6a90",
   "metadata": {},
   "source": [
    "# memory reusablitily cocncept"
   ]
  },
  {
   "cell_type": "code",
   "execution_count": 61,
   "id": "bd5cfd19",
   "metadata": {},
   "outputs": [
    {
     "data": {
      "text/plain": [
       "2416368698768"
      ]
     },
     "execution_count": 61,
     "metadata": {},
     "output_type": "execute_result"
    }
   ],
   "source": [
    "a=1000\n",
    "b=1000\n",
    "id(a)"
   ]
  },
  {
   "cell_type": "code",
   "execution_count": 62,
   "id": "46fe7eeb",
   "metadata": {},
   "outputs": [
    {
     "data": {
      "text/plain": [
       "2416369328752"
      ]
     },
     "execution_count": 62,
     "metadata": {},
     "output_type": "execute_result"
    }
   ],
   "source": [
    "id(b)"
   ]
  },
  {
   "cell_type": "code",
   "execution_count": 63,
   "id": "c9cade27",
   "metadata": {},
   "outputs": [
    {
     "data": {
      "text/plain": [
       "140736667492200"
      ]
     },
     "execution_count": 63,
     "metadata": {},
     "output_type": "execute_result"
    }
   ],
   "source": [
    "x=99\n",
    "id(x)"
   ]
  },
  {
   "cell_type": "code",
   "execution_count": 64,
   "id": "c8721cf4",
   "metadata": {},
   "outputs": [
    {
     "data": {
      "text/plain": [
       "140736667492200"
      ]
     },
     "execution_count": 64,
     "metadata": {},
     "output_type": "execute_result"
    }
   ],
   "source": [
    "y=99\n",
    "id(y) #same address becaouse of execption , this is called memeory usablity when different variables refer to the same memory address.\n"
   ]
  },
  {
   "cell_type": "markdown",
   "id": "d9eaf28e",
   "metadata": {},
   "source": [
    "# it is also called interning. done for optimization\n",
    "for integaers python pre;oads the value from -5 to 256 in the memory when python loads before the start of execution.\n",
    "when we assign any value to a varibale withing the range , python will not create the new object ann assign to the new memory.\n",
    "Rather it will make the variable refer to the pre loaded values memoery address\n"
   ]
  },
  {
   "cell_type": "code",
   "execution_count": 65,
   "id": "c6342e73",
   "metadata": {},
   "outputs": [
    {
     "data": {
      "text/plain": [
       "2416365342736"
      ]
     },
     "execution_count": 65,
     "metadata": {},
     "output_type": "execute_result"
    }
   ],
   "source": [
    "f1=10.5\n",
    "id(f1)"
   ]
  },
  {
   "cell_type": "code",
   "execution_count": 67,
   "id": "3b2f1bd1",
   "metadata": {},
   "outputs": [
    {
     "data": {
      "text/plain": [
       "2416365345904"
      ]
     },
     "execution_count": 67,
     "metadata": {},
     "output_type": "execute_result"
    }
   ],
   "source": [
    "f2=10.5 #as float will have infinte number ,so we cannot add this values in memeory for resueablity as every time a float is created it will take new address.\n",
    "id(f2)"
   ]
  },
  {
   "cell_type": "code",
   "execution_count": 75,
   "id": "de9e5237",
   "metadata": {},
   "outputs": [
    {
     "data": {
      "text/plain": [
       "140736666020384"
      ]
     },
     "execution_count": 75,
     "metadata": {},
     "output_type": "execute_result"
    }
   ],
   "source": [
    "#boolean\n",
    "val1= True\n",
    "val2= True\n",
    "val3= 1  #true and 1 are different in memory loaction\n",
    "id(val1)"
   ]
  },
  {
   "cell_type": "code",
   "execution_count": 69,
   "id": "b1aad5b0",
   "metadata": {},
   "outputs": [
    {
     "data": {
      "text/plain": [
       "140736666020384"
      ]
     },
     "execution_count": 69,
     "metadata": {},
     "output_type": "execute_result"
    }
   ],
   "source": [
    "id(val2)"
   ]
  },
  {
   "cell_type": "code",
   "execution_count": 76,
   "id": "140629a6",
   "metadata": {},
   "outputs": [
    {
     "data": {
      "text/plain": [
       "140736667489064"
      ]
     },
     "execution_count": 76,
     "metadata": {},
     "output_type": "execute_result"
    }
   ],
   "source": [
    "id(val3)"
   ]
  },
  {
   "cell_type": "code",
   "execution_count": 77,
   "id": "58f87035",
   "metadata": {},
   "outputs": [
    {
     "data": {
      "text/plain": [
       "140736666102512"
      ]
     },
     "execution_count": 77,
     "metadata": {},
     "output_type": "execute_result"
    }
   ],
   "source": [
    "val4= None #use memory usbality concept\n",
    "val5 = None\n",
    "id(val4)"
   ]
  },
  {
   "cell_type": "code",
   "execution_count": 78,
   "id": "d0c7d65b",
   "metadata": {},
   "outputs": [
    {
     "data": {
      "text/plain": [
       "140736666102512"
      ]
     },
     "execution_count": 78,
     "metadata": {},
     "output_type": "execute_result"
    }
   ],
   "source": [
    "id(val5)"
   ]
  },
  {
   "cell_type": "markdown",
   "id": "a1806fba",
   "metadata": {},
   "source": [
    "# strings\n",
    "# they dont use memoery reuseablity concept\n",
    "## note:\n",
    "# a-z,A-Z,9-0,_ identifier rule.\n",
    "if any value assigned to varibale follow identifier rule, the pvm will chekc if the value is alredy present in memory , if yes then it will poit to that address . if not it will assign new address to it."
   ]
  },
  {
   "cell_type": "code",
   "execution_count": 81,
   "id": "326b7e9f",
   "metadata": {},
   "outputs": [
    {
     "data": {
      "text/plain": [
       "2416371739120"
      ]
     },
     "execution_count": 81,
     "metadata": {},
     "output_type": "execute_result"
    }
   ],
   "source": [
    "s1=\"hello world\"\n",
    "id(s1)"
   ]
  },
  {
   "cell_type": "code",
   "execution_count": 82,
   "id": "6179db5c",
   "metadata": {},
   "outputs": [
    {
     "data": {
      "text/plain": [
       "2416358438384"
      ]
     },
     "execution_count": 82,
     "metadata": {},
     "output_type": "execute_result"
    }
   ],
   "source": [
    "s2=\"hello world\"  #strings cannot be preloaded so they have new address every time \n",
    "id(s2) "
   ]
  },
  {
   "cell_type": "code",
   "execution_count": 87,
   "id": "6b383d61",
   "metadata": {},
   "outputs": [
    {
     "name": "stdout",
     "output_type": "stream",
     "text": [
      "2416331921392\n",
      "2416331921392\n"
     ]
    }
   ],
   "source": [
    "s1=\"hello\"  #used reuseability  if any value assigned to varibale follow identifier rule, the pvm will chekc if the value is alredy present in memory , if yes then it will poit to that address . if not it will assign new address to it.\n",
    "print(id(s1))\n",
    "s2=\"hello\"\n",
    "print(id(s2))"
   ]
  },
  {
   "cell_type": "code",
   "execution_count": 90,
   "id": "36d62cae",
   "metadata": {},
   "outputs": [
    {
     "name": "stdout",
     "output_type": "stream",
     "text": [
      "2416371746224\n"
     ]
    },
    {
     "data": {
      "text/plain": [
       "2416371746224"
      ]
     },
     "execution_count": 90,
     "metadata": {},
     "output_type": "execute_result"
    }
   ],
   "source": [
    "s1=\"hello_world\" #used reuseability \n",
    "print(id(s1))\n",
    "s2=\"hello_world\"\n",
    "id(s2)"
   ]
  },
  {
   "cell_type": "code",
   "execution_count": 91,
   "id": "d4cfa101",
   "metadata": {},
   "outputs": [
    {
     "name": "stdout",
     "output_type": "stream",
     "text": [
      "2416371682800\n"
     ]
    },
    {
     "data": {
      "text/plain": [
       "2416352562160"
      ]
     },
     "execution_count": 91,
     "metadata": {},
     "output_type": "execute_result"
    }
   ],
   "source": [
    "s1=\"hello-world\" #not used resuablity as it doesnot follow identifier rule\n",
    "print(id(s1))\n",
    "s2=\"hello-world\"\n",
    "id(s2)"
   ]
  },
  {
   "cell_type": "markdown",
   "id": "21833ef7",
   "metadata": {},
   "source": [
    "# operators\n",
    "\n",
    "operators perform various operations on operands.\n",
    "a*b\n",
    "* is an operator and a,b are operands.\n"
   ]
  },
  {
   "cell_type": "code",
   "execution_count": 1,
   "id": "ec950c8b",
   "metadata": {},
   "outputs": [],
   "source": [
    "# classification of operators based on operands.\n",
    "\n",
    "#1. unary operator- operates on 1 operand. eg:not, -\n",
    "#2. binary operators- operates on 2 operand. eg:+,and,<,=\n",
    "#3. ternary operators-operates on 3 operands. \n"
   ]
  },
  {
   "cell_type": "code",
   "execution_count": 3,
   "id": "5ef0d28c",
   "metadata": {},
   "outputs": [],
   "source": [
    "# classification of operators based on operations they perform\n",
    "\n",
    "# 1. arithematic operaators: +,-,*,/,//,**,%\n",
    "# note: / gives the output in float and % operator gives the reminder as output,// gives the Quotient value \n",
    "# ** is the power/exponent operator.\n",
    "\n",
    "#2. Assignment operator:=\n",
    "#3. compound Assignment operator: +=,/=,-=,//=,%=,**=\n",
    "#example: a+=10 means a=a+10"
   ]
  },
  {
   "cell_type": "code",
   "execution_count": 5,
   "id": "1cfa17d4",
   "metadata": {},
   "outputs": [
    {
     "data": {
      "text/plain": [
       "110"
      ]
     },
     "execution_count": 5,
     "metadata": {},
     "output_type": "execute_result"
    }
   ],
   "source": [
    "a=100\n",
    "a+=10 #a=a+10\n",
    "a"
   ]
  },
  {
   "cell_type": "code",
   "execution_count": 7,
   "id": "4daa5884",
   "metadata": {},
   "outputs": [
    {
     "ename": "NameError",
     "evalue": "name 'v1' is not defined",
     "output_type": "error",
     "traceback": [
      "\u001b[1;31m---------------------------------------------------------------------------\u001b[0m",
      "\u001b[1;31mNameError\u001b[0m                                 Traceback (most recent call last)",
      "Cell \u001b[1;32mIn[7], line 1\u001b[0m\n\u001b[1;32m----> 1\u001b[0m v1\u001b[38;5;241m+\u001b[39m\u001b[38;5;241m=\u001b[39m\u001b[38;5;241m10\u001b[39m \u001b[38;5;66;03m# v1 should alredy have a value\u001b[39;00m\n\u001b[0;32m      2\u001b[0m v1\n",
      "\u001b[1;31mNameError\u001b[0m: name 'v1' is not defined"
     ]
    }
   ],
   "source": [
    "v1+=10 # v1 should alredy have a value\n",
    "v1"
   ]
  },
  {
   "cell_type": "code",
   "execution_count": 8,
   "id": "128e6e8b",
   "metadata": {},
   "outputs": [
    {
     "data": {
      "text/plain": [
       "100"
      ]
     },
     "execution_count": 8,
     "metadata": {},
     "output_type": "execute_result"
    }
   ],
   "source": [
    "a-=10\n",
    "a"
   ]
  },
  {
   "cell_type": "code",
   "execution_count": 10,
   "id": "b0896186",
   "metadata": {},
   "outputs": [
    {
     "data": {
      "text/plain": [
       "11.111111111111112"
      ]
     },
     "execution_count": 10,
     "metadata": {},
     "output_type": "execute_result"
    }
   ],
   "source": [
    "a/=3\n",
    "a"
   ]
  },
  {
   "cell_type": "code",
   "execution_count": 13,
   "id": "5fb72cec",
   "metadata": {},
   "outputs": [
    {
     "data": {
      "text/plain": [
       "3"
      ]
     },
     "execution_count": 13,
     "metadata": {},
     "output_type": "execute_result"
    }
   ],
   "source": [
    "a=30\n",
    "a//=10\n",
    "a"
   ]
  },
  {
   "cell_type": "code",
   "execution_count": 14,
   "id": "d238f905",
   "metadata": {},
   "outputs": [
    {
     "data": {
      "text/plain": [
       "3.0"
      ]
     },
     "execution_count": 14,
     "metadata": {},
     "output_type": "execute_result"
    }
   ],
   "source": [
    "a=30.0 # if any operand is a float output is in float\n",
    "a//=10 #floor dwvision \n",
    "a"
   ]
  },
  {
   "cell_type": "code",
   "execution_count": 17,
   "id": "8d7d3470",
   "metadata": {},
   "outputs": [
    {
     "data": {
      "text/plain": [
       "81.0"
      ]
     },
     "execution_count": 17,
     "metadata": {},
     "output_type": "execute_result"
    }
   ],
   "source": [
    "a**=2\n",
    "a"
   ]
  },
  {
   "cell_type": "code",
   "execution_count": 22,
   "id": "2140e505",
   "metadata": {},
   "outputs": [
    {
     "name": "stdout",
     "output_type": "stream",
     "text": [
      "1000\n",
      "1000\n"
     ]
    },
    {
     "data": {
      "text/plain": [
       "1000"
      ]
     },
     "execution_count": 22,
     "metadata": {},
     "output_type": "execute_result"
    }
   ],
   "source": [
    "a=b=c=1000 #we can assign same value to different variable in same line\n",
    "print(a)\n",
    "print(b)\n",
    "c"
   ]
  },
  {
   "cell_type": "code",
   "execution_count": 20,
   "id": "d8b874c0",
   "metadata": {},
   "outputs": [
    {
     "data": {
      "text/plain": [
       "140736667492232"
      ]
     },
     "execution_count": 20,
     "metadata": {},
     "output_type": "execute_result"
    }
   ],
   "source": [
    "id(a)"
   ]
  },
  {
   "cell_type": "code",
   "execution_count": 21,
   "id": "fb9fa449",
   "metadata": {},
   "outputs": [
    {
     "data": {
      "text/plain": [
       "140736667492232"
      ]
     },
     "execution_count": 21,
     "metadata": {},
     "output_type": "execute_result"
    }
   ],
   "source": [
    "id(b) #same address as we have assigned at the same time as a=b=c"
   ]
  },
  {
   "cell_type": "code",
   "execution_count": 23,
   "id": "27dec708",
   "metadata": {},
   "outputs": [
    {
     "data": {
      "text/plain": [
       "1857601427248"
      ]
     },
     "execution_count": 23,
     "metadata": {},
     "output_type": "execute_result"
    }
   ],
   "source": [
    "x=y=\"orange\"\n",
    "id(x)\n"
   ]
  },
  {
   "cell_type": "code",
   "execution_count": 24,
   "id": "c5ff5eb7",
   "metadata": {},
   "outputs": [
    {
     "data": {
      "text/plain": [
       "1857601427248"
      ]
     },
     "execution_count": 24,
     "metadata": {},
     "output_type": "execute_result"
    }
   ],
   "source": [
    "id(y) #same address as we have assigned at the same time as a=b=c"
   ]
  },
  {
   "cell_type": "code",
   "execution_count": 25,
   "id": "dd768759",
   "metadata": {},
   "outputs": [
    {
     "data": {
      "text/plain": [
       "1857609400192"
      ]
     },
     "execution_count": 25,
     "metadata": {},
     "output_type": "execute_result"
    }
   ],
   "source": [
    "a=b=[1,2,3] #same address as we have assigned at the same time as a=b=c\n",
    "id(a)"
   ]
  },
  {
   "cell_type": "code",
   "execution_count": 26,
   "id": "5924dcec",
   "metadata": {},
   "outputs": [
    {
     "data": {
      "text/plain": [
       "1857609400192"
      ]
     },
     "execution_count": 26,
     "metadata": {},
     "output_type": "execute_result"
    }
   ],
   "source": [
    "id(b)"
   ]
  },
  {
   "cell_type": "code",
   "execution_count": 28,
   "id": "441e5b40",
   "metadata": {},
   "outputs": [],
   "source": [
    "a=[1,2,3,4]\n",
    "b=a"
   ]
  },
  {
   "cell_type": "code",
   "execution_count": 29,
   "id": "90c312a4",
   "metadata": {},
   "outputs": [
    {
     "data": {
      "text/plain": [
       "1857609450112"
      ]
     },
     "execution_count": 29,
     "metadata": {},
     "output_type": "execute_result"
    }
   ],
   "source": [
    "id(a)"
   ]
  },
  {
   "cell_type": "code",
   "execution_count": 30,
   "id": "3fa86367",
   "metadata": {},
   "outputs": [
    {
     "data": {
      "text/plain": [
       "1857609450112"
      ]
     },
     "execution_count": 30,
     "metadata": {},
     "output_type": "execute_result"
    }
   ],
   "source": [
    "id(b)"
   ]
  },
  {
   "cell_type": "code",
   "execution_count": 31,
   "id": "5c20beb9",
   "metadata": {},
   "outputs": [
    {
     "data": {
      "text/plain": [
       "10"
      ]
     },
     "execution_count": 31,
     "metadata": {},
     "output_type": "execute_result"
    }
   ],
   "source": [
    "a,b,c=10,20,30\n",
    "a\n"
   ]
  },
  {
   "cell_type": "code",
   "execution_count": 32,
   "id": "9b14ade6",
   "metadata": {},
   "outputs": [
    {
     "data": {
      "text/plain": [
       "20"
      ]
     },
     "execution_count": 32,
     "metadata": {},
     "output_type": "execute_result"
    }
   ],
   "source": [
    "b"
   ]
  },
  {
   "cell_type": "code",
   "execution_count": 33,
   "id": "3f81d368",
   "metadata": {},
   "outputs": [
    {
     "data": {
      "text/plain": [
       "30"
      ]
     },
     "execution_count": 33,
     "metadata": {},
     "output_type": "execute_result"
    }
   ],
   "source": [
    "c"
   ]
  },
  {
   "cell_type": "code",
   "execution_count": 34,
   "id": "57f8e94e",
   "metadata": {},
   "outputs": [
    {
     "ename": "ValueError",
     "evalue": "not enough values to unpack (expected 3, got 2)",
     "output_type": "error",
     "traceback": [
      "\u001b[1;31m---------------------------------------------------------------------------\u001b[0m",
      "\u001b[1;31mValueError\u001b[0m                                Traceback (most recent call last)",
      "Cell \u001b[1;32mIn[34], line 1\u001b[0m\n\u001b[1;32m----> 1\u001b[0m a,b,c\u001b[38;5;241m=\u001b[39m\u001b[38;5;241m100\u001b[39m,\u001b[38;5;241m200\u001b[39m\n",
      "\u001b[1;31mValueError\u001b[0m: not enough values to unpack (expected 3, got 2)"
     ]
    }
   ],
   "source": [
    "a,b,c=100,200 #not enough values"
   ]
  },
  {
   "cell_type": "code",
   "execution_count": 35,
   "id": "ec4a516c",
   "metadata": {},
   "outputs": [
    {
     "ename": "ValueError",
     "evalue": "too many values to unpack (expected 3)",
     "output_type": "error",
     "traceback": [
      "\u001b[1;31m---------------------------------------------------------------------------\u001b[0m",
      "\u001b[1;31mValueError\u001b[0m                                Traceback (most recent call last)",
      "Cell \u001b[1;32mIn[35], line 1\u001b[0m\n\u001b[1;32m----> 1\u001b[0m a,b,c\u001b[38;5;241m=\u001b[39m\u001b[38;5;241m10\u001b[39m,\u001b[38;5;241m2\u001b[39m,\u001b[38;5;241m3\u001b[39m,\u001b[38;5;241m4\u001b[39m\n",
      "\u001b[1;31mValueError\u001b[0m: too many values to unpack (expected 3)"
     ]
    }
   ],
   "source": [
    "a,b,c=10,2,3,4 #too many values"
   ]
  },
  {
   "cell_type": "code",
   "execution_count": 36,
   "id": "ec80e288",
   "metadata": {},
   "outputs": [],
   "source": [
    "x=10,20,30 #tuple- comma seprated values enclosed within (). () are optional"
   ]
  },
  {
   "cell_type": "code",
   "execution_count": 37,
   "id": "a14292f2",
   "metadata": {},
   "outputs": [
    {
     "data": {
      "text/plain": [
       "(10, 20, 30)"
      ]
     },
     "execution_count": 37,
     "metadata": {},
     "output_type": "execute_result"
    }
   ],
   "source": [
    "x"
   ]
  },
  {
   "cell_type": "code",
   "execution_count": 38,
   "id": "aee0f6dc",
   "metadata": {},
   "outputs": [
    {
     "data": {
      "text/plain": [
       "tuple"
      ]
     },
     "execution_count": 38,
     "metadata": {},
     "output_type": "execute_result"
    }
   ],
   "source": [
    "type(x)"
   ]
  },
  {
   "cell_type": "code",
   "execution_count": 39,
   "id": "8468a9f6",
   "metadata": {},
   "outputs": [],
   "source": [
    "a,b,c=x #unpacking of the tuple"
   ]
  },
  {
   "cell_type": "code",
   "execution_count": 40,
   "id": "f08239a5",
   "metadata": {},
   "outputs": [
    {
     "data": {
      "text/plain": [
       "10"
      ]
     },
     "execution_count": 40,
     "metadata": {},
     "output_type": "execute_result"
    }
   ],
   "source": [
    "a"
   ]
  },
  {
   "cell_type": "code",
   "execution_count": 41,
   "id": "53585c60",
   "metadata": {},
   "outputs": [
    {
     "data": {
      "text/plain": [
       "20"
      ]
     },
     "execution_count": 41,
     "metadata": {},
     "output_type": "execute_result"
    }
   ],
   "source": [
    "b"
   ]
  },
  {
   "cell_type": "code",
   "execution_count": 42,
   "id": "22b5bb3c",
   "metadata": {},
   "outputs": [
    {
     "data": {
      "text/plain": [
       "30"
      ]
     },
     "execution_count": 42,
     "metadata": {},
     "output_type": "execute_result"
    }
   ],
   "source": [
    "c"
   ]
  },
  {
   "cell_type": "code",
   "execution_count": 43,
   "id": "95ac5a04",
   "metadata": {},
   "outputs": [],
   "source": [
    "#comparision operators/ relational operators\n",
    "\n",
    "#==,!=,<,>,<=,>=\n",
    "# compare 2 operands and return a boolean"
   ]
  },
  {
   "cell_type": "code",
   "execution_count": 44,
   "id": "f0a32f93",
   "metadata": {},
   "outputs": [
    {
     "data": {
      "text/plain": [
       "True"
      ]
     },
     "execution_count": 44,
     "metadata": {},
     "output_type": "execute_result"
    }
   ],
   "source": [
    "100>90 "
   ]
  },
  {
   "cell_type": "code",
   "execution_count": 45,
   "id": "b66f4c37",
   "metadata": {},
   "outputs": [
    {
     "data": {
      "text/plain": [
       "False"
      ]
     },
     "execution_count": 45,
     "metadata": {},
     "output_type": "execute_result"
    }
   ],
   "source": [
    "1000>2000"
   ]
  },
  {
   "cell_type": "code",
   "execution_count": 47,
   "id": "043a4ca1",
   "metadata": {},
   "outputs": [
    {
     "data": {
      "text/plain": [
       "True"
      ]
     },
     "execution_count": 47,
     "metadata": {},
     "output_type": "execute_result"
    }
   ],
   "source": [
    "10==10"
   ]
  },
  {
   "cell_type": "code",
   "execution_count": 48,
   "id": "671d9a70",
   "metadata": {},
   "outputs": [
    {
     "data": {
      "text/plain": [
       "True"
      ]
     },
     "execution_count": 48,
     "metadata": {},
     "output_type": "execute_result"
    }
   ],
   "source": [
    "\"python\">\"Python\" #for strings it compare ascii value"
   ]
  },
  {
   "cell_type": "code",
   "execution_count": 49,
   "id": "6bc759ac",
   "metadata": {},
   "outputs": [
    {
     "data": {
      "text/plain": [
       "False"
      ]
     },
     "execution_count": 49,
     "metadata": {},
     "output_type": "execute_result"
    }
   ],
   "source": [
    "\"python\"<\"Python\" #a-z has more ascii value then A-Z"
   ]
  },
  {
   "cell_type": "code",
   "execution_count": 50,
   "id": "27ea46b3",
   "metadata": {},
   "outputs": [
    {
     "data": {
      "text/plain": [
       "True"
      ]
     },
     "execution_count": 50,
     "metadata": {},
     "output_type": "execute_result"
    }
   ],
   "source": [
    "\"python1\">\"python\" #first it will check for asciii value,if it is unable to decide it will check for length "
   ]
  },
  {
   "cell_type": "code",
   "execution_count": 51,
   "id": "2392a2df",
   "metadata": {},
   "outputs": [],
   "source": [
    "# logival operators\n",
    "# and ,or ,not\n",
    " #operates on true and false\n",
    "    "
   ]
  },
  {
   "cell_type": "code",
   "execution_count": 52,
   "id": "97249563",
   "metadata": {},
   "outputs": [],
   "source": [
    "# AND\n",
    "#t n t = t\n",
    "#t n f = f\n",
    "#f n t = f\n",
    "#f n f = f"
   ]
  },
  {
   "cell_type": "code",
   "execution_count": 53,
   "id": "0def321b",
   "metadata": {},
   "outputs": [
    {
     "data": {
      "text/plain": [
       "True"
      ]
     },
     "execution_count": 53,
     "metadata": {},
     "output_type": "execute_result"
    }
   ],
   "source": [
    "True and True"
   ]
  },
  {
   "cell_type": "code",
   "execution_count": 54,
   "id": "17cf143e",
   "metadata": {},
   "outputs": [
    {
     "data": {
      "text/plain": [
       "False"
      ]
     },
     "execution_count": 54,
     "metadata": {},
     "output_type": "execute_result"
    }
   ],
   "source": [
    "True and False"
   ]
  },
  {
   "cell_type": "code",
   "execution_count": 55,
   "id": "03e59d49",
   "metadata": {},
   "outputs": [],
   "source": [
    "#OR\n",
    "#t n t = t\n",
    "#t n f = t\n",
    "#f n t = t\n",
    "#f n f = f"
   ]
  },
  {
   "cell_type": "code",
   "execution_count": 56,
   "id": "f2bdecc7",
   "metadata": {},
   "outputs": [
    {
     "data": {
      "text/plain": [
       "False"
      ]
     },
     "execution_count": 56,
     "metadata": {},
     "output_type": "execute_result"
    }
   ],
   "source": [
    "False or False"
   ]
  },
  {
   "cell_type": "code",
   "execution_count": 57,
   "id": "8d20a31e",
   "metadata": {},
   "outputs": [
    {
     "data": {
      "text/plain": [
       "True"
      ]
     },
     "execution_count": 57,
     "metadata": {},
     "output_type": "execute_result"
    }
   ],
   "source": [
    "True or False"
   ]
  },
  {
   "cell_type": "code",
   "execution_count": 58,
   "id": "53c44e1b",
   "metadata": {},
   "outputs": [],
   "source": [
    "name=\"john\"\n",
    "age=30"
   ]
  },
  {
   "cell_type": "code",
   "execution_count": 59,
   "id": "9ebadc24",
   "metadata": {},
   "outputs": [
    {
     "data": {
      "text/plain": [
       "True"
      ]
     },
     "execution_count": 59,
     "metadata": {},
     "output_type": "execute_result"
    }
   ],
   "source": [
    "name==\"john\" and age==30"
   ]
  },
  {
   "cell_type": "code",
   "execution_count": 60,
   "id": "25cf3330",
   "metadata": {},
   "outputs": [
    {
     "data": {
      "text/plain": [
       "True"
      ]
     },
     "execution_count": 60,
     "metadata": {},
     "output_type": "execute_result"
    }
   ],
   "source": [
    "name==\"john\" or age==30"
   ]
  },
  {
   "cell_type": "code",
   "execution_count": 61,
   "id": "c5f95ec5",
   "metadata": {},
   "outputs": [
    {
     "data": {
      "text/plain": [
       "False"
      ]
     },
     "execution_count": 61,
     "metadata": {},
     "output_type": "execute_result"
    }
   ],
   "source": [
    "name==\"john\" and age==35"
   ]
  },
  {
   "cell_type": "code",
   "execution_count": 62,
   "id": "2bb91f31",
   "metadata": {},
   "outputs": [
    {
     "data": {
      "text/plain": [
       "True"
      ]
     },
     "execution_count": 62,
     "metadata": {},
     "output_type": "execute_result"
    }
   ],
   "source": [
    "name==\"john\" or age==35"
   ]
  },
  {
   "cell_type": "code",
   "execution_count": 63,
   "id": "b7992c58",
   "metadata": {},
   "outputs": [],
   "source": [
    "#not\n",
    "#not true=>false\n",
    "#not false=> true"
   ]
  },
  {
   "cell_type": "code",
   "execution_count": 64,
   "id": "9dc01d76",
   "metadata": {},
   "outputs": [
    {
     "data": {
      "text/plain": [
       "20"
      ]
     },
     "execution_count": 64,
     "metadata": {},
     "output_type": "execute_result"
    }
   ],
   "source": [
    "10 and 20  #in case of and, if the first operand is true,output is second operand. if the first operand is false ,output is first operand"
   ]
  },
  {
   "cell_type": "code",
   "execution_count": 65,
   "id": "53b129cb",
   "metadata": {},
   "outputs": [
    {
     "data": {
      "text/plain": [
       "10"
      ]
     },
     "execution_count": 65,
     "metadata": {},
     "output_type": "execute_result"
    }
   ],
   "source": [
    "20 and 10"
   ]
  },
  {
   "cell_type": "code",
   "execution_count": 67,
   "id": "13076a78",
   "metadata": {},
   "outputs": [
    {
     "data": {
      "text/plain": [
       "10"
      ]
     },
     "execution_count": 67,
     "metadata": {},
     "output_type": "execute_result"
    }
   ],
   "source": [
    "10 or 20"
   ]
  },
  {
   "cell_type": "code",
   "execution_count": 68,
   "id": "8024a0b5",
   "metadata": {},
   "outputs": [
    {
     "data": {
      "text/plain": [
       "True"
      ]
     },
     "execution_count": 68,
     "metadata": {},
     "output_type": "execute_result"
    }
   ],
   "source": [
    "bool(10)"
   ]
  },
  {
   "cell_type": "code",
   "execution_count": 70,
   "id": "ab90d917",
   "metadata": {},
   "outputs": [
    {
     "data": {
      "text/plain": [
       "True"
      ]
     },
     "execution_count": 70,
     "metadata": {},
     "output_type": "execute_result"
    }
   ],
   "source": [
    "bool(20)"
   ]
  },
  {
   "cell_type": "code",
   "execution_count": 71,
   "id": "d887a72a",
   "metadata": {},
   "outputs": [
    {
     "data": {
      "text/plain": [
       "False"
      ]
     },
     "execution_count": 71,
     "metadata": {},
     "output_type": "execute_result"
    }
   ],
   "source": [
    "bool(0)"
   ]
  },
  {
   "cell_type": "code",
   "execution_count": 72,
   "id": "c7f90ba8",
   "metadata": {},
   "outputs": [
    {
     "data": {
      "text/plain": [
       "True"
      ]
     },
     "execution_count": 72,
     "metadata": {},
     "output_type": "execute_result"
    }
   ],
   "source": [
    "bool(100)"
   ]
  },
  {
   "cell_type": "code",
   "execution_count": 73,
   "id": "cc76046f",
   "metadata": {},
   "outputs": [
    {
     "data": {
      "text/plain": [
       "0"
      ]
     },
     "execution_count": 73,
     "metadata": {},
     "output_type": "execute_result"
    }
   ],
   "source": [
    "0 and 100"
   ]
  },
  {
   "cell_type": "markdown",
   "id": "a834c109",
   "metadata": {},
   "source": [
    "# note: 0,None,'',0.0,[],(),{},set()=>false"
   ]
  },
  {
   "cell_type": "code",
   "execution_count": 74,
   "id": "7ba300ca",
   "metadata": {},
   "outputs": [
    {
     "data": {
      "text/plain": [
       "0"
      ]
     },
     "execution_count": 74,
     "metadata": {},
     "output_type": "execute_result"
    }
   ],
   "source": [
    "0 and ''"
   ]
  },
  {
   "cell_type": "markdown",
   "id": "7c4b5b5a",
   "metadata": {},
   "source": [
    "# Assignment :int,float,complex and boolean"
   ]
  },
  {
   "cell_type": "code",
   "execution_count": 1,
   "id": "080717a0",
   "metadata": {},
   "outputs": [
    {
     "data": {
      "text/plain": [
       "10"
      ]
     },
     "execution_count": 1,
     "metadata": {},
     "output_type": "execute_result"
    }
   ],
   "source": [
    "# OR\n",
    "10 or 20  #in case of OR, if the first operand is true,output is first operand. if the first operand is false ,output is second operand"
   ]
  },
  {
   "cell_type": "code",
   "execution_count": 2,
   "id": "4ff6f079",
   "metadata": {},
   "outputs": [
    {
     "data": {
      "text/plain": [
       "10"
      ]
     },
     "execution_count": 2,
     "metadata": {},
     "output_type": "execute_result"
    }
   ],
   "source": [
    "10 or 20"
   ]
  },
  {
   "cell_type": "code",
   "execution_count": 3,
   "id": "d6d67885",
   "metadata": {},
   "outputs": [
    {
     "data": {
      "text/plain": [
       "'hello'"
      ]
     },
     "execution_count": 3,
     "metadata": {},
     "output_type": "execute_result"
    }
   ],
   "source": [
    "\"\" or \"hello\""
   ]
  },
  {
   "cell_type": "code",
   "execution_count": 5,
   "id": "a3263c3e",
   "metadata": {},
   "outputs": [
    {
     "data": {
      "text/plain": [
       "'bye'"
      ]
     },
     "execution_count": 5,
     "metadata": {},
     "output_type": "execute_result"
    }
   ],
   "source": [
    "0 or\"bye\"\n"
   ]
  },
  {
   "cell_type": "code",
   "execution_count": 6,
   "id": "5b531386",
   "metadata": {},
   "outputs": [
    {
     "data": {
      "text/plain": [
       "'python'"
      ]
     },
     "execution_count": 6,
     "metadata": {},
     "output_type": "execute_result"
    }
   ],
   "source": [
    "\"python\" or x # x is not defined but the python will check the first operator and give the output."
   ]
  },
  {
   "cell_type": "code",
   "execution_count": 8,
   "id": "a696a51a",
   "metadata": {},
   "outputs": [
    {
     "data": {
      "text/plain": [
       "True"
      ]
     },
     "execution_count": 8,
     "metadata": {},
     "output_type": "execute_result"
    }
   ],
   "source": [
    "bool(\"python\")"
   ]
  },
  {
   "cell_type": "code",
   "execution_count": 9,
   "id": "3846d026",
   "metadata": {},
   "outputs": [
    {
     "ename": "NameError",
     "evalue": "name 'x' is not defined",
     "output_type": "error",
     "traceback": [
      "\u001b[1;31m---------------------------------------------------------------------------\u001b[0m",
      "\u001b[1;31mNameError\u001b[0m                                 Traceback (most recent call last)",
      "Cell \u001b[1;32mIn[9], line 1\u001b[0m\n\u001b[1;32m----> 1\u001b[0m x\n",
      "\u001b[1;31mNameError\u001b[0m: name 'x' is not defined"
     ]
    }
   ],
   "source": [
    "x"
   ]
  },
  {
   "cell_type": "code",
   "execution_count": 10,
   "id": "0b2a477a",
   "metadata": {},
   "outputs": [
    {
     "data": {
      "text/plain": [
       "0"
      ]
     },
     "execution_count": 10,
     "metadata": {},
     "output_type": "execute_result"
    }
   ],
   "source": [
    "0 and x"
   ]
  },
  {
   "cell_type": "code",
   "execution_count": 11,
   "id": "2e24d66f",
   "metadata": {},
   "outputs": [
    {
     "ename": "NameError",
     "evalue": "name 'x' is not defined",
     "output_type": "error",
     "traceback": [
      "\u001b[1;31m---------------------------------------------------------------------------\u001b[0m",
      "\u001b[1;31mNameError\u001b[0m                                 Traceback (most recent call last)",
      "Cell \u001b[1;32mIn[11], line 1\u001b[0m\n\u001b[1;32m----> 1\u001b[0m \u001b[38;5;241m0\u001b[39m \u001b[38;5;129;01mor\u001b[39;00m x\n",
      "\u001b[1;31mNameError\u001b[0m: name 'x' is not defined"
     ]
    }
   ],
   "source": [
    "0 or x # whenever the x is executed it will give the error."
   ]
  },
  {
   "cell_type": "code",
   "execution_count": 12,
   "id": "9f2e3eb3",
   "metadata": {},
   "outputs": [
    {
     "data": {
      "text/plain": [
       "True"
      ]
     },
     "execution_count": 12,
     "metadata": {},
     "output_type": "execute_result"
    }
   ],
   "source": [
    "not \"\""
   ]
  },
  {
   "cell_type": "code",
   "execution_count": 13,
   "id": "02616fd7",
   "metadata": {},
   "outputs": [
    {
     "data": {
      "text/plain": [
       "True"
      ]
     },
     "execution_count": 13,
     "metadata": {},
     "output_type": "execute_result"
    }
   ],
   "source": [
    "not 0"
   ]
  },
  {
   "cell_type": "code",
   "execution_count": 14,
   "id": "5902c306",
   "metadata": {},
   "outputs": [
    {
     "data": {
      "text/plain": [
       "False"
      ]
     },
     "execution_count": 14,
     "metadata": {},
     "output_type": "execute_result"
    }
   ],
   "source": [
    "not 1"
   ]
  },
  {
   "cell_type": "code",
   "execution_count": 16,
   "id": "2e661084",
   "metadata": {},
   "outputs": [
    {
     "data": {
      "text/plain": [
       "10"
      ]
     },
     "execution_count": 16,
     "metadata": {},
     "output_type": "execute_result"
    }
   ],
   "source": [
    "# Bitwise operators\n",
    "# operates on bits (0 and 1)\n",
    "b1 = 0b1010\n",
    "b1 # o/p will be in int \n"
   ]
  },
  {
   "cell_type": "code",
   "execution_count": 17,
   "id": "fa06b0d9",
   "metadata": {},
   "outputs": [
    {
     "data": {
      "text/plain": [
       "13"
      ]
     },
     "execution_count": 17,
     "metadata": {},
     "output_type": "execute_result"
    }
   ],
   "source": [
    "b2= 0b1101\n",
    "b2"
   ]
  },
  {
   "cell_type": "code",
   "execution_count": 18,
   "id": "676d0684",
   "metadata": {},
   "outputs": [
    {
     "data": {
      "text/plain": [
       "int"
      ]
     },
     "execution_count": 18,
     "metadata": {},
     "output_type": "execute_result"
    }
   ],
   "source": [
    "type(b1) #binary is not a data type but it is a representation of int "
   ]
  },
  {
   "cell_type": "code",
   "execution_count": 19,
   "id": "58e8fc18",
   "metadata": {},
   "outputs": [],
   "source": [
    "# bitwise operators can be used on binary or int directly\n",
    "# When bitwise operators is used with int, python internally converts int into binary and operates on the bits,"
   ]
  },
  {
   "cell_type": "code",
   "execution_count": 20,
   "id": "d2dd7cfc",
   "metadata": {},
   "outputs": [],
   "source": [
    "# and &,or \\,xor^,not,>>right shift and << left shift"
   ]
  },
  {
   "cell_type": "code",
   "execution_count": 21,
   "id": "51bb3ceb",
   "metadata": {},
   "outputs": [],
   "source": [
    "# &\n",
    "# 1 & 1 = 1\n",
    "# 1 & 0 = 0\n",
    "# 0 & 1 = 0\n",
    "# 0 & 0 = 0\n"
   ]
  },
  {
   "cell_type": "code",
   "execution_count": 22,
   "id": "93b7d6b8",
   "metadata": {},
   "outputs": [
    {
     "data": {
      "text/plain": [
       "10"
      ]
     },
     "execution_count": 22,
     "metadata": {},
     "output_type": "execute_result"
    }
   ],
   "source": [
    "b1"
   ]
  },
  {
   "cell_type": "code",
   "execution_count": 23,
   "id": "bdedc932",
   "metadata": {},
   "outputs": [
    {
     "data": {
      "text/plain": [
       "13"
      ]
     },
     "execution_count": 23,
     "metadata": {},
     "output_type": "execute_result"
    }
   ],
   "source": [
    "b2"
   ]
  },
  {
   "cell_type": "code",
   "execution_count": 24,
   "id": "6dbff5b5",
   "metadata": {},
   "outputs": [
    {
     "data": {
      "text/plain": [
       "8"
      ]
     },
     "execution_count": 24,
     "metadata": {},
     "output_type": "execute_result"
    }
   ],
   "source": [
    "b1 & b2"
   ]
  },
  {
   "cell_type": "code",
   "execution_count": 25,
   "id": "0c8cc26a",
   "metadata": {},
   "outputs": [
    {
     "data": {
      "text/plain": [
       "12"
      ]
     },
     "execution_count": 25,
     "metadata": {},
     "output_type": "execute_result"
    }
   ],
   "source": [
    "13 & 12"
   ]
  },
  {
   "cell_type": "code",
   "execution_count": 26,
   "id": "3c5b87fd",
   "metadata": {},
   "outputs": [
    {
     "data": {
      "text/plain": [
       "8"
      ]
     },
     "execution_count": 26,
     "metadata": {},
     "output_type": "execute_result"
    }
   ],
   "source": [
    "10 & 13"
   ]
  },
  {
   "cell_type": "code",
   "execution_count": 27,
   "id": "dddb5c27",
   "metadata": {},
   "outputs": [],
   "source": [
    "# |\n",
    "# 1 | 1 = 1\n",
    "# 1 | 0 = 1\n",
    "# 0 | 1 = 1\n",
    "# 0 | 0 = 0"
   ]
  },
  {
   "cell_type": "code",
   "execution_count": 28,
   "id": "f8ede7f8",
   "metadata": {},
   "outputs": [
    {
     "data": {
      "text/plain": [
       "15"
      ]
     },
     "execution_count": 28,
     "metadata": {},
     "output_type": "execute_result"
    }
   ],
   "source": [
    "b1 | b2"
   ]
  },
  {
   "cell_type": "code",
   "execution_count": 29,
   "id": "7a79bec8",
   "metadata": {},
   "outputs": [
    {
     "data": {
      "text/plain": [
       "15"
      ]
     },
     "execution_count": 29,
     "metadata": {},
     "output_type": "execute_result"
    }
   ],
   "source": [
    "10 | 13"
   ]
  },
  {
   "cell_type": "code",
   "execution_count": 30,
   "id": "c23eabc5",
   "metadata": {},
   "outputs": [
    {
     "data": {
      "text/plain": [
       "13"
      ]
     },
     "execution_count": 30,
     "metadata": {},
     "output_type": "execute_result"
    }
   ],
   "source": [
    "13 | 12"
   ]
  },
  {
   "cell_type": "code",
   "execution_count": 31,
   "id": "ea2d9069",
   "metadata": {},
   "outputs": [],
   "source": [
    "# ^\n",
    "# 1 ^ 1 = 0\n",
    "# 1 ^ 0 = 1\n",
    "# 0 ^ 1 = 1\n",
    "# 0 ^ 0 = 0"
   ]
  },
  {
   "cell_type": "code",
   "execution_count": 32,
   "id": "5099e5bf",
   "metadata": {},
   "outputs": [
    {
     "data": {
      "text/plain": [
       "7"
      ]
     },
     "execution_count": 32,
     "metadata": {},
     "output_type": "execute_result"
    }
   ],
   "source": [
    "b1 ^ b2"
   ]
  },
  {
   "cell_type": "code",
   "execution_count": 33,
   "id": "bf1d0d28",
   "metadata": {},
   "outputs": [
    {
     "data": {
      "text/plain": [
       "1"
      ]
     },
     "execution_count": 33,
     "metadata": {},
     "output_type": "execute_result"
    }
   ],
   "source": [
    "13 ^ 12"
   ]
  },
  {
   "cell_type": "markdown",
   "id": "8072e924",
   "metadata": {},
   "source": [
    "# ~\n",
    "# ~x = -(x+1)"
   ]
  },
  {
   "cell_type": "code",
   "execution_count": 34,
   "id": "34eddec6",
   "metadata": {},
   "outputs": [
    {
     "data": {
      "text/plain": [
       "-11"
      ]
     },
     "execution_count": 34,
     "metadata": {},
     "output_type": "execute_result"
    }
   ],
   "source": [
    "~b1"
   ]
  },
  {
   "cell_type": "code",
   "execution_count": 35,
   "id": "3a7e7c5f",
   "metadata": {},
   "outputs": [
    {
     "data": {
      "text/plain": [
       "-14"
      ]
     },
     "execution_count": 35,
     "metadata": {},
     "output_type": "execute_result"
    }
   ],
   "source": [
    "~ b2"
   ]
  },
  {
   "cell_type": "code",
   "execution_count": 36,
   "id": "69a2d427",
   "metadata": {},
   "outputs": [
    {
     "data": {
      "text/plain": [
       "-14"
      ]
     },
     "execution_count": 36,
     "metadata": {},
     "output_type": "execute_result"
    }
   ],
   "source": [
    "~ 13"
   ]
  },
  {
   "cell_type": "code",
   "execution_count": 37,
   "id": "0f38cf3f",
   "metadata": {},
   "outputs": [
    {
     "data": {
      "text/plain": [
       "-17"
      ]
     },
     "execution_count": 37,
     "metadata": {},
     "output_type": "execute_result"
    }
   ],
   "source": [
    "~ 16"
   ]
  },
  {
   "cell_type": "code",
   "execution_count": 38,
   "id": "83d69007",
   "metadata": {},
   "outputs": [],
   "source": [
    "#left shift operator\n",
    "# a<<b\n",
    "# shifts the bits of \"a\" on the left b times and adds b zeros on the right side.\n"
   ]
  },
  {
   "cell_type": "code",
   "execution_count": 40,
   "id": "ab7c944a",
   "metadata": {},
   "outputs": [
    {
     "data": {
      "text/plain": [
       "10"
      ]
     },
     "execution_count": 40,
     "metadata": {},
     "output_type": "execute_result"
    }
   ],
   "source": [
    "5 << 1"
   ]
  },
  {
   "cell_type": "code",
   "execution_count": 41,
   "id": "07f11bec",
   "metadata": {},
   "outputs": [
    {
     "data": {
      "text/plain": [
       "20"
      ]
     },
     "execution_count": 41,
     "metadata": {},
     "output_type": "execute_result"
    }
   ],
   "source": [
    "5 << 2"
   ]
  },
  {
   "cell_type": "code",
   "execution_count": 42,
   "id": "7f313803",
   "metadata": {},
   "outputs": [
    {
     "data": {
      "text/plain": [
       "1536"
      ]
     },
     "execution_count": 42,
     "metadata": {},
     "output_type": "execute_result"
    }
   ],
   "source": [
    "6 << 8 "
   ]
  },
  {
   "cell_type": "code",
   "execution_count": 44,
   "id": "5a49d12b",
   "metadata": {},
   "outputs": [],
   "source": [
    "# >> Right shift operator\n",
    "# a>>b\n",
    "# shifts the bits of \"a\" on the right side b times.\n"
   ]
  },
  {
   "cell_type": "code",
   "execution_count": 45,
   "id": "45f555b1",
   "metadata": {},
   "outputs": [
    {
     "data": {
      "text/plain": [
       "2"
      ]
     },
     "execution_count": 45,
     "metadata": {},
     "output_type": "execute_result"
    }
   ],
   "source": [
    "5>>1"
   ]
  },
  {
   "cell_type": "code",
   "execution_count": 46,
   "id": "9ca7a647",
   "metadata": {},
   "outputs": [
    {
     "data": {
      "text/plain": [
       "0"
      ]
     },
     "execution_count": 46,
     "metadata": {},
     "output_type": "execute_result"
    }
   ],
   "source": [
    "10 >> 9"
   ]
  },
  {
   "cell_type": "code",
   "execution_count": 48,
   "id": "81250eed",
   "metadata": {},
   "outputs": [
    {
     "ename": "ValueError",
     "evalue": "negative shift count",
     "output_type": "error",
     "traceback": [
      "\u001b[1;31m---------------------------------------------------------------------------\u001b[0m",
      "\u001b[1;31mValueError\u001b[0m                                Traceback (most recent call last)",
      "Cell \u001b[1;32mIn[48], line 1\u001b[0m\n\u001b[1;32m----> 1\u001b[0m \u001b[38;5;241m5\u001b[39m \u001b[38;5;241m>>\u001b[39m\u001b[38;5;241m-\u001b[39m\u001b[38;5;241m1\u001b[39m\n",
      "\u001b[1;31mValueError\u001b[0m: negative shift count"
     ]
    }
   ],
   "source": [
    "5 >>-1 #b cannot be negative\n"
   ]
  },
  {
   "cell_type": "code",
   "execution_count": 49,
   "id": "89acdb5f",
   "metadata": {},
   "outputs": [
    {
     "data": {
      "text/plain": [
       "-3"
      ]
     },
     "execution_count": 49,
     "metadata": {},
     "output_type": "execute_result"
    }
   ],
   "source": [
    "-5 >>1"
   ]
  },
  {
   "cell_type": "code",
   "execution_count": 50,
   "id": "80240eba",
   "metadata": {},
   "outputs": [],
   "source": [
    "# Membership operator\n",
    "# used to check the membership of an element / item in a collection/ iterable objects (list, tuple,str,...)\n"
   ]
  },
  {
   "cell_type": "code",
   "execution_count": 51,
   "id": "345bb663",
   "metadata": {},
   "outputs": [],
   "source": [
    "# in operator\n",
    "# return true if the item is present on th iterable objects, else return false.\n",
    "\n"
   ]
  },
  {
   "cell_type": "code",
   "execution_count": 52,
   "id": "fa84a3e4",
   "metadata": {},
   "outputs": [],
   "source": [
    "l1=[1,2,4,6]"
   ]
  },
  {
   "cell_type": "code",
   "execution_count": 53,
   "id": "8d7350c7",
   "metadata": {},
   "outputs": [
    {
     "data": {
      "text/plain": [
       "True"
      ]
     },
     "execution_count": 53,
     "metadata": {},
     "output_type": "execute_result"
    }
   ],
   "source": [
    "2 in l1"
   ]
  },
  {
   "cell_type": "code",
   "execution_count": 54,
   "id": "7737218e",
   "metadata": {},
   "outputs": [
    {
     "data": {
      "text/plain": [
       "False"
      ]
     },
     "execution_count": 54,
     "metadata": {},
     "output_type": "execute_result"
    }
   ],
   "source": [
    "10 in l1"
   ]
  },
  {
   "cell_type": "code",
   "execution_count": 55,
   "id": "4824d403",
   "metadata": {},
   "outputs": [
    {
     "data": {
      "text/plain": [
       "True"
      ]
     },
     "execution_count": 55,
     "metadata": {},
     "output_type": "execute_result"
    }
   ],
   "source": [
    "s1 =\" Hello World\"\n",
    "\"o\" in s1"
   ]
  },
  {
   "cell_type": "code",
   "execution_count": 57,
   "id": "62d4f8ef",
   "metadata": {},
   "outputs": [
    {
     "data": {
      "text/plain": [
       "False"
      ]
     },
     "execution_count": 57,
     "metadata": {},
     "output_type": "execute_result"
    }
   ],
   "source": [
    "\"h\" in s1 #case sensitive"
   ]
  },
  {
   "cell_type": "code",
   "execution_count": 58,
   "id": "05ccd4d7",
   "metadata": {},
   "outputs": [
    {
     "data": {
      "text/plain": [
       "True"
      ]
     },
     "execution_count": 58,
     "metadata": {},
     "output_type": "execute_result"
    }
   ],
   "source": [
    "\"Hello\" in s1"
   ]
  },
  {
   "cell_type": "code",
   "execution_count": 59,
   "id": "0567bc97",
   "metadata": {},
   "outputs": [
    {
     "data": {
      "text/plain": [
       "True"
      ]
     },
     "execution_count": 59,
     "metadata": {},
     "output_type": "execute_result"
    }
   ],
   "source": [
    "\"rl\" in s1"
   ]
  },
  {
   "cell_type": "code",
   "execution_count": 60,
   "id": "17d75a75",
   "metadata": {},
   "outputs": [
    {
     "data": {
      "text/plain": [
       "True"
      ]
     },
     "execution_count": 60,
     "metadata": {},
     "output_type": "execute_result"
    }
   ],
   "source": [
    "\" \" in s1"
   ]
  },
  {
   "cell_type": "code",
   "execution_count": 62,
   "id": "7b287a85",
   "metadata": {},
   "outputs": [
    {
     "data": {
      "text/plain": [
       "True"
      ]
     },
     "execution_count": 62,
     "metadata": {},
     "output_type": "execute_result"
    }
   ],
   "source": [
    "\"l\" in s1 and \"e\" in s1 # to check multiple vale"
   ]
  },
  {
   "cell_type": "code",
   "execution_count": 63,
   "id": "a3af5b55",
   "metadata": {},
   "outputs": [
    {
     "data": {
      "text/plain": [
       "True"
      ]
     },
     "execution_count": 63,
     "metadata": {},
     "output_type": "execute_result"
    }
   ],
   "source": [
    "\"l\" and \"e\" in s1 # incorrect format"
   ]
  },
  {
   "cell_type": "code",
   "execution_count": 64,
   "id": "1bd28366",
   "metadata": {},
   "outputs": [
    {
     "data": {
      "text/plain": [
       "False"
      ]
     },
     "execution_count": 64,
     "metadata": {},
     "output_type": "execute_result"
    }
   ],
   "source": [
    "\"e\" and \"z\" in s1"
   ]
  },
  {
   "cell_type": "code",
   "execution_count": 65,
   "id": "daf34e83",
   "metadata": {},
   "outputs": [],
   "source": [
    "# not in\n",
    "# opposite of in\n",
    "# returns true if the item is not present in the iterable objects, else return false"
   ]
  },
  {
   "cell_type": "code",
   "execution_count": 66,
   "id": "a17440af",
   "metadata": {},
   "outputs": [
    {
     "data": {
      "text/plain": [
       "False"
      ]
     },
     "execution_count": 66,
     "metadata": {},
     "output_type": "execute_result"
    }
   ],
   "source": [
    "\"l\" not in s1 and \"e\" not in s1"
   ]
  },
  {
   "cell_type": "code",
   "execution_count": 67,
   "id": "9da31bef",
   "metadata": {},
   "outputs": [
    {
     "data": {
      "text/plain": [
       "True"
      ]
     },
     "execution_count": 67,
     "metadata": {},
     "output_type": "execute_result"
    }
   ],
   "source": [
    "0 not in l1"
   ]
  },
  {
   "cell_type": "code",
   "execution_count": 68,
   "id": "d7f5a9cc",
   "metadata": {},
   "outputs": [
    {
     "data": {
      "text/plain": [
       "True"
      ]
     },
     "execution_count": 68,
     "metadata": {},
     "output_type": "execute_result"
    }
   ],
   "source": [
    "-1 not in l1"
   ]
  },
  {
   "cell_type": "code",
   "execution_count": 69,
   "id": "937decf7",
   "metadata": {},
   "outputs": [
    {
     "data": {
      "text/plain": [
       "True"
      ]
     },
     "execution_count": 69,
     "metadata": {},
     "output_type": "execute_result"
    }
   ],
   "source": [
    "\"e\" not in l1"
   ]
  },
  {
   "cell_type": "code",
   "execution_count": 70,
   "id": "cabe6f08",
   "metadata": {},
   "outputs": [
    {
     "data": {
      "text/plain": [
       "{0, 1, 'hi'}"
      ]
     },
     "execution_count": 70,
     "metadata": {},
     "output_type": "execute_result"
    }
   ],
   "source": [
    "set1={1,0,\"hi\"}\n",
    "set1"
   ]
  },
  {
   "cell_type": "code",
   "execution_count": 72,
   "id": "d05e0df4",
   "metadata": {},
   "outputs": [
    {
     "data": {
      "text/plain": [
       "True"
      ]
     },
     "execution_count": 72,
     "metadata": {},
     "output_type": "execute_result"
    }
   ],
   "source": [
    "0 in set1"
   ]
  },
  {
   "cell_type": "code",
   "execution_count": 73,
   "id": "61690e17",
   "metadata": {},
   "outputs": [
    {
     "data": {
      "text/plain": [
       "True"
      ]
     },
     "execution_count": 73,
     "metadata": {},
     "output_type": "execute_result"
    }
   ],
   "source": [
    "True in set1"
   ]
  },
  {
   "cell_type": "code",
   "execution_count": 74,
   "id": "ec69e1c7",
   "metadata": {},
   "outputs": [
    {
     "data": {
      "text/plain": [
       "False"
      ]
     },
     "execution_count": 74,
     "metadata": {},
     "output_type": "execute_result"
    }
   ],
   "source": [
    "False not in set1"
   ]
  },
  {
   "cell_type": "code",
   "execution_count": 75,
   "id": "29196504",
   "metadata": {},
   "outputs": [],
   "source": [
    "d1 ={\"a\":1, \"b\":2, \"c\":9.9} "
   ]
  },
  {
   "cell_type": "code",
   "execution_count": 76,
   "id": "68799896",
   "metadata": {},
   "outputs": [
    {
     "data": {
      "text/plain": [
       "False"
      ]
     },
     "execution_count": 76,
     "metadata": {},
     "output_type": "execute_result"
    }
   ],
   "source": [
    "1 in d1 #in operator never check for values present in dictionary, we only check for key.."
   ]
  },
  {
   "cell_type": "code",
   "execution_count": 77,
   "id": "e5ec3636",
   "metadata": {},
   "outputs": [
    {
     "data": {
      "text/plain": [
       "False"
      ]
     },
     "execution_count": 77,
     "metadata": {},
     "output_type": "execute_result"
    }
   ],
   "source": [
    "9.9 in d1"
   ]
  },
  {
   "cell_type": "code",
   "execution_count": 79,
   "id": "fc1ff26a",
   "metadata": {},
   "outputs": [
    {
     "data": {
      "text/plain": [
       "True"
      ]
     },
     "execution_count": 79,
     "metadata": {},
     "output_type": "execute_result"
    }
   ],
   "source": [
    "\"a\" in d1"
   ]
  },
  {
   "cell_type": "code",
   "execution_count": 80,
   "id": "7bbcc680",
   "metadata": {},
   "outputs": [
    {
     "data": {
      "text/plain": [
       "False"
      ]
     },
     "execution_count": 80,
     "metadata": {},
     "output_type": "execute_result"
    }
   ],
   "source": [
    "l2=[1,2,[10,20]]\n",
    "10 in l2"
   ]
  },
  {
   "cell_type": "code",
   "execution_count": 81,
   "id": "f9e0da11",
   "metadata": {},
   "outputs": [
    {
     "data": {
      "text/plain": [
       "True"
      ]
     },
     "execution_count": 81,
     "metadata": {},
     "output_type": "execute_result"
    }
   ],
   "source": [
    "2 in l2"
   ]
  },
  {
   "cell_type": "code",
   "execution_count": 82,
   "id": "f403b0c9",
   "metadata": {},
   "outputs": [
    {
     "data": {
      "text/plain": [
       "True"
      ]
     },
     "execution_count": 82,
     "metadata": {},
     "output_type": "execute_result"
    }
   ],
   "source": [
    "20 in l2[-1]"
   ]
  },
  {
   "cell_type": "code",
   "execution_count": 83,
   "id": "fc128359",
   "metadata": {},
   "outputs": [
    {
     "data": {
      "text/plain": [
       "dict_values([1, 2, 9.9])"
      ]
     },
     "execution_count": 83,
     "metadata": {},
     "output_type": "execute_result"
    }
   ],
   "source": [
    "d1.values()"
   ]
  },
  {
   "cell_type": "code",
   "execution_count": 84,
   "id": "81fd8413",
   "metadata": {},
   "outputs": [
    {
     "data": {
      "text/plain": [
       "True"
      ]
     },
     "execution_count": 84,
     "metadata": {},
     "output_type": "execute_result"
    }
   ],
   "source": [
    "1 in d1.values() # we can use this to check the values"
   ]
  },
  {
   "cell_type": "code",
   "execution_count": 85,
   "id": "1a0b7fc4",
   "metadata": {},
   "outputs": [],
   "source": [
    " # Identity operator\n",
    "    # compares the memory address of the 2 operands\n",
    "    "
   ]
  },
  {
   "cell_type": "code",
   "execution_count": 86,
   "id": "0a5ae5f4",
   "metadata": {},
   "outputs": [],
   "source": [
    "a = 1000\n",
    "b = 1000"
   ]
  },
  {
   "cell_type": "code",
   "execution_count": 87,
   "id": "4f88d18b",
   "metadata": {},
   "outputs": [
    {
     "data": {
      "text/plain": [
       "False"
      ]
     },
     "execution_count": 87,
     "metadata": {},
     "output_type": "execute_result"
    }
   ],
   "source": [
    "id(a)==id(b)"
   ]
  },
  {
   "cell_type": "code",
   "execution_count": 88,
   "id": "f50ac28f",
   "metadata": {},
   "outputs": [],
   "source": [
    "x=10\n",
    "y=10"
   ]
  },
  {
   "cell_type": "code",
   "execution_count": 89,
   "id": "d77c7cb4",
   "metadata": {},
   "outputs": [
    {
     "data": {
      "text/plain": [
       "True"
      ]
     },
     "execution_count": 89,
     "metadata": {},
     "output_type": "execute_result"
    }
   ],
   "source": [
    "id(x)== id(y)"
   ]
  },
  {
   "cell_type": "code",
   "execution_count": 90,
   "id": "21642103",
   "metadata": {},
   "outputs": [],
   "source": [
    "# is operator return true if the memory address of the operands are same else it will return false\n"
   ]
  },
  {
   "cell_type": "code",
   "execution_count": 91,
   "id": "e9d07973",
   "metadata": {},
   "outputs": [
    {
     "data": {
      "text/plain": [
       "True"
      ]
     },
     "execution_count": 91,
     "metadata": {},
     "output_type": "execute_result"
    }
   ],
   "source": [
    "x is y"
   ]
  },
  {
   "cell_type": "code",
   "execution_count": 92,
   "id": "d6f4126c",
   "metadata": {},
   "outputs": [
    {
     "data": {
      "text/plain": [
       "False"
      ]
     },
     "execution_count": 92,
     "metadata": {},
     "output_type": "execute_result"
    }
   ],
   "source": [
    "a is b"
   ]
  },
  {
   "cell_type": "code",
   "execution_count": 93,
   "id": "2b70a7fe",
   "metadata": {},
   "outputs": [],
   "source": [
    "# is not operator return true if the memory address of the operands are different else it will return false\n"
   ]
  },
  {
   "cell_type": "code",
   "execution_count": 94,
   "id": "ec76d1b0",
   "metadata": {},
   "outputs": [
    {
     "data": {
      "text/plain": [
       "True"
      ]
     },
     "execution_count": 94,
     "metadata": {},
     "output_type": "execute_result"
    }
   ],
   "source": [
    "a is not b"
   ]
  },
  {
   "cell_type": "code",
   "execution_count": 95,
   "id": "5e1e41fb",
   "metadata": {},
   "outputs": [
    {
     "data": {
      "text/plain": [
       "False"
      ]
     },
     "execution_count": 95,
     "metadata": {},
     "output_type": "execute_result"
    }
   ],
   "source": [
    "x is not y"
   ]
  },
  {
   "cell_type": "code",
   "execution_count": 96,
   "id": "02f02031",
   "metadata": {},
   "outputs": [
    {
     "data": {
      "text/plain": [
       "True"
      ]
     },
     "execution_count": 96,
     "metadata": {},
     "output_type": "execute_result"
    }
   ],
   "source": [
    "10 or 20+30\n",
    "bool(10)"
   ]
  },
  {
   "cell_type": "code",
   "execution_count": 98,
   "id": "b4ac6fd0",
   "metadata": {},
   "outputs": [
    {
     "data": {
      "text/plain": [
       "True"
      ]
     },
     "execution_count": 98,
     "metadata": {},
     "output_type": "execute_result"
    }
   ],
   "source": [
    "bool (50)"
   ]
  },
  {
   "cell_type": "code",
   "execution_count": 99,
   "id": "1526e828",
   "metadata": {},
   "outputs": [
    {
     "data": {
      "text/plain": [
       "10"
      ]
     },
     "execution_count": 99,
     "metadata": {},
     "output_type": "execute_result"
    }
   ],
   "source": [
    "10 or 50"
   ]
  },
  {
   "cell_type": "code",
   "execution_count": 100,
   "id": "28aee670",
   "metadata": {},
   "outputs": [
    {
     "data": {
      "text/plain": [
       "50"
      ]
     },
     "execution_count": 100,
     "metadata": {},
     "output_type": "execute_result"
    }
   ],
   "source": [
    "10 and 50"
   ]
  },
  {
   "cell_type": "code",
   "execution_count": 101,
   "id": "8a3bade7",
   "metadata": {},
   "outputs": [
    {
     "data": {
      "text/plain": [
       "30"
      ]
     },
     "execution_count": 101,
     "metadata": {},
     "output_type": "execute_result"
    }
   ],
   "source": [
    "10+2*10 # * comes first then + "
   ]
  },
  {
   "cell_type": "markdown",
   "id": "e15105dd",
   "metadata": {},
   "source": [
    "# precedence\n",
    "# if an expression has more than 1 operations, python  proirities the order of execution\n",
    "** ,\n",
    "-~,\n",
    "*,/,//,%,\n",
    "+,-,\n",
    "<<,>>,\n",
    "&,\n",
    "^,\n",
    "|,\n",
    "<,>,<=,>=,==,!=,\n",
    "=,%=,/=,//=,-=,+=,*=,**=,\n",
    "is, is not,\n",
    "in ,not in,\n",
    "not logical,\n",
    "or logical,,\n",
    "and logical,\n"
   ]
  },
  {
   "cell_type": "code",
   "execution_count": 102,
   "id": "ebf7706d",
   "metadata": {},
   "outputs": [
    {
     "data": {
      "text/plain": [
       "10.0"
      ]
     },
     "execution_count": 102,
     "metadata": {},
     "output_type": "execute_result"
    }
   ],
   "source": [
    "10 / 10 *10"
   ]
  },
  {
   "cell_type": "code",
   "execution_count": 103,
   "id": "56572f12",
   "metadata": {},
   "outputs": [
    {
     "data": {
      "text/plain": [
       "2"
      ]
     },
     "execution_count": 103,
     "metadata": {},
     "output_type": "execute_result"
    }
   ],
   "source": [
    "2**1**3 # right to left "
   ]
  },
  {
   "cell_type": "code",
   "execution_count": 104,
   "id": "748ea873",
   "metadata": {},
   "outputs": [],
   "source": [
    "# associativity table in manish sir notes\n"
   ]
  },
  {
   "cell_type": "markdown",
   "id": "8d907691",
   "metadata": {},
   "source": [
    "# if statement\n",
    " if condition:\n",
    "        statement1\n",
    "        statement2\n",
    "        \n",
    "        \n",
    "        statetmentn"
   ]
  },
  {
   "cell_type": "code",
   "execution_count": 105,
   "id": "4b939db3",
   "metadata": {},
   "outputs": [
    {
     "name": "stdout",
     "output_type": "stream",
     "text": [
      "hey\n"
     ]
    }
   ],
   "source": [
    "num =-10\n",
    "\n",
    "if num<10:\n",
    "    print(\"hey\")\n",
    "    "
   ]
  },
  {
   "cell_type": "code",
   "execution_count": 12,
   "id": "dcdc7179",
   "metadata": {},
   "outputs": [
    {
     "name": "stdout",
     "output_type": "stream",
     "text": [
      "negative\n",
      "end of code\n"
     ]
    }
   ],
   "source": [
    "num =-5\n",
    "if num < 0:\n",
    "    print(\"negative\")\n",
    "else:\n",
    "    print(\"positive\")\n",
    "print(\"end of code\")"
   ]
  },
  {
   "cell_type": "code",
   "execution_count": 10,
   "id": "c928092a",
   "metadata": {},
   "outputs": [
    {
     "name": "stdout",
     "output_type": "stream",
     "text": [
      "negative\n",
      "bye\n",
      "hey\n"
     ]
    }
   ],
   "source": [
    "num =-5\n",
    "if num < 0:\n",
    "    print(\"negative\")\n",
    "    print(\"bye\")\n",
    "print(\"hey\") # outside of if block because of identations\n"
   ]
  },
  {
   "cell_type": "code",
   "execution_count": 11,
   "id": "a484eff1",
   "metadata": {},
   "outputs": [
    {
     "name": "stdout",
     "output_type": "stream",
     "text": [
      "hey\n"
     ]
    }
   ],
   "source": [
    "num =9\n",
    "if num < 0:\n",
    "    print(\"negative\")\n",
    "    print(\"bye\")\n",
    "print(\"hey\") # outside of if block because of identations\n"
   ]
  },
  {
   "cell_type": "code",
   "execution_count": 14,
   "id": "1fbfa1c9",
   "metadata": {},
   "outputs": [
    {
     "name": "stdout",
     "output_type": "stream",
     "text": [
      "-5 is negative\n",
      "bye\n",
      "hey\n"
     ]
    }
   ],
   "source": [
    "num = -5\n",
    "if num < 0:\n",
    "    print( num, \"is negative\") #another format to mention the variablehelp(print)\n",
    "    print(\"bye\")\n",
    "print(\"hey\") # outside of if block because of identations\n"
   ]
  },
  {
   "cell_type": "code",
   "execution_count": 15,
   "id": "919305d6",
   "metadata": {},
   "outputs": [
    {
     "name": "stdout",
     "output_type": "stream",
     "text": [
      "Help on built-in function print in module builtins:\n",
      "\n",
      "print(*args, sep=' ', end='\\n', file=None, flush=False)\n",
      "    Prints the values to a stream, or to sys.stdout by default.\n",
      "    \n",
      "    sep\n",
      "      string inserted between values, default a space.\n",
      "    end\n",
      "      string appended after the last value, default a newline.\n",
      "    file\n",
      "      a file-like object (stream); defaults to the current sys.stdout.\n",
      "    flush\n",
      "      whether to forcibly flush the stream.\n",
      "\n"
     ]
    }
   ],
   "source": [
    "help(print)"
   ]
  },
  {
   "cell_type": "code",
   "execution_count": 18,
   "id": "e14c629f",
   "metadata": {},
   "outputs": [
    {
     "name": "stdout",
     "output_type": "stream",
     "text": [
      "10 20 30  are numbers\n"
     ]
    }
   ],
   "source": [
    "a=10\n",
    "b=20\n",
    "c=30\n",
    "print(a,b,c, \" are numbers\")"
   ]
  },
  {
   "cell_type": "code",
   "execution_count": 21,
   "id": "788855b0",
   "metadata": {},
   "outputs": [
    {
     "name": "stdout",
     "output_type": "stream",
     "text": [
      "10 20 30  are numbers\n"
     ]
    }
   ],
   "source": [
    "a=10\n",
    "b=20\n",
    "c=30\n",
    "print(a,b,c, \" are numbers\")"
   ]
  },
  {
   "cell_type": "code",
   "execution_count": 22,
   "id": "1893780c",
   "metadata": {},
   "outputs": [
    {
     "name": "stdout",
     "output_type": "stream",
     "text": [
      "10 20 30\n"
     ]
    }
   ],
   "source": [
    "print(a,b,c)"
   ]
  },
  {
   "cell_type": "code",
   "execution_count": 24,
   "id": "f993d0ff",
   "metadata": {},
   "outputs": [
    {
     "name": "stdout",
     "output_type": "stream",
     "text": [
      "10@20@30\n"
     ]
    }
   ],
   "source": [
    "print(a,b,c, sep=\"@\")"
   ]
  },
  {
   "cell_type": "code",
   "execution_count": 26,
   "id": "ba3bdb64",
   "metadata": {},
   "outputs": [
    {
     "name": "stdout",
     "output_type": "stream",
     "text": [
      "samiya\n",
      "mehnaz\n"
     ]
    }
   ],
   "source": [
    "print(\"samiya\") #\\n is appended after the last value duw to which mehnaz prints in new line\n",
    "print(\"mehnaz\")"
   ]
  },
  {
   "cell_type": "code",
   "execution_count": 27,
   "id": "655ef09d",
   "metadata": {},
   "outputs": [
    {
     "name": "stdout",
     "output_type": "stream",
     "text": [
      "samiya\tmehnaz\n"
     ]
    }
   ],
   "source": [
    "print(\"samiya\", end=\"\\t\" ) #tab value takes 4 spaces\n",
    "print(\"mehnaz\")"
   ]
  },
  {
   "cell_type": "code",
   "execution_count": 31,
   "id": "df23acaf",
   "metadata": {},
   "outputs": [
    {
     "name": "stdout",
     "output_type": "stream",
     "text": [
      "10@20@30#samiya^"
     ]
    }
   ],
   "source": [
    "print(a,b,c, sep=\"@\" , end= \"#\")\n",
    "print(\"samiya\", sep=\"$\",end = \"^\")"
   ]
  },
  {
   "cell_type": "code",
   "execution_count": 32,
   "id": "29d4da55",
   "metadata": {},
   "outputs": [
    {
     "name": "stdout",
     "output_type": "stream",
     "text": [
      "-5  is negative\n",
      "end of code\n"
     ]
    }
   ],
   "source": [
    "num =-5\n",
    "if num < 0:\n",
    "    print(num, \" is negative\")\n",
    "else:\n",
    "    print(num, \"is positive\")\n",
    "print(\"end of code\")"
   ]
  },
  {
   "cell_type": "code",
   "execution_count": 34,
   "id": "a32f0234",
   "metadata": {},
   "outputs": [
    {
     "name": "stdout",
     "output_type": "stream",
     "text": [
      "sam is 25 years old\n"
     ]
    }
   ],
   "source": [
    "#f- strings\n",
    "age=25\n",
    "name=\"sam\"\n",
    "print(name,\"is\",age, \"years old\")"
   ]
  },
  {
   "cell_type": "code",
   "execution_count": 39,
   "id": "51069db3",
   "metadata": {},
   "outputs": [
    {
     "name": "stdout",
     "output_type": "stream",
     "text": [
      "sam is 25 years old\n"
     ]
    }
   ],
   "source": [
    "print(f\"{name} is {age} years old\") #using f string"
   ]
  },
  {
   "cell_type": "code",
   "execution_count": 40,
   "id": "6e6857f6",
   "metadata": {},
   "outputs": [
    {
     "name": "stdout",
     "output_type": "stream",
     "text": [
      " -5 is negative\n",
      "end of code\n"
     ]
    }
   ],
   "source": [
    "num =-5\n",
    "if num < 0:\n",
    "    print(f\" {num} is negative\")\n",
    "else:\n",
    "    print(f\" {num} is positive\")\n",
    "print(\"end of code\")"
   ]
  },
  {
   "cell_type": "code",
   "execution_count": 41,
   "id": "4395370b",
   "metadata": {},
   "outputs": [
    {
     "name": "stdout",
     "output_type": "stream",
     "text": [
      " 140731874644584 is negative\n"
     ]
    }
   ],
   "source": [
    "print(f\" {id(num)} is negative\")\n"
   ]
  },
  {
   "cell_type": "code",
   "execution_count": 42,
   "id": "8efdb4ab",
   "metadata": {},
   "outputs": [
    {
     "name": "stdout",
     "output_type": "stream",
     "text": [
      "pass\n"
     ]
    }
   ],
   "source": [
    "marks = 90\n",
    "if marks >=60:\n",
    "    print('pass')\n",
    "else:\n",
    "    print(\"fails\")"
   ]
  },
  {
   "cell_type": "code",
   "execution_count": 47,
   "id": "793901e2",
   "metadata": {},
   "outputs": [
    {
     "name": "stdout",
     "output_type": "stream",
     "text": [
      "grade is c\n"
     ]
    }
   ],
   "source": [
    "marks =78\n",
    "if marks >=90:\n",
    "    print(\"grade id A\")\n",
    "elif marks >=80 and marks <=90:\n",
    "    print(\"grade is b\")\n",
    "elif marks >=70 and marks<=80:\n",
    "    print(\"grade is c\")\n",
    "else:\n",
    "    print(\"fail\")"
   ]
  },
  {
   "cell_type": "code",
   "execution_count": 48,
   "id": "79d095d0",
   "metadata": {},
   "outputs": [
    {
     "name": "stdout",
     "output_type": "stream",
     "text": [
      "fail\n"
     ]
    }
   ],
   "source": [
    "marks =40\n",
    "if marks >=90:\n",
    "    print(\"grade id A\")\n",
    "elif marks >=80 and marks <=90:\n",
    "    print(\"grade is b\")\n",
    "elif marks >=70 and marks<=80:\n",
    "    print(\"grade is c\")\n",
    "else:\n",
    "    print(\"fail\")"
   ]
  },
  {
   "cell_type": "markdown",
   "id": "9229b64a",
   "metadata": {},
   "source": [
    "# input() - used to take input from the user\n",
    "help(input)"
   ]
  },
  {
   "cell_type": "code",
   "execution_count": 1,
   "id": "5e850253",
   "metadata": {},
   "outputs": [
    {
     "name": "stdout",
     "output_type": "stream",
     "text": [
      "Help on method raw_input in module ipykernel.kernelbase:\n",
      "\n",
      "raw_input(prompt='') method of ipykernel.ipkernel.IPythonKernel instance\n",
      "    Forward raw_input to frontends\n",
      "    \n",
      "    Raises\n",
      "    ------\n",
      "    StdinNotImplementedError if active frontend doesn't support stdin.\n",
      "\n"
     ]
    }
   ],
   "source": [
    "help(input)\n"
   ]
  },
  {
   "cell_type": "code",
   "execution_count": 3,
   "id": "9365b394",
   "metadata": {},
   "outputs": [
    {
     "name": "stdout",
     "output_type": "stream",
     "text": [
      "enter your name: Sam\n"
     ]
    }
   ],
   "source": [
    "name = input(\"enter your name: \")"
   ]
  },
  {
   "cell_type": "code",
   "execution_count": 4,
   "id": "08eef68d",
   "metadata": {},
   "outputs": [
    {
     "data": {
      "text/plain": [
       "'Sam'"
      ]
     },
     "execution_count": 4,
     "metadata": {},
     "output_type": "execute_result"
    }
   ],
   "source": [
    "name"
   ]
  },
  {
   "cell_type": "code",
   "execution_count": 7,
   "id": "11e420e8",
   "metadata": {},
   "outputs": [
    {
     "name": "stdout",
     "output_type": "stream",
     "text": [
      "enter your first name: sam\n",
      "enter your last name: naaz\n",
      "Hello sam naaz, how are you?\n"
     ]
    }
   ],
   "source": [
    "first_name =input(\"enter your first name: \")\n",
    "last_name =input(\"enter your last name: \")\n",
    "print(f\"Hello {first_name} {last_name}, how are you?\")"
   ]
  },
  {
   "cell_type": "code",
   "execution_count": null,
   "id": "450ea857",
   "metadata": {},
   "outputs": [],
   "source": [
    "#wap to take 2 inputs and display them\n",
    "\n",
    "name=input(\"enter your name:\")\n",
    "age=input(\"enter your age:\")\n",
    "print(f\"hello {name}\", you are {age} years old\")"
   ]
  },
  {
   "cell_type": "code",
   "execution_count": 9,
   "id": "89997f41",
   "metadata": {},
   "outputs": [
    {
     "name": "stdout",
     "output_type": "stream",
     "text": [
      "enter your name:sam\n",
      "enter your age:24\n",
      "hello sam, you are 24 years old\n"
     ]
    }
   ],
   "source": [
    "# wap to take 2 inputs and display them\n",
    "\n",
    "name=input(\"enter your name:\")\n",
    "age=input(\"enter your age:\")\n",
    "print(f\"hello {name}, you are {age} years old.\")"
   ]
  },
  {
   "cell_type": "code",
   "execution_count": 12,
   "id": "ff20aac8",
   "metadata": {},
   "outputs": [
    {
     "name": "stdout",
     "output_type": "stream",
     "text": [
      "enter your name:sam\n",
      "enter your age:89\n"
     ]
    },
    {
     "ename": "TypeError",
     "evalue": "'<=' not supported between instances of 'str' and 'int'",
     "output_type": "error",
     "traceback": [
      "\u001b[1;31m---------------------------------------------------------------------------\u001b[0m",
      "\u001b[1;31mTypeError\u001b[0m                                 Traceback (most recent call last)",
      "Cell \u001b[1;32mIn[12], line 3\u001b[0m\n\u001b[0;32m      1\u001b[0m name\u001b[38;5;241m=\u001b[39m\u001b[38;5;28minput\u001b[39m(\u001b[38;5;124m\"\u001b[39m\u001b[38;5;124menter your name:\u001b[39m\u001b[38;5;124m\"\u001b[39m)\n\u001b[0;32m      2\u001b[0m age\u001b[38;5;241m=\u001b[39m\u001b[38;5;28minput\u001b[39m(\u001b[38;5;124m\"\u001b[39m\u001b[38;5;124menter your age:\u001b[39m\u001b[38;5;124m\"\u001b[39m)\n\u001b[1;32m----> 3\u001b[0m \u001b[38;5;28;01mif\u001b[39;00m age \u001b[38;5;241m<\u001b[39m\u001b[38;5;241m=\u001b[39m \u001b[38;5;241m60\u001b[39m :\n\u001b[0;32m      4\u001b[0m     \u001b[38;5;28mprint\u001b[39m(\u001b[38;5;124mf\u001b[39m\u001b[38;5;124m\"\u001b[39m\u001b[38;5;124mhello \u001b[39m\u001b[38;5;132;01m{\u001b[39;00mname\u001b[38;5;132;01m}\u001b[39;00m\u001b[38;5;124m, you are not a senior citizen.\u001b[39m\u001b[38;5;124m\"\u001b[39m)\n\u001b[0;32m      5\u001b[0m \u001b[38;5;28;01melse\u001b[39;00m:\n",
      "\u001b[1;31mTypeError\u001b[0m: '<=' not supported between instances of 'str' and 'int'"
     ]
    }
   ],
   "source": [
    "name=input(\"enter your name:\")\n",
    "age=input(\"enter your age:\")\n",
    "if age <= 60 : #age is considered as string,we should make it as int\n",
    "    print(f\"hello {name}, you are not a senior citizen.\")\n",
    "else:\n",
    "    print(f\"hello {name}, you are a senior citizen.\")\n"
   ]
  },
  {
   "cell_type": "code",
   "execution_count": 13,
   "id": "59404145",
   "metadata": {},
   "outputs": [
    {
     "data": {
      "text/plain": [
       "str"
      ]
     },
     "execution_count": 13,
     "metadata": {},
     "output_type": "execute_result"
    }
   ],
   "source": [
    "type(age) #input function always return a string"
   ]
  },
  {
   "cell_type": "code",
   "execution_count": 14,
   "id": "40aac569",
   "metadata": {},
   "outputs": [
    {
     "name": "stdout",
     "output_type": "stream",
     "text": [
      "enter your name:sam\n",
      "enter your age:29\n",
      "hello sam, you are not a senior citizen.\n"
     ]
    }
   ],
   "source": [
    "name=input(\"enter your name:\")\n",
    "age=input(\"enter your age:\")\n",
    "if int(age) <= 60 : #age is considered as string,we should make it as int\n",
    "    print(f\"hello {name}, you are not a senior citizen.\")\n",
    "else:\n",
    "    print(f\"hello {name}, you are a senior citizen.\")\n"
   ]
  },
  {
   "cell_type": "code",
   "execution_count": 15,
   "id": "f1b091a6",
   "metadata": {},
   "outputs": [
    {
     "name": "stdout",
     "output_type": "stream",
     "text": [
      "enter your name:sam\n",
      "enter your age:78\n",
      "hello sam, you are a senior citizen.\n"
     ]
    }
   ],
   "source": [
    "name=input(\"enter your name:\")\n",
    "age=int(input(\"enter your age:\")) #typecasting first\n",
    "if age <= 60 : #age is considered as string,we should make it as int\n",
    "    print(f\"hello {name}, you are not a senior citizen.\")\n",
    "else:\n",
    "    print(f\"hello {name}, you are a senior citizen.\")"
   ]
  },
  {
   "cell_type": "markdown",
   "id": "307c8ee2",
   "metadata": {},
   "source": [
    "# nested if"
   ]
  },
  {
   "cell_type": "code",
   "execution_count": 28,
   "id": "5cf8b39c",
   "metadata": {},
   "outputs": [
    {
     "name": "stdout",
     "output_type": "stream",
     "text": [
      "Enter a number: -3\n",
      "-3 is Negative\n",
      "-2 is even\n",
      "end of code\n"
     ]
    }
   ],
   "source": [
    "num=int(input(\"Enter a number: \"))\n",
    "if num>=0:\n",
    "    print(f\"{num} is positive\")\n",
    "    num=num*10 #num*=10\n",
    "    if num>100:\n",
    "        print(f\"{num} is greater then 100\")\n",
    "    else:\n",
    "        print(f\"{num} is less then 100\")\n",
    "else:\n",
    "    print(f\"{num} is Negative\")\n",
    "    num = num+1 #num += 1\n",
    "    if num%2==0:\n",
    "            print(f\"{num} is even\")\n",
    "    else:\n",
    "        print(f\"{num} is odd\")\n",
    "print(\"end of code\")\n",
    "        \n",
    "        "
   ]
  },
  {
   "cell_type": "code",
   "execution_count": 29,
   "id": "830eb6c6",
   "metadata": {},
   "outputs": [
    {
     "name": "stdout",
     "output_type": "stream",
     "text": [
      "Enter a number: 4\n",
      "Not Weird\n"
     ]
    }
   ],
   "source": [
    "n=int(input(\"Enter a number: \"))\n",
    "if n % 2 != 0:\n",
    "        print(\"Weird\")\n",
    "elif n % 2 == 0:\n",
    "        if 2 <= n <= 5:\n",
    "            print(\"Not Weird\")\n",
    "        elif 6 <= n <= 20:\n",
    "            print(\"Weird\")\n",
    "        elif n > 20:\n",
    "            print(\"Not Weird\")\n",
    "            "
   ]
  },
  {
   "cell_type": "markdown",
   "id": "9445b280",
   "metadata": {},
   "source": [
    "n = int(input(\"enter number:\"))\n",
    "for i in range(3):\n",
    "         print(i**2)"
   ]
  },
  {
   "cell_type": "markdown",
   "id": "833ee8b4",
   "metadata": {},
   "source": [
    "# loops \n",
    "\n",
    "Repeting the same task\n",
    "1,while loop\n",
    "2,for loop\n",
    "\n",
    "while loop executes a block of code until a given condition is true.hence called condition based loop. when condition becomes false it terminates the loop.\n",
    "\n",
    "while condition:\n",
    "   s1\n",
    "   s2\n",
    "   s3\n",
    "   .\n",
    "   sn\n",
    "end indentations\n"
   ]
  },
  {
   "cell_type": "code",
   "execution_count": 1,
   "id": "51604b39",
   "metadata": {},
   "outputs": [
    {
     "name": "stdout",
     "output_type": "stream",
     "text": [
      "1\n",
      "2\n",
      "3\n",
      "4\n",
      "5\n",
      "6\n",
      "7\n",
      "8\n",
      "9\n"
     ]
    }
   ],
   "source": [
    "num = 1\n",
    "while num < 10:\n",
    "    print(num)\n",
    "    num+=1"
   ]
  },
  {
   "cell_type": "code",
   "execution_count": 2,
   "id": "e8b71f84",
   "metadata": {},
   "outputs": [
    {
     "name": "stdout",
     "output_type": "stream",
     "text": [
      "1\n",
      "2\n",
      "3\n",
      "4\n",
      "5\n",
      "6\n",
      "7\n",
      "8\n",
      "9\n",
      "bye\n"
     ]
    }
   ],
   "source": [
    "num = 1\n",
    "while num < 10:\n",
    "    print(num)\n",
    "    num+=1\n",
    "print(\"bye\") #out side the loop"
   ]
  },
  {
   "cell_type": "code",
   "execution_count": null,
   "id": "26cd8388",
   "metadata": {},
   "outputs": [],
   "source": [
    "lives = 3\n",
    "while lives > 0:\n",
    "    print(f\"you have {lives} keep playing\")\n",
    "    dead = input (\"are you dead?:\")\n",
    "    if dead==\"yes\":\n",
    "        lives -=1\n",
    "        \n",
    "print(\"game over\")"
   ]
  },
  {
   "cell_type": "code",
   "execution_count": 7,
   "id": "909b6135",
   "metadata": {},
   "outputs": [
    {
     "name": "stdout",
     "output_type": "stream",
     "text": [
      "you have 3 keep playing\n",
      "are you dead?:yes\n",
      "you have 2 keep playing\n",
      "are you dead?:no\n",
      "you have 2 keep playing\n",
      "are you dead?:yes\n",
      "you have 1 keep playing\n",
      "are you dead?:no\n",
      "you have 1 keep playing\n",
      "are you dead?:yes\n",
      "game over\n"
     ]
    }
   ],
   "source": [
    "lives = 3\n",
    "while lives > 0:\n",
    "    print(f\"you have {lives} keep playing\")\n",
    "    dead = input (\"are you dead?:\")\n",
    "    if dead==\"yes\":\n",
    "        lives -=1\n",
    "        \n",
    "print(\"game over\")\n"
   ]
  },
  {
   "cell_type": "code",
   "execution_count": 8,
   "id": "58b05ae6",
   "metadata": {},
   "outputs": [
    {
     "name": "stdout",
     "output_type": "stream",
     "text": [
      "10\n",
      "9\n",
      "8\n",
      "7\n",
      "6\n",
      "5\n",
      "4\n",
      "3\n",
      "2\n",
      "1\n"
     ]
    }
   ],
   "source": [
    "# from 10 to 1 using while loop\n",
    "\n",
    "num=10\n",
    "while num > 0:\n",
    "    print(num)\n",
    "    num-=1"
   ]
  },
  {
   "cell_type": "code",
   "execution_count": 10,
   "id": "4921f9cb",
   "metadata": {},
   "outputs": [
    {
     "name": "stdout",
     "output_type": "stream",
     "text": [
      "2 x 1 = 2\n",
      "2 x 2 = 4\n",
      "2 x 3 = 6\n",
      "2 x 4 = 8\n",
      "2 x 5 = 10\n",
      "2 x 6 = 12\n",
      "2 x 7 = 14\n",
      "2 x 8 = 16\n",
      "2 x 9 = 18\n",
      "2 x 10 = 20\n"
     ]
    }
   ],
   "source": [
    "# tabel of two\n",
    "num=2\n",
    "i=1\n",
    "while i <= 10:\n",
    "    print(f\"{num} x {i} = {num*i}\")\n",
    "    i+=1"
   ]
  },
  {
   "cell_type": "code",
   "execution_count": null,
   "id": "9ab9b158",
   "metadata": {},
   "outputs": [],
   "source": [
    "# for loop\n",
    "# for is a iterator based loop.\n",
    "# it steps through the items/elements of any iterable objects.(list,str,touple,set,dict) \n",
    "# and executes a block of code repetedly for a num of times equal to the number of elements of that iterable object.\n",
    "#\n",
    "\n",
    "for var in iterable_obj:\n",
    "    s1\n",
    "    s2\n",
    "    s2\n",
    "    .\n",
    "    .\n",
    "    sn\n",
    "stop identation\n",
    "\n",
    "#for each element of the iterable obj, it stores the element in an arbitary variable \"var\" \n",
    "#and executes the block of statement untill all the elements are exhausted"
   ]
  },
  {
   "cell_type": "code",
   "execution_count": 13,
   "id": "72c8049b",
   "metadata": {},
   "outputs": [
    {
     "name": "stdout",
     "output_type": "stream",
     "text": [
      "9\n",
      "10\n",
      "12.5\n",
      "11.0\n"
     ]
    }
   ],
   "source": [
    "profit=[9, 10, 12.5, 11.0]\n",
    "for var in profit:\n",
    "    print(var)\n",
    "    "
   ]
  },
  {
   "cell_type": "code",
   "execution_count": 14,
   "id": "3d4f474c",
   "metadata": {},
   "outputs": [
    {
     "name": "stdout",
     "output_type": "stream",
     "text": [
      "11.0\n",
      "12.5\n",
      "10\n",
      "9\n"
     ]
    }
   ],
   "source": [
    "profit=[9, 10, 12.5, 11.0]\n",
    "for var in profit[::-1]: # to print reverse\n",
    "    print(var)"
   ]
  },
  {
   "cell_type": "code",
   "execution_count": 17,
   "id": "c25314fa",
   "metadata": {},
   "outputs": [
    {
     "name": "stdout",
     "output_type": "stream",
     "text": [
      "a\n",
      "c\n",
      "10\n",
      "12\n",
      "True\n",
      "hello\n"
     ]
    }
   ],
   "source": [
    "t1=(\"a\",\"c\",10,12, True,\"hello\") #tuple\n",
    "for var in t1:\n",
    "    print(var)"
   ]
  },
  {
   "cell_type": "code",
   "execution_count": 21,
   "id": "b064704c",
   "metadata": {},
   "outputs": [],
   "source": [
    "str=\"hello world\""
   ]
  },
  {
   "cell_type": "code",
   "execution_count": 23,
   "id": "b60748e0",
   "metadata": {},
   "outputs": [
    {
     "name": "stdout",
     "output_type": "stream",
     "text": [
      "h\n",
      "e\n",
      "l\n",
      "l\n",
      "o\n",
      " \n",
      "w\n",
      "o\n",
      "r\n",
      "l\n",
      "d\n"
     ]
    }
   ],
   "source": [
    "for char in str:\n",
    "    print(char)"
   ]
  },
  {
   "cell_type": "code",
   "execution_count": 24,
   "id": "d7d0a07c",
   "metadata": {},
   "outputs": [
    {
     "data": {
      "text/plain": [
       "11"
      ]
     },
     "execution_count": 24,
     "metadata": {},
     "output_type": "execute_result"
    }
   ],
   "source": [
    "len(str)"
   ]
  },
  {
   "cell_type": "code",
   "execution_count": 26,
   "id": "87979eab",
   "metadata": {},
   "outputs": [
    {
     "name": "stdout",
     "output_type": "stream",
     "text": [
      "HI\n",
      "HI\n",
      "HI\n",
      "HI\n",
      "HI\n",
      "HI\n",
      "HI\n",
      "HI\n",
      "HI\n",
      "HI\n",
      "HI\n"
     ]
    }
   ],
   "source": [
    "for char in str:\n",
    "    print(\"HI\") #hi is printed 11 times."
   ]
  },
  {
   "cell_type": "code",
   "execution_count": 30,
   "id": "b623d46e",
   "metadata": {},
   "outputs": [
    {
     "name": "stdout",
     "output_type": "stream",
     "text": [
      "1\n",
      "3\n",
      "bye\n",
      "5\n",
      "10.5\n"
     ]
    }
   ],
   "source": [
    "s1={1,3,5,10.5, True , \"bye\"} #set does not have order, it will give order differently\n",
    "for var in s1:\n",
    "    print(var)"
   ]
  },
  {
   "cell_type": "code",
   "execution_count": 31,
   "id": "b017bdaa",
   "metadata": {},
   "outputs": [
    {
     "data": {
      "text/plain": [
       "{1: 'sam', 2: 'naaz', 3: 'saam', 4: 'saaam'}"
      ]
     },
     "execution_count": 31,
     "metadata": {},
     "output_type": "execute_result"
    }
   ],
   "source": [
    "s2={1:\"sam\",2:\"naaz\",3:\"saam\",4:\"saaam\"}\n",
    "s2"
   ]
  },
  {
   "cell_type": "code",
   "execution_count": 32,
   "id": "16bcf864",
   "metadata": {},
   "outputs": [
    {
     "name": "stdout",
     "output_type": "stream",
     "text": [
      "1\n",
      "2\n",
      "3\n",
      "4\n"
     ]
    }
   ],
   "source": [
    "for i in s2:\n",
    "    print(i)"
   ]
  },
  {
   "cell_type": "code",
   "execution_count": 33,
   "id": "71b3f607",
   "metadata": {},
   "outputs": [
    {
     "data": {
      "text/plain": [
       "'naaz'"
      ]
     },
     "execution_count": 33,
     "metadata": {},
     "output_type": "execute_result"
    }
   ],
   "source": [
    "s2[2]"
   ]
  },
  {
   "cell_type": "code",
   "execution_count": 34,
   "id": "0d77f829",
   "metadata": {},
   "outputs": [
    {
     "name": "stdout",
     "output_type": "stream",
     "text": [
      "sam\n",
      "naaz\n",
      "saam\n",
      "saaam\n"
     ]
    }
   ],
   "source": [
    "for i in s2:\n",
    "    print(s2[i])"
   ]
  },
  {
   "cell_type": "code",
   "execution_count": 36,
   "id": "3b5a9952",
   "metadata": {},
   "outputs": [
    {
     "name": "stdout",
     "output_type": "stream",
     "text": [
      "1 sam\n",
      "2 naaz\n",
      "3 saam\n",
      "4 saaam\n"
     ]
    }
   ],
   "source": [
    "for i in s2:\n",
    "    print(i,s2[i]) #by default space is the seperator by default"
   ]
  },
  {
   "cell_type": "code",
   "execution_count": 38,
   "id": "78f0b8ed",
   "metadata": {},
   "outputs": [
    {
     "data": {
      "text/plain": [
       "[9, 10, 12.5, 11.0]"
      ]
     },
     "execution_count": 38,
     "metadata": {},
     "output_type": "execute_result"
    }
   ],
   "source": [
    "profit"
   ]
  },
  {
   "cell_type": "code",
   "execution_count": 44,
   "id": "b67f4903",
   "metadata": {},
   "outputs": [
    {
     "name": "stdout",
     "output_type": "stream",
     "text": [
      "profit for quater 1 is 9 \n",
      "profit for quater 2 is 10 \n",
      "profit for quater 3 is 12.5 \n",
      "profit for quater 4 is 11.0 \n"
     ]
    }
   ],
   "source": [
    "#output :\n",
    "#profit for quater 1 is 9 \n",
    "#profit for quater 2 is 10 \n",
    "#profit for quater 3 is 12.5 \n",
    "#profit for quater 4 is 11.0 \n",
    "\n",
    "i=1\n",
    "for var in profit:\n",
    "    print(f\"profit for quater {i} is {var} \")\n",
    "    i+=1"
   ]
  },
  {
   "cell_type": "code",
   "execution_count": 56,
   "id": "3efa737e",
   "metadata": {},
   "outputs": [
    {
     "name": "stdout",
     "output_type": "stream",
     "text": [
      "profit for quater 1 is 9\n",
      "profit for quater 2 is 10\n",
      "profit for quater 3 is 12.5\n",
      "profit for quater 4 is 11.0\n"
     ]
    }
   ],
   "source": [
    "#if we want to use the while loop\n",
    "i=0\n",
    "while i < len(profit):\n",
    "    q=i+1\n",
    "    print(f\"profit for quater {q} is {profit[i]}\")\n",
    "    i+=1"
   ]
  },
  {
   "cell_type": "code",
   "execution_count": 59,
   "id": "a09129c8",
   "metadata": {},
   "outputs": [
    {
     "data": {
      "text/plain": [
       "{1: 'sam', 2: 'naaz', 3: 'saam', 4: 'saaam'}"
      ]
     },
     "execution_count": 59,
     "metadata": {},
     "output_type": "execute_result"
    }
   ],
   "source": [
    "s2"
   ]
  },
  {
   "cell_type": "code",
   "execution_count": 61,
   "id": "b9b0f86e",
   "metadata": {},
   "outputs": [
    {
     "name": "stdout",
     "output_type": "stream",
     "text": [
      "sam\n",
      "naaz\n",
      "saam\n",
      "saaam\n"
     ]
    }
   ],
   "source": [
    "for i in s2.values():\n",
    "    print(i)"
   ]
  },
  {
   "cell_type": "code",
   "execution_count": 62,
   "id": "50848ee5",
   "metadata": {},
   "outputs": [
    {
     "data": {
      "text/plain": [
       "dict_items([(1, 'sam'), (2, 'naaz'), (3, 'saam'), (4, 'saaam')])"
      ]
     },
     "execution_count": 62,
     "metadata": {},
     "output_type": "execute_result"
    }
   ],
   "source": [
    "s2.items() # it gives dict in the form of tuple,each tuple containg key and value pair"
   ]
  },
  {
   "cell_type": "code",
   "execution_count": 65,
   "id": "8da1e4d5",
   "metadata": {},
   "outputs": [
    {
     "data": {
      "text/plain": [
       "dict_items"
      ]
     },
     "execution_count": 65,
     "metadata": {},
     "output_type": "execute_result"
    }
   ],
   "source": [
    "type(s2.items())"
   ]
  },
  {
   "cell_type": "code",
   "execution_count": 66,
   "id": "2406a041",
   "metadata": {},
   "outputs": [
    {
     "name": "stdout",
     "output_type": "stream",
     "text": [
      "(1, 'sam')\n",
      "(2, 'naaz')\n",
      "(3, 'saam')\n",
      "(4, 'saaam')\n"
     ]
    }
   ],
   "source": [
    "for i in s2.items():\n",
    "    print(i)"
   ]
  },
  {
   "cell_type": "code",
   "execution_count": 67,
   "id": "9817f79f",
   "metadata": {},
   "outputs": [
    {
     "name": "stdout",
     "output_type": "stream",
     "text": [
      "the value of key 1 id sam\n",
      "the value of key 2 id naaz\n",
      "the value of key 3 id saam\n",
      "the value of key 4 id saaam\n"
     ]
    }
   ],
   "source": [
    "#output:\n",
    "#the value of key 1 id sam\n",
    "#the value of key 2 id naaz\n",
    "#the value of key 3 id saam\n",
    "#the value of key 4 id saaam\n",
    "\n",
    "for i in s2.items():\n",
    "    print(f\"the value of key {i[0]} id {i[1]}\")"
   ]
  },
  {
   "cell_type": "code",
   "execution_count": 68,
   "id": "c56bbea3",
   "metadata": {},
   "outputs": [],
   "source": [
    "t1=(10,\"hello\")\n",
    "x,y=t1"
   ]
  },
  {
   "cell_type": "code",
   "execution_count": 69,
   "id": "e7c68b93",
   "metadata": {},
   "outputs": [
    {
     "data": {
      "text/plain": [
       "10"
      ]
     },
     "execution_count": 69,
     "metadata": {},
     "output_type": "execute_result"
    }
   ],
   "source": [
    "x\n"
   ]
  },
  {
   "cell_type": "code",
   "execution_count": 70,
   "id": "1bc99e9b",
   "metadata": {},
   "outputs": [
    {
     "data": {
      "text/plain": [
       "'hello'"
      ]
     },
     "execution_count": 70,
     "metadata": {},
     "output_type": "execute_result"
    }
   ],
   "source": [
    "y"
   ]
  },
  {
   "cell_type": "code",
   "execution_count": 71,
   "id": "c1f51928",
   "metadata": {},
   "outputs": [
    {
     "name": "stdout",
     "output_type": "stream",
     "text": [
      "the value of key 1 id sam\n",
      "the value of key 2 id naaz\n",
      "the value of key 3 id saam\n",
      "the value of key 4 id saaam\n"
     ]
    }
   ],
   "source": [
    "#using tuple unpacking\n",
    "for v,k in s2.items():\n",
    "    print(f\"the value of key {v} id {k}\")"
   ]
  },
  {
   "cell_type": "code",
   "execution_count": 72,
   "id": "2abf6f9e",
   "metadata": {},
   "outputs": [
    {
     "name": "stdout",
     "output_type": "stream",
     "text": [
      "1 sam\n",
      "2 naaz\n",
      "3 saam\n",
      "4 saaam\n"
     ]
    }
   ],
   "source": [
    "for v,k in s2.items():\n",
    "    print(v,k)"
   ]
  },
  {
   "cell_type": "code",
   "execution_count": 73,
   "id": "28e5f629",
   "metadata": {},
   "outputs": [],
   "source": [
    "#range\n",
    "#generate range of integers\n",
    "#range(start,stop,step)"
   ]
  },
  {
   "cell_type": "code",
   "execution_count": 75,
   "id": "d428ab39",
   "metadata": {},
   "outputs": [
    {
     "data": {
      "text/plain": [
       "range(10, 15)"
      ]
     },
     "execution_count": 75,
     "metadata": {},
     "output_type": "execute_result"
    }
   ],
   "source": [
    "r1=range(10,15,1)\n",
    "r1"
   ]
  },
  {
   "cell_type": "code",
   "execution_count": 76,
   "id": "3ad498c5",
   "metadata": {},
   "outputs": [
    {
     "data": {
      "text/plain": [
       "[10, 11, 12, 13, 14]"
      ]
     },
     "execution_count": 76,
     "metadata": {},
     "output_type": "execute_result"
    }
   ],
   "source": [
    "list(r1)"
   ]
  },
  {
   "cell_type": "code",
   "execution_count": 77,
   "id": "77375f12",
   "metadata": {},
   "outputs": [
    {
     "data": {
      "text/plain": [
       "range"
      ]
     },
     "execution_count": 77,
     "metadata": {},
     "output_type": "execute_result"
    }
   ],
   "source": [
    "type(r1)"
   ]
  },
  {
   "cell_type": "code",
   "execution_count": 78,
   "id": "89a8052a",
   "metadata": {},
   "outputs": [
    {
     "name": "stdout",
     "output_type": "stream",
     "text": [
      "10\n",
      "11\n",
      "12\n",
      "13\n",
      "14\n"
     ]
    }
   ],
   "source": [
    "for i in r1:\n",
    "    print(i)"
   ]
  },
  {
   "cell_type": "code",
   "execution_count": 79,
   "id": "7245d1c3",
   "metadata": {},
   "outputs": [
    {
     "name": "stdout",
     "output_type": "stream",
     "text": [
      "10\n",
      "12\n",
      "14\n",
      "16\n",
      "18\n"
     ]
    }
   ],
   "source": [
    "for i in range(10,20,2): #direct generating range\n",
    "    print(i)"
   ]
  },
  {
   "cell_type": "code",
   "execution_count": 81,
   "id": "6ea83172",
   "metadata": {},
   "outputs": [],
   "source": [
    "for i in range(10,5,1): #logical issue\n",
    "    print(i)"
   ]
  },
  {
   "cell_type": "code",
   "execution_count": 82,
   "id": "72480d25",
   "metadata": {},
   "outputs": [
    {
     "name": "stdout",
     "output_type": "stream",
     "text": [
      "10\n",
      "9\n",
      "8\n",
      "7\n",
      "6\n"
     ]
    }
   ],
   "source": [
    "for i in range(10,5,-1):\n",
    "    print(i)"
   ]
  },
  {
   "cell_type": "code",
   "execution_count": 86,
   "id": "c7d576e6",
   "metadata": {},
   "outputs": [
    {
     "name": "stdout",
     "output_type": "stream",
     "text": [
      "0\n",
      "1\n",
      "2\n",
      "3\n",
      "4\n"
     ]
    }
   ],
   "source": [
    "for i in range(5):  #start is by defalut 0 and stop is by default is 1. stop is mandotary\n",
    "    print(i)"
   ]
  },
  {
   "cell_type": "code",
   "execution_count": 87,
   "id": "fc0a29a5",
   "metadata": {},
   "outputs": [
    {
     "name": "stdout",
     "output_type": "stream",
     "text": [
      "Help on class range in module builtins:\n",
      "\n",
      "class range(object)\n",
      " |  range(stop) -> range object\n",
      " |  range(start, stop[, step]) -> range object\n",
      " |  \n",
      " |  Return an object that produces a sequence of integers from start (inclusive)\n",
      " |  to stop (exclusive) by step.  range(i, j) produces i, i+1, i+2, ..., j-1.\n",
      " |  start defaults to 0, and stop is omitted!  range(4) produces 0, 1, 2, 3.\n",
      " |  These are exactly the valid indices for a list of 4 elements.\n",
      " |  When step is given, it specifies the increment (or decrement).\n",
      " |  \n",
      " |  Methods defined here:\n",
      " |  \n",
      " |  __bool__(self, /)\n",
      " |      True if self else False\n",
      " |  \n",
      " |  __contains__(self, key, /)\n",
      " |      Return key in self.\n",
      " |  \n",
      " |  __eq__(self, value, /)\n",
      " |      Return self==value.\n",
      " |  \n",
      " |  __ge__(self, value, /)\n",
      " |      Return self>=value.\n",
      " |  \n",
      " |  __getattribute__(self, name, /)\n",
      " |      Return getattr(self, name).\n",
      " |  \n",
      " |  __getitem__(self, key, /)\n",
      " |      Return self[key].\n",
      " |  \n",
      " |  __gt__(self, value, /)\n",
      " |      Return self>value.\n",
      " |  \n",
      " |  __hash__(self, /)\n",
      " |      Return hash(self).\n",
      " |  \n",
      " |  __iter__(self, /)\n",
      " |      Implement iter(self).\n",
      " |  \n",
      " |  __le__(self, value, /)\n",
      " |      Return self<=value.\n",
      " |  \n",
      " |  __len__(self, /)\n",
      " |      Return len(self).\n",
      " |  \n",
      " |  __lt__(self, value, /)\n",
      " |      Return self<value.\n",
      " |  \n",
      " |  __ne__(self, value, /)\n",
      " |      Return self!=value.\n",
      " |  \n",
      " |  __reduce__(...)\n",
      " |      Helper for pickle.\n",
      " |  \n",
      " |  __repr__(self, /)\n",
      " |      Return repr(self).\n",
      " |  \n",
      " |  __reversed__(...)\n",
      " |      Return a reverse iterator.\n",
      " |  \n",
      " |  count(...)\n",
      " |      rangeobject.count(value) -> integer -- return number of occurrences of value\n",
      " |  \n",
      " |  index(...)\n",
      " |      rangeobject.index(value) -> integer -- return index of value.\n",
      " |      Raise ValueError if the value is not present.\n",
      " |  \n",
      " |  ----------------------------------------------------------------------\n",
      " |  Static methods defined here:\n",
      " |  \n",
      " |  __new__(*args, **kwargs) from builtins.type\n",
      " |      Create and return a new object.  See help(type) for accurate signature.\n",
      " |  \n",
      " |  ----------------------------------------------------------------------\n",
      " |  Data descriptors defined here:\n",
      " |  \n",
      " |  start\n",
      " |  \n",
      " |  step\n",
      " |  \n",
      " |  stop\n",
      "\n"
     ]
    }
   ],
   "source": [
    "help(range)"
   ]
  },
  {
   "cell_type": "code",
   "execution_count": 88,
   "id": "07ebe252",
   "metadata": {},
   "outputs": [
    {
     "data": {
      "text/plain": [
       "[9, 10, 12.5, 11.0]"
      ]
     },
     "execution_count": 88,
     "metadata": {},
     "output_type": "execute_result"
    }
   ],
   "source": [
    "profit"
   ]
  },
  {
   "cell_type": "code",
   "execution_count": 90,
   "id": "6cfc1d5f",
   "metadata": {},
   "outputs": [
    {
     "name": "stdout",
     "output_type": "stream",
     "text": [
      "0\n",
      "1\n",
      "2\n",
      "3\n"
     ]
    }
   ],
   "source": [
    "#generate the index of list profit that is 0,1,2,3\n",
    "\n",
    "for i in range(4):\n",
    "    print(i)"
   ]
  },
  {
   "cell_type": "code",
   "execution_count": 91,
   "id": "be9b38aa",
   "metadata": {},
   "outputs": [
    {
     "name": "stdout",
     "output_type": "stream",
     "text": [
      "0\n",
      "1\n",
      "2\n",
      "3\n"
     ]
    }
   ],
   "source": [
    "for i in range(len(profit)):\n",
    "    print(i)"
   ]
  },
  {
   "cell_type": "code",
   "execution_count": 92,
   "id": "aa472f37",
   "metadata": {},
   "outputs": [
    {
     "name": "stdout",
     "output_type": "stream",
     "text": [
      "0 9\n",
      "1 10\n",
      "2 12.5\n",
      "3 11.0\n"
     ]
    }
   ],
   "source": [
    "for i in range(len(profit)):\n",
    "    print(i,profit[i])"
   ]
  },
  {
   "cell_type": "code",
   "execution_count": 93,
   "id": "d8a1c776",
   "metadata": {},
   "outputs": [
    {
     "data": {
      "text/plain": [
       "4"
      ]
     },
     "execution_count": 93,
     "metadata": {},
     "output_type": "execute_result"
    }
   ],
   "source": [
    "len(profit)"
   ]
  },
  {
   "cell_type": "code",
   "execution_count": 94,
   "id": "438cf75f",
   "metadata": {},
   "outputs": [
    {
     "name": "stdout",
     "output_type": "stream",
     "text": [
      "profit for quater 1 is 9\n",
      "profit for quater 2 is 10\n",
      "profit for quater 3 is 12.5\n",
      "profit for quater 4 is 11.0\n"
     ]
    }
   ],
   "source": [
    "for i in range(len(profit)):\n",
    "    print(f\"profit for quater {i+1} is {profit[i]}\")"
   ]
  },
  {
   "cell_type": "code",
   "execution_count": 95,
   "id": "780ea7e7",
   "metadata": {},
   "outputs": [],
   "source": [
    "#break\n",
    "#used to terminate the loop\n"
   ]
  },
  {
   "cell_type": "code",
   "execution_count": 98,
   "id": "9ed199c7",
   "metadata": {},
   "outputs": [
    {
     "name": "stdout",
     "output_type": "stream",
     "text": [
      "10\n",
      "20\n",
      "30\n",
      "0\n",
      "50\n",
      "899\n"
     ]
    }
   ],
   "source": [
    "l1=[10,20,30,0,50,899]\n",
    "for i in l1:\n",
    "    print(i)"
   ]
  },
  {
   "cell_type": "code",
   "execution_count": 99,
   "id": "b4a58bf9",
   "metadata": {},
   "outputs": [
    {
     "name": "stdout",
     "output_type": "stream",
     "text": [
      "10\n",
      "20\n",
      "30\n"
     ]
    }
   ],
   "source": [
    "for i in l1:\n",
    "    if i==0:\n",
    "        break #terminates the loop\n",
    "    print(i)"
   ]
  },
  {
   "cell_type": "code",
   "execution_count": 105,
   "id": "157b1b42",
   "metadata": {},
   "outputs": [
    {
     "name": "stdout",
     "output_type": "stream",
     "text": [
      "0\n",
      "1\n",
      "2\n",
      "3\n",
      "4\n"
     ]
    }
   ],
   "source": [
    "num =0\n",
    "while num <10:\n",
    "    if num==5:\n",
    "        break\n",
    "    print(num)\n",
    "    num+=1\n",
    "    "
   ]
  },
  {
   "cell_type": "code",
   "execution_count": 107,
   "id": "d01823dc",
   "metadata": {},
   "outputs": [
    {
     "name": "stdout",
     "output_type": "stream",
     "text": [
      "0\n",
      "1\n",
      "2\n",
      "3\n",
      "4\n"
     ]
    },
    {
     "ename": "KeyboardInterrupt",
     "evalue": "",
     "output_type": "error",
     "traceback": [
      "\u001b[1;31m---------------------------------------------------------------------------\u001b[0m",
      "\u001b[1;31mKeyboardInterrupt\u001b[0m                         Traceback (most recent call last)",
      "Cell \u001b[1;32mIn[107], line 6\u001b[0m\n\u001b[0;32m      4\u001b[0m \u001b[38;5;28;01mwhile\u001b[39;00m num \u001b[38;5;241m<\u001b[39m\u001b[38;5;241m10\u001b[39m:\n\u001b[0;32m      5\u001b[0m     \u001b[38;5;28;01mif\u001b[39;00m num\u001b[38;5;241m==\u001b[39m\u001b[38;5;241m5\u001b[39m:\n\u001b[1;32m----> 6\u001b[0m         \u001b[38;5;28;01mcontinue\u001b[39;00m\n\u001b[0;32m      7\u001b[0m     \u001b[38;5;28mprint\u001b[39m(num)\n\u001b[0;32m      8\u001b[0m     num\u001b[38;5;241m+\u001b[39m\u001b[38;5;241m=\u001b[39m\u001b[38;5;241m1\u001b[39m\n",
      "\u001b[1;31mKeyboardInterrupt\u001b[0m: "
     ]
    }
   ],
   "source": [
    "#continue\n",
    "#skip the current iteration and go to next iteration.\n",
    "num =0\n",
    "while num <10:\n",
    "    if num==5:\n",
    "        continue #skips the iteration and anything written below the keyword, inside the loop is skipped\n",
    "    print(num)\n",
    "    num+=1\n"
   ]
  },
  {
   "cell_type": "code",
   "execution_count": 108,
   "id": "ae6ed435",
   "metadata": {},
   "outputs": [
    {
     "name": "stdout",
     "output_type": "stream",
     "text": [
      "10\n",
      "20\n",
      "30\n",
      "50\n",
      "899\n"
     ]
    }
   ],
   "source": [
    "for i in l1:\n",
    "    if i==0:\n",
    "        continue\n",
    "    print(i)\n",
    "    "
   ]
  },
  {
   "cell_type": "code",
   "execution_count": null,
   "id": "18b953ec",
   "metadata": {},
   "outputs": [],
   "source": [
    "# exit() function is used to exit from the program"
   ]
  },
  {
   "cell_type": "code",
   "execution_count": 110,
   "id": "65fc6f53",
   "metadata": {},
   "outputs": [
    {
     "name": "stdout",
     "output_type": "stream",
     "text": [
      "10\n",
      "30\n",
      "50\n",
      "899\n"
     ]
    }
   ],
   "source": [
    "for i in l1:\n",
    "    if i==0 or i==20:\n",
    "        continue\n",
    "    print(i)"
   ]
  },
  {
   "cell_type": "code",
   "execution_count": 112,
   "id": "440583c8",
   "metadata": {},
   "outputs": [
    {
     "name": "stdout",
     "output_type": "stream",
     "text": [
      "20\n",
      "0\n",
      "50\n",
      "899\n"
     ]
    }
   ],
   "source": [
    "for i in l1:\n",
    "    if i in [10,30]:\n",
    "        continue\n",
    "    print(i)"
   ]
  },
  {
   "cell_type": "code",
   "execution_count": 113,
   "id": "7ae3552d",
   "metadata": {},
   "outputs": [
    {
     "name": "stdout",
     "output_type": "stream",
     "text": [
      "0\n",
      "1\n",
      "2\n"
     ]
    }
   ],
   "source": [
    "#nested loop\n",
    "#loop inside loop\n",
    " \n",
    "for i in range(3):\n",
    "    print(i)"
   ]
  },
  {
   "cell_type": "code",
   "execution_count": 116,
   "id": "fbbc9956",
   "metadata": {},
   "outputs": [
    {
     "name": "stdout",
     "output_type": "stream",
     "text": [
      "0 0\n",
      "0 1\n",
      "1 0\n",
      "1 1\n",
      "2 0\n",
      "2 1\n"
     ]
    }
   ],
   "source": [
    "for i in range(3):\n",
    "    for j in range(2): #inner loop has to be completed(example output 00,01) and next it will go to outer loop.\n",
    "        print(i,j)"
   ]
  },
  {
   "cell_type": "code",
   "execution_count": 117,
   "id": "f031d0b2",
   "metadata": {},
   "outputs": [
    {
     "name": "stdout",
     "output_type": "stream",
     "text": [
      "10\n",
      "20\n",
      "30\n",
      "0\n",
      "50\n",
      "899\n"
     ]
    }
   ],
   "source": [
    "# pass\n",
    "for i in l1:\n",
    "    if i==0:\n",
    "        pass #pass the control to the next line in the program/does nothing\n",
    "    print(i)"
   ]
  },
  {
   "cell_type": "code",
   "execution_count": 118,
   "id": "0a5a9b4b",
   "metadata": {},
   "outputs": [
    {
     "name": "stdout",
     "output_type": "stream",
     "text": [
      "hello\n",
      "bye\n"
     ]
    }
   ],
   "source": [
    "print(\"hello\")\n",
    "pass\n",
    "print(\"bye\")"
   ]
  },
  {
   "cell_type": "code",
   "execution_count": 119,
   "id": "7ae66446",
   "metadata": {},
   "outputs": [
    {
     "ename": "IndentationError",
     "evalue": "expected an indented block after 'if' statement on line 2 (4235709910.py, line 3)",
     "output_type": "error",
     "traceback": [
      "\u001b[1;36m  Cell \u001b[1;32mIn[119], line 3\u001b[1;36m\u001b[0m\n\u001b[1;33m    else:\u001b[0m\n\u001b[1;37m    ^\u001b[0m\n\u001b[1;31mIndentationError\u001b[0m\u001b[1;31m:\u001b[0m expected an indented block after 'if' statement on line 2\n"
     ]
    }
   ],
   "source": [
    "num = 100\n",
    "if num>100: #if caanot be empty so we use pass ,to correct the syntax\n",
    "else:\n",
    "    print(\"so something\")"
   ]
  },
  {
   "cell_type": "code",
   "execution_count": 120,
   "id": "775ebb9e",
   "metadata": {},
   "outputs": [
    {
     "name": "stdout",
     "output_type": "stream",
     "text": [
      "so something\n"
     ]
    }
   ],
   "source": [
    "num = 100\n",
    "if num>100:\n",
    "    pass#if caanot be empty so we use pass ,to correct the syntax\n",
    "else:\n",
    "    print(\"so something\")"
   ]
  },
  {
   "cell_type": "markdown",
   "id": "f0a5086a",
   "metadata": {},
   "source": [
    "# loop and conditional assignment"
   ]
  },
  {
   "cell_type": "code",
   "execution_count": null,
   "id": "cc5788ba",
   "metadata": {},
   "outputs": [],
   "source": [
    "# ternary operator\n",
    "#if else in a singl line is called ternary operator.\n",
    "#true_expr if condition else false_expr\n",
    "num5\n",
    "if num%2==0:\n",
    "    print(\"even\")\n",
    "else:\n",
    "    print(\"false\")\n",
    "\n",
    "ter=print(\"even\") if num%2==0 else print(\"false\")\n",
    "ter1=\"even\" if num%2==0 else \"false\"\n"
   ]
  },
  {
   "cell_type": "code",
   "execution_count": 1,
   "id": "5b0a7239",
   "metadata": {},
   "outputs": [
    {
     "data": {
      "text/plain": [
       "'samiya'"
      ]
     },
     "execution_count": 1,
     "metadata": {},
     "output_type": "execute_result"
    }
   ],
   "source": [
    "#seq of charecters enclosed within quotes\n",
    "#immutable\n",
    "\n",
    "s1=\"samiya\"\n",
    "s1"
   ]
  },
  {
   "cell_type": "code",
   "execution_count": 2,
   "id": "4db71896",
   "metadata": {},
   "outputs": [
    {
     "data": {
      "text/plain": [
       "str"
      ]
     },
     "execution_count": 2,
     "metadata": {},
     "output_type": "execute_result"
    }
   ],
   "source": [
    "type(s1)"
   ]
  },
  {
   "cell_type": "code",
   "execution_count": 3,
   "id": "5725f880",
   "metadata": {},
   "outputs": [
    {
     "data": {
      "text/plain": [
       "'s'"
      ]
     },
     "execution_count": 3,
     "metadata": {},
     "output_type": "execute_result"
    }
   ],
   "source": [
    "s1[0]"
   ]
  },
  {
   "cell_type": "code",
   "execution_count": 4,
   "id": "a868ad3a",
   "metadata": {},
   "outputs": [
    {
     "data": {
      "text/plain": [
       "'ya'"
      ]
     },
     "execution_count": 4,
     "metadata": {},
     "output_type": "execute_result"
    }
   ],
   "source": [
    "s1[4:7:1]"
   ]
  },
  {
   "cell_type": "code",
   "execution_count": 5,
   "id": "24606e65",
   "metadata": {},
   "outputs": [],
   "source": [
    "s2=\"hello\"\n",
    "s3=\"bye\""
   ]
  },
  {
   "cell_type": "code",
   "execution_count": 6,
   "id": "143b6043",
   "metadata": {},
   "outputs": [
    {
     "data": {
      "text/plain": [
       "'hellobye'"
      ]
     },
     "execution_count": 6,
     "metadata": {},
     "output_type": "execute_result"
    }
   ],
   "source": [
    "s2+s3 #concatination"
   ]
  },
  {
   "cell_type": "code",
   "execution_count": 8,
   "id": "27fd008d",
   "metadata": {},
   "outputs": [
    {
     "data": {
      "text/plain": [
       "'hellohellohello'"
      ]
     },
     "execution_count": 8,
     "metadata": {},
     "output_type": "execute_result"
    }
   ],
   "source": [
    "s2 *3 #repetations"
   ]
  },
  {
   "cell_type": "code",
   "execution_count": 9,
   "id": "a06c27c7",
   "metadata": {},
   "outputs": [
    {
     "name": "stdout",
     "output_type": "stream",
     "text": [
      "yes\n"
     ]
    }
   ],
   "source": [
    "if \"sam\" in s1:\n",
    "    print(\"yes\")\n",
    "else:\n",
    "    print(\"no\")"
   ]
  },
  {
   "cell_type": "code",
   "execution_count": 10,
   "id": "cfd2c2c6",
   "metadata": {},
   "outputs": [
    {
     "name": "stdout",
     "output_type": "stream",
     "text": [
      "no\n"
     ]
    }
   ],
   "source": [
    "if \"sam\" in s2:\n",
    "    print(\"yes\")\n",
    "else:\n",
    "    print(\"no\")"
   ]
  },
  {
   "cell_type": "code",
   "execution_count": 11,
   "id": "ee87ef44",
   "metadata": {},
   "outputs": [
    {
     "name": "stdout",
     "output_type": "stream",
     "text": [
      "enter a string: mehnaaz\n",
      "enter s substring to search in the above string: naaz\n",
      "yes\n"
     ]
    }
   ],
   "source": [
    "str1=input(\"enter a string: \")\n",
    "str2= input(\"enter s substring to search in the above string: \")\n",
    "\n",
    "if str2 in str1:\n",
    "    print(\"yes\")\n",
    "else:\n",
    "    print(\"no\")"
   ]
  },
  {
   "cell_type": "code",
   "execution_count": 12,
   "id": "2903948d",
   "metadata": {},
   "outputs": [
    {
     "name": "stdout",
     "output_type": "stream",
     "text": [
      "enter a string:         python\n",
      "enter s substring to search in the above string:    python\n",
      "different\n"
     ]
    }
   ],
   "source": [
    "str1=input(\"enter a string: \")\n",
    "str2= input(\"enter s substring to search in the above string: \")\n",
    "\n",
    "if str2 == str1:\n",
    "    print(\"same\")\n",
    "else:\n",
    "    print(\"different\") #spaces are different"
   ]
  },
  {
   "cell_type": "code",
   "execution_count": 13,
   "id": "b628a83e",
   "metadata": {},
   "outputs": [
    {
     "data": {
      "text/plain": [
       "'        python'"
      ]
     },
     "execution_count": 13,
     "metadata": {},
     "output_type": "execute_result"
    }
   ],
   "source": [
    "str1"
   ]
  },
  {
   "cell_type": "code",
   "execution_count": 14,
   "id": "c4c6fb1c",
   "metadata": {},
   "outputs": [
    {
     "data": {
      "text/plain": [
       "'python'"
      ]
     },
     "execution_count": 14,
     "metadata": {},
     "output_type": "execute_result"
    }
   ],
   "source": [
    "str1.strip() #remove the spaces FROM START AND END"
   ]
  },
  {
   "cell_type": "code",
   "execution_count": 15,
   "id": "d1093f48",
   "metadata": {},
   "outputs": [
    {
     "data": {
      "text/plain": [
       "'        python'"
      ]
     },
     "execution_count": 15,
     "metadata": {},
     "output_type": "execute_result"
    }
   ],
   "source": [
    "str1 #it will not change as it is immutable\n"
   ]
  },
  {
   "cell_type": "code",
   "execution_count": 16,
   "id": "35cce007",
   "metadata": {},
   "outputs": [
    {
     "name": "stdout",
     "output_type": "stream",
     "text": [
      "Help on built-in function strip:\n",
      "\n",
      "strip(chars=None, /) method of builtins.str instance\n",
      "    Return a copy of the string with leading and trailing whitespace removed.\n",
      "    \n",
      "    If chars is given and not None, remove characters in chars instead.\n",
      "\n"
     ]
    }
   ],
   "source": [
    "help(str1.strip)"
   ]
  },
  {
   "cell_type": "code",
   "execution_count": 17,
   "id": "d7dbd64a",
   "metadata": {},
   "outputs": [
    {
     "data": {
      "text/plain": [
       "'wwwpythonww'"
      ]
     },
     "execution_count": 17,
     "metadata": {},
     "output_type": "execute_result"
    }
   ],
   "source": [
    "\"wwwpythonww\".strip()"
   ]
  },
  {
   "cell_type": "code",
   "execution_count": 20,
   "id": "9b03e4f9",
   "metadata": {},
   "outputs": [
    {
     "data": {
      "text/plain": [
       "'python'"
      ]
     },
     "execution_count": 20,
     "metadata": {},
     "output_type": "execute_result"
    }
   ],
   "source": [
    "\"wwwpythonww\".strip(\"w\")     #If chars is given and not None, remove characters in chars instead.\n"
   ]
  },
  {
   "cell_type": "code",
   "execution_count": 21,
   "id": "c185bdb2",
   "metadata": {},
   "outputs": [],
   "source": [
    "str3=\"we are learning python\""
   ]
  },
  {
   "cell_type": "code",
   "execution_count": 22,
   "id": "f674ba38",
   "metadata": {},
   "outputs": [
    {
     "data": {
      "text/plain": [
       "'we are learning python'"
      ]
     },
     "execution_count": 22,
     "metadata": {},
     "output_type": "execute_result"
    }
   ],
   "source": [
    "str3"
   ]
  },
  {
   "cell_type": "code",
   "execution_count": 23,
   "id": "07cb4d42",
   "metadata": {},
   "outputs": [
    {
     "data": {
      "text/plain": [
       "'we are learning python'"
      ]
     },
     "execution_count": 23,
     "metadata": {},
     "output_type": "execute_result"
    }
   ],
   "source": [
    "str3.strip() #spacee will not be removed from middle"
   ]
  },
  {
   "cell_type": "code",
   "execution_count": 24,
   "id": "3847098e",
   "metadata": {},
   "outputs": [
    {
     "name": "stdout",
     "output_type": "stream",
     "text": [
      "Help on class str in module builtins:\n",
      "\n",
      "class str(object)\n",
      " |  str(object='') -> str\n",
      " |  str(bytes_or_buffer[, encoding[, errors]]) -> str\n",
      " |  \n",
      " |  Create a new string object from the given object. If encoding or\n",
      " |  errors is specified, then the object must expose a data buffer\n",
      " |  that will be decoded using the given encoding and error handler.\n",
      " |  Otherwise, returns the result of object.__str__() (if defined)\n",
      " |  or repr(object).\n",
      " |  encoding defaults to sys.getdefaultencoding().\n",
      " |  errors defaults to 'strict'.\n",
      " |  \n",
      " |  Methods defined here:\n",
      " |  \n",
      " |  __add__(self, value, /)\n",
      " |      Return self+value.\n",
      " |  \n",
      " |  __contains__(self, key, /)\n",
      " |      Return key in self.\n",
      " |  \n",
      " |  __eq__(self, value, /)\n",
      " |      Return self==value.\n",
      " |  \n",
      " |  __format__(self, format_spec, /)\n",
      " |      Return a formatted version of the string as described by format_spec.\n",
      " |  \n",
      " |  __ge__(self, value, /)\n",
      " |      Return self>=value.\n",
      " |  \n",
      " |  __getattribute__(self, name, /)\n",
      " |      Return getattr(self, name).\n",
      " |  \n",
      " |  __getitem__(self, key, /)\n",
      " |      Return self[key].\n",
      " |  \n",
      " |  __getnewargs__(...)\n",
      " |  \n",
      " |  __gt__(self, value, /)\n",
      " |      Return self>value.\n",
      " |  \n",
      " |  __hash__(self, /)\n",
      " |      Return hash(self).\n",
      " |  \n",
      " |  __iter__(self, /)\n",
      " |      Implement iter(self).\n",
      " |  \n",
      " |  __le__(self, value, /)\n",
      " |      Return self<=value.\n",
      " |  \n",
      " |  __len__(self, /)\n",
      " |      Return len(self).\n",
      " |  \n",
      " |  __lt__(self, value, /)\n",
      " |      Return self<value.\n",
      " |  \n",
      " |  __mod__(self, value, /)\n",
      " |      Return self%value.\n",
      " |  \n",
      " |  __mul__(self, value, /)\n",
      " |      Return self*value.\n",
      " |  \n",
      " |  __ne__(self, value, /)\n",
      " |      Return self!=value.\n",
      " |  \n",
      " |  __repr__(self, /)\n",
      " |      Return repr(self).\n",
      " |  \n",
      " |  __rmod__(self, value, /)\n",
      " |      Return value%self.\n",
      " |  \n",
      " |  __rmul__(self, value, /)\n",
      " |      Return value*self.\n",
      " |  \n",
      " |  __sizeof__(self, /)\n",
      " |      Return the size of the string in memory, in bytes.\n",
      " |  \n",
      " |  __str__(self, /)\n",
      " |      Return str(self).\n",
      " |  \n",
      " |  capitalize(self, /)\n",
      " |      Return a capitalized version of the string.\n",
      " |      \n",
      " |      More specifically, make the first character have upper case and the rest lower\n",
      " |      case.\n",
      " |  \n",
      " |  casefold(self, /)\n",
      " |      Return a version of the string suitable for caseless comparisons.\n",
      " |  \n",
      " |  center(self, width, fillchar=' ', /)\n",
      " |      Return a centered string of length width.\n",
      " |      \n",
      " |      Padding is done using the specified fill character (default is a space).\n",
      " |  \n",
      " |  count(...)\n",
      " |      S.count(sub[, start[, end]]) -> int\n",
      " |      \n",
      " |      Return the number of non-overlapping occurrences of substring sub in\n",
      " |      string S[start:end].  Optional arguments start and end are\n",
      " |      interpreted as in slice notation.\n",
      " |  \n",
      " |  encode(self, /, encoding='utf-8', errors='strict')\n",
      " |      Encode the string using the codec registered for encoding.\n",
      " |      \n",
      " |      encoding\n",
      " |        The encoding in which to encode the string.\n",
      " |      errors\n",
      " |        The error handling scheme to use for encoding errors.\n",
      " |        The default is 'strict' meaning that encoding errors raise a\n",
      " |        UnicodeEncodeError.  Other possible values are 'ignore', 'replace' and\n",
      " |        'xmlcharrefreplace' as well as any other name registered with\n",
      " |        codecs.register_error that can handle UnicodeEncodeErrors.\n",
      " |  \n",
      " |  endswith(...)\n",
      " |      S.endswith(suffix[, start[, end]]) -> bool\n",
      " |      \n",
      " |      Return True if S ends with the specified suffix, False otherwise.\n",
      " |      With optional start, test S beginning at that position.\n",
      " |      With optional end, stop comparing S at that position.\n",
      " |      suffix can also be a tuple of strings to try.\n",
      " |  \n",
      " |  expandtabs(self, /, tabsize=8)\n",
      " |      Return a copy where all tab characters are expanded using spaces.\n",
      " |      \n",
      " |      If tabsize is not given, a tab size of 8 characters is assumed.\n",
      " |  \n",
      " |  find(...)\n",
      " |      S.find(sub[, start[, end]]) -> int\n",
      " |      \n",
      " |      Return the lowest index in S where substring sub is found,\n",
      " |      such that sub is contained within S[start:end].  Optional\n",
      " |      arguments start and end are interpreted as in slice notation.\n",
      " |      \n",
      " |      Return -1 on failure.\n",
      " |  \n",
      " |  format(...)\n",
      " |      S.format(*args, **kwargs) -> str\n",
      " |      \n",
      " |      Return a formatted version of S, using substitutions from args and kwargs.\n",
      " |      The substitutions are identified by braces ('{' and '}').\n",
      " |  \n",
      " |  format_map(...)\n",
      " |      S.format_map(mapping) -> str\n",
      " |      \n",
      " |      Return a formatted version of S, using substitutions from mapping.\n",
      " |      The substitutions are identified by braces ('{' and '}').\n",
      " |  \n",
      " |  index(...)\n",
      " |      S.index(sub[, start[, end]]) -> int\n",
      " |      \n",
      " |      Return the lowest index in S where substring sub is found,\n",
      " |      such that sub is contained within S[start:end].  Optional\n",
      " |      arguments start and end are interpreted as in slice notation.\n",
      " |      \n",
      " |      Raises ValueError when the substring is not found.\n",
      " |  \n",
      " |  isalnum(self, /)\n",
      " |      Return True if the string is an alpha-numeric string, False otherwise.\n",
      " |      \n",
      " |      A string is alpha-numeric if all characters in the string are alpha-numeric and\n",
      " |      there is at least one character in the string.\n",
      " |  \n",
      " |  isalpha(self, /)\n",
      " |      Return True if the string is an alphabetic string, False otherwise.\n",
      " |      \n",
      " |      A string is alphabetic if all characters in the string are alphabetic and there\n",
      " |      is at least one character in the string.\n",
      " |  \n",
      " |  isascii(self, /)\n",
      " |      Return True if all characters in the string are ASCII, False otherwise.\n",
      " |      \n",
      " |      ASCII characters have code points in the range U+0000-U+007F.\n",
      " |      Empty string is ASCII too.\n",
      " |  \n",
      " |  isdecimal(self, /)\n",
      " |      Return True if the string is a decimal string, False otherwise.\n",
      " |      \n",
      " |      A string is a decimal string if all characters in the string are decimal and\n",
      " |      there is at least one character in the string.\n",
      " |  \n",
      " |  isdigit(self, /)\n",
      " |      Return True if the string is a digit string, False otherwise.\n",
      " |      \n",
      " |      A string is a digit string if all characters in the string are digits and there\n",
      " |      is at least one character in the string.\n",
      " |  \n",
      " |  isidentifier(self, /)\n",
      " |      Return True if the string is a valid Python identifier, False otherwise.\n",
      " |      \n",
      " |      Call keyword.iskeyword(s) to test whether string s is a reserved identifier,\n",
      " |      such as \"def\" or \"class\".\n",
      " |  \n",
      " |  islower(self, /)\n",
      " |      Return True if the string is a lowercase string, False otherwise.\n",
      " |      \n",
      " |      A string is lowercase if all cased characters in the string are lowercase and\n",
      " |      there is at least one cased character in the string.\n",
      " |  \n",
      " |  isnumeric(self, /)\n",
      " |      Return True if the string is a numeric string, False otherwise.\n",
      " |      \n",
      " |      A string is numeric if all characters in the string are numeric and there is at\n",
      " |      least one character in the string.\n",
      " |  \n",
      " |  isprintable(self, /)\n",
      " |      Return True if the string is printable, False otherwise.\n",
      " |      \n",
      " |      A string is printable if all of its characters are considered printable in\n",
      " |      repr() or if it is empty.\n",
      " |  \n",
      " |  isspace(self, /)\n",
      " |      Return True if the string is a whitespace string, False otherwise.\n",
      " |      \n",
      " |      A string is whitespace if all characters in the string are whitespace and there\n",
      " |      is at least one character in the string.\n",
      " |  \n",
      " |  istitle(self, /)\n",
      " |      Return True if the string is a title-cased string, False otherwise.\n",
      " |      \n",
      " |      In a title-cased string, upper- and title-case characters may only\n",
      " |      follow uncased characters and lowercase characters only cased ones.\n",
      " |  \n",
      " |  isupper(self, /)\n",
      " |      Return True if the string is an uppercase string, False otherwise.\n",
      " |      \n",
      " |      A string is uppercase if all cased characters in the string are uppercase and\n",
      " |      there is at least one cased character in the string.\n",
      " |  \n",
      " |  join(self, iterable, /)\n",
      " |      Concatenate any number of strings.\n",
      " |      \n",
      " |      The string whose method is called is inserted in between each given string.\n",
      " |      The result is returned as a new string.\n",
      " |      \n",
      " |      Example: '.'.join(['ab', 'pq', 'rs']) -> 'ab.pq.rs'\n",
      " |  \n",
      " |  ljust(self, width, fillchar=' ', /)\n",
      " |      Return a left-justified string of length width.\n",
      " |      \n",
      " |      Padding is done using the specified fill character (default is a space).\n",
      " |  \n",
      " |  lower(self, /)\n",
      " |      Return a copy of the string converted to lowercase.\n",
      " |  \n",
      " |  lstrip(self, chars=None, /)\n",
      " |      Return a copy of the string with leading whitespace removed.\n",
      " |      \n",
      " |      If chars is given and not None, remove characters in chars instead.\n",
      " |  \n",
      " |  partition(self, sep, /)\n",
      " |      Partition the string into three parts using the given separator.\n",
      " |      \n",
      " |      This will search for the separator in the string.  If the separator is found,\n",
      " |      returns a 3-tuple containing the part before the separator, the separator\n",
      " |      itself, and the part after it.\n",
      " |      \n",
      " |      If the separator is not found, returns a 3-tuple containing the original string\n",
      " |      and two empty strings.\n",
      " |  \n",
      " |  removeprefix(self, prefix, /)\n",
      " |      Return a str with the given prefix string removed if present.\n",
      " |      \n",
      " |      If the string starts with the prefix string, return string[len(prefix):].\n",
      " |      Otherwise, return a copy of the original string.\n",
      " |  \n",
      " |  removesuffix(self, suffix, /)\n",
      " |      Return a str with the given suffix string removed if present.\n",
      " |      \n",
      " |      If the string ends with the suffix string and that suffix is not empty,\n",
      " |      return string[:-len(suffix)]. Otherwise, return a copy of the original\n",
      " |      string.\n",
      " |  \n",
      " |  replace(self, old, new, count=-1, /)\n",
      " |      Return a copy with all occurrences of substring old replaced by new.\n",
      " |      \n",
      " |        count\n",
      " |          Maximum number of occurrences to replace.\n",
      " |          -1 (the default value) means replace all occurrences.\n",
      " |      \n",
      " |      If the optional argument count is given, only the first count occurrences are\n",
      " |      replaced.\n",
      " |  \n",
      " |  rfind(...)\n",
      " |      S.rfind(sub[, start[, end]]) -> int\n",
      " |      \n",
      " |      Return the highest index in S where substring sub is found,\n",
      " |      such that sub is contained within S[start:end].  Optional\n",
      " |      arguments start and end are interpreted as in slice notation.\n",
      " |      \n",
      " |      Return -1 on failure.\n",
      " |  \n",
      " |  rindex(...)\n",
      " |      S.rindex(sub[, start[, end]]) -> int\n",
      " |      \n",
      " |      Return the highest index in S where substring sub is found,\n",
      " |      such that sub is contained within S[start:end].  Optional\n",
      " |      arguments start and end are interpreted as in slice notation.\n",
      " |      \n",
      " |      Raises ValueError when the substring is not found.\n",
      " |  \n",
      " |  rjust(self, width, fillchar=' ', /)\n",
      " |      Return a right-justified string of length width.\n",
      " |      \n",
      " |      Padding is done using the specified fill character (default is a space).\n",
      " |  \n",
      " |  rpartition(self, sep, /)\n",
      " |      Partition the string into three parts using the given separator.\n",
      " |      \n",
      " |      This will search for the separator in the string, starting at the end. If\n",
      " |      the separator is found, returns a 3-tuple containing the part before the\n",
      " |      separator, the separator itself, and the part after it.\n",
      " |      \n",
      " |      If the separator is not found, returns a 3-tuple containing two empty strings\n",
      " |      and the original string.\n",
      " |  \n",
      " |  rsplit(self, /, sep=None, maxsplit=-1)\n",
      " |      Return a list of the substrings in the string, using sep as the separator string.\n",
      " |      \n",
      " |        sep\n",
      " |          The separator used to split the string.\n",
      " |      \n",
      " |          When set to None (the default value), will split on any whitespace\n",
      " |          character (including \\\\n \\\\r \\\\t \\\\f and spaces) and will discard\n",
      " |          empty strings from the result.\n",
      " |        maxsplit\n",
      " |          Maximum number of splits (starting from the left).\n",
      " |          -1 (the default value) means no limit.\n",
      " |      \n",
      " |      Splitting starts at the end of the string and works to the front.\n",
      " |  \n",
      " |  rstrip(self, chars=None, /)\n",
      " |      Return a copy of the string with trailing whitespace removed.\n",
      " |      \n",
      " |      If chars is given and not None, remove characters in chars instead.\n",
      " |  \n",
      " |  split(self, /, sep=None, maxsplit=-1)\n",
      " |      Return a list of the substrings in the string, using sep as the separator string.\n",
      " |      \n",
      " |        sep\n",
      " |          The separator used to split the string.\n",
      " |      \n",
      " |          When set to None (the default value), will split on any whitespace\n",
      " |          character (including \\\\n \\\\r \\\\t \\\\f and spaces) and will discard\n",
      " |          empty strings from the result.\n",
      " |        maxsplit\n",
      " |          Maximum number of splits (starting from the left).\n",
      " |          -1 (the default value) means no limit.\n",
      " |      \n",
      " |      Note, str.split() is mainly useful for data that has been intentionally\n",
      " |      delimited.  With natural text that includes punctuation, consider using\n",
      " |      the regular expression module.\n",
      " |  \n",
      " |  splitlines(self, /, keepends=False)\n",
      " |      Return a list of the lines in the string, breaking at line boundaries.\n",
      " |      \n",
      " |      Line breaks are not included in the resulting list unless keepends is given and\n",
      " |      true.\n",
      " |  \n",
      " |  startswith(...)\n",
      " |      S.startswith(prefix[, start[, end]]) -> bool\n",
      " |      \n",
      " |      Return True if S starts with the specified prefix, False otherwise.\n",
      " |      With optional start, test S beginning at that position.\n",
      " |      With optional end, stop comparing S at that position.\n",
      " |      prefix can also be a tuple of strings to try.\n",
      " |  \n",
      " |  strip(self, chars=None, /)\n",
      " |      Return a copy of the string with leading and trailing whitespace removed.\n",
      " |      \n",
      " |      If chars is given and not None, remove characters in chars instead.\n",
      " |  \n",
      " |  swapcase(self, /)\n",
      " |      Convert uppercase characters to lowercase and lowercase characters to uppercase.\n",
      " |  \n",
      " |  title(self, /)\n",
      " |      Return a version of the string where each word is titlecased.\n",
      " |      \n",
      " |      More specifically, words start with uppercased characters and all remaining\n",
      " |      cased characters have lower case.\n",
      " |  \n",
      " |  translate(self, table, /)\n",
      " |      Replace each character in the string using the given translation table.\n",
      " |      \n",
      " |        table\n",
      " |          Translation table, which must be a mapping of Unicode ordinals to\n",
      " |          Unicode ordinals, strings, or None.\n",
      " |      \n",
      " |      The table must implement lookup/indexing via __getitem__, for instance a\n",
      " |      dictionary or list.  If this operation raises LookupError, the character is\n",
      " |      left untouched.  Characters mapped to None are deleted.\n",
      " |  \n",
      " |  upper(self, /)\n",
      " |      Return a copy of the string converted to uppercase.\n",
      " |  \n",
      " |  zfill(self, width, /)\n",
      " |      Pad a numeric string with zeros on the left, to fill a field of the given width.\n",
      " |      \n",
      " |      The string is never truncated.\n",
      " |  \n",
      " |  ----------------------------------------------------------------------\n",
      " |  Static methods defined here:\n",
      " |  \n",
      " |  __new__(*args, **kwargs) from builtins.type\n",
      " |      Create and return a new object.  See help(type) for accurate signature.\n",
      " |  \n",
      " |  maketrans(...)\n",
      " |      Return a translation table usable for str.translate().\n",
      " |      \n",
      " |      If there is only one argument, it must be a dictionary mapping Unicode\n",
      " |      ordinals (integers) or characters to Unicode ordinals, strings or None.\n",
      " |      Character keys will be then converted to ordinals.\n",
      " |      If there are two arguments, they must be strings of equal length, and\n",
      " |      in the resulting dictionary, each character in x will be mapped to the\n",
      " |      character at the same position in y. If there is a third argument, it\n",
      " |      must be a string, whose characters will be mapped to None in the result.\n",
      "\n"
     ]
    }
   ],
   "source": [
    "help(str)"
   ]
  },
  {
   "cell_type": "code",
   "execution_count": 26,
   "id": "80f73c98",
   "metadata": {},
   "outputs": [
    {
     "data": {
      "text/plain": [
       "'pythonwwsssss'"
      ]
     },
     "execution_count": 26,
     "metadata": {},
     "output_type": "execute_result"
    }
   ],
   "source": [
    "\"wwwpythonwwsssss\".strip(\"w\")"
   ]
  },
  {
   "cell_type": "code",
   "execution_count": 30,
   "id": "0f481cbb",
   "metadata": {},
   "outputs": [
    {
     "data": {
      "text/plain": [
       "'pythonww'"
      ]
     },
     "execution_count": 30,
     "metadata": {},
     "output_type": "execute_result"
    }
   ],
   "source": [
    "\"wwwpythonwwss\".strip(\"w\").strip(\"s\")"
   ]
  },
  {
   "cell_type": "code",
   "execution_count": 28,
   "id": "c954f423",
   "metadata": {},
   "outputs": [
    {
     "data": {
      "text/plain": [
       "'wwwpythonwwsssss'"
      ]
     },
     "execution_count": 28,
     "metadata": {},
     "output_type": "execute_result"
    }
   ],
   "source": [
    "#rstrip() wil delete from right side and lstrip() will delete from left side\n",
    "str4=\"wwwpythonwwsssss\"\n",
    "str4.rstrip(\"w\")"
   ]
  },
  {
   "cell_type": "code",
   "execution_count": 29,
   "id": "58555987",
   "metadata": {},
   "outputs": [
    {
     "data": {
      "text/plain": [
       "'pythonwwsssss'"
      ]
     },
     "execution_count": 29,
     "metadata": {},
     "output_type": "execute_result"
    }
   ],
   "source": [
    "str4=\"wwwpythonwwsssss\"\n",
    "str4.lstrip(\"w\")"
   ]
  },
  {
   "cell_type": "code",
   "execution_count": 31,
   "id": "8c6d4644",
   "metadata": {},
   "outputs": [
    {
     "data": {
      "text/plain": [
       "'wwwpythonww     '"
      ]
     },
     "execution_count": 31,
     "metadata": {},
     "output_type": "execute_result"
    }
   ],
   "source": [
    "\"          wwwpythonww     \".lstrip()"
   ]
  },
  {
   "cell_type": "code",
   "execution_count": 32,
   "id": "23ad2a3d",
   "metadata": {},
   "outputs": [
    {
     "data": {
      "text/plain": [
       "'          wwwpythonww'"
      ]
     },
     "execution_count": 32,
     "metadata": {},
     "output_type": "execute_result"
    }
   ],
   "source": [
    "\"          wwwpythonww     \".rstrip()"
   ]
  },
  {
   "cell_type": "code",
   "execution_count": 34,
   "id": "16a77d99",
   "metadata": {},
   "outputs": [
    {
     "data": {
      "text/plain": [
       "'pythonww'"
      ]
     },
     "execution_count": 34,
     "metadata": {},
     "output_type": "execute_result"
    }
   ],
   "source": [
    "str4=\"wwwpythonwwsssss\"\n",
    "str4.lstrip(\"w\").rstrip(\"s\")"
   ]
  },
  {
   "cell_type": "code",
   "execution_count": 35,
   "id": "94621303",
   "metadata": {},
   "outputs": [
    {
     "data": {
      "text/plain": [
       "'samiya'"
      ]
     },
     "execution_count": 35,
     "metadata": {},
     "output_type": "execute_result"
    }
   ],
   "source": [
    "#find() gives the index value of the first occurance of the charecter\n",
    "s1"
   ]
  },
  {
   "cell_type": "code",
   "execution_count": 37,
   "id": "32c334b6",
   "metadata": {},
   "outputs": [
    {
     "data": {
      "text/plain": [
       "0"
      ]
     },
     "execution_count": 37,
     "metadata": {},
     "output_type": "execute_result"
    }
   ],
   "source": [
    "s1.find(\"s\")"
   ]
  },
  {
   "cell_type": "code",
   "execution_count": 38,
   "id": "399328e4",
   "metadata": {},
   "outputs": [
    {
     "ename": "TypeError",
     "evalue": "find() takes at least 1 argument (0 given)",
     "output_type": "error",
     "traceback": [
      "\u001b[1;31m---------------------------------------------------------------------------\u001b[0m",
      "\u001b[1;31mTypeError\u001b[0m                                 Traceback (most recent call last)",
      "Cell \u001b[1;32mIn[38], line 1\u001b[0m\n\u001b[1;32m----> 1\u001b[0m s1\u001b[38;5;241m.\u001b[39mfind()\n",
      "\u001b[1;31mTypeError\u001b[0m: find() takes at least 1 argument (0 given)"
     ]
    }
   ],
   "source": [
    "s1.find()"
   ]
  },
  {
   "cell_type": "code",
   "execution_count": 40,
   "id": "0dd0bf99",
   "metadata": {},
   "outputs": [
    {
     "data": {
      "text/plain": [
       "1"
      ]
     },
     "execution_count": 40,
     "metadata": {},
     "output_type": "execute_result"
    }
   ],
   "source": [
    "s1.find(\"a\")"
   ]
  },
  {
   "cell_type": "code",
   "execution_count": 41,
   "id": "2649d052",
   "metadata": {},
   "outputs": [
    {
     "data": {
      "text/plain": [
       "'we are learning python'"
      ]
     },
     "execution_count": 41,
     "metadata": {},
     "output_type": "execute_result"
    }
   ],
   "source": [
    "str3\n"
   ]
  },
  {
   "cell_type": "code",
   "execution_count": 43,
   "id": "8322a76b",
   "metadata": {},
   "outputs": [
    {
     "data": {
      "text/plain": [
       "16"
      ]
     },
     "execution_count": 43,
     "metadata": {},
     "output_type": "execute_result"
    }
   ],
   "source": [
    "str3.find(\"python\") #gives the first charecter index that is p"
   ]
  },
  {
   "cell_type": "code",
   "execution_count": 44,
   "id": "1f05a1e3",
   "metadata": {},
   "outputs": [
    {
     "data": {
      "text/plain": [
       "2"
      ]
     },
     "execution_count": 44,
     "metadata": {},
     "output_type": "execute_result"
    }
   ],
   "source": [
    "str3.find(\" ar\")"
   ]
  },
  {
   "cell_type": "code",
   "execution_count": 46,
   "id": "7a7314b4",
   "metadata": {},
   "outputs": [
    {
     "data": {
      "text/plain": [
       "-1"
      ]
     },
     "execution_count": 46,
     "metadata": {},
     "output_type": "execute_result"
    }
   ],
   "source": [
    "str3.find(\"z\") #-1 indecates char is not present in string"
   ]
  },
  {
   "cell_type": "code",
   "execution_count": 48,
   "id": "7b3e575e",
   "metadata": {},
   "outputs": [
    {
     "data": {
      "text/plain": [
       "8"
      ]
     },
     "execution_count": 48,
     "metadata": {},
     "output_type": "execute_result"
    }
   ],
   "source": [
    "#rfind  right side first occurence\n",
    "str3.rfind(\"e\")"
   ]
  },
  {
   "cell_type": "code",
   "execution_count": 49,
   "id": "1328712f",
   "metadata": {},
   "outputs": [
    {
     "data": {
      "text/plain": [
       "16"
      ]
     },
     "execution_count": 49,
     "metadata": {},
     "output_type": "execute_result"
    }
   ],
   "source": [
    "#index is same as find\n",
    "str3.find(\"python\")"
   ]
  },
  {
   "cell_type": "code",
   "execution_count": 50,
   "id": "054077b2",
   "metadata": {},
   "outputs": [
    {
     "ename": "ValueError",
     "evalue": "substring not found",
     "output_type": "error",
     "traceback": [
      "\u001b[1;31m---------------------------------------------------------------------------\u001b[0m",
      "\u001b[1;31mValueError\u001b[0m                                Traceback (most recent call last)",
      "Cell \u001b[1;32mIn[50], line 1\u001b[0m\n\u001b[1;32m----> 1\u001b[0m str3\u001b[38;5;241m.\u001b[39mindex(\u001b[38;5;124m\"\u001b[39m\u001b[38;5;124mz\u001b[39m\u001b[38;5;124m\"\u001b[39m)\n",
      "\u001b[1;31mValueError\u001b[0m: substring not found"
     ]
    }
   ],
   "source": [
    "str3.index(\"z\") #-1 indecates char is not present in string and index function gives error"
   ]
  },
  {
   "cell_type": "code",
   "execution_count": 51,
   "id": "e8902133",
   "metadata": {},
   "outputs": [
    {
     "data": {
      "text/plain": [
       "8"
      ]
     },
     "execution_count": 51,
     "metadata": {},
     "output_type": "execute_result"
    }
   ],
   "source": [
    "#rindex  right side first occurence\n",
    "str3.rindex(\"e\")"
   ]
  },
  {
   "cell_type": "code",
   "execution_count": 12,
   "id": "38959e87",
   "metadata": {},
   "outputs": [
    {
     "ename": "NameError",
     "evalue": "name 'str3' is not defined",
     "output_type": "error",
     "traceback": [
      "\u001b[1;31m---------------------------------------------------------------------------\u001b[0m",
      "\u001b[1;31mNameError\u001b[0m                                 Traceback (most recent call last)",
      "Cell \u001b[1;32mIn[12], line 2\u001b[0m\n\u001b[0;32m      1\u001b[0m \u001b[38;5;66;03m#find all the idexes of \"e\" in str3\u001b[39;00m\n\u001b[1;32m----> 2\u001b[0m str3\n",
      "\u001b[1;31mNameError\u001b[0m: name 'str3' is not defined"
     ]
    }
   ],
   "source": [
    "#find all the idexes of \"e\" in str3\n",
    "str3"
   ]
  },
  {
   "cell_type": "code",
   "execution_count": 62,
   "id": "fa773e97",
   "metadata": {},
   "outputs": [
    {
     "name": "stdout",
     "output_type": "stream",
     "text": [
      "1\n",
      "5\n",
      "8\n"
     ]
    }
   ],
   "source": [
    "for c in range(len(str3)):\n",
    "    if str3[c]==\"e\":\n",
    "        print(c)"
   ]
  },
  {
   "cell_type": "code",
   "execution_count": 63,
   "id": "64c9b4db",
   "metadata": {},
   "outputs": [
    {
     "data": {
      "text/plain": [
       "'we are learning python'"
      ]
     },
     "execution_count": 63,
     "metadata": {},
     "output_type": "execute_result"
    }
   ],
   "source": [
    "str3"
   ]
  },
  {
   "cell_type": "code",
   "execution_count": 65,
   "id": "01e088d5",
   "metadata": {},
   "outputs": [
    {
     "data": {
      "text/plain": [
       "3"
      ]
     },
     "execution_count": 65,
     "metadata": {},
     "output_type": "execute_result"
    }
   ],
   "source": [
    "#count of occurance of \"e\"\n",
    "str3.count(\"e\")"
   ]
  },
  {
   "cell_type": "code",
   "execution_count": 66,
   "id": "3dd18425",
   "metadata": {},
   "outputs": [
    {
     "name": "stdout",
     "output_type": "stream",
     "text": [
      "3\n"
     ]
    }
   ],
   "source": [
    "count=0\n",
    "for char in str3:\n",
    "    if char==\"e\":\n",
    "        count+=1\n",
    "print(count)"
   ]
  },
  {
   "cell_type": "code",
   "execution_count": 67,
   "id": "671ff555",
   "metadata": {},
   "outputs": [
    {
     "data": {
      "text/plain": [
       "1"
      ]
     },
     "execution_count": 67,
     "metadata": {},
     "output_type": "execute_result"
    }
   ],
   "source": [
    "str3.count(\"python\")"
   ]
  },
  {
   "cell_type": "code",
   "execution_count": 68,
   "id": "64a2c558",
   "metadata": {},
   "outputs": [
    {
     "data": {
      "text/plain": [
       "0"
      ]
     },
     "execution_count": 68,
     "metadata": {},
     "output_type": "execute_result"
    }
   ],
   "source": [
    "str3.count(\"d\") #zero means there are no d values in given string"
   ]
  },
  {
   "cell_type": "code",
   "execution_count": 1,
   "id": "9ae8df59",
   "metadata": {},
   "outputs": [
    {
     "name": "stdout",
     "output_type": "stream",
     "text": [
      "Help on class enumerate in module builtins:\n",
      "\n",
      "class enumerate(object)\n",
      " |  enumerate(iterable, start=0)\n",
      " |  \n",
      " |  Return an enumerate object.\n",
      " |  \n",
      " |    iterable\n",
      " |      an object supporting iteration\n",
      " |  \n",
      " |  The enumerate object yields pairs containing a count (from start, which\n",
      " |  defaults to zero) and a value yielded by the iterable argument.\n",
      " |  \n",
      " |  enumerate is useful for obtaining an indexed list:\n",
      " |      (0, seq[0]), (1, seq[1]), (2, seq[2]), ...\n",
      " |  \n",
      " |  Methods defined here:\n",
      " |  \n",
      " |  __getattribute__(self, name, /)\n",
      " |      Return getattr(self, name).\n",
      " |  \n",
      " |  __iter__(self, /)\n",
      " |      Implement iter(self).\n",
      " |  \n",
      " |  __next__(self, /)\n",
      " |      Implement next(self).\n",
      " |  \n",
      " |  __reduce__(...)\n",
      " |      Return state information for pickling.\n",
      " |  \n",
      " |  ----------------------------------------------------------------------\n",
      " |  Class methods defined here:\n",
      " |  \n",
      " |  __class_getitem__(...) from builtins.type\n",
      " |      See PEP 585\n",
      " |  \n",
      " |  ----------------------------------------------------------------------\n",
      " |  Static methods defined here:\n",
      " |  \n",
      " |  __new__(*args, **kwargs) from builtins.type\n",
      " |      Create and return a new object.  See help(type) for accurate signature.\n",
      "\n"
     ]
    }
   ],
   "source": [
    "#enumerate()\n",
    "help(enumerate)\n"
   ]
  },
  {
   "cell_type": "code",
   "execution_count": 2,
   "id": "0210dd00",
   "metadata": {},
   "outputs": [
    {
     "data": {
      "text/plain": [
       "[10, 20, 30, 40]"
      ]
     },
     "execution_count": 2,
     "metadata": {},
     "output_type": "execute_result"
    }
   ],
   "source": [
    "l1=[10,20,30,40]\n",
    "l1"
   ]
  },
  {
   "cell_type": "code",
   "execution_count": 4,
   "id": "85730661",
   "metadata": {},
   "outputs": [
    {
     "data": {
      "text/plain": [
       "<enumerate at 0x2478bb5bf10>"
      ]
     },
     "execution_count": 4,
     "metadata": {},
     "output_type": "execute_result"
    }
   ],
   "source": [
    "e1=enumerate(l1)\n",
    "e1"
   ]
  },
  {
   "cell_type": "code",
   "execution_count": 5,
   "id": "3d30f273",
   "metadata": {},
   "outputs": [
    {
     "data": {
      "text/plain": [
       "enumerate"
      ]
     },
     "execution_count": 5,
     "metadata": {},
     "output_type": "execute_result"
    }
   ],
   "source": [
    "type(e1)"
   ]
  },
  {
   "cell_type": "code",
   "execution_count": 6,
   "id": "860961f4",
   "metadata": {},
   "outputs": [
    {
     "data": {
      "text/plain": [
       "[(0, 10), (1, 20), (2, 30), (3, 40)]"
      ]
     },
     "execution_count": 6,
     "metadata": {},
     "output_type": "execute_result"
    }
   ],
   "source": [
    "list(e1) #give list of emumerated "
   ]
  },
  {
   "cell_type": "code",
   "execution_count": 7,
   "id": "c5017b04",
   "metadata": {},
   "outputs": [
    {
     "data": {
      "text/plain": [
       "[10, 20, 30, 40]"
      ]
     },
     "execution_count": 7,
     "metadata": {},
     "output_type": "execute_result"
    }
   ],
   "source": [
    "l1"
   ]
  },
  {
   "cell_type": "code",
   "execution_count": 11,
   "id": "1da4ea86",
   "metadata": {},
   "outputs": [
    {
     "name": "stdout",
     "output_type": "stream",
     "text": [
      "(0, 10)\n",
      "(1, 20)\n",
      "(2, 30)\n",
      "(3, 40)\n"
     ]
    }
   ],
   "source": [
    "for i in enumerate(l1):\n",
    "    print(i)"
   ]
  },
  {
   "cell_type": "code",
   "execution_count": 13,
   "id": "2e5b4a95",
   "metadata": {},
   "outputs": [
    {
     "name": "stdout",
     "output_type": "stream",
     "text": [
      "1\n",
      "5\n",
      "8\n"
     ]
    }
   ],
   "source": [
    "str3='we are learning python'\n",
    "for index,char in enumerate(str3):\n",
    "    if char ==\"e\":\n",
    "        print(index)\n"
   ]
  },
  {
   "cell_type": "code",
   "execution_count": 14,
   "id": "e66ee3aa",
   "metadata": {},
   "outputs": [
    {
     "data": {
      "text/plain": [
       "[10, 12, 19, 15]"
      ]
     },
     "execution_count": 14,
     "metadata": {},
     "output_type": "execute_result"
    }
   ],
   "source": [
    "profits = [10,12,19,15]\n",
    "profits"
   ]
  },
  {
   "cell_type": "code",
   "execution_count": 15,
   "id": "41f6d1fa",
   "metadata": {},
   "outputs": [
    {
     "name": "stdout",
     "output_type": "stream",
     "text": [
      "(2015, 10)\n",
      "(2016, 12)\n",
      "(2017, 19)\n",
      "(2018, 15)\n"
     ]
    }
   ],
   "source": [
    "for i in enumerate(profits,start=2015): #start is by default zero but we can change it.\n",
    "    print(i)"
   ]
  },
  {
   "cell_type": "code",
   "execution_count": 16,
   "id": "d95de77a",
   "metadata": {},
   "outputs": [
    {
     "data": {
      "text/plain": [
       "'We are learning python'"
      ]
     },
     "execution_count": 16,
     "metadata": {},
     "output_type": "execute_result"
    }
   ],
   "source": [
    "str3.replace(\"w\",\"W\") #STRINGS ARE immutab;e but when we replace the value it will addded in new address and original value does not change\n"
   ]
  },
  {
   "cell_type": "code",
   "execution_count": 17,
   "id": "7e7e9399",
   "metadata": {},
   "outputs": [
    {
     "data": {
      "text/plain": [
       "'we are learning python'"
      ]
     },
     "execution_count": 17,
     "metadata": {},
     "output_type": "execute_result"
    }
   ],
   "source": [
    "str3"
   ]
  },
  {
   "cell_type": "code",
   "execution_count": 18,
   "id": "6c9479d2",
   "metadata": {},
   "outputs": [
    {
     "data": {
      "text/plain": [
       "'we are learNiNg pythoN'"
      ]
     },
     "execution_count": 18,
     "metadata": {},
     "output_type": "execute_result"
    }
   ],
   "source": [
    "str3.replace(\"n\",\"N\") #all values get changed."
   ]
  },
  {
   "cell_type": "code",
   "execution_count": 20,
   "id": "fc71dfc0",
   "metadata": {},
   "outputs": [
    {
     "data": {
      "text/plain": [
       "'we are learNiNg python'"
      ]
     },
     "execution_count": 20,
     "metadata": {},
     "output_type": "execute_result"
    }
   ],
   "source": [
    "str3.replace(\"n\",\"N\",2) # only 2 n will change from left"
   ]
  },
  {
   "cell_type": "code",
   "execution_count": 21,
   "id": "84b2508a",
   "metadata": {},
   "outputs": [
    {
     "data": {
      "text/plain": [
       "['we', 'are', 'learning', 'python']"
      ]
     },
     "execution_count": 21,
     "metadata": {},
     "output_type": "execute_result"
    }
   ],
   "source": [
    "#split() #split the string from spaces and put it in a list\n",
    "str3.split()"
   ]
  },
  {
   "cell_type": "code",
   "execution_count": 24,
   "id": "b5c28fab",
   "metadata": {},
   "outputs": [
    {
     "data": {
      "text/plain": [
       "['we ', 're le', 'rning python']"
      ]
     },
     "execution_count": 24,
     "metadata": {},
     "output_type": "execute_result"
    }
   ],
   "source": [
    "str3.split(\"a\") #a will not be the part of the output"
   ]
  },
  {
   "cell_type": "code",
   "execution_count": 26,
   "id": "1699b142",
   "metadata": {},
   "outputs": [
    {
     "data": {
      "text/plain": [
       "['we are lear', 'i', 'g pytho', '']"
      ]
     },
     "execution_count": 26,
     "metadata": {},
     "output_type": "execute_result"
    }
   ],
   "source": [
    "str3.split(\"n\") #if the split char is at the end it will give the emplty space in the last"
   ]
  },
  {
   "cell_type": "code",
   "execution_count": 27,
   "id": "1e5a8543",
   "metadata": {},
   "outputs": [
    {
     "data": {
      "text/plain": [
       "'mango,apple,orange,grapes'"
      ]
     },
     "execution_count": 27,
     "metadata": {},
     "output_type": "execute_result"
    }
   ],
   "source": [
    "s2=\"mango,apple,orange,grapes\"\n",
    "s2"
   ]
  },
  {
   "cell_type": "code",
   "execution_count": 28,
   "id": "965d738d",
   "metadata": {},
   "outputs": [],
   "source": [
    "fruits=s2.split(\",\")"
   ]
  },
  {
   "cell_type": "code",
   "execution_count": 29,
   "id": "86b9e40d",
   "metadata": {},
   "outputs": [
    {
     "data": {
      "text/plain": [
       "['mango', 'apple', 'orange', 'grapes']"
      ]
     },
     "execution_count": 29,
     "metadata": {},
     "output_type": "execute_result"
    }
   ],
   "source": [
    "fruits"
   ]
  },
  {
   "cell_type": "code",
   "execution_count": 30,
   "id": "e116697f",
   "metadata": {},
   "outputs": [
    {
     "data": {
      "text/plain": [
       "'mango-apple-orange-grapes'"
      ]
     },
     "execution_count": 30,
     "metadata": {},
     "output_type": "execute_result"
    }
   ],
   "source": [
    "#join() #join the values with given char\n",
    "\"-\".join(fruits)"
   ]
  },
  {
   "cell_type": "code",
   "execution_count": 32,
   "id": "176d24ac",
   "metadata": {},
   "outputs": [
    {
     "data": {
      "text/plain": [
       "'h$e$l$l$o'"
      ]
     },
     "execution_count": 32,
     "metadata": {},
     "output_type": "execute_result"
    }
   ],
   "source": [
    "s3=\"hello\"\n",
    "\"$\".join(s3)"
   ]
  },
  {
   "cell_type": "code",
   "execution_count": 34,
   "id": "116b0d5b",
   "metadata": {},
   "outputs": [
    {
     "data": {
      "text/plain": [
       "'w@e@ @a@r@e@ @l@e@a@r@n@i@n@g@ @p@y@t@h@o@n'"
      ]
     },
     "execution_count": 34,
     "metadata": {},
     "output_type": "execute_result"
    }
   ],
   "source": [
    "\"@\".join(str3)"
   ]
  },
  {
   "cell_type": "code",
   "execution_count": 35,
   "id": "4e5303c4",
   "metadata": {},
   "outputs": [
    {
     "data": {
      "text/plain": [
       "'PYTHON'"
      ]
     },
     "execution_count": 35,
     "metadata": {},
     "output_type": "execute_result"
    }
   ],
   "source": [
    "#upper()\n",
    "\"python\".upper()"
   ]
  },
  {
   "cell_type": "code",
   "execution_count": 37,
   "id": "abb336b7",
   "metadata": {},
   "outputs": [
    {
     "data": {
      "text/plain": [
       "'PYTHON 3.11'"
      ]
     },
     "execution_count": 37,
     "metadata": {},
     "output_type": "execute_result"
    }
   ],
   "source": [
    "\"python 3.11\".upper() #non alpha char are ignored"
   ]
  },
  {
   "cell_type": "code",
   "execution_count": 39,
   "id": "5151dc11",
   "metadata": {},
   "outputs": [
    {
     "data": {
      "text/plain": [
       "'python'"
      ]
     },
     "execution_count": 39,
     "metadata": {},
     "output_type": "execute_result"
    }
   ],
   "source": [
    "#lower()\n",
    "\"PYTHON\".lower()"
   ]
  },
  {
   "cell_type": "code",
   "execution_count": 41,
   "id": "f6ce22fd",
   "metadata": {},
   "outputs": [
    {
     "data": {
      "text/plain": [
       "'WE ARE LEARNING PYTHON'"
      ]
     },
     "execution_count": 41,
     "metadata": {},
     "output_type": "execute_result"
    }
   ],
   "source": [
    "str3.swapcase() #used to swap from small to caps and caps to small"
   ]
  },
  {
   "cell_type": "code",
   "execution_count": 42,
   "id": "d86dbd7f",
   "metadata": {},
   "outputs": [
    {
     "data": {
      "text/plain": [
       "'WE ARE learning python'"
      ]
     },
     "execution_count": 42,
     "metadata": {},
     "output_type": "execute_result"
    }
   ],
   "source": [
    "'we are LEARNING PYTHON'.swapcase()"
   ]
  },
  {
   "cell_type": "code",
   "execution_count": 44,
   "id": "381dede4",
   "metadata": {},
   "outputs": [
    {
     "data": {
      "text/plain": [
       "True"
      ]
     },
     "execution_count": 44,
     "metadata": {},
     "output_type": "execute_result"
    }
   ],
   "source": [
    "#startwith() #gives true or false\n",
    "str3.startswith(\"we\")"
   ]
  },
  {
   "cell_type": "code",
   "execution_count": 45,
   "id": "0a8e8f65",
   "metadata": {},
   "outputs": [
    {
     "data": {
      "text/plain": [
       "False"
      ]
     },
     "execution_count": 45,
     "metadata": {},
     "output_type": "execute_result"
    }
   ],
   "source": [
    "str3.startswith(\"and\")"
   ]
  },
  {
   "cell_type": "code",
   "execution_count": 46,
   "id": "660c8113",
   "metadata": {},
   "outputs": [
    {
     "data": {
      "text/plain": [
       "True"
      ]
     },
     "execution_count": 46,
     "metadata": {},
     "output_type": "execute_result"
    }
   ],
   "source": [
    "str3.endswith(\"python\")"
   ]
  },
  {
   "cell_type": "code",
   "execution_count": 48,
   "id": "71865d59",
   "metadata": {},
   "outputs": [
    {
     "data": {
      "text/plain": [
       "True"
      ]
     },
     "execution_count": 48,
     "metadata": {},
     "output_type": "execute_result"
    }
   ],
   "source": [
    "str3.endswith(\"n\")"
   ]
  },
  {
   "cell_type": "code",
   "execution_count": 49,
   "id": "27885832",
   "metadata": {},
   "outputs": [
    {
     "data": {
      "text/plain": [
       "False"
      ]
     },
     "execution_count": 49,
     "metadata": {},
     "output_type": "execute_result"
    }
   ],
   "source": [
    "str3.endswith(\"we\")"
   ]
  },
  {
   "cell_type": "code",
   "execution_count": 50,
   "id": "d83bf6eb",
   "metadata": {},
   "outputs": [
    {
     "name": "stdout",
     "output_type": "stream",
     "text": [
      "Help on class str in module builtins:\n",
      "\n",
      "class str(object)\n",
      " |  str(object='') -> str\n",
      " |  str(bytes_or_buffer[, encoding[, errors]]) -> str\n",
      " |  \n",
      " |  Create a new string object from the given object. If encoding or\n",
      " |  errors is specified, then the object must expose a data buffer\n",
      " |  that will be decoded using the given encoding and error handler.\n",
      " |  Otherwise, returns the result of object.__str__() (if defined)\n",
      " |  or repr(object).\n",
      " |  encoding defaults to sys.getdefaultencoding().\n",
      " |  errors defaults to 'strict'.\n",
      " |  \n",
      " |  Methods defined here:\n",
      " |  \n",
      " |  __add__(self, value, /)\n",
      " |      Return self+value.\n",
      " |  \n",
      " |  __contains__(self, key, /)\n",
      " |      Return key in self.\n",
      " |  \n",
      " |  __eq__(self, value, /)\n",
      " |      Return self==value.\n",
      " |  \n",
      " |  __format__(self, format_spec, /)\n",
      " |      Return a formatted version of the string as described by format_spec.\n",
      " |  \n",
      " |  __ge__(self, value, /)\n",
      " |      Return self>=value.\n",
      " |  \n",
      " |  __getattribute__(self, name, /)\n",
      " |      Return getattr(self, name).\n",
      " |  \n",
      " |  __getitem__(self, key, /)\n",
      " |      Return self[key].\n",
      " |  \n",
      " |  __getnewargs__(...)\n",
      " |  \n",
      " |  __gt__(self, value, /)\n",
      " |      Return self>value.\n",
      " |  \n",
      " |  __hash__(self, /)\n",
      " |      Return hash(self).\n",
      " |  \n",
      " |  __iter__(self, /)\n",
      " |      Implement iter(self).\n",
      " |  \n",
      " |  __le__(self, value, /)\n",
      " |      Return self<=value.\n",
      " |  \n",
      " |  __len__(self, /)\n",
      " |      Return len(self).\n",
      " |  \n",
      " |  __lt__(self, value, /)\n",
      " |      Return self<value.\n",
      " |  \n",
      " |  __mod__(self, value, /)\n",
      " |      Return self%value.\n",
      " |  \n",
      " |  __mul__(self, value, /)\n",
      " |      Return self*value.\n",
      " |  \n",
      " |  __ne__(self, value, /)\n",
      " |      Return self!=value.\n",
      " |  \n",
      " |  __repr__(self, /)\n",
      " |      Return repr(self).\n",
      " |  \n",
      " |  __rmod__(self, value, /)\n",
      " |      Return value%self.\n",
      " |  \n",
      " |  __rmul__(self, value, /)\n",
      " |      Return value*self.\n",
      " |  \n",
      " |  __sizeof__(self, /)\n",
      " |      Return the size of the string in memory, in bytes.\n",
      " |  \n",
      " |  __str__(self, /)\n",
      " |      Return str(self).\n",
      " |  \n",
      " |  capitalize(self, /)\n",
      " |      Return a capitalized version of the string.\n",
      " |      \n",
      " |      More specifically, make the first character have upper case and the rest lower\n",
      " |      case.\n",
      " |  \n",
      " |  casefold(self, /)\n",
      " |      Return a version of the string suitable for caseless comparisons.\n",
      " |  \n",
      " |  center(self, width, fillchar=' ', /)\n",
      " |      Return a centered string of length width.\n",
      " |      \n",
      " |      Padding is done using the specified fill character (default is a space).\n",
      " |  \n",
      " |  count(...)\n",
      " |      S.count(sub[, start[, end]]) -> int\n",
      " |      \n",
      " |      Return the number of non-overlapping occurrences of substring sub in\n",
      " |      string S[start:end].  Optional arguments start and end are\n",
      " |      interpreted as in slice notation.\n",
      " |  \n",
      " |  encode(self, /, encoding='utf-8', errors='strict')\n",
      " |      Encode the string using the codec registered for encoding.\n",
      " |      \n",
      " |      encoding\n",
      " |        The encoding in which to encode the string.\n",
      " |      errors\n",
      " |        The error handling scheme to use for encoding errors.\n",
      " |        The default is 'strict' meaning that encoding errors raise a\n",
      " |        UnicodeEncodeError.  Other possible values are 'ignore', 'replace' and\n",
      " |        'xmlcharrefreplace' as well as any other name registered with\n",
      " |        codecs.register_error that can handle UnicodeEncodeErrors.\n",
      " |  \n",
      " |  endswith(...)\n",
      " |      S.endswith(suffix[, start[, end]]) -> bool\n",
      " |      \n",
      " |      Return True if S ends with the specified suffix, False otherwise.\n",
      " |      With optional start, test S beginning at that position.\n",
      " |      With optional end, stop comparing S at that position.\n",
      " |      suffix can also be a tuple of strings to try.\n",
      " |  \n",
      " |  expandtabs(self, /, tabsize=8)\n",
      " |      Return a copy where all tab characters are expanded using spaces.\n",
      " |      \n",
      " |      If tabsize is not given, a tab size of 8 characters is assumed.\n",
      " |  \n",
      " |  find(...)\n",
      " |      S.find(sub[, start[, end]]) -> int\n",
      " |      \n",
      " |      Return the lowest index in S where substring sub is found,\n",
      " |      such that sub is contained within S[start:end].  Optional\n",
      " |      arguments start and end are interpreted as in slice notation.\n",
      " |      \n",
      " |      Return -1 on failure.\n",
      " |  \n",
      " |  format(...)\n",
      " |      S.format(*args, **kwargs) -> str\n",
      " |      \n",
      " |      Return a formatted version of S, using substitutions from args and kwargs.\n",
      " |      The substitutions are identified by braces ('{' and '}').\n",
      " |  \n",
      " |  format_map(...)\n",
      " |      S.format_map(mapping) -> str\n",
      " |      \n",
      " |      Return a formatted version of S, using substitutions from mapping.\n",
      " |      The substitutions are identified by braces ('{' and '}').\n",
      " |  \n",
      " |  index(...)\n",
      " |      S.index(sub[, start[, end]]) -> int\n",
      " |      \n",
      " |      Return the lowest index in S where substring sub is found,\n",
      " |      such that sub is contained within S[start:end].  Optional\n",
      " |      arguments start and end are interpreted as in slice notation.\n",
      " |      \n",
      " |      Raises ValueError when the substring is not found.\n",
      " |  \n",
      " |  isalnum(self, /)\n",
      " |      Return True if the string is an alpha-numeric string, False otherwise.\n",
      " |      \n",
      " |      A string is alpha-numeric if all characters in the string are alpha-numeric and\n",
      " |      there is at least one character in the string.\n",
      " |  \n",
      " |  isalpha(self, /)\n",
      " |      Return True if the string is an alphabetic string, False otherwise.\n",
      " |      \n",
      " |      A string is alphabetic if all characters in the string are alphabetic and there\n",
      " |      is at least one character in the string.\n",
      " |  \n",
      " |  isascii(self, /)\n",
      " |      Return True if all characters in the string are ASCII, False otherwise.\n",
      " |      \n",
      " |      ASCII characters have code points in the range U+0000-U+007F.\n",
      " |      Empty string is ASCII too.\n",
      " |  \n",
      " |  isdecimal(self, /)\n",
      " |      Return True if the string is a decimal string, False otherwise.\n",
      " |      \n",
      " |      A string is a decimal string if all characters in the string are decimal and\n",
      " |      there is at least one character in the string.\n",
      " |  \n",
      " |  isdigit(self, /)\n",
      " |      Return True if the string is a digit string, False otherwise.\n",
      " |      \n",
      " |      A string is a digit string if all characters in the string are digits and there\n",
      " |      is at least one character in the string.\n",
      " |  \n",
      " |  isidentifier(self, /)\n",
      " |      Return True if the string is a valid Python identifier, False otherwise.\n",
      " |      \n",
      " |      Call keyword.iskeyword(s) to test whether string s is a reserved identifier,\n",
      " |      such as \"def\" or \"class\".\n",
      " |  \n",
      " |  islower(self, /)\n",
      " |      Return True if the string is a lowercase string, False otherwise.\n",
      " |      \n",
      " |      A string is lowercase if all cased characters in the string are lowercase and\n",
      " |      there is at least one cased character in the string.\n",
      " |  \n",
      " |  isnumeric(self, /)\n",
      " |      Return True if the string is a numeric string, False otherwise.\n",
      " |      \n",
      " |      A string is numeric if all characters in the string are numeric and there is at\n",
      " |      least one character in the string.\n",
      " |  \n",
      " |  isprintable(self, /)\n",
      " |      Return True if the string is printable, False otherwise.\n",
      " |      \n",
      " |      A string is printable if all of its characters are considered printable in\n",
      " |      repr() or if it is empty.\n",
      " |  \n",
      " |  isspace(self, /)\n",
      " |      Return True if the string is a whitespace string, False otherwise.\n",
      " |      \n",
      " |      A string is whitespace if all characters in the string are whitespace and there\n",
      " |      is at least one character in the string.\n",
      " |  \n",
      " |  istitle(self, /)\n",
      " |      Return True if the string is a title-cased string, False otherwise.\n",
      " |      \n",
      " |      In a title-cased string, upper- and title-case characters may only\n",
      " |      follow uncased characters and lowercase characters only cased ones.\n",
      " |  \n",
      " |  isupper(self, /)\n",
      " |      Return True if the string is an uppercase string, False otherwise.\n",
      " |      \n",
      " |      A string is uppercase if all cased characters in the string are uppercase and\n",
      " |      there is at least one cased character in the string.\n",
      " |  \n",
      " |  join(self, iterable, /)\n",
      " |      Concatenate any number of strings.\n",
      " |      \n",
      " |      The string whose method is called is inserted in between each given string.\n",
      " |      The result is returned as a new string.\n",
      " |      \n",
      " |      Example: '.'.join(['ab', 'pq', 'rs']) -> 'ab.pq.rs'\n",
      " |  \n",
      " |  ljust(self, width, fillchar=' ', /)\n",
      " |      Return a left-justified string of length width.\n",
      " |      \n",
      " |      Padding is done using the specified fill character (default is a space).\n",
      " |  \n",
      " |  lower(self, /)\n",
      " |      Return a copy of the string converted to lowercase.\n",
      " |  \n",
      " |  lstrip(self, chars=None, /)\n",
      " |      Return a copy of the string with leading whitespace removed.\n",
      " |      \n",
      " |      If chars is given and not None, remove characters in chars instead.\n",
      " |  \n",
      " |  partition(self, sep, /)\n",
      " |      Partition the string into three parts using the given separator.\n",
      " |      \n",
      " |      This will search for the separator in the string.  If the separator is found,\n",
      " |      returns a 3-tuple containing the part before the separator, the separator\n",
      " |      itself, and the part after it.\n",
      " |      \n",
      " |      If the separator is not found, returns a 3-tuple containing the original string\n",
      " |      and two empty strings.\n",
      " |  \n",
      " |  removeprefix(self, prefix, /)\n",
      " |      Return a str with the given prefix string removed if present.\n",
      " |      \n",
      " |      If the string starts with the prefix string, return string[len(prefix):].\n",
      " |      Otherwise, return a copy of the original string.\n",
      " |  \n",
      " |  removesuffix(self, suffix, /)\n",
      " |      Return a str with the given suffix string removed if present.\n",
      " |      \n",
      " |      If the string ends with the suffix string and that suffix is not empty,\n",
      " |      return string[:-len(suffix)]. Otherwise, return a copy of the original\n",
      " |      string.\n",
      " |  \n",
      " |  replace(self, old, new, count=-1, /)\n",
      " |      Return a copy with all occurrences of substring old replaced by new.\n",
      " |      \n",
      " |        count\n",
      " |          Maximum number of occurrences to replace.\n",
      " |          -1 (the default value) means replace all occurrences.\n",
      " |      \n",
      " |      If the optional argument count is given, only the first count occurrences are\n",
      " |      replaced.\n",
      " |  \n",
      " |  rfind(...)\n",
      " |      S.rfind(sub[, start[, end]]) -> int\n",
      " |      \n",
      " |      Return the highest index in S where substring sub is found,\n",
      " |      such that sub is contained within S[start:end].  Optional\n",
      " |      arguments start and end are interpreted as in slice notation.\n",
      " |      \n",
      " |      Return -1 on failure.\n",
      " |  \n",
      " |  rindex(...)\n",
      " |      S.rindex(sub[, start[, end]]) -> int\n",
      " |      \n",
      " |      Return the highest index in S where substring sub is found,\n",
      " |      such that sub is contained within S[start:end].  Optional\n",
      " |      arguments start and end are interpreted as in slice notation.\n",
      " |      \n",
      " |      Raises ValueError when the substring is not found.\n",
      " |  \n",
      " |  rjust(self, width, fillchar=' ', /)\n",
      " |      Return a right-justified string of length width.\n",
      " |      \n",
      " |      Padding is done using the specified fill character (default is a space).\n",
      " |  \n",
      " |  rpartition(self, sep, /)\n",
      " |      Partition the string into three parts using the given separator.\n",
      " |      \n",
      " |      This will search for the separator in the string, starting at the end. If\n",
      " |      the separator is found, returns a 3-tuple containing the part before the\n",
      " |      separator, the separator itself, and the part after it.\n",
      " |      \n",
      " |      If the separator is not found, returns a 3-tuple containing two empty strings\n",
      " |      and the original string.\n",
      " |  \n",
      " |  rsplit(self, /, sep=None, maxsplit=-1)\n",
      " |      Return a list of the substrings in the string, using sep as the separator string.\n",
      " |      \n",
      " |        sep\n",
      " |          The separator used to split the string.\n",
      " |      \n",
      " |          When set to None (the default value), will split on any whitespace\n",
      " |          character (including \\\\n \\\\r \\\\t \\\\f and spaces) and will discard\n",
      " |          empty strings from the result.\n",
      " |        maxsplit\n",
      " |          Maximum number of splits (starting from the left).\n",
      " |          -1 (the default value) means no limit.\n",
      " |      \n",
      " |      Splitting starts at the end of the string and works to the front.\n",
      " |  \n",
      " |  rstrip(self, chars=None, /)\n",
      " |      Return a copy of the string with trailing whitespace removed.\n",
      " |      \n",
      " |      If chars is given and not None, remove characters in chars instead.\n",
      " |  \n",
      " |  split(self, /, sep=None, maxsplit=-1)\n",
      " |      Return a list of the substrings in the string, using sep as the separator string.\n",
      " |      \n",
      " |        sep\n",
      " |          The separator used to split the string.\n",
      " |      \n",
      " |          When set to None (the default value), will split on any whitespace\n",
      " |          character (including \\\\n \\\\r \\\\t \\\\f and spaces) and will discard\n",
      " |          empty strings from the result.\n",
      " |        maxsplit\n",
      " |          Maximum number of splits (starting from the left).\n",
      " |          -1 (the default value) means no limit.\n",
      " |      \n",
      " |      Note, str.split() is mainly useful for data that has been intentionally\n",
      " |      delimited.  With natural text that includes punctuation, consider using\n",
      " |      the regular expression module.\n",
      " |  \n",
      " |  splitlines(self, /, keepends=False)\n",
      " |      Return a list of the lines in the string, breaking at line boundaries.\n",
      " |      \n",
      " |      Line breaks are not included in the resulting list unless keepends is given and\n",
      " |      true.\n",
      " |  \n",
      " |  startswith(...)\n",
      " |      S.startswith(prefix[, start[, end]]) -> bool\n",
      " |      \n",
      " |      Return True if S starts with the specified prefix, False otherwise.\n",
      " |      With optional start, test S beginning at that position.\n",
      " |      With optional end, stop comparing S at that position.\n",
      " |      prefix can also be a tuple of strings to try.\n",
      " |  \n",
      " |  strip(self, chars=None, /)\n",
      " |      Return a copy of the string with leading and trailing whitespace removed.\n",
      " |      \n",
      " |      If chars is given and not None, remove characters in chars instead.\n",
      " |  \n",
      " |  swapcase(self, /)\n",
      " |      Convert uppercase characters to lowercase and lowercase characters to uppercase.\n",
      " |  \n",
      " |  title(self, /)\n",
      " |      Return a version of the string where each word is titlecased.\n",
      " |      \n",
      " |      More specifically, words start with uppercased characters and all remaining\n",
      " |      cased characters have lower case.\n",
      " |  \n",
      " |  translate(self, table, /)\n",
      " |      Replace each character in the string using the given translation table.\n",
      " |      \n",
      " |        table\n",
      " |          Translation table, which must be a mapping of Unicode ordinals to\n",
      " |          Unicode ordinals, strings, or None.\n",
      " |      \n",
      " |      The table must implement lookup/indexing via __getitem__, for instance a\n",
      " |      dictionary or list.  If this operation raises LookupError, the character is\n",
      " |      left untouched.  Characters mapped to None are deleted.\n",
      " |  \n",
      " |  upper(self, /)\n",
      " |      Return a copy of the string converted to uppercase.\n",
      " |  \n",
      " |  zfill(self, width, /)\n",
      " |      Pad a numeric string with zeros on the left, to fill a field of the given width.\n",
      " |      \n",
      " |      The string is never truncated.\n",
      " |  \n",
      " |  ----------------------------------------------------------------------\n",
      " |  Static methods defined here:\n",
      " |  \n",
      " |  __new__(*args, **kwargs) from builtins.type\n",
      " |      Create and return a new object.  See help(type) for accurate signature.\n",
      " |  \n",
      " |  maketrans(...)\n",
      " |      Return a translation table usable for str.translate().\n",
      " |      \n",
      " |      If there is only one argument, it must be a dictionary mapping Unicode\n",
      " |      ordinals (integers) or characters to Unicode ordinals, strings or None.\n",
      " |      Character keys will be then converted to ordinals.\n",
      " |      If there are two arguments, they must be strings of equal length, and\n",
      " |      in the resulting dictionary, each character in x will be mapped to the\n",
      " |      character at the same position in y. If there is a third argument, it\n",
      " |      must be a string, whose characters will be mapped to None in the result.\n",
      "\n"
     ]
    }
   ],
   "source": [
    "help(str) #all function in string"
   ]
  },
  {
   "cell_type": "markdown",
   "id": "ce93c88f",
   "metadata": {},
   "source": [
    "# lists\n",
    "sequence of hetrogenous elements enclosed in square brackts[] mutable and ordered\n",
    "\n"
   ]
  },
  {
   "cell_type": "code",
   "execution_count": 61,
   "id": "d7975b6f",
   "metadata": {},
   "outputs": [
    {
     "data": {
      "text/plain": [
       "[10, 99.5, 'python', True]"
      ]
     },
     "execution_count": 61,
     "metadata": {},
     "output_type": "execute_result"
    }
   ],
   "source": [
    "l1=[10,99.5,\"python\",True]\n",
    "l1"
   ]
  },
  {
   "cell_type": "code",
   "execution_count": 53,
   "id": "0ae8f263",
   "metadata": {},
   "outputs": [
    {
     "data": {
      "text/plain": [
       "list"
      ]
     },
     "execution_count": 53,
     "metadata": {},
     "output_type": "execute_result"
    }
   ],
   "source": [
    "type(l1)"
   ]
  },
  {
   "cell_type": "code",
   "execution_count": 54,
   "id": "7608e5f3",
   "metadata": {},
   "outputs": [
    {
     "data": {
      "text/plain": [
       "4"
      ]
     },
     "execution_count": 54,
     "metadata": {},
     "output_type": "execute_result"
    }
   ],
   "source": [
    "len(l1)"
   ]
  },
  {
   "cell_type": "code",
   "execution_count": 55,
   "id": "cbd1d576",
   "metadata": {},
   "outputs": [
    {
     "data": {
      "text/plain": [
       "10"
      ]
     },
     "execution_count": 55,
     "metadata": {},
     "output_type": "execute_result"
    }
   ],
   "source": [
    "l1[0]"
   ]
  },
  {
   "cell_type": "code",
   "execution_count": 57,
   "id": "82f3331c",
   "metadata": {},
   "outputs": [
    {
     "data": {
      "text/plain": [
       "True"
      ]
     },
     "execution_count": 57,
     "metadata": {},
     "output_type": "execute_result"
    }
   ],
   "source": [
    "l1[3]"
   ]
  },
  {
   "cell_type": "code",
   "execution_count": 58,
   "id": "4eb6db09",
   "metadata": {},
   "outputs": [
    {
     "data": {
      "text/plain": [
       "['python', True]"
      ]
     },
     "execution_count": 58,
     "metadata": {},
     "output_type": "execute_result"
    }
   ],
   "source": [
    "l1[2:4:1]"
   ]
  },
  {
   "cell_type": "code",
   "execution_count": 60,
   "id": "3b752d08",
   "metadata": {},
   "outputs": [
    {
     "data": {
      "text/plain": [
       "[1, 5, -1, 7, 9, 3, 2, 10, 4, 7]"
      ]
     },
     "execution_count": 60,
     "metadata": {},
     "output_type": "execute_result"
    }
   ],
   "source": [
    "l2=[1,5,-1,7,9,3,2,10,4,7]\n",
    "l2"
   ]
  },
  {
   "cell_type": "code",
   "execution_count": 65,
   "id": "7c0c2983",
   "metadata": {},
   "outputs": [
    {
     "name": "stdout",
     "output_type": "stream",
     "text": [
      "2\n",
      "10\n",
      "4\n"
     ]
    }
   ],
   "source": [
    "#print only even numbers\n",
    "for i in l2:\n",
    "    if i%2==0:\n",
    "        print(i)\n",
    "        \n",
    "        \n",
    "        "
   ]
  },
  {
   "cell_type": "code",
   "execution_count": 68,
   "id": "393e7bc9",
   "metadata": {},
   "outputs": [
    {
     "name": "stdout",
     "output_type": "stream",
     "text": [
      "[2, 10, 4]\n"
     ]
    }
   ],
   "source": [
    "#output in list \n",
    "lst=[] #or lst=list()\n",
    "for i in l2:\n",
    "    if i%2==0:\n",
    "        lst.append(i)\n",
    "print(lst)"
   ]
  },
  {
   "cell_type": "code",
   "execution_count": 69,
   "id": "f7d6c0b0",
   "metadata": {},
   "outputs": [
    {
     "name": "stdout",
     "output_type": "stream",
     "text": [
      "Help on class list in module builtins:\n",
      "\n",
      "class list(object)\n",
      " |  list(iterable=(), /)\n",
      " |  \n",
      " |  Built-in mutable sequence.\n",
      " |  \n",
      " |  If no argument is given, the constructor creates a new empty list.\n",
      " |  The argument must be an iterable if specified.\n",
      " |  \n",
      " |  Methods defined here:\n",
      " |  \n",
      " |  __add__(self, value, /)\n",
      " |      Return self+value.\n",
      " |  \n",
      " |  __contains__(self, key, /)\n",
      " |      Return key in self.\n",
      " |  \n",
      " |  __delitem__(self, key, /)\n",
      " |      Delete self[key].\n",
      " |  \n",
      " |  __eq__(self, value, /)\n",
      " |      Return self==value.\n",
      " |  \n",
      " |  __ge__(self, value, /)\n",
      " |      Return self>=value.\n",
      " |  \n",
      " |  __getattribute__(self, name, /)\n",
      " |      Return getattr(self, name).\n",
      " |  \n",
      " |  __getitem__(...)\n",
      " |      x.__getitem__(y) <==> x[y]\n",
      " |  \n",
      " |  __gt__(self, value, /)\n",
      " |      Return self>value.\n",
      " |  \n",
      " |  __iadd__(self, value, /)\n",
      " |      Implement self+=value.\n",
      " |  \n",
      " |  __imul__(self, value, /)\n",
      " |      Implement self*=value.\n",
      " |  \n",
      " |  __init__(self, /, *args, **kwargs)\n",
      " |      Initialize self.  See help(type(self)) for accurate signature.\n",
      " |  \n",
      " |  __iter__(self, /)\n",
      " |      Implement iter(self).\n",
      " |  \n",
      " |  __le__(self, value, /)\n",
      " |      Return self<=value.\n",
      " |  \n",
      " |  __len__(self, /)\n",
      " |      Return len(self).\n",
      " |  \n",
      " |  __lt__(self, value, /)\n",
      " |      Return self<value.\n",
      " |  \n",
      " |  __mul__(self, value, /)\n",
      " |      Return self*value.\n",
      " |  \n",
      " |  __ne__(self, value, /)\n",
      " |      Return self!=value.\n",
      " |  \n",
      " |  __repr__(self, /)\n",
      " |      Return repr(self).\n",
      " |  \n",
      " |  __reversed__(self, /)\n",
      " |      Return a reverse iterator over the list.\n",
      " |  \n",
      " |  __rmul__(self, value, /)\n",
      " |      Return value*self.\n",
      " |  \n",
      " |  __setitem__(self, key, value, /)\n",
      " |      Set self[key] to value.\n",
      " |  \n",
      " |  __sizeof__(self, /)\n",
      " |      Return the size of the list in memory, in bytes.\n",
      " |  \n",
      " |  append(self, object, /)\n",
      " |      Append object to the end of the list.\n",
      " |  \n",
      " |  clear(self, /)\n",
      " |      Remove all items from list.\n",
      " |  \n",
      " |  copy(self, /)\n",
      " |      Return a shallow copy of the list.\n",
      " |  \n",
      " |  count(self, value, /)\n",
      " |      Return number of occurrences of value.\n",
      " |  \n",
      " |  extend(self, iterable, /)\n",
      " |      Extend list by appending elements from the iterable.\n",
      " |  \n",
      " |  index(self, value, start=0, stop=9223372036854775807, /)\n",
      " |      Return first index of value.\n",
      " |      \n",
      " |      Raises ValueError if the value is not present.\n",
      " |  \n",
      " |  insert(self, index, object, /)\n",
      " |      Insert object before index.\n",
      " |  \n",
      " |  pop(self, index=-1, /)\n",
      " |      Remove and return item at index (default last).\n",
      " |      \n",
      " |      Raises IndexError if list is empty or index is out of range.\n",
      " |  \n",
      " |  remove(self, value, /)\n",
      " |      Remove first occurrence of value.\n",
      " |      \n",
      " |      Raises ValueError if the value is not present.\n",
      " |  \n",
      " |  reverse(self, /)\n",
      " |      Reverse *IN PLACE*.\n",
      " |  \n",
      " |  sort(self, /, *, key=None, reverse=False)\n",
      " |      Sort the list in ascending order and return None.\n",
      " |      \n",
      " |      The sort is in-place (i.e. the list itself is modified) and stable (i.e. the\n",
      " |      order of two equal elements is maintained).\n",
      " |      \n",
      " |      If a key function is given, apply it once to each list item and sort them,\n",
      " |      ascending or descending, according to their function values.\n",
      " |      \n",
      " |      The reverse flag can be set to sort in descending order.\n",
      " |  \n",
      " |  ----------------------------------------------------------------------\n",
      " |  Class methods defined here:\n",
      " |  \n",
      " |  __class_getitem__(...) from builtins.type\n",
      " |      See PEP 585\n",
      " |  \n",
      " |  ----------------------------------------------------------------------\n",
      " |  Static methods defined here:\n",
      " |  \n",
      " |  __new__(*args, **kwargs) from builtins.type\n",
      " |      Create and return a new object.  See help(type) for accurate signature.\n",
      " |  \n",
      " |  ----------------------------------------------------------------------\n",
      " |  Data and other attributes defined here:\n",
      " |  \n",
      " |  __hash__ = None\n",
      "\n"
     ]
    }
   ],
   "source": [
    "help(list)"
   ]
  },
  {
   "cell_type": "code",
   "execution_count": 70,
   "id": "ada86b8b",
   "metadata": {},
   "outputs": [
    {
     "data": {
      "text/plain": [
       "[10, 99.5, 'python', True]"
      ]
     },
     "execution_count": 70,
     "metadata": {},
     "output_type": "execute_result"
    }
   ],
   "source": [
    "l1"
   ]
  },
  {
   "cell_type": "code",
   "execution_count": 71,
   "id": "fcd0c11b",
   "metadata": {},
   "outputs": [],
   "source": [
    "l1[0]=100"
   ]
  },
  {
   "cell_type": "code",
   "execution_count": 72,
   "id": "688dafea",
   "metadata": {},
   "outputs": [
    {
     "data": {
      "text/plain": [
       "[100, 99.5, 'python', True]"
      ]
     },
     "execution_count": 72,
     "metadata": {},
     "output_type": "execute_result"
    }
   ],
   "source": [
    "l1"
   ]
  },
  {
   "cell_type": "code",
   "execution_count": 73,
   "id": "6e274e3f",
   "metadata": {},
   "outputs": [],
   "source": [
    "l1.append([10,20]) #append only take 1 elemnt at a time."
   ]
  },
  {
   "cell_type": "code",
   "execution_count": 74,
   "id": "2a622d5b",
   "metadata": {},
   "outputs": [
    {
     "data": {
      "text/plain": [
       "[100, 99.5, 'python', True, [10, 20]]"
      ]
     },
     "execution_count": 74,
     "metadata": {},
     "output_type": "execute_result"
    }
   ],
   "source": [
    "l1"
   ]
  },
  {
   "cell_type": "code",
   "execution_count": 75,
   "id": "64f8263d",
   "metadata": {},
   "outputs": [],
   "source": [
    "l1.append({1:\"sam\", 2:\"naaz\"})"
   ]
  },
  {
   "cell_type": "code",
   "execution_count": 76,
   "id": "4e4efc01",
   "metadata": {},
   "outputs": [
    {
     "data": {
      "text/plain": [
       "[100, 99.5, 'python', True, [10, 20], {1: 'sam', 2: 'naaz'}]"
      ]
     },
     "execution_count": 76,
     "metadata": {},
     "output_type": "execute_result"
    }
   ],
   "source": [
    "l1"
   ]
  },
  {
   "cell_type": "code",
   "execution_count": 77,
   "id": "21cf078d",
   "metadata": {},
   "outputs": [
    {
     "name": "stdout",
     "output_type": "stream",
     "text": [
      "Help on built-in function insert:\n",
      "\n",
      "insert(index, object, /) method of builtins.list instance\n",
      "    Insert object before index.\n",
      "\n"
     ]
    }
   ],
   "source": [
    "#insert\n",
    "help(l1.insert)"
   ]
  },
  {
   "cell_type": "code",
   "execution_count": 78,
   "id": "679f43f1",
   "metadata": {},
   "outputs": [],
   "source": [
    "l1.insert(4,\"hello\") #add hello at 4th posistion"
   ]
  },
  {
   "cell_type": "code",
   "execution_count": 79,
   "id": "b490796e",
   "metadata": {},
   "outputs": [
    {
     "data": {
      "text/plain": [
       "[100, 99.5, 'python', True, 'hello', [10, 20], {1: 'sam', 2: 'naaz'}]"
      ]
     },
     "execution_count": 79,
     "metadata": {},
     "output_type": "execute_result"
    }
   ],
   "source": [
    "l1"
   ]
  },
  {
   "cell_type": "code",
   "execution_count": 80,
   "id": "9c0ed89d",
   "metadata": {},
   "outputs": [],
   "source": [
    "l1.insert(2,[10,30])"
   ]
  },
  {
   "cell_type": "code",
   "execution_count": 81,
   "id": "4d5b046f",
   "metadata": {},
   "outputs": [
    {
     "data": {
      "text/plain": [
       "[100, 99.5, [10, 30], 'python', True, 'hello', [10, 20], {1: 'sam', 2: 'naaz'}]"
      ]
     },
     "execution_count": 81,
     "metadata": {},
     "output_type": "execute_result"
    }
   ],
   "source": [
    "l1"
   ]
  },
  {
   "cell_type": "code",
   "execution_count": 82,
   "id": "6652e435",
   "metadata": {},
   "outputs": [
    {
     "data": {
      "text/plain": [
       "8"
      ]
     },
     "execution_count": 82,
     "metadata": {},
     "output_type": "execute_result"
    }
   ],
   "source": [
    "len(l1)"
   ]
  },
  {
   "cell_type": "code",
   "execution_count": 83,
   "id": "5f352b53",
   "metadata": {},
   "outputs": [],
   "source": [
    "l1.insert(12, \"lol\") #if index in not present in list,it will add it to the end of the list"
   ]
  },
  {
   "cell_type": "code",
   "execution_count": 84,
   "id": "debc8873",
   "metadata": {},
   "outputs": [
    {
     "data": {
      "text/plain": [
       "[100,\n",
       " 99.5,\n",
       " [10, 30],\n",
       " 'python',\n",
       " True,\n",
       " 'hello',\n",
       " [10, 20],\n",
       " {1: 'sam', 2: 'naaz'},\n",
       " 'lol']"
      ]
     },
     "execution_count": 84,
     "metadata": {},
     "output_type": "execute_result"
    }
   ],
   "source": [
    "l1"
   ]
  },
  {
   "cell_type": "code",
   "execution_count": 85,
   "id": "93b15594",
   "metadata": {},
   "outputs": [
    {
     "name": "stdout",
     "output_type": "stream",
     "text": [
      "Help on built-in function extend:\n",
      "\n",
      "extend(iterable, /) method of builtins.list instance\n",
      "    Extend list by appending elements from the iterable.\n",
      "\n"
     ]
    }
   ],
   "source": [
    "#extend\n",
    "help(l1.extend)"
   ]
  },
  {
   "cell_type": "code",
   "execution_count": 86,
   "id": "9cd0577b",
   "metadata": {},
   "outputs": [],
   "source": [
    "l1.extend([1,2,3])    # Extend list by appending elements from the iterable individually\n"
   ]
  },
  {
   "cell_type": "code",
   "execution_count": 87,
   "id": "8a31ba7e",
   "metadata": {},
   "outputs": [
    {
     "data": {
      "text/plain": [
       "[100,\n",
       " 99.5,\n",
       " [10, 30],\n",
       " 'python',\n",
       " True,\n",
       " 'hello',\n",
       " [10, 20],\n",
       " {1: 'sam', 2: 'naaz'},\n",
       " 'lol',\n",
       " 1,\n",
       " 2,\n",
       " 3]"
      ]
     },
     "execution_count": 87,
     "metadata": {},
     "output_type": "execute_result"
    }
   ],
   "source": [
    "l1"
   ]
  },
  {
   "cell_type": "code",
   "execution_count": 88,
   "id": "e34839b2",
   "metadata": {},
   "outputs": [
    {
     "ename": "TypeError",
     "evalue": "'int' object is not iterable",
     "output_type": "error",
     "traceback": [
      "\u001b[1;31m---------------------------------------------------------------------------\u001b[0m",
      "\u001b[1;31mTypeError\u001b[0m                                 Traceback (most recent call last)",
      "Cell \u001b[1;32mIn[88], line 1\u001b[0m\n\u001b[1;32m----> 1\u001b[0m l1\u001b[38;5;241m.\u001b[39mextend(\u001b[38;5;241m10\u001b[39m)\n",
      "\u001b[1;31mTypeError\u001b[0m: 'int' object is not iterable"
     ]
    }
   ],
   "source": [
    "l1.extend(10) #only use for iterable objects"
   ]
  },
  {
   "cell_type": "code",
   "execution_count": 89,
   "id": "d397bbac",
   "metadata": {},
   "outputs": [],
   "source": [
    "l1.extend(\"hi\")"
   ]
  },
  {
   "cell_type": "code",
   "execution_count": 90,
   "id": "c88521ea",
   "metadata": {},
   "outputs": [
    {
     "data": {
      "text/plain": [
       "[100,\n",
       " 99.5,\n",
       " [10, 30],\n",
       " 'python',\n",
       " True,\n",
       " 'hello',\n",
       " [10, 20],\n",
       " {1: 'sam', 2: 'naaz'},\n",
       " 'lol',\n",
       " 1,\n",
       " 2,\n",
       " 3,\n",
       " 'h',\n",
       " 'i']"
      ]
     },
     "execution_count": 90,
     "metadata": {},
     "output_type": "execute_result"
    }
   ],
   "source": [
    "l1"
   ]
  },
  {
   "cell_type": "code",
   "execution_count": 91,
   "id": "93077faf",
   "metadata": {},
   "outputs": [],
   "source": [
    "l1.extend({1:\"haha\",2:\"sami\"}) #it will add keys of the dict"
   ]
  },
  {
   "cell_type": "code",
   "execution_count": 92,
   "id": "ad4c8370",
   "metadata": {},
   "outputs": [
    {
     "data": {
      "text/plain": [
       "[100,\n",
       " 99.5,\n",
       " [10, 30],\n",
       " 'python',\n",
       " True,\n",
       " 'hello',\n",
       " [10, 20],\n",
       " {1: 'sam', 2: 'naaz'},\n",
       " 'lol',\n",
       " 1,\n",
       " 2,\n",
       " 3,\n",
       " 'h',\n",
       " 'i',\n",
       " 1,\n",
       " 2]"
      ]
     },
     "execution_count": 92,
     "metadata": {},
     "output_type": "execute_result"
    }
   ],
   "source": [
    "l1"
   ]
  },
  {
   "cell_type": "code",
   "execution_count": 95,
   "id": "91503fd2",
   "metadata": {},
   "outputs": [
    {
     "data": {
      "text/plain": [
       "[100,\n",
       " 99.5,\n",
       " [10, 30],\n",
       " 'python',\n",
       " True,\n",
       " [10, 20],\n",
       " {1: 'sam', 2: 'naaz'},\n",
       " 'lol',\n",
       " 1,\n",
       " 2,\n",
       " 3,\n",
       " 'h',\n",
       " 'i',\n",
       " 1,\n",
       " 2]"
      ]
     },
     "execution_count": 95,
     "metadata": {},
     "output_type": "execute_result"
    }
   ],
   "source": [
    "#remove\n",
    "l1.remove(\"hello\") #hello is removed\n",
    "l1"
   ]
  },
  {
   "cell_type": "code",
   "execution_count": 96,
   "id": "f0df6d51",
   "metadata": {},
   "outputs": [],
   "source": [
    "l1.remove(100) #IT removed first value from left side"
   ]
  },
  {
   "cell_type": "code",
   "execution_count": 97,
   "id": "61e8b2d6",
   "metadata": {},
   "outputs": [
    {
     "data": {
      "text/plain": [
       "[99.5,\n",
       " [10, 30],\n",
       " 'python',\n",
       " True,\n",
       " [10, 20],\n",
       " {1: 'sam', 2: 'naaz'},\n",
       " 'lol',\n",
       " 1,\n",
       " 2,\n",
       " 3,\n",
       " 'h',\n",
       " 'i',\n",
       " 1,\n",
       " 2]"
      ]
     },
     "execution_count": 97,
     "metadata": {},
     "output_type": "execute_result"
    }
   ],
   "source": [
    "l1\n"
   ]
  },
  {
   "cell_type": "code",
   "execution_count": 98,
   "id": "05496def",
   "metadata": {},
   "outputs": [],
   "source": [
    "l1.remove([10,20])"
   ]
  },
  {
   "cell_type": "code",
   "execution_count": 99,
   "id": "07119c10",
   "metadata": {},
   "outputs": [
    {
     "data": {
      "text/plain": [
       "[99.5,\n",
       " [10, 30],\n",
       " 'python',\n",
       " True,\n",
       " {1: 'sam', 2: 'naaz'},\n",
       " 'lol',\n",
       " 1,\n",
       " 2,\n",
       " 3,\n",
       " 'h',\n",
       " 'i',\n",
       " 1,\n",
       " 2]"
      ]
     },
     "execution_count": 99,
     "metadata": {},
     "output_type": "execute_result"
    }
   ],
   "source": [
    "l1"
   ]
  },
  {
   "cell_type": "code",
   "execution_count": 101,
   "id": "ff445b36",
   "metadata": {},
   "outputs": [
    {
     "data": {
      "text/plain": [
       "'lol'"
      ]
     },
     "execution_count": 101,
     "metadata": {},
     "output_type": "execute_result"
    }
   ],
   "source": [
    "#pop()\n",
    "#remove values based on index and display the value\n",
    "l1.pop(4) \n"
   ]
  },
  {
   "cell_type": "code",
   "execution_count": 102,
   "id": "f4856136",
   "metadata": {},
   "outputs": [
    {
     "data": {
      "text/plain": [
       "[99.5, [10, 30], 'python', True, 1, 2, 3, 'h', 'i', 1, 2]"
      ]
     },
     "execution_count": 102,
     "metadata": {},
     "output_type": "execute_result"
    }
   ],
   "source": [
    "l1"
   ]
  },
  {
   "cell_type": "code",
   "execution_count": 103,
   "id": "a968a93d",
   "metadata": {},
   "outputs": [
    {
     "data": {
      "text/plain": [
       "2"
      ]
     },
     "execution_count": 103,
     "metadata": {},
     "output_type": "execute_result"
    }
   ],
   "source": [
    "l1.pop(-1)"
   ]
  },
  {
   "cell_type": "code",
   "execution_count": 104,
   "id": "1e64c672",
   "metadata": {},
   "outputs": [
    {
     "data": {
      "text/plain": [
       "1"
      ]
     },
     "execution_count": 104,
     "metadata": {},
     "output_type": "execute_result"
    }
   ],
   "source": [
    "l1.pop() #by default it willdelete last element"
   ]
  },
  {
   "cell_type": "code",
   "execution_count": 105,
   "id": "30edd85e",
   "metadata": {},
   "outputs": [
    {
     "data": {
      "text/plain": [
       "[99.5, [10, 30], 'python', True, 1, 2, 3, 'h', 'i']"
      ]
     },
     "execution_count": 105,
     "metadata": {},
     "output_type": "execute_result"
    }
   ],
   "source": [
    "l1"
   ]
  },
  {
   "cell_type": "code",
   "execution_count": 108,
   "id": "c37c5fbe",
   "metadata": {},
   "outputs": [],
   "source": [
    "dele_val=l1.pop(3) #no output as elemnt is assigned to dele_val"
   ]
  },
  {
   "cell_type": "code",
   "execution_count": 109,
   "id": "18b14191",
   "metadata": {},
   "outputs": [
    {
     "data": {
      "text/plain": [
       "True"
      ]
     },
     "execution_count": 109,
     "metadata": {},
     "output_type": "execute_result"
    }
   ],
   "source": [
    "dele_val"
   ]
  },
  {
   "cell_type": "code",
   "execution_count": 110,
   "id": "c3b4eb48",
   "metadata": {},
   "outputs": [
    {
     "ename": "IndexError",
     "evalue": "pop index out of range",
     "output_type": "error",
     "traceback": [
      "\u001b[1;31m---------------------------------------------------------------------------\u001b[0m",
      "\u001b[1;31mIndexError\u001b[0m                                Traceback (most recent call last)",
      "Cell \u001b[1;32mIn[110], line 1\u001b[0m\n\u001b[1;32m----> 1\u001b[0m l1\u001b[38;5;241m.\u001b[39mpop(\u001b[38;5;241m20\u001b[39m)\n",
      "\u001b[1;31mIndexError\u001b[0m: pop index out of range"
     ]
    }
   ],
   "source": [
    "l1.pop(20) #out of range error"
   ]
  },
  {
   "cell_type": "code",
   "execution_count": 113,
   "id": "7d963390",
   "metadata": {},
   "outputs": [
    {
     "data": {
      "text/plain": [
       "1"
      ]
     },
     "execution_count": 113,
     "metadata": {},
     "output_type": "execute_result"
    }
   ],
   "source": [
    "#count()\n",
    "l1.count(2) #writtens how many times 2 is present in it"
   ]
  },
  {
   "cell_type": "code",
   "execution_count": 114,
   "id": "56dae03d",
   "metadata": {},
   "outputs": [
    {
     "data": {
      "text/plain": [
       "1"
      ]
     },
     "execution_count": 114,
     "metadata": {},
     "output_type": "execute_result"
    }
   ],
   "source": [
    "l1.count(\"python\")"
   ]
  },
  {
   "cell_type": "code",
   "execution_count": 115,
   "id": "8add020e",
   "metadata": {},
   "outputs": [
    {
     "ename": "AttributeError",
     "evalue": "'list' object has no attribute 'find'",
     "output_type": "error",
     "traceback": [
      "\u001b[1;31m---------------------------------------------------------------------------\u001b[0m",
      "\u001b[1;31mAttributeError\u001b[0m                            Traceback (most recent call last)",
      "Cell \u001b[1;32mIn[115], line 2\u001b[0m\n\u001b[0;32m      1\u001b[0m \u001b[38;5;66;03m#find()\u001b[39;00m\n\u001b[1;32m----> 2\u001b[0m l1\u001b[38;5;241m.\u001b[39mfind(\u001b[38;5;124m\"\u001b[39m\u001b[38;5;124mTrue\u001b[39m\u001b[38;5;124m\"\u001b[39m)\n",
      "\u001b[1;31mAttributeError\u001b[0m: 'list' object has no attribute 'find'"
     ]
    }
   ],
   "source": [
    "#find() # find function is not present for list\n",
    "l1.find(\"True\")"
   ]
  },
  {
   "cell_type": "code",
   "execution_count": 116,
   "id": "e3ca0892",
   "metadata": {},
   "outputs": [],
   "source": [
    "l1.reverse() #reverse entire list permanently"
   ]
  },
  {
   "cell_type": "code",
   "execution_count": 117,
   "id": "9d2ef08e",
   "metadata": {},
   "outputs": [
    {
     "data": {
      "text/plain": [
       "['i', 'h', 3, 2, 'python', [10, 30], 99.5]"
      ]
     },
     "execution_count": 117,
     "metadata": {},
     "output_type": "execute_result"
    }
   ],
   "source": [
    "l1"
   ]
  },
  {
   "cell_type": "code",
   "execution_count": 118,
   "id": "d7362522",
   "metadata": {},
   "outputs": [
    {
     "data": {
      "text/plain": [
       "[99.5, [10, 30], 'python', 2, 3, 'h', 'i']"
      ]
     },
     "execution_count": 118,
     "metadata": {},
     "output_type": "execute_result"
    }
   ],
   "source": [
    "l1[::-1] #slicing as reverse the list but the original value will not be changed."
   ]
  },
  {
   "cell_type": "code",
   "execution_count": 119,
   "id": "eaabc847",
   "metadata": {},
   "outputs": [
    {
     "data": {
      "text/plain": [
       "['i', 'h', 3, 2, 'python', [10, 30], 99.5]"
      ]
     },
     "execution_count": 119,
     "metadata": {},
     "output_type": "execute_result"
    }
   ],
   "source": [
    "l1"
   ]
  },
  {
   "cell_type": "code",
   "execution_count": 123,
   "id": "3e3ab2ab",
   "metadata": {},
   "outputs": [],
   "source": [
    "l2=[9,4,10,200,300,5000,30]"
   ]
  },
  {
   "cell_type": "code",
   "execution_count": 124,
   "id": "41c0dcbc",
   "metadata": {},
   "outputs": [
    {
     "data": {
      "text/plain": [
       "[4, 9, 10, 30, 200, 300, 5000]"
      ]
     },
     "execution_count": 124,
     "metadata": {},
     "output_type": "execute_result"
    }
   ],
   "source": [
    "l2.sort() #for ascending order\n",
    "l2"
   ]
  },
  {
   "cell_type": "code",
   "execution_count": 125,
   "id": "e69eb6bf",
   "metadata": {},
   "outputs": [
    {
     "data": {
      "text/plain": [
       "[5000, 300, 200, 30, 10, 9, 4]"
      ]
     },
     "execution_count": 125,
     "metadata": {},
     "output_type": "execute_result"
    }
   ],
   "source": [
    "l2.sort(reverse=True) #for descending order\n",
    "l2"
   ]
  },
  {
   "cell_type": "code",
   "execution_count": 126,
   "id": "c72c7643",
   "metadata": {},
   "outputs": [
    {
     "ename": "TypeError",
     "evalue": "'<' not supported between instances of 'int' and 'str'",
     "output_type": "error",
     "traceback": [
      "\u001b[1;31m---------------------------------------------------------------------------\u001b[0m",
      "\u001b[1;31mTypeError\u001b[0m                                 Traceback (most recent call last)",
      "Cell \u001b[1;32mIn[126], line 1\u001b[0m\n\u001b[1;32m----> 1\u001b[0m l1\u001b[38;5;241m.\u001b[39msort()\n",
      "\u001b[1;31mTypeError\u001b[0m: '<' not supported between instances of 'int' and 'str'"
     ]
    }
   ],
   "source": [
    "l1.sort() #error as we cannot sort int and string"
   ]
  },
  {
   "cell_type": "code",
   "execution_count": 127,
   "id": "22cca89c",
   "metadata": {},
   "outputs": [
    {
     "data": {
      "text/plain": [
       "[]"
      ]
     },
     "execution_count": 127,
     "metadata": {},
     "output_type": "execute_result"
    }
   ],
   "source": [
    "l1.clear() #permanently remove all the elements of the list and keep it empty\n",
    "l1"
   ]
  },
  {
   "cell_type": "code",
   "execution_count": 128,
   "id": "5614e4ac",
   "metadata": {},
   "outputs": [
    {
     "data": {
      "text/plain": [
       "[5000, 300, 200, 30, 10, 9, 4]"
      ]
     },
     "execution_count": 128,
     "metadata": {},
     "output_type": "execute_result"
    }
   ],
   "source": [
    "l2 "
   ]
  },
  {
   "cell_type": "code",
   "execution_count": 129,
   "id": "1ff91da0",
   "metadata": {},
   "outputs": [
    {
     "data": {
      "text/plain": [
       "[20, 40, 50, 5000, 300, 200, 30, 10, 9, 4]"
      ]
     },
     "execution_count": 129,
     "metadata": {},
     "output_type": "execute_result"
    }
   ],
   "source": [
    "l3=[20,40,50]\n",
    "l3+l2 #concatenation"
   ]
  },
  {
   "cell_type": "code",
   "execution_count": 130,
   "id": "52e65b40",
   "metadata": {},
   "outputs": [
    {
     "data": {
      "text/plain": [
       "[20, 40, 50, 20, 40, 50, 20, 40, 50]"
      ]
     },
     "execution_count": 130,
     "metadata": {},
     "output_type": "execute_result"
    }
   ],
   "source": [
    "l3  * 3 #repet 3 times but list will not be changed"
   ]
  },
  {
   "cell_type": "code",
   "execution_count": 131,
   "id": "8bb3ca3e",
   "metadata": {},
   "outputs": [
    {
     "data": {
      "text/plain": [
       "[20, 40, 50]"
      ]
     },
     "execution_count": 131,
     "metadata": {},
     "output_type": "execute_result"
    }
   ],
   "source": [
    "l3"
   ]
  },
  {
   "cell_type": "code",
   "execution_count": 136,
   "id": "ecc88684",
   "metadata": {},
   "outputs": [
    {
     "data": {
      "text/plain": [
       "20"
      ]
     },
     "execution_count": 136,
     "metadata": {},
     "output_type": "execute_result"
    }
   ],
   "source": [
    "min(l3) #gives min value"
   ]
  },
  {
   "cell_type": "code",
   "execution_count": 137,
   "id": "d3f22621",
   "metadata": {},
   "outputs": [
    {
     "data": {
      "text/plain": [
       "50"
      ]
     },
     "execution_count": 137,
     "metadata": {},
     "output_type": "execute_result"
    }
   ],
   "source": [
    "max(l3) #gives max value"
   ]
  },
  {
   "cell_type": "code",
   "execution_count": 138,
   "id": "a7004a87",
   "metadata": {},
   "outputs": [
    {
     "data": {
      "text/plain": [
       "[20, 40, 50]"
      ]
     },
     "execution_count": 138,
     "metadata": {},
     "output_type": "execute_result"
    }
   ],
   "source": [
    "sorted(l3) #gives the copy but the l3 will not be changed where as sort will permanently change the l3 "
   ]
  },
  {
   "cell_type": "code",
   "execution_count": 139,
   "id": "20fa7dd3",
   "metadata": {},
   "outputs": [
    {
     "data": {
      "text/plain": [
       "[20, 40, 50]"
      ]
     },
     "execution_count": 139,
     "metadata": {},
     "output_type": "execute_result"
    }
   ],
   "source": [
    "l3"
   ]
  },
  {
   "cell_type": "code",
   "execution_count": 140,
   "id": "3116220c",
   "metadata": {},
   "outputs": [
    {
     "ename": "TypeError",
     "evalue": "'>' not supported between instances of 'str' and 'int'",
     "output_type": "error",
     "traceback": [
      "\u001b[1;31m---------------------------------------------------------------------------\u001b[0m",
      "\u001b[1;31mTypeError\u001b[0m                                 Traceback (most recent call last)",
      "Cell \u001b[1;32mIn[140], line 2\u001b[0m\n\u001b[0;32m      1\u001b[0m l4\u001b[38;5;241m=\u001b[39m[\u001b[38;5;241m0\u001b[39m,\u001b[38;5;241m8\u001b[39m,\u001b[38;5;241m-\u001b[39m\u001b[38;5;241m3\u001b[39m,\u001b[38;5;124m\"\u001b[39m\u001b[38;5;124mhi\u001b[39m\u001b[38;5;124m\"\u001b[39m]\n\u001b[1;32m----> 2\u001b[0m \u001b[38;5;28mmax\u001b[39m(l4)\n",
      "\u001b[1;31mTypeError\u001b[0m: '>' not supported between instances of 'str' and 'int'"
     ]
    }
   ],
   "source": [
    "l4=[0,8,-3,\"hi\"] #not work becaus of 'str' and 'int'\n",
    "max(l4)"
   ]
  },
  {
   "cell_type": "code",
   "execution_count": 1,
   "id": "903c7696",
   "metadata": {},
   "outputs": [
    {
     "data": {
      "text/plain": [
       "[3, 5, 7, 9, 100, -4, 6]"
      ]
     },
     "execution_count": 1,
     "metadata": {},
     "output_type": "execute_result"
    }
   ],
   "source": [
    "l1=[3,5,7,9,100,-4,6]\n",
    "l1"
   ]
  },
  {
   "cell_type": "code",
   "execution_count": 3,
   "id": "ae6072a8",
   "metadata": {},
   "outputs": [
    {
     "data": {
      "text/plain": [
       "False"
      ]
     },
     "execution_count": 3,
     "metadata": {},
     "output_type": "execute_result"
    }
   ],
   "source": [
    "0 in l1"
   ]
  },
  {
   "cell_type": "code",
   "execution_count": 4,
   "id": "7b264eb9",
   "metadata": {},
   "outputs": [
    {
     "data": {
      "text/plain": [
       "True"
      ]
     },
     "execution_count": 4,
     "metadata": {},
     "output_type": "execute_result"
    }
   ],
   "source": [
    "100 in l1"
   ]
  },
  {
   "cell_type": "code",
   "execution_count": 5,
   "id": "203e6eab",
   "metadata": {},
   "outputs": [],
   "source": [
    "#aliasing and cloning\n",
    "#aliasing -providing another name to an exixting list\n"
   ]
  },
  {
   "cell_type": "code",
   "execution_count": 6,
   "id": "700b5de9",
   "metadata": {},
   "outputs": [
    {
     "data": {
      "text/plain": [
       "[3, 5, 7, 9, 100, -4, 6]"
      ]
     },
     "execution_count": 6,
     "metadata": {},
     "output_type": "execute_result"
    }
   ],
   "source": [
    "l1"
   ]
  },
  {
   "cell_type": "code",
   "execution_count": 7,
   "id": "f3c6db70",
   "metadata": {},
   "outputs": [
    {
     "data": {
      "text/plain": [
       "1414860663808"
      ]
     },
     "execution_count": 7,
     "metadata": {},
     "output_type": "execute_result"
    }
   ],
   "source": [
    "id(l1)"
   ]
  },
  {
   "cell_type": "code",
   "execution_count": 8,
   "id": "d9ea1118",
   "metadata": {},
   "outputs": [],
   "source": [
    "l2=l1 #will have same memory address and it is called aliasing(same person with 2 name)"
   ]
  },
  {
   "cell_type": "code",
   "execution_count": 9,
   "id": "acd499aa",
   "metadata": {},
   "outputs": [
    {
     "data": {
      "text/plain": [
       "1414860663808"
      ]
     },
     "execution_count": 9,
     "metadata": {},
     "output_type": "execute_result"
    }
   ],
   "source": [
    "id(l2)"
   ]
  },
  {
   "cell_type": "code",
   "execution_count": 10,
   "id": "265f5332",
   "metadata": {},
   "outputs": [],
   "source": [
    "#cloning- making exact copy of an existing list and value will be same but id will be different(two different entity and different memory address)\n",
    "l3=l1.copy()"
   ]
  },
  {
   "cell_type": "code",
   "execution_count": 11,
   "id": "c4407ecf",
   "metadata": {},
   "outputs": [
    {
     "data": {
      "text/plain": [
       "[3, 5, 7, 9, 100, -4, 6]"
      ]
     },
     "execution_count": 11,
     "metadata": {},
     "output_type": "execute_result"
    }
   ],
   "source": [
    "l3"
   ]
  },
  {
   "cell_type": "code",
   "execution_count": 12,
   "id": "035cf39a",
   "metadata": {},
   "outputs": [
    {
     "data": {
      "text/plain": [
       "1414855821056"
      ]
     },
     "execution_count": 12,
     "metadata": {},
     "output_type": "execute_result"
    }
   ],
   "source": [
    "id(l3)"
   ]
  },
  {
   "cell_type": "code",
   "execution_count": 13,
   "id": "78e8dcb2",
   "metadata": {},
   "outputs": [
    {
     "data": {
      "text/plain": [
       "1414860663808"
      ]
     },
     "execution_count": 13,
     "metadata": {},
     "output_type": "execute_result"
    }
   ],
   "source": [
    "id(l1)"
   ]
  },
  {
   "cell_type": "code",
   "execution_count": 14,
   "id": "ddfd3f45",
   "metadata": {},
   "outputs": [],
   "source": [
    "l1[0]=100"
   ]
  },
  {
   "cell_type": "code",
   "execution_count": 15,
   "id": "9a767dd0",
   "metadata": {},
   "outputs": [
    {
     "data": {
      "text/plain": [
       "[100, 5, 7, 9, 100, -4, 6]"
      ]
     },
     "execution_count": 15,
     "metadata": {},
     "output_type": "execute_result"
    }
   ],
   "source": [
    "l1"
   ]
  },
  {
   "cell_type": "code",
   "execution_count": 17,
   "id": "037b8534",
   "metadata": {},
   "outputs": [
    {
     "data": {
      "text/plain": [
       "1414860663808"
      ]
     },
     "execution_count": 17,
     "metadata": {},
     "output_type": "execute_result"
    }
   ],
   "source": [
    "id(l1)"
   ]
  },
  {
   "cell_type": "code",
   "execution_count": 18,
   "id": "c2003b93",
   "metadata": {},
   "outputs": [
    {
     "data": {
      "text/plain": [
       "[100, 5, 7, 9, 100, -4, 6]"
      ]
     },
     "execution_count": 18,
     "metadata": {},
     "output_type": "execute_result"
    }
   ],
   "source": [
    "l2 #l2 values be chaged as both al1 and l2 are pointing to same memry address"
   ]
  },
  {
   "cell_type": "code",
   "execution_count": 28,
   "id": "91a46fc4",
   "metadata": {},
   "outputs": [
    {
     "data": {
      "text/plain": [
       "[10, 30, 49, [0, -44]]"
      ]
     },
     "execution_count": 28,
     "metadata": {},
     "output_type": "execute_result"
    }
   ],
   "source": [
    "l4=[10,30,49,[0,-44]]\n",
    "l4"
   ]
  },
  {
   "cell_type": "code",
   "execution_count": 21,
   "id": "a58ef60e",
   "metadata": {},
   "outputs": [],
   "source": [
    "l5=l4"
   ]
  },
  {
   "cell_type": "code",
   "execution_count": 22,
   "id": "cf9e7c54",
   "metadata": {},
   "outputs": [
    {
     "data": {
      "text/plain": [
       "[10, 30, 49, [0, -44]]"
      ]
     },
     "execution_count": 22,
     "metadata": {},
     "output_type": "execute_result"
    }
   ],
   "source": [
    "l5"
   ]
  },
  {
   "cell_type": "code",
   "execution_count": 29,
   "id": "15534439",
   "metadata": {},
   "outputs": [
    {
     "data": {
      "text/plain": [
       "[10, 30, 49, [0, -44]]"
      ]
     },
     "execution_count": 29,
     "metadata": {},
     "output_type": "execute_result"
    }
   ],
   "source": [
    "l6=l4.copy()\n",
    "l6"
   ]
  },
  {
   "cell_type": "code",
   "execution_count": 30,
   "id": "576734c7",
   "metadata": {},
   "outputs": [],
   "source": [
    "l4[3][0]=10"
   ]
  },
  {
   "cell_type": "code",
   "execution_count": 31,
   "id": "d254d441",
   "metadata": {},
   "outputs": [
    {
     "data": {
      "text/plain": [
       "[10, 30, 49, [10, -44]]"
      ]
     },
     "execution_count": 31,
     "metadata": {},
     "output_type": "execute_result"
    }
   ],
   "source": [
    "l4"
   ]
  },
  {
   "cell_type": "code",
   "execution_count": 32,
   "id": "a22f7ea7",
   "metadata": {},
   "outputs": [
    {
     "data": {
      "text/plain": [
       "[10, 30, 49, [10, -44]]"
      ]
     },
     "execution_count": 32,
     "metadata": {},
     "output_type": "execute_result"
    }
   ],
   "source": [
    "l5"
   ]
  },
  {
   "cell_type": "code",
   "execution_count": 33,
   "id": "b14e8693",
   "metadata": {},
   "outputs": [
    {
     "data": {
      "text/plain": [
       "[10, 30, 49, [10, -44]]"
      ]
     },
     "execution_count": 33,
     "metadata": {},
     "output_type": "execute_result"
    }
   ],
   "source": [
    "l6 #l6 value also chaged as list is mutable and that inner list address is same."
   ]
  },
  {
   "cell_type": "code",
   "execution_count": null,
   "id": "07a01882",
   "metadata": {},
   "outputs": [],
   "source": [
    "# above one is called shallow copy - copy()"
   ]
  },
  {
   "cell_type": "code",
   "execution_count": null,
   "id": "eee57b26",
   "metadata": {},
   "outputs": [],
   "source": [
    "#deep copy - if we wnt the inner ele of the copied list to have different memoery address\n",
    "#there is a module called \"deepcopy()\" that helps us to do deepcopy to any mutable objects."
   ]
  },
  {
   "cell_type": "code",
   "execution_count": 35,
   "id": "4ade98a4",
   "metadata": {},
   "outputs": [
    {
     "data": {
      "text/plain": [
       "[10, 30, 49, [10, -44]]"
      ]
     },
     "execution_count": 35,
     "metadata": {},
     "output_type": "execute_result"
    }
   ],
   "source": [
    "import copy\n",
    "l7=copy.deepcopy(l4)\n",
    "l7"
   ]
  },
  {
   "cell_type": "code",
   "execution_count": 36,
   "id": "90eb0d12",
   "metadata": {},
   "outputs": [
    {
     "data": {
      "text/plain": [
       "1414873934528"
      ]
     },
     "execution_count": 36,
     "metadata": {},
     "output_type": "execute_result"
    }
   ],
   "source": [
    "id(l4)"
   ]
  },
  {
   "cell_type": "code",
   "execution_count": 37,
   "id": "f8a17707",
   "metadata": {},
   "outputs": [
    {
     "data": {
      "text/plain": [
       "1414873509760"
      ]
     },
     "execution_count": 37,
     "metadata": {},
     "output_type": "execute_result"
    }
   ],
   "source": [
    "id(l7)"
   ]
  },
  {
   "cell_type": "code",
   "execution_count": 38,
   "id": "0cc2212b",
   "metadata": {},
   "outputs": [
    {
     "data": {
      "text/plain": [
       "[10, 30, 49, [100, -44]]"
      ]
     },
     "execution_count": 38,
     "metadata": {},
     "output_type": "execute_result"
    }
   ],
   "source": [
    "l4[-1][0]=100\n",
    "l4"
   ]
  },
  {
   "cell_type": "code",
   "execution_count": 39,
   "id": "05b609de",
   "metadata": {},
   "outputs": [
    {
     "data": {
      "text/plain": [
       "[10, 30, 49, [10, -44]]"
      ]
     },
     "execution_count": 39,
     "metadata": {},
     "output_type": "execute_result"
    }
   ],
   "source": [
    "l7 #does not change as the inner list address is different"
   ]
  },
  {
   "cell_type": "code",
   "execution_count": 40,
   "id": "37e40e5a",
   "metadata": {},
   "outputs": [
    {
     "data": {
      "text/plain": [
       "[10, 30, 49, [100, -44]]"
      ]
     },
     "execution_count": 40,
     "metadata": {},
     "output_type": "execute_result"
    }
   ],
   "source": [
    "l6 #shallow copy hence it will change"
   ]
  },
  {
   "cell_type": "code",
   "execution_count": 41,
   "id": "11c6817f",
   "metadata": {},
   "outputs": [
    {
     "data": {
      "text/plain": [
       "1414865830912"
      ]
     },
     "execution_count": 41,
     "metadata": {},
     "output_type": "execute_result"
    }
   ],
   "source": [
    "id(l4[-1])"
   ]
  },
  {
   "cell_type": "code",
   "execution_count": 44,
   "id": "634f07c8",
   "metadata": {},
   "outputs": [
    {
     "data": {
      "text/plain": [
       "1414873507264"
      ]
     },
     "execution_count": 44,
     "metadata": {},
     "output_type": "execute_result"
    }
   ],
   "source": [
    "id(l7[-1])"
   ]
  },
  {
   "cell_type": "code",
   "execution_count": 43,
   "id": "3c7581ad",
   "metadata": {},
   "outputs": [
    {
     "data": {
      "text/plain": [
       "1414865830912"
      ]
     },
     "execution_count": 43,
     "metadata": {},
     "output_type": "execute_result"
    }
   ],
   "source": [
    "id(l6[-1])"
   ]
  },
  {
   "cell_type": "code",
   "execution_count": 45,
   "id": "fb9b06af",
   "metadata": {},
   "outputs": [
    {
     "data": {
      "text/plain": [
       "[100, 5, 7, 9, 100, -4, 6]"
      ]
     },
     "execution_count": 45,
     "metadata": {},
     "output_type": "execute_result"
    }
   ],
   "source": [
    "l1"
   ]
  },
  {
   "cell_type": "code",
   "execution_count": 46,
   "id": "fe9b59a0",
   "metadata": {},
   "outputs": [
    {
     "name": "stdout",
     "output_type": "stream",
     "text": [
      "100\n"
     ]
    }
   ],
   "source": [
    "#wap to get maximum value:\n",
    "max_val = 0\n",
    "for i in l1:\n",
    "    if i >max_val:\n",
    "        max_val=i\n",
    "print(max_val)"
   ]
  },
  {
   "cell_type": "code",
   "execution_count": 48,
   "id": "ff2f8a41",
   "metadata": {},
   "outputs": [
    {
     "name": "stdout",
     "output_type": "stream",
     "text": [
      "0\n"
     ]
    }
   ],
   "source": [
    "l2=[-7,-4,-9,-1,-3] #gives inccorect answer\n",
    "max_val = 0\n",
    "for i in l2:\n",
    "    if i >max_val:\n",
    "        max_val=i\n",
    "print(max_val)"
   ]
  },
  {
   "cell_type": "code",
   "execution_count": 49,
   "id": "dfdba201",
   "metadata": {},
   "outputs": [
    {
     "name": "stdout",
     "output_type": "stream",
     "text": [
      "-1\n"
     ]
    }
   ],
   "source": [
    "max_val = l2[0] #correct logic,this can be used to check all the elements in the list\n",
    "for i in l2:\n",
    "    if i >max_val:\n",
    "        max_val=i\n",
    "print(max_val)"
   ]
  },
  {
   "cell_type": "code",
   "execution_count": 50,
   "id": "fedc162b",
   "metadata": {},
   "outputs": [
    {
     "name": "stdout",
     "output_type": "stream",
     "text": [
      "-9\n"
     ]
    }
   ],
   "source": [
    "#wap to minimum value\n",
    "min_val = 0\n",
    "for i in l2:\n",
    "    if i <min_val:\n",
    "        min_val=i\n",
    "print(min_val)"
   ]
  },
  {
   "cell_type": "code",
   "execution_count": 54,
   "id": "386a7a37",
   "metadata": {},
   "outputs": [
    {
     "name": "stdout",
     "output_type": "stream",
     "text": [
      "1000\n"
     ]
    }
   ],
   "source": [
    "l10=[100,200,300,400]\n",
    "#sum of all the ele \n",
    "total=0\n",
    "for i in l10:\n",
    "    total=total+i\n",
    "print(total)\n",
    "    "
   ]
  },
  {
   "cell_type": "code",
   "execution_count": 55,
   "id": "d9d13237",
   "metadata": {},
   "outputs": [
    {
     "data": {
      "text/plain": [
       "1000"
      ]
     },
     "execution_count": 55,
     "metadata": {},
     "output_type": "execute_result"
    }
   ],
   "source": [
    "sum(l10)"
   ]
  },
  {
   "cell_type": "code",
   "execution_count": 56,
   "id": "27047d15",
   "metadata": {},
   "outputs": [
    {
     "data": {
      "text/plain": [
       "[100, 5, 7, 9, 100, -4, 6]"
      ]
     },
     "execution_count": 56,
     "metadata": {},
     "output_type": "execute_result"
    }
   ],
   "source": [
    "#list comprehension\n",
    "#represents creation of new list from an iterable object in the singl line\n",
    "l1"
   ]
  },
  {
   "cell_type": "code",
   "execution_count": 58,
   "id": "3bc8205d",
   "metadata": {},
   "outputs": [
    {
     "name": "stdout",
     "output_type": "stream",
     "text": [
      "[10000, 25, 1, 16]\n"
     ]
    }
   ],
   "source": [
    "new_lst=[]\n",
    "l8=[100,5,-1,4]\n",
    "#new list with output [10000,25,1,16]\n",
    "for i in l8:\n",
    "    a=i**2 #or new_lst.append(i**2)\n",
    "    new_lst.append(a)\n",
    "print(new_lst)\n",
    "    "
   ]
  },
  {
   "cell_type": "code",
   "execution_count": 60,
   "id": "d282a31f",
   "metadata": {},
   "outputs": [
    {
     "data": {
      "text/plain": [
       "[10000, 25, 1, 16]"
      ]
     },
     "execution_count": 60,
     "metadata": {},
     "output_type": "execute_result"
    }
   ],
   "source": [
    "#also\n",
    "out=[ele**2 for ele in l8] #list comprehension\n",
    "out"
   ]
  },
  {
   "cell_type": "code",
   "execution_count": 59,
   "id": "b6d273b6",
   "metadata": {},
   "outputs": [
    {
     "data": {
      "text/plain": [
       "[5, 3, 2, 6, 4, 7, 9]"
      ]
     },
     "execution_count": 59,
     "metadata": {},
     "output_type": "execute_result"
    }
   ],
   "source": [
    "l3=[5,3,2,6,4,7,9]\n",
    "l3"
   ]
  },
  {
   "cell_type": "code",
   "execution_count": 61,
   "id": "826a20a2",
   "metadata": {},
   "outputs": [
    {
     "name": "stdout",
     "output_type": "stream",
     "text": [
      "[25, 9, 8, 216, 64, 49, 81]\n"
     ]
    }
   ],
   "source": [
    "#output=[25,9,8,216,64,49,81] for even its cube, for ood its square\n",
    "res=[]\n",
    "for ele in l3:\n",
    "    if ele%2==0:\n",
    "        res.append(ele**3)\n",
    "    else:\n",
    "        res.append(ele**2)\n",
    "print(res)\n",
    "    "
   ]
  },
  {
   "cell_type": "code",
   "execution_count": 70,
   "id": "298826a7",
   "metadata": {},
   "outputs": [
    {
     "data": {
      "text/plain": [
       "[25, 9, 8, 216, 64, 49, 81]"
      ]
     },
     "execution_count": 70,
     "metadata": {},
     "output_type": "execute_result"
    }
   ],
   "source": [
    "res = [ele**3 if ele %2 == 0 else ele**2 for ele in l3]\n",
    "res"
   ]
  },
  {
   "cell_type": "markdown",
   "id": "f70a8266",
   "metadata": {},
   "source": [
    "# Tuple\n",
    "collection of hetrigenous elements enclised within() and they are immutable.\n"
   ]
  },
  {
   "cell_type": "code",
   "execution_count": 71,
   "id": "86154b1a",
   "metadata": {},
   "outputs": [
    {
     "data": {
      "text/plain": [
       "(1, 4, 100, -7)"
      ]
     },
     "execution_count": 71,
     "metadata": {},
     "output_type": "execute_result"
    }
   ],
   "source": [
    "t1=(1,4,100,-7)\n",
    "t1"
   ]
  },
  {
   "cell_type": "code",
   "execution_count": 72,
   "id": "84d0aed9",
   "metadata": {},
   "outputs": [
    {
     "data": {
      "text/plain": [
       "tuple"
      ]
     },
     "execution_count": 72,
     "metadata": {},
     "output_type": "execute_result"
    }
   ],
   "source": [
    "type(t1)"
   ]
  },
  {
   "cell_type": "code",
   "execution_count": 73,
   "id": "6905e569",
   "metadata": {},
   "outputs": [
    {
     "data": {
      "text/plain": [
       "1"
      ]
     },
     "execution_count": 73,
     "metadata": {},
     "output_type": "execute_result"
    }
   ],
   "source": [
    "t1[0]"
   ]
  },
  {
   "cell_type": "code",
   "execution_count": 74,
   "id": "6545bc8a",
   "metadata": {},
   "outputs": [
    {
     "data": {
      "text/plain": [
       "-7"
      ]
     },
     "execution_count": 74,
     "metadata": {},
     "output_type": "execute_result"
    }
   ],
   "source": [
    "t1[-1]"
   ]
  },
  {
   "cell_type": "code",
   "execution_count": 75,
   "id": "fc9c14aa",
   "metadata": {},
   "outputs": [
    {
     "data": {
      "text/plain": [
       "(100, -7)"
      ]
     },
     "execution_count": 75,
     "metadata": {},
     "output_type": "execute_result"
    }
   ],
   "source": [
    "t1[2:5]"
   ]
  },
  {
   "cell_type": "code",
   "execution_count": 76,
   "id": "d5053fb3",
   "metadata": {},
   "outputs": [
    {
     "name": "stdout",
     "output_type": "stream",
     "text": [
      "Help on class tuple in module builtins:\n",
      "\n",
      "class tuple(object)\n",
      " |  tuple(iterable=(), /)\n",
      " |  \n",
      " |  Built-in immutable sequence.\n",
      " |  \n",
      " |  If no argument is given, the constructor returns an empty tuple.\n",
      " |  If iterable is specified the tuple is initialized from iterable's items.\n",
      " |  \n",
      " |  If the argument is a tuple, the return value is the same object.\n",
      " |  \n",
      " |  Built-in subclasses:\n",
      " |      asyncgen_hooks\n",
      " |      UnraisableHookArgs\n",
      " |  \n",
      " |  Methods defined here:\n",
      " |  \n",
      " |  __add__(self, value, /)\n",
      " |      Return self+value.\n",
      " |  \n",
      " |  __contains__(self, key, /)\n",
      " |      Return key in self.\n",
      " |  \n",
      " |  __eq__(self, value, /)\n",
      " |      Return self==value.\n",
      " |  \n",
      " |  __ge__(self, value, /)\n",
      " |      Return self>=value.\n",
      " |  \n",
      " |  __getattribute__(self, name, /)\n",
      " |      Return getattr(self, name).\n",
      " |  \n",
      " |  __getitem__(self, key, /)\n",
      " |      Return self[key].\n",
      " |  \n",
      " |  __getnewargs__(self, /)\n",
      " |  \n",
      " |  __gt__(self, value, /)\n",
      " |      Return self>value.\n",
      " |  \n",
      " |  __hash__(self, /)\n",
      " |      Return hash(self).\n",
      " |  \n",
      " |  __iter__(self, /)\n",
      " |      Implement iter(self).\n",
      " |  \n",
      " |  __le__(self, value, /)\n",
      " |      Return self<=value.\n",
      " |  \n",
      " |  __len__(self, /)\n",
      " |      Return len(self).\n",
      " |  \n",
      " |  __lt__(self, value, /)\n",
      " |      Return self<value.\n",
      " |  \n",
      " |  __mul__(self, value, /)\n",
      " |      Return self*value.\n",
      " |  \n",
      " |  __ne__(self, value, /)\n",
      " |      Return self!=value.\n",
      " |  \n",
      " |  __repr__(self, /)\n",
      " |      Return repr(self).\n",
      " |  \n",
      " |  __rmul__(self, value, /)\n",
      " |      Return value*self.\n",
      " |  \n",
      " |  count(self, value, /)\n",
      " |      Return number of occurrences of value.\n",
      " |  \n",
      " |  index(self, value, start=0, stop=9223372036854775807, /)\n",
      " |      Return first index of value.\n",
      " |      \n",
      " |      Raises ValueError if the value is not present.\n",
      " |  \n",
      " |  ----------------------------------------------------------------------\n",
      " |  Class methods defined here:\n",
      " |  \n",
      " |  __class_getitem__(...) from builtins.type\n",
      " |      See PEP 585\n",
      " |  \n",
      " |  ----------------------------------------------------------------------\n",
      " |  Static methods defined here:\n",
      " |  \n",
      " |  __new__(*args, **kwargs) from builtins.type\n",
      " |      Create and return a new object.  See help(type) for accurate signature.\n",
      "\n"
     ]
    }
   ],
   "source": [
    "help(tuple)"
   ]
  },
  {
   "cell_type": "code",
   "execution_count": 79,
   "id": "f13df23d",
   "metadata": {},
   "outputs": [
    {
     "data": {
      "text/plain": [
       "4"
      ]
     },
     "execution_count": 79,
     "metadata": {},
     "output_type": "execute_result"
    }
   ],
   "source": [
    "t2=(10,3,11,10,2,4,6,3,3,3) #count the occurence of the element given in brackets\n",
    "t2.count(3)"
   ]
  },
  {
   "cell_type": "code",
   "execution_count": 82,
   "id": "1d511c10",
   "metadata": {},
   "outputs": [
    {
     "data": {
      "text/plain": [
       "5"
      ]
     },
     "execution_count": 82,
     "metadata": {},
     "output_type": "execute_result"
    }
   ],
   "source": [
    "t2.index(4) #give index of value 4"
   ]
  },
  {
   "cell_type": "code",
   "execution_count": 84,
   "id": "a1c5a300",
   "metadata": {},
   "outputs": [
    {
     "data": {
      "text/plain": [
       "(1, 4, 100, -7, 10, 3, 11, 10, 2, 4, 6, 3, 3, 3)"
      ]
     },
     "execution_count": 84,
     "metadata": {},
     "output_type": "execute_result"
    }
   ],
   "source": [
    "t1 + t2 #concatenation"
   ]
  },
  {
   "cell_type": "code",
   "execution_count": 85,
   "id": "b127d624",
   "metadata": {},
   "outputs": [
    {
     "data": {
      "text/plain": [
       "(1, 4, 100, -7, 1, 4, 100, -7)"
      ]
     },
     "execution_count": 85,
     "metadata": {},
     "output_type": "execute_result"
    }
   ],
   "source": [
    "t1 * 2 #values will not change"
   ]
  },
  {
   "cell_type": "code",
   "execution_count": 86,
   "id": "4326f305",
   "metadata": {},
   "outputs": [
    {
     "data": {
      "text/plain": [
       "(1, 4, 100, -7)"
      ]
     },
     "execution_count": 86,
     "metadata": {},
     "output_type": "execute_result"
    }
   ],
   "source": [
    "t1"
   ]
  },
  {
   "cell_type": "code",
   "execution_count": 87,
   "id": "024ca1c0",
   "metadata": {},
   "outputs": [
    {
     "data": {
      "text/plain": [
       "-7"
      ]
     },
     "execution_count": 87,
     "metadata": {},
     "output_type": "execute_result"
    }
   ],
   "source": [
    "min(t1)"
   ]
  },
  {
   "cell_type": "code",
   "execution_count": 88,
   "id": "f13283d4",
   "metadata": {},
   "outputs": [
    {
     "data": {
      "text/plain": [
       "100"
      ]
     },
     "execution_count": 88,
     "metadata": {},
     "output_type": "execute_result"
    }
   ],
   "source": [
    "max(t1)"
   ]
  },
  {
   "cell_type": "code",
   "execution_count": 89,
   "id": "8f5a573f",
   "metadata": {},
   "outputs": [
    {
     "data": {
      "text/plain": [
       "98"
      ]
     },
     "execution_count": 89,
     "metadata": {},
     "output_type": "execute_result"
    }
   ],
   "source": [
    "sum(t1)"
   ]
  },
  {
   "cell_type": "code",
   "execution_count": 90,
   "id": "d60af0c4",
   "metadata": {},
   "outputs": [
    {
     "data": {
      "text/plain": [
       "4"
      ]
     },
     "execution_count": 90,
     "metadata": {},
     "output_type": "execute_result"
    }
   ],
   "source": [
    "len(t1)"
   ]
  },
  {
   "cell_type": "code",
   "execution_count": 91,
   "id": "6a4e4dbf",
   "metadata": {},
   "outputs": [
    {
     "name": "stdout",
     "output_type": "stream",
     "text": [
      "1\n",
      "4\n",
      "100\n",
      "-7\n"
     ]
    }
   ],
   "source": [
    "for i in t1:\n",
    "    print(i)"
   ]
  },
  {
   "cell_type": "markdown",
   "id": "fb428ba0",
   "metadata": {},
   "source": [
    "# dictionary\n",
    " - it is a comma seprated key-value pair enclosed within{}\n",
    " -they are mutable\n",
    " - key:value\n",
    " "
   ]
  },
  {
   "cell_type": "code",
   "execution_count": 93,
   "id": "1218e087",
   "metadata": {},
   "outputs": [
    {
     "data": {
      "text/plain": [
       "{'a': 1, 'b': 2}"
      ]
     },
     "execution_count": 93,
     "metadata": {},
     "output_type": "execute_result"
    }
   ],
   "source": [
    "d1={\"a\":1,\"b\":2}\n",
    "d1"
   ]
  },
  {
   "cell_type": "code",
   "execution_count": 94,
   "id": "597af4a8",
   "metadata": {},
   "outputs": [
    {
     "data": {
      "text/plain": [
       "dict"
      ]
     },
     "execution_count": 94,
     "metadata": {},
     "output_type": "execute_result"
    }
   ],
   "source": [
    "type(d1)"
   ]
  },
  {
   "cell_type": "code",
   "execution_count": 96,
   "id": "f323be37",
   "metadata": {},
   "outputs": [
    {
     "data": {
      "text/plain": [
       "1"
      ]
     },
     "execution_count": 96,
     "metadata": {},
     "output_type": "execute_result"
    }
   ],
   "source": [
    "d1[\"a\"]"
   ]
  },
  {
   "cell_type": "code",
   "execution_count": 97,
   "id": "c02567c6",
   "metadata": {},
   "outputs": [
    {
     "data": {
      "text/plain": [
       "2"
      ]
     },
     "execution_count": 97,
     "metadata": {},
     "output_type": "execute_result"
    }
   ],
   "source": [
    "d1[\"b\"]"
   ]
  },
  {
   "cell_type": "code",
   "execution_count": 98,
   "id": "44305f16",
   "metadata": {},
   "outputs": [],
   "source": [
    "d1[\"a\"]=100"
   ]
  },
  {
   "cell_type": "code",
   "execution_count": 99,
   "id": "28c12ca5",
   "metadata": {},
   "outputs": [
    {
     "data": {
      "text/plain": [
       "{'a': 100, 'b': 2}"
      ]
     },
     "execution_count": 99,
     "metadata": {},
     "output_type": "execute_result"
    }
   ],
   "source": [
    "d1"
   ]
  },
  {
   "cell_type": "code",
   "execution_count": 100,
   "id": "b0f65e1f",
   "metadata": {},
   "outputs": [],
   "source": [
    "d1[\"c\"]=200"
   ]
  },
  {
   "cell_type": "code",
   "execution_count": 101,
   "id": "c9333317",
   "metadata": {},
   "outputs": [
    {
     "data": {
      "text/plain": [
       "{'a': 100, 'b': 2, 'c': 200}"
      ]
     },
     "execution_count": 101,
     "metadata": {},
     "output_type": "execute_result"
    }
   ],
   "source": [
    "d1"
   ]
  },
  {
   "cell_type": "code",
   "execution_count": 103,
   "id": "69b2de57",
   "metadata": {},
   "outputs": [
    {
     "ename": "TypeError",
     "evalue": "unhashable type: 'list'",
     "output_type": "error",
     "traceback": [
      "\u001b[1;31m---------------------------------------------------------------------------\u001b[0m",
      "\u001b[1;31mTypeError\u001b[0m                                 Traceback (most recent call last)",
      "Cell \u001b[1;32mIn[103], line 1\u001b[0m\n\u001b[1;32m----> 1\u001b[0m d2\u001b[38;5;241m=\u001b[39m{[\u001b[38;5;241m1\u001b[39m,\u001b[38;5;241m2\u001b[39m,\u001b[38;5;241m3\u001b[39m]:\u001b[38;5;241m10\u001b[39m}\n",
      "\u001b[1;31mTypeError\u001b[0m: unhashable type: 'list'"
     ]
    }
   ],
   "source": [
    "d2={[1,2,3]:10} #mutable obj cannt be added as a key\n"
   ]
  },
  {
   "cell_type": "code",
   "execution_count": 104,
   "id": "d926ca6c",
   "metadata": {},
   "outputs": [
    {
     "data": {
      "text/plain": [
       "{'a': 3, 'b': 2, 'c': 6}"
      ]
     },
     "execution_count": 104,
     "metadata": {},
     "output_type": "execute_result"
    }
   ],
   "source": [
    "d1={\"a\":1,\"b\":2,\"a\":3,\"c\":6} #key cannot be dublicate but if dublicate key is present latest value from the right side is taken\n",
    "d1"
   ]
  },
  {
   "cell_type": "code",
   "execution_count": 105,
   "id": "49f495a0",
   "metadata": {},
   "outputs": [
    {
     "name": "stdout",
     "output_type": "stream",
     "text": [
      "Help on class dict in module builtins:\n",
      "\n",
      "class dict(object)\n",
      " |  dict() -> new empty dictionary\n",
      " |  dict(mapping) -> new dictionary initialized from a mapping object's\n",
      " |      (key, value) pairs\n",
      " |  dict(iterable) -> new dictionary initialized as if via:\n",
      " |      d = {}\n",
      " |      for k, v in iterable:\n",
      " |          d[k] = v\n",
      " |  dict(**kwargs) -> new dictionary initialized with the name=value pairs\n",
      " |      in the keyword argument list.  For example:  dict(one=1, two=2)\n",
      " |  \n",
      " |  Built-in subclasses:\n",
      " |      StgDict\n",
      " |  \n",
      " |  Methods defined here:\n",
      " |  \n",
      " |  __contains__(self, key, /)\n",
      " |      True if the dictionary has the specified key, else False.\n",
      " |  \n",
      " |  __delitem__(self, key, /)\n",
      " |      Delete self[key].\n",
      " |  \n",
      " |  __eq__(self, value, /)\n",
      " |      Return self==value.\n",
      " |  \n",
      " |  __ge__(self, value, /)\n",
      " |      Return self>=value.\n",
      " |  \n",
      " |  __getattribute__(self, name, /)\n",
      " |      Return getattr(self, name).\n",
      " |  \n",
      " |  __getitem__(...)\n",
      " |      x.__getitem__(y) <==> x[y]\n",
      " |  \n",
      " |  __gt__(self, value, /)\n",
      " |      Return self>value.\n",
      " |  \n",
      " |  __init__(self, /, *args, **kwargs)\n",
      " |      Initialize self.  See help(type(self)) for accurate signature.\n",
      " |  \n",
      " |  __ior__(self, value, /)\n",
      " |      Return self|=value.\n",
      " |  \n",
      " |  __iter__(self, /)\n",
      " |      Implement iter(self).\n",
      " |  \n",
      " |  __le__(self, value, /)\n",
      " |      Return self<=value.\n",
      " |  \n",
      " |  __len__(self, /)\n",
      " |      Return len(self).\n",
      " |  \n",
      " |  __lt__(self, value, /)\n",
      " |      Return self<value.\n",
      " |  \n",
      " |  __ne__(self, value, /)\n",
      " |      Return self!=value.\n",
      " |  \n",
      " |  __or__(self, value, /)\n",
      " |      Return self|value.\n",
      " |  \n",
      " |  __repr__(self, /)\n",
      " |      Return repr(self).\n",
      " |  \n",
      " |  __reversed__(self, /)\n",
      " |      Return a reverse iterator over the dict keys.\n",
      " |  \n",
      " |  __ror__(self, value, /)\n",
      " |      Return value|self.\n",
      " |  \n",
      " |  __setitem__(self, key, value, /)\n",
      " |      Set self[key] to value.\n",
      " |  \n",
      " |  __sizeof__(...)\n",
      " |      D.__sizeof__() -> size of D in memory, in bytes\n",
      " |  \n",
      " |  clear(...)\n",
      " |      D.clear() -> None.  Remove all items from D.\n",
      " |  \n",
      " |  copy(...)\n",
      " |      D.copy() -> a shallow copy of D\n",
      " |  \n",
      " |  get(self, key, default=None, /)\n",
      " |      Return the value for key if key is in the dictionary, else default.\n",
      " |  \n",
      " |  items(...)\n",
      " |      D.items() -> a set-like object providing a view on D's items\n",
      " |  \n",
      " |  keys(...)\n",
      " |      D.keys() -> a set-like object providing a view on D's keys\n",
      " |  \n",
      " |  pop(...)\n",
      " |      D.pop(k[,d]) -> v, remove specified key and return the corresponding value.\n",
      " |      \n",
      " |      If the key is not found, return the default if given; otherwise,\n",
      " |      raise a KeyError.\n",
      " |  \n",
      " |  popitem(self, /)\n",
      " |      Remove and return a (key, value) pair as a 2-tuple.\n",
      " |      \n",
      " |      Pairs are returned in LIFO (last-in, first-out) order.\n",
      " |      Raises KeyError if the dict is empty.\n",
      " |  \n",
      " |  setdefault(self, key, default=None, /)\n",
      " |      Insert key with a value of default if key is not in the dictionary.\n",
      " |      \n",
      " |      Return the value for key if key is in the dictionary, else default.\n",
      " |  \n",
      " |  update(...)\n",
      " |      D.update([E, ]**F) -> None.  Update D from dict/iterable E and F.\n",
      " |      If E is present and has a .keys() method, then does:  for k in E: D[k] = E[k]\n",
      " |      If E is present and lacks a .keys() method, then does:  for k, v in E: D[k] = v\n",
      " |      In either case, this is followed by: for k in F:  D[k] = F[k]\n",
      " |  \n",
      " |  values(...)\n",
      " |      D.values() -> an object providing a view on D's values\n",
      " |  \n",
      " |  ----------------------------------------------------------------------\n",
      " |  Class methods defined here:\n",
      " |  \n",
      " |  __class_getitem__(...) from builtins.type\n",
      " |      See PEP 585\n",
      " |  \n",
      " |  fromkeys(iterable, value=None, /) from builtins.type\n",
      " |      Create a new dictionary with keys from iterable and values set to value.\n",
      " |  \n",
      " |  ----------------------------------------------------------------------\n",
      " |  Static methods defined here:\n",
      " |  \n",
      " |  __new__(*args, **kwargs) from builtins.type\n",
      " |      Create and return a new object.  See help(type) for accurate signature.\n",
      " |  \n",
      " |  ----------------------------------------------------------------------\n",
      " |  Data and other attributes defined here:\n",
      " |  \n",
      " |  __hash__ = None\n",
      "\n"
     ]
    }
   ],
   "source": [
    "help(dict)"
   ]
  },
  {
   "cell_type": "code",
   "execution_count": 106,
   "id": "8dbc7cae",
   "metadata": {},
   "outputs": [
    {
     "data": {
      "text/plain": [
       "dict_items([('a', 3), ('b', 2), ('c', 6)])"
      ]
     },
     "execution_count": 106,
     "metadata": {},
     "output_type": "execute_result"
    }
   ],
   "source": [
    "d1.items() #output in the form of tuple"
   ]
  },
  {
   "cell_type": "code",
   "execution_count": 107,
   "id": "28c51039",
   "metadata": {},
   "outputs": [
    {
     "data": {
      "text/plain": [
       "dict_keys(['a', 'b', 'c'])"
      ]
     },
     "execution_count": 107,
     "metadata": {},
     "output_type": "execute_result"
    }
   ],
   "source": [
    "d1.keys()"
   ]
  },
  {
   "cell_type": "code",
   "execution_count": 108,
   "id": "c5f779ca",
   "metadata": {},
   "outputs": [
    {
     "data": {
      "text/plain": [
       "dict_values([3, 2, 6])"
      ]
     },
     "execution_count": 108,
     "metadata": {},
     "output_type": "execute_result"
    }
   ],
   "source": [
    "d1.values()"
   ]
  },
  {
   "cell_type": "code",
   "execution_count": 109,
   "id": "cfbca30d",
   "metadata": {},
   "outputs": [
    {
     "data": {
      "text/plain": [
       "{'id': 1001, 'name': 'jill', 'percentage': 71.5}"
      ]
     },
     "execution_count": 109,
     "metadata": {},
     "output_type": "execute_result"
    }
   ],
   "source": [
    "student1={\"id\":1001,\"name\":\"jill\",\"percentage\":71.5}\n",
    "student1"
   ]
  },
  {
   "cell_type": "code",
   "execution_count": 110,
   "id": "7aa54b30",
   "metadata": {},
   "outputs": [
    {
     "data": {
      "text/plain": [
       "'jill'"
      ]
     },
     "execution_count": 110,
     "metadata": {},
     "output_type": "execute_result"
    }
   ],
   "source": [
    "student1.get(\"name\")"
   ]
  },
  {
   "cell_type": "code",
   "execution_count": 112,
   "id": "1b564e60",
   "metadata": {},
   "outputs": [
    {
     "data": {
      "text/plain": [
       "'jill'"
      ]
     },
     "execution_count": 112,
     "metadata": {},
     "output_type": "execute_result"
    }
   ],
   "source": [
    "student1[\"name\"]"
   ]
  },
  {
   "cell_type": "code",
   "execution_count": 114,
   "id": "a1d5c03b",
   "metadata": {},
   "outputs": [
    {
     "ename": "KeyError",
     "evalue": "'phone'",
     "output_type": "error",
     "traceback": [
      "\u001b[1;31m---------------------------------------------------------------------------\u001b[0m",
      "\u001b[1;31mKeyError\u001b[0m                                  Traceback (most recent call last)",
      "Cell \u001b[1;32mIn[114], line 1\u001b[0m\n\u001b[1;32m----> 1\u001b[0m student1[\u001b[38;5;124m\"\u001b[39m\u001b[38;5;124mphone\u001b[39m\u001b[38;5;124m\"\u001b[39m]\n",
      "\u001b[1;31mKeyError\u001b[0m: 'phone'"
     ]
    }
   ],
   "source": [
    "student1[\"phone\"]"
   ]
  },
  {
   "cell_type": "code",
   "execution_count": 116,
   "id": "c80c7d92",
   "metadata": {},
   "outputs": [],
   "source": [
    "student1.get(\"phone\") #it will not give error just returns the value if key is present.if key is not present it will returns none means no output."
   ]
  },
  {
   "cell_type": "code",
   "execution_count": 117,
   "id": "677c67cb",
   "metadata": {},
   "outputs": [
    {
     "name": "stdout",
     "output_type": "stream",
     "text": [
      "None\n"
     ]
    }
   ],
   "source": [
    "print(student1.get(\"phone\"))"
   ]
  },
  {
   "cell_type": "code",
   "execution_count": 118,
   "id": "b713e414",
   "metadata": {},
   "outputs": [
    {
     "name": "stdout",
     "output_type": "stream",
     "text": [
      "999999\n"
     ]
    }
   ],
   "source": [
    "print(student1.get(\"phone\",999999)) #we can change the default value"
   ]
  },
  {
   "cell_type": "code",
   "execution_count": 119,
   "id": "c420e02c",
   "metadata": {},
   "outputs": [
    {
     "data": {
      "text/plain": [
       "1001"
      ]
     },
     "execution_count": 119,
     "metadata": {},
     "output_type": "execute_result"
    }
   ],
   "source": [
    "student1.get(\"id\",1111) #value is present hence value is output not 1111#"
   ]
  },
  {
   "cell_type": "code",
   "execution_count": 125,
   "id": "e46358bd",
   "metadata": {},
   "outputs": [
    {
     "data": {
      "text/plain": [
       "{'id': 1001, 'name': 'jill', 'percentage': 80, 'city': 'hyd', 'grade': 'c'}"
      ]
     },
     "execution_count": 125,
     "metadata": {},
     "output_type": "execute_result"
    }
   ],
   "source": [
    "#update()\n",
    "student1.update({\"city\":\"hyd\",\"grade\":\"c\",'percentage': 80}) #percentage is updated\n",
    "student1"
   ]
  },
  {
   "cell_type": "code",
   "execution_count": 126,
   "id": "324ccf41",
   "metadata": {},
   "outputs": [
    {
     "data": {
      "text/plain": [
       "'jill'"
      ]
     },
     "execution_count": 126,
     "metadata": {},
     "output_type": "execute_result"
    }
   ],
   "source": [
    "#pop()\n",
    "student1.pop(\"name\") #key is given in the argument and removes the key value pair in the dict and returns the value as output"
   ]
  },
  {
   "cell_type": "code",
   "execution_count": 127,
   "id": "c0adfff0",
   "metadata": {},
   "outputs": [
    {
     "data": {
      "text/plain": [
       "{'id': 1001, 'percentage': 80, 'city': 'hyd', 'grade': 'c'}"
      ]
     },
     "execution_count": 127,
     "metadata": {},
     "output_type": "execute_result"
    }
   ],
   "source": [
    "student1"
   ]
  },
  {
   "cell_type": "code",
   "execution_count": 128,
   "id": "7964ff1d",
   "metadata": {},
   "outputs": [
    {
     "ename": "TypeError",
     "evalue": "pop expected at least 1 argument, got 0",
     "output_type": "error",
     "traceback": [
      "\u001b[1;31m---------------------------------------------------------------------------\u001b[0m",
      "\u001b[1;31mTypeError\u001b[0m                                 Traceback (most recent call last)",
      "Cell \u001b[1;32mIn[128], line 1\u001b[0m\n\u001b[1;32m----> 1\u001b[0m student1\u001b[38;5;241m.\u001b[39mpop()\n",
      "\u001b[1;31mTypeError\u001b[0m: pop expected at least 1 argument, got 0"
     ]
    }
   ],
   "source": [
    "student1.pop() #if no key is given ,error"
   ]
  },
  {
   "cell_type": "code",
   "execution_count": 129,
   "id": "4e0067ca",
   "metadata": {},
   "outputs": [
    {
     "data": {
      "text/plain": [
       "'hyd'"
      ]
     },
     "execution_count": 129,
     "metadata": {},
     "output_type": "execute_result"
    }
   ],
   "source": [
    "deleted_value=student1.pop(\"city\")\n",
    "deleted_value"
   ]
  },
  {
   "cell_type": "code",
   "execution_count": 130,
   "id": "26bba4a7",
   "metadata": {},
   "outputs": [
    {
     "data": {
      "text/plain": [
       "'hello world'"
      ]
     },
     "execution_count": 130,
     "metadata": {},
     "output_type": "execute_result"
    }
   ],
   "source": [
    "str1=\"hello world\"\n",
    "str1"
   ]
  },
  {
   "cell_type": "code",
   "execution_count": 136,
   "id": "9f2e3f1f",
   "metadata": {},
   "outputs": [
    {
     "name": "stdout",
     "output_type": "stream",
     "text": [
      "{'h': 1, 'e': 1, 'l': 3, 'o': 2, ' ': 1, 'w': 1, 'r': 1, 'd': 1}\n"
     ]
    }
   ],
   "source": [
    "#output{\"h\":1,\"e\":1,\"l\":3,\"o\":2....}\n",
    "out_dict={}\n",
    "for i in str1:\n",
    "    if i in out_dict:\n",
    "        out_dict[i]+=1\n",
    "    else:\n",
    "        out_dict[i]=1\n",
    "print(out_dict)"
   ]
  },
  {
   "cell_type": "code",
   "execution_count": 137,
   "id": "a1c03b0a",
   "metadata": {},
   "outputs": [
    {
     "data": {
      "text/plain": [
       "{'id': 1001, 'percentage': 80, 'grade': 'c'}"
      ]
     },
     "execution_count": 137,
     "metadata": {},
     "output_type": "execute_result"
    }
   ],
   "source": [
    "#copy()\n",
    "student1"
   ]
  },
  {
   "cell_type": "code",
   "execution_count": 138,
   "id": "da24a92c",
   "metadata": {},
   "outputs": [],
   "source": [
    "student2=student1 #aliasing\n"
   ]
  },
  {
   "cell_type": "code",
   "execution_count": 139,
   "id": "080e0cac",
   "metadata": {},
   "outputs": [
    {
     "data": {
      "text/plain": [
       "1414876956096"
      ]
     },
     "execution_count": 139,
     "metadata": {},
     "output_type": "execute_result"
    }
   ],
   "source": [
    "id(student1)"
   ]
  },
  {
   "cell_type": "code",
   "execution_count": 143,
   "id": "0ec2f666",
   "metadata": {},
   "outputs": [
    {
     "data": {
      "text/plain": [
       "1414876956096"
      ]
     },
     "execution_count": 143,
     "metadata": {},
     "output_type": "execute_result"
    }
   ],
   "source": [
    "id(student2)"
   ]
  },
  {
   "cell_type": "code",
   "execution_count": 144,
   "id": "3bffa180",
   "metadata": {},
   "outputs": [
    {
     "data": {
      "text/plain": [
       "{'id': 1001, 'percentage': 80, 'grade': 'c'}"
      ]
     },
     "execution_count": 144,
     "metadata": {},
     "output_type": "execute_result"
    }
   ],
   "source": [
    "student3=student1.copy() #shallowcopy/cloning\n",
    "student3"
   ]
  },
  {
   "cell_type": "code",
   "execution_count": 145,
   "id": "b45f2eeb",
   "metadata": {},
   "outputs": [
    {
     "data": {
      "text/plain": [
       "1414856724992"
      ]
     },
     "execution_count": 145,
     "metadata": {},
     "output_type": "execute_result"
    }
   ],
   "source": [
    "id(student3)"
   ]
  },
  {
   "cell_type": "code",
   "execution_count": 146,
   "id": "45c6d314",
   "metadata": {},
   "outputs": [
    {
     "data": {
      "text/plain": [
       "{'id': 1001, 'percentage': 85, 'grade': 'c'}"
      ]
     },
     "execution_count": 146,
     "metadata": {},
     "output_type": "execute_result"
    }
   ],
   "source": [
    "student1[\"percentage\"]=85\n",
    "student1 #change"
   ]
  },
  {
   "cell_type": "code",
   "execution_count": 147,
   "id": "189d1f83",
   "metadata": {},
   "outputs": [
    {
     "data": {
      "text/plain": [
       "{'id': 1001, 'percentage': 85, 'grade': 'c'}"
      ]
     },
     "execution_count": 147,
     "metadata": {},
     "output_type": "execute_result"
    }
   ],
   "source": [
    "student2 #change"
   ]
  },
  {
   "cell_type": "code",
   "execution_count": 148,
   "id": "0c3a043f",
   "metadata": {},
   "outputs": [
    {
     "data": {
      "text/plain": [
       "{'id': 1001, 'percentage': 80, 'grade': 'c'}"
      ]
     },
     "execution_count": 148,
     "metadata": {},
     "output_type": "execute_result"
    }
   ],
   "source": [
    "student3 #not change"
   ]
  },
  {
   "cell_type": "code",
   "execution_count": 149,
   "id": "43d1286e",
   "metadata": {},
   "outputs": [
    {
     "data": {
      "text/plain": [
       "'c'"
      ]
     },
     "execution_count": 149,
     "metadata": {},
     "output_type": "execute_result"
    }
   ],
   "source": [
    "student1.get(\"grade\")"
   ]
  },
  {
   "cell_type": "code",
   "execution_count": 150,
   "id": "fdfca7ac",
   "metadata": {},
   "outputs": [],
   "source": [
    "student3.clear()"
   ]
  },
  {
   "cell_type": "code",
   "execution_count": 151,
   "id": "16578496",
   "metadata": {},
   "outputs": [
    {
     "data": {
      "text/plain": [
       "{}"
      ]
     },
     "execution_count": 151,
     "metadata": {},
     "output_type": "execute_result"
    }
   ],
   "source": [
    "student3"
   ]
  },
  {
   "cell_type": "code",
   "execution_count": 152,
   "id": "54ade607",
   "metadata": {},
   "outputs": [
    {
     "name": "stdout",
     "output_type": "stream",
     "text": [
      "Help on built-in function setdefault:\n",
      "\n",
      "setdefault(key, default=None, /) method of builtins.dict instance\n",
      "    Insert key with a value of default if key is not in the dictionary.\n",
      "    \n",
      "    Return the value for key if key is in the dictionary, else default.\n",
      "\n"
     ]
    }
   ],
   "source": [
    "help(student1.setdefault)"
   ]
  },
  {
   "cell_type": "code",
   "execution_count": 153,
   "id": "0a4649fb",
   "metadata": {},
   "outputs": [
    {
     "data": {
      "text/plain": [
       "'sam'"
      ]
     },
     "execution_count": 153,
     "metadata": {},
     "output_type": "execute_result"
    }
   ],
   "source": [
    "student1.setdefault(\"name\",\"sam\")    # Insert key with a value of default if key is not in the dictionary here is sam is defalut\n"
   ]
  },
  {
   "cell_type": "code",
   "execution_count": 154,
   "id": "432d42af",
   "metadata": {},
   "outputs": [
    {
     "data": {
      "text/plain": [
       "{'id': 1001, 'percentage': 85, 'grade': 'c', 'name': 'sam'}"
      ]
     },
     "execution_count": 154,
     "metadata": {},
     "output_type": "execute_result"
    }
   ],
   "source": [
    "student1"
   ]
  },
  {
   "cell_type": "code",
   "execution_count": 155,
   "id": "0fc0548f",
   "metadata": {},
   "outputs": [
    {
     "data": {
      "text/plain": [
       "1001"
      ]
     },
     "execution_count": 155,
     "metadata": {},
     "output_type": "execute_result"
    }
   ],
   "source": [
    "student1.setdefault(\"id\",\"500\")  #   Return the value for key if key is in the dictionary, else default.\n"
   ]
  },
  {
   "cell_type": "markdown",
   "id": "b22feb64",
   "metadata": {},
   "source": [
    "# Functions\n",
    "-A bloack of  code that does a specific task when it is called and it is resuable.\n",
    "- provides modularity\n",
    "- "
   ]
  },
  {
   "cell_type": "code",
   "execution_count": 1,
   "id": "70c7bf7f",
   "metadata": {},
   "outputs": [
    {
     "data": {
      "text/plain": [
       "7"
      ]
     },
     "execution_count": 1,
     "metadata": {},
     "output_type": "execute_result"
    }
   ],
   "source": [
    "#example len() is in-built function\n",
    "l1=[1,2,3,4,5,6,7]\n",
    "len(l1) "
   ]
  },
  {
   "cell_type": "markdown",
   "id": "1b366031",
   "metadata": {},
   "source": [
    "# we can write out own function called as user define function\n",
    "def function_name(arg1,arg2,..):\n",
    "    satement1\n",
    "    statement2\n",
    "    .\n",
    "    .\n",
    "    statementn\n",
    "\n"
   ]
  },
  {
   "cell_type": "code",
   "execution_count": 2,
   "id": "4e9b50ac",
   "metadata": {},
   "outputs": [],
   "source": [
    "def greet():\n",
    "    print(\"Hello every1\")\n",
    "    print(\"we are learning python\")\n",
    "    print(\"bye\")\n"
   ]
  },
  {
   "cell_type": "code",
   "execution_count": 3,
   "id": "b7eec83e",
   "metadata": {},
   "outputs": [
    {
     "name": "stdout",
     "output_type": "stream",
     "text": [
      "Hello every1\n",
      "we are learning python\n",
      "bye\n"
     ]
    }
   ],
   "source": [
    "#calling the function.\n",
    "#funcion_name(arg values)\n",
    "greet()"
   ]
  },
  {
   "cell_type": "code",
   "execution_count": 4,
   "id": "91e77106",
   "metadata": {},
   "outputs": [],
   "source": [
    "def greet_person(name):\n",
    "    print(f\"hello {name}, good morning!\")\n",
    "    "
   ]
  },
  {
   "cell_type": "code",
   "execution_count": 6,
   "id": "4be99652",
   "metadata": {},
   "outputs": [
    {
     "name": "stdout",
     "output_type": "stream",
     "text": [
      "hello sam, good morning!\n"
     ]
    }
   ],
   "source": [
    "greet_person(\"sam\")"
   ]
  },
  {
   "cell_type": "code",
   "execution_count": 7,
   "id": "24133baa",
   "metadata": {},
   "outputs": [
    {
     "name": "stdout",
     "output_type": "stream",
     "text": [
      "hello Naaz, good morning!\n"
     ]
    }
   ],
   "source": [
    "greet_person(\"Naaz\")"
   ]
  },
  {
   "cell_type": "code",
   "execution_count": 8,
   "id": "54e8f78c",
   "metadata": {},
   "outputs": [
    {
     "ename": "TypeError",
     "evalue": "greet_person() missing 1 required positional argument: 'name'",
     "output_type": "error",
     "traceback": [
      "\u001b[1;31m---------------------------------------------------------------------------\u001b[0m",
      "\u001b[1;31mTypeError\u001b[0m                                 Traceback (most recent call last)",
      "Cell \u001b[1;32mIn[8], line 1\u001b[0m\n\u001b[1;32m----> 1\u001b[0m greet_person()\n",
      "\u001b[1;31mTypeError\u001b[0m: greet_person() missing 1 required positional argument: 'name'"
     ]
    }
   ],
   "source": [
    "greet_person() #missing arg will give error"
   ]
  },
  {
   "cell_type": "code",
   "execution_count": 9,
   "id": "634a1d2c",
   "metadata": {},
   "outputs": [
    {
     "name": "stdout",
     "output_type": "stream",
     "text": [
      "Help on function greet_person in module __main__:\n",
      "\n",
      "greet_person(name)\n",
      "\n"
     ]
    }
   ],
   "source": [
    "help(greet_person)"
   ]
  },
  {
   "cell_type": "code",
   "execution_count": 12,
   "id": "699a4ac0",
   "metadata": {},
   "outputs": [],
   "source": [
    "def even_odd(num1):\n",
    "    if num1 %2 ==0:\n",
    "        print(\"even\")\n",
    "    else:\n",
    "        print(\"odd\")"
   ]
  },
  {
   "cell_type": "code",
   "execution_count": null,
   "id": "20e5444a",
   "metadata": {},
   "outputs": [],
   "source": []
  },
  {
   "cell_type": "code",
   "execution_count": 13,
   "id": "99174393",
   "metadata": {},
   "outputs": [
    {
     "name": "stdout",
     "output_type": "stream",
     "text": [
      "odd\n"
     ]
    }
   ],
   "source": [
    "even_odd(5)"
   ]
  },
  {
   "cell_type": "code",
   "execution_count": 14,
   "id": "634984aa",
   "metadata": {},
   "outputs": [
    {
     "name": "stdout",
     "output_type": "stream",
     "text": [
      "even\n"
     ]
    }
   ],
   "source": [
    "even_odd(8)"
   ]
  },
  {
   "cell_type": "code",
   "execution_count": 15,
   "id": "7dfabd8f",
   "metadata": {},
   "outputs": [
    {
     "data": {
      "text/plain": [
       "[1, 2, 3, 4, 5, 6, 7]"
      ]
     },
     "execution_count": 15,
     "metadata": {},
     "output_type": "execute_result"
    }
   ],
   "source": [
    "l1"
   ]
  },
  {
   "cell_type": "code",
   "execution_count": 20,
   "id": "96770ba7",
   "metadata": {},
   "outputs": [],
   "source": [
    "out=l1.append(100) #will apend it but it will not return anything."
   ]
  },
  {
   "cell_type": "code",
   "execution_count": 17,
   "id": "4788ee48",
   "metadata": {},
   "outputs": [
    {
     "data": {
      "text/plain": [
       "[1, 2, 3, 4, 5, 6, 7, 100]"
      ]
     },
     "execution_count": 17,
     "metadata": {},
     "output_type": "execute_result"
    }
   ],
   "source": [
    "l1"
   ]
  },
  {
   "cell_type": "code",
   "execution_count": 21,
   "id": "b45dd8ef",
   "metadata": {},
   "outputs": [
    {
     "name": "stdout",
     "output_type": "stream",
     "text": [
      "None\n"
     ]
    }
   ],
   "source": [
    "print(out) #it will not return anything"
   ]
  },
  {
   "cell_type": "code",
   "execution_count": 23,
   "id": "dd788c38",
   "metadata": {},
   "outputs": [],
   "source": [
    "val = l1.pop(2) #it will be return value"
   ]
  },
  {
   "cell_type": "code",
   "execution_count": 25,
   "id": "a1380e37",
   "metadata": {},
   "outputs": [
    {
     "name": "stdout",
     "output_type": "stream",
     "text": [
      "3\n"
     ]
    }
   ],
   "source": [
    "print(val)"
   ]
  },
  {
   "cell_type": "code",
   "execution_count": 26,
   "id": "2dc600b1",
   "metadata": {},
   "outputs": [
    {
     "name": "stdout",
     "output_type": "stream",
     "text": [
      "even\n"
     ]
    }
   ],
   "source": [
    "result = even_odd(10)"
   ]
  },
  {
   "cell_type": "code",
   "execution_count": 28,
   "id": "66503d0b",
   "metadata": {},
   "outputs": [
    {
     "name": "stdout",
     "output_type": "stream",
     "text": [
      "None\n"
     ]
    }
   ],
   "source": [
    "print(result) #will not retun anything as we are not returning anything,we are only priting the value."
   ]
  },
  {
   "cell_type": "code",
   "execution_count": 29,
   "id": "caacd6e8",
   "metadata": {},
   "outputs": [],
   "source": [
    "#to return a values from a function wE USE KEYword \"return\"\n",
    "def even_odd(num1):\n",
    "    if num1 %2 ==0:\n",
    "        return \"even\"\n",
    "    else:\n",
    "        return \"odd\""
   ]
  },
  {
   "cell_type": "code",
   "execution_count": 34,
   "id": "35253dcc",
   "metadata": {},
   "outputs": [],
   "source": [
    "result = even_odd(10) #not giveing output as we are returning values not printing\n"
   ]
  },
  {
   "cell_type": "code",
   "execution_count": 32,
   "id": "0dd47ecc",
   "metadata": {},
   "outputs": [
    {
     "name": "stdout",
     "output_type": "stream",
     "text": [
      "even\n"
     ]
    }
   ],
   "source": [
    "print(result)"
   ]
  },
  {
   "cell_type": "code",
   "execution_count": 35,
   "id": "28e3723b",
   "metadata": {},
   "outputs": [],
   "source": [
    "def arith(num1,num2):\n",
    "    add=num1+num2\n",
    "    return add #it will return to the main programe,after return keyword next step of code are ignored.\n",
    "    sub = num1-num2\n",
    "    return sub\n",
    "    multi = num1*num2\n",
    "    return multi"
   ]
  },
  {
   "cell_type": "code",
   "execution_count": 36,
   "id": "4faaef5f",
   "metadata": {},
   "outputs": [
    {
     "data": {
      "text/plain": [
       "6"
      ]
     },
     "execution_count": 36,
     "metadata": {},
     "output_type": "execute_result"
    }
   ],
   "source": [
    "result = arith(1,5)"
   ]
  },
  {
   "cell_type": "code",
   "execution_count": 37,
   "id": "77dca75f",
   "metadata": {},
   "outputs": [],
   "source": [
    "def arith(num1,num2):\n",
    "    add=num1+num2 \n",
    "    sub = num1-num2\n",
    "    \n",
    "    multi = num1*num2\n",
    "    return add,sub,multi"
   ]
  },
  {
   "cell_type": "code",
   "execution_count": 43,
   "id": "04084ae0",
   "metadata": {},
   "outputs": [
    {
     "data": {
      "text/plain": [
       "(12, -8, 20)"
      ]
     },
     "execution_count": 43,
     "metadata": {},
     "output_type": "execute_result"
    }
   ],
   "source": [
    "result=arith(2,10)\n",
    "result"
   ]
  },
  {
   "cell_type": "code",
   "execution_count": 41,
   "id": "785c4098",
   "metadata": {},
   "outputs": [
    {
     "data": {
      "text/plain": [
       "tuple"
      ]
     },
     "execution_count": 41,
     "metadata": {},
     "output_type": "execute_result"
    }
   ],
   "source": [
    "type(result)"
   ]
  },
  {
   "cell_type": "code",
   "execution_count": 44,
   "id": "171a1813",
   "metadata": {},
   "outputs": [],
   "source": [
    "x,y,z=arith(3,10) #tuple unpacking"
   ]
  },
  {
   "cell_type": "code",
   "execution_count": 45,
   "id": "3789ab9e",
   "metadata": {},
   "outputs": [
    {
     "data": {
      "text/plain": [
       "13"
      ]
     },
     "execution_count": 45,
     "metadata": {},
     "output_type": "execute_result"
    }
   ],
   "source": [
    "x"
   ]
  },
  {
   "cell_type": "code",
   "execution_count": 46,
   "id": "ae2b7190",
   "metadata": {},
   "outputs": [
    {
     "data": {
      "text/plain": [
       "-7"
      ]
     },
     "execution_count": 46,
     "metadata": {},
     "output_type": "execute_result"
    }
   ],
   "source": [
    "y"
   ]
  },
  {
   "cell_type": "code",
   "execution_count": 47,
   "id": "fece5094",
   "metadata": {},
   "outputs": [
    {
     "data": {
      "text/plain": [
       "30"
      ]
     },
     "execution_count": 47,
     "metadata": {},
     "output_type": "execute_result"
    }
   ],
   "source": [
    "z"
   ]
  },
  {
   "cell_type": "code",
   "execution_count": 51,
   "id": "1766a30c",
   "metadata": {},
   "outputs": [],
   "source": [
    "def add(num1,num2):\n",
    "    return num1+num2\n"
   ]
  },
  {
   "cell_type": "code",
   "execution_count": 52,
   "id": "7a39e841",
   "metadata": {},
   "outputs": [
    {
     "data": {
      "text/plain": [
       "3"
      ]
     },
     "execution_count": 52,
     "metadata": {},
     "output_type": "execute_result"
    }
   ],
   "source": [
    "add(1,2)"
   ]
  },
  {
   "cell_type": "code",
   "execution_count": 53,
   "id": "cd62f0a1",
   "metadata": {},
   "outputs": [
    {
     "ename": "TypeError",
     "evalue": "add() missing 1 required positional argument: 'num2'",
     "output_type": "error",
     "traceback": [
      "\u001b[1;31m---------------------------------------------------------------------------\u001b[0m",
      "\u001b[1;31mTypeError\u001b[0m                                 Traceback (most recent call last)",
      "Cell \u001b[1;32mIn[53], line 1\u001b[0m\n\u001b[1;32m----> 1\u001b[0m add(\u001b[38;5;241m1\u001b[39m)\n",
      "\u001b[1;31mTypeError\u001b[0m: add() missing 1 required positional argument: 'num2'"
     ]
    }
   ],
   "source": [
    "add(1)"
   ]
  },
  {
   "cell_type": "code",
   "execution_count": 54,
   "id": "1830c95f",
   "metadata": {},
   "outputs": [
    {
     "ename": "TypeError",
     "evalue": "add() takes 2 positional arguments but 3 were given",
     "output_type": "error",
     "traceback": [
      "\u001b[1;31m---------------------------------------------------------------------------\u001b[0m",
      "\u001b[1;31mTypeError\u001b[0m                                 Traceback (most recent call last)",
      "Cell \u001b[1;32mIn[54], line 1\u001b[0m\n\u001b[1;32m----> 1\u001b[0m add(\u001b[38;5;241m1\u001b[39m,\u001b[38;5;241m2\u001b[39m,\u001b[38;5;241m3\u001b[39m)\n",
      "\u001b[1;31mTypeError\u001b[0m: add() takes 2 positional arguments but 3 were given"
     ]
    }
   ],
   "source": [
    "add(1,2,3)"
   ]
  },
  {
   "cell_type": "code",
   "execution_count": 55,
   "id": "b4da4923",
   "metadata": {},
   "outputs": [
    {
     "ename": "TypeError",
     "evalue": "unsupported operand type(s) for +: 'int' and 'str'",
     "output_type": "error",
     "traceback": [
      "\u001b[1;31m---------------------------------------------------------------------------\u001b[0m",
      "\u001b[1;31mTypeError\u001b[0m                                 Traceback (most recent call last)",
      "Cell \u001b[1;32mIn[55], line 1\u001b[0m\n\u001b[1;32m----> 1\u001b[0m add(\u001b[38;5;241m10\u001b[39m,\u001b[38;5;124m\"\u001b[39m\u001b[38;5;124mhello\u001b[39m\u001b[38;5;124m\"\u001b[39m)\n",
      "Cell \u001b[1;32mIn[51], line 2\u001b[0m, in \u001b[0;36madd\u001b[1;34m(num1, num2)\u001b[0m\n\u001b[0;32m      1\u001b[0m \u001b[38;5;28;01mdef\u001b[39;00m \u001b[38;5;21madd\u001b[39m(num1,num2):\n\u001b[1;32m----> 2\u001b[0m     \u001b[38;5;28;01mreturn\u001b[39;00m num1\u001b[38;5;241m+\u001b[39mnum2\n",
      "\u001b[1;31mTypeError\u001b[0m: unsupported operand type(s) for +: 'int' and 'str'"
     ]
    }
   ],
   "source": [
    "add(10,\"hello\") #values will be assigned but operation cannot be performed.unsupported operand type(s) for +: 'int' and 'str'"
   ]
  },
  {
   "cell_type": "code",
   "execution_count": 56,
   "id": "4030079f",
   "metadata": {},
   "outputs": [
    {
     "data": {
      "text/plain": [
       "'hihello'"
      ]
     },
     "execution_count": 56,
     "metadata": {},
     "output_type": "execute_result"
    }
   ],
   "source": [
    "add(\"hi\",\"hello\")"
   ]
  },
  {
   "cell_type": "code",
   "execution_count": 57,
   "id": "e994d0fa",
   "metadata": {},
   "outputs": [],
   "source": [
    "#annotation\n",
    "def add(a:int,b:int): #annotating means just mention that a and b are expecting int as argumnts but there is no restriction.we can give anything\n",
    "    return a+b"
   ]
  },
  {
   "cell_type": "code",
   "execution_count": 58,
   "id": "dee797f0",
   "metadata": {},
   "outputs": [
    {
     "ename": "TypeError",
     "evalue": "can only concatenate str (not \"int\") to str",
     "output_type": "error",
     "traceback": [
      "\u001b[1;31m---------------------------------------------------------------------------\u001b[0m",
      "\u001b[1;31mTypeError\u001b[0m                                 Traceback (most recent call last)",
      "Cell \u001b[1;32mIn[58], line 1\u001b[0m\n\u001b[1;32m----> 1\u001b[0m add(\u001b[38;5;124m\"\u001b[39m\u001b[38;5;124mhi\u001b[39m\u001b[38;5;124m\"\u001b[39m,\u001b[38;5;241m10\u001b[39m)\n",
      "Cell \u001b[1;32mIn[57], line 3\u001b[0m, in \u001b[0;36madd\u001b[1;34m(a, b)\u001b[0m\n\u001b[0;32m      2\u001b[0m \u001b[38;5;28;01mdef\u001b[39;00m \u001b[38;5;21madd\u001b[39m(a:\u001b[38;5;28mint\u001b[39m,b:\u001b[38;5;28mint\u001b[39m):\n\u001b[1;32m----> 3\u001b[0m     \u001b[38;5;28;01mreturn\u001b[39;00m a\u001b[38;5;241m+\u001b[39mb\n",
      "\u001b[1;31mTypeError\u001b[0m: can only concatenate str (not \"int\") to str"
     ]
    }
   ],
   "source": [
    "add(\"hi\",10)"
   ]
  },
  {
   "cell_type": "code",
   "execution_count": 59,
   "id": "104422aa",
   "metadata": {},
   "outputs": [
    {
     "data": {
      "text/plain": [
       "'hihello'"
      ]
     },
     "execution_count": 59,
     "metadata": {},
     "output_type": "execute_result"
    }
   ],
   "source": [
    "add(\"hi\",\"hello\")"
   ]
  },
  {
   "cell_type": "code",
   "execution_count": 63,
   "id": "e4c9a452",
   "metadata": {},
   "outputs": [],
   "source": [
    "#docstring\n",
    "def add(a,b): #documentation must be first thing in the code and enclosed within tripl quotes\n",
    "    \"\"\" \n",
    "    returns the sum of a and b \n",
    "    a:is first int \n",
    "    b:is second int\n",
    "    \"\"\"\n",
    "    return a+b"
   ]
  },
  {
   "cell_type": "code",
   "execution_count": 61,
   "id": "166c5412",
   "metadata": {},
   "outputs": [
    {
     "data": {
      "text/plain": [
       "7"
      ]
     },
     "execution_count": 61,
     "metadata": {},
     "output_type": "execute_result"
    }
   ],
   "source": [
    "add(2,5)"
   ]
  },
  {
   "cell_type": "code",
   "execution_count": 64,
   "id": "5d87eeab",
   "metadata": {},
   "outputs": [
    {
     "name": "stdout",
     "output_type": "stream",
     "text": [
      "Help on function add in module __main__:\n",
      "\n",
      "add(a, b)\n",
      "    returns the sum of a and b \n",
      "    a:is first int \n",
      "    b:is second int\n",
      "\n"
     ]
    }
   ],
   "source": [
    "help(add)"
   ]
  },
  {
   "cell_type": "code",
   "execution_count": 67,
   "id": "6114ca6b",
   "metadata": {},
   "outputs": [],
   "source": [
    "def add(a,b):\n",
    "    print(\"lol\") #as the doc is mention second it will not be considered as doc\n",
    "    \"\"\" \n",
    "    returns the sum of a and b \n",
    "    a:is first int \n",
    "    b:is second int\n",
    "    \"\"\"\n",
    "    return a+b"
   ]
  },
  {
   "cell_type": "code",
   "execution_count": 68,
   "id": "3c0a18ed",
   "metadata": {},
   "outputs": [
    {
     "name": "stdout",
     "output_type": "stream",
     "text": [
      "lol\n"
     ]
    },
    {
     "data": {
      "text/plain": [
       "11"
      ]
     },
     "execution_count": 68,
     "metadata": {},
     "output_type": "execute_result"
    }
   ],
   "source": [
    "add(5,6)"
   ]
  },
  {
   "cell_type": "code",
   "execution_count": 69,
   "id": "d188c230",
   "metadata": {},
   "outputs": [
    {
     "name": "stdout",
     "output_type": "stream",
     "text": [
      "Help on function add in module __main__:\n",
      "\n",
      "add(a, b)\n",
      "\n"
     ]
    }
   ],
   "source": [
    "help(add) #doc is not mentioned"
   ]
  },
  {
   "cell_type": "code",
   "execution_count": null,
   "id": "9beb4d4e",
   "metadata": {},
   "outputs": [],
   "source": [
    "def add(a:int,b:int)->int: #here -> int indecates that the out put will also be an int but it is not complusary"
   ]
  },
  {
   "cell_type": "code",
   "execution_count": 71,
   "id": "023d4afc",
   "metadata": {},
   "outputs": [
    {
     "data": {
      "text/plain": [
       "True"
      ]
     },
     "execution_count": 71,
     "metadata": {},
     "output_type": "execute_result"
    }
   ],
   "source": [
    "isinstance(\"hi\",str) #check if hi is a str"
   ]
  },
  {
   "cell_type": "code",
   "execution_count": 72,
   "id": "c938e6a7",
   "metadata": {},
   "outputs": [
    {
     "data": {
      "text/plain": [
       "True"
      ]
     },
     "execution_count": 72,
     "metadata": {},
     "output_type": "execute_result"
    }
   ],
   "source": [
    "isinstance(10,int) #check if 10 is a int?"
   ]
  },
  {
   "cell_type": "code",
   "execution_count": 74,
   "id": "d8ebef0a",
   "metadata": {},
   "outputs": [],
   "source": [
    "# types of arguments\n",
    "#positional argumenst\n",
    "def add(a,b):\n",
    "        return a+b"
   ]
  },
  {
   "cell_type": "code",
   "execution_count": 75,
   "id": "a4362d02",
   "metadata": {},
   "outputs": [
    {
     "data": {
      "text/plain": [
       "15"
      ]
     },
     "execution_count": 75,
     "metadata": {},
     "output_type": "execute_result"
    }
   ],
   "source": [
    "add(10,5) #a and b are positional arguments"
   ]
  },
  {
   "cell_type": "code",
   "execution_count": 76,
   "id": "0c7acf1e",
   "metadata": {},
   "outputs": [],
   "source": [
    "#defalut argument\n",
    "def add(a,b=1): #here b is default arg and b value is 1,it is an optional arg now\n",
    "        return a+b "
   ]
  },
  {
   "cell_type": "code",
   "execution_count": 77,
   "id": "d659ad2e",
   "metadata": {},
   "outputs": [
    {
     "data": {
      "text/plain": [
       "20"
      ]
     },
     "execution_count": 77,
     "metadata": {},
     "output_type": "execute_result"
    }
   ],
   "source": [
    "add(10,10)"
   ]
  },
  {
   "cell_type": "code",
   "execution_count": 78,
   "id": "141bcd42",
   "metadata": {},
   "outputs": [
    {
     "data": {
      "text/plain": [
       "11"
      ]
     },
     "execution_count": 78,
     "metadata": {},
     "output_type": "execute_result"
    }
   ],
   "source": [
    "add(10) #here b is given the defalut value"
   ]
  },
  {
   "cell_type": "code",
   "execution_count": 79,
   "id": "e3ba407b",
   "metadata": {},
   "outputs": [],
   "source": [
    "def add(a=9,b=1): #here a and b are default arg\n",
    "        return a+b "
   ]
  },
  {
   "cell_type": "code",
   "execution_count": 80,
   "id": "8d0bcd1f",
   "metadata": {},
   "outputs": [
    {
     "data": {
      "text/plain": [
       "10"
      ]
     },
     "execution_count": 80,
     "metadata": {},
     "output_type": "execute_result"
    }
   ],
   "source": [
    "add()\n"
   ]
  },
  {
   "cell_type": "code",
   "execution_count": 81,
   "id": "3b27f74c",
   "metadata": {},
   "outputs": [
    {
     "data": {
      "text/plain": [
       "30"
      ]
     },
     "execution_count": 81,
     "metadata": {},
     "output_type": "execute_result"
    }
   ],
   "source": [
    "add(10,20)"
   ]
  },
  {
   "cell_type": "code",
   "execution_count": 84,
   "id": "44d7c62b",
   "metadata": {},
   "outputs": [
    {
     "data": {
      "text/plain": [
       "23"
      ]
     },
     "execution_count": 84,
     "metadata": {},
     "output_type": "execute_result"
    }
   ],
   "source": [
    "#key word agrumnt- \n",
    "def add(a=3,b=5):\n",
    "        return a+b \n",
    "add(b=20) #assign 20 to arg b, then b is called keyword argument."
   ]
  },
  {
   "cell_type": "code",
   "execution_count": 85,
   "id": "c6e11b29",
   "metadata": {},
   "outputs": [
    {
     "data": {
      "text/plain": [
       "13"
      ]
     },
     "execution_count": 85,
     "metadata": {},
     "output_type": "execute_result"
    }
   ],
   "source": [
    "add(a=8) # a is keyword arg"
   ]
  },
  {
   "cell_type": "code",
   "execution_count": 88,
   "id": "ffd38826",
   "metadata": {},
   "outputs": [
    {
     "name": "stdout",
     "output_type": "stream",
     "text": [
      "7\n",
      "2\n"
     ]
    },
    {
     "data": {
      "text/plain": [
       "9"
      ]
     },
     "execution_count": 88,
     "metadata": {},
     "output_type": "execute_result"
    }
   ],
   "source": [
    "def add(a,b): #a and b are keyword arguments\n",
    "    print(a)\n",
    "    print(b)\n",
    "    return a+b\n",
    "add(b=2,a=7)"
   ]
  },
  {
   "cell_type": "code",
   "execution_count": 89,
   "id": "f82358fc",
   "metadata": {},
   "outputs": [],
   "source": [
    "#note-both and b both can be default as well as keyword argumnt\n"
   ]
  },
  {
   "cell_type": "code",
   "execution_count": 90,
   "id": "db16bb7d",
   "metadata": {},
   "outputs": [
    {
     "ename": "SyntaxError",
     "evalue": "positional argument follows keyword argument (927644333.py, line 1)",
     "output_type": "error",
     "traceback": [
      "\u001b[1;36m  Cell \u001b[1;32mIn[90], line 1\u001b[1;36m\u001b[0m\n\u001b[1;33m    add(b=2,7)\u001b[0m\n\u001b[1;37m             ^\u001b[0m\n\u001b[1;31mSyntaxError\u001b[0m\u001b[1;31m:\u001b[0m positional argument follows keyword argument\n"
     ]
    }
   ],
   "source": [
    "add(b=2,7) # positional argument follows keyword argument which is wrong hence error"
   ]
  },
  {
   "cell_type": "code",
   "execution_count": 92,
   "id": "4d701642",
   "metadata": {},
   "outputs": [
    {
     "name": "stdout",
     "output_type": "stream",
     "text": [
      "2\n",
      "7\n"
     ]
    },
    {
     "data": {
      "text/plain": [
       "9"
      ]
     },
     "execution_count": 92,
     "metadata": {},
     "output_type": "execute_result"
    }
   ],
   "source": [
    "add(2,b=7) #this is possible"
   ]
  },
  {
   "cell_type": "code",
   "execution_count": 94,
   "id": "f96c550a",
   "metadata": {},
   "outputs": [],
   "source": [
    "def add(a,b,c):\n",
    "    print(f\"{a} is a\")\n",
    "    print(f\"{b} is b\")\n",
    "    print(f\"{c} is c\")\n",
    "    return a+b+c"
   ]
  },
  {
   "cell_type": "code",
   "execution_count": 95,
   "id": "7e767857",
   "metadata": {},
   "outputs": [
    {
     "name": "stdout",
     "output_type": "stream",
     "text": [
      "Help on function add in module __main__:\n",
      "\n",
      "add(a, b, c)\n",
      "\n"
     ]
    }
   ],
   "source": [
    "help(add)"
   ]
  },
  {
   "cell_type": "code",
   "execution_count": 96,
   "id": "c57bac82",
   "metadata": {},
   "outputs": [
    {
     "name": "stdout",
     "output_type": "stream",
     "text": [
      "10 is a\n",
      "20 is b\n",
      "30 is c\n"
     ]
    },
    {
     "data": {
      "text/plain": [
       "60"
      ]
     },
     "execution_count": 96,
     "metadata": {},
     "output_type": "execute_result"
    }
   ],
   "source": [
    "add(10,20,30)"
   ]
  },
  {
   "cell_type": "code",
   "execution_count": 97,
   "id": "e81a33f3",
   "metadata": {},
   "outputs": [
    {
     "ename": "TypeError",
     "evalue": "add() missing 1 required positional argument: 'c'",
     "output_type": "error",
     "traceback": [
      "\u001b[1;31m---------------------------------------------------------------------------\u001b[0m",
      "\u001b[1;31mTypeError\u001b[0m                                 Traceback (most recent call last)",
      "Cell \u001b[1;32mIn[97], line 1\u001b[0m\n\u001b[1;32m----> 1\u001b[0m add(\u001b[38;5;241m1\u001b[39m,\u001b[38;5;241m2\u001b[39m)\n",
      "\u001b[1;31mTypeError\u001b[0m: add() missing 1 required positional argument: 'c'"
     ]
    }
   ],
   "source": [
    "add(1,2)"
   ]
  },
  {
   "cell_type": "code",
   "execution_count": 98,
   "id": "42e101fa",
   "metadata": {},
   "outputs": [
    {
     "name": "stdout",
     "output_type": "stream",
     "text": [
      "10 is a\n",
      "30 is b\n",
      "20 is c\n"
     ]
    },
    {
     "data": {
      "text/plain": [
       "60"
      ]
     },
     "execution_count": 98,
     "metadata": {},
     "output_type": "execute_result"
    }
   ],
   "source": [
    "add(a=10,c=20,b=30) #keyword arg ,seq is not mandatory"
   ]
  },
  {
   "cell_type": "code",
   "execution_count": 100,
   "id": "2121ebe3",
   "metadata": {},
   "outputs": [
    {
     "ename": "TypeError",
     "evalue": "add() got multiple values for argument 'a'",
     "output_type": "error",
     "traceback": [
      "\u001b[1;31m---------------------------------------------------------------------------\u001b[0m",
      "\u001b[1;31mTypeError\u001b[0m                                 Traceback (most recent call last)",
      "Cell \u001b[1;32mIn[100], line 1\u001b[0m\n\u001b[1;32m----> 1\u001b[0m add(\u001b[38;5;241m10\u001b[39m,\u001b[38;5;241m20\u001b[39m,a\u001b[38;5;241m=\u001b[39m\u001b[38;5;241m30\u001b[39m)\n",
      "\u001b[1;31mTypeError\u001b[0m: add() got multiple values for argument 'a'"
     ]
    }
   ],
   "source": []
  },
  {
   "cell_type": "code",
   "execution_count": 101,
   "id": "14fa86ad",
   "metadata": {},
   "outputs": [],
   "source": [
    "def add(a,b=20,c=30):\n",
    "    print(f\"{a} is a\")\n",
    "    print(f\"{b} is b\")\n",
    "    print(f\"{c} is c\")\n",
    "    return a+b+c"
   ]
  },
  {
   "cell_type": "code",
   "execution_count": 102,
   "id": "e1ba4906",
   "metadata": {},
   "outputs": [
    {
     "name": "stdout",
     "output_type": "stream",
     "text": [
      "1 is a\n",
      "20 is b\n",
      "30 is c\n"
     ]
    },
    {
     "data": {
      "text/plain": [
       "51"
      ]
     },
     "execution_count": 102,
     "metadata": {},
     "output_type": "execute_result"
    }
   ],
   "source": [
    "add(1)"
   ]
  },
  {
   "cell_type": "code",
   "execution_count": 103,
   "id": "2ddf30b1",
   "metadata": {},
   "outputs": [
    {
     "name": "stdout",
     "output_type": "stream",
     "text": [
      "1 is a\n",
      "20 is b\n",
      "30 is c\n"
     ]
    },
    {
     "data": {
      "text/plain": [
       "51"
      ]
     },
     "execution_count": 103,
     "metadata": {},
     "output_type": "execute_result"
    }
   ],
   "source": [
    "add(a=1)"
   ]
  },
  {
   "cell_type": "code",
   "execution_count": 104,
   "id": "9224fb42",
   "metadata": {},
   "outputs": [
    {
     "ename": "TypeError",
     "evalue": "add() missing 1 required positional argument: 'a'",
     "output_type": "error",
     "traceback": [
      "\u001b[1;31m---------------------------------------------------------------------------\u001b[0m",
      "\u001b[1;31mTypeError\u001b[0m                                 Traceback (most recent call last)",
      "Cell \u001b[1;32mIn[104], line 1\u001b[0m\n\u001b[1;32m----> 1\u001b[0m add(b\u001b[38;5;241m=\u001b[39m\u001b[38;5;241m10\u001b[39m)\n",
      "\u001b[1;31mTypeError\u001b[0m: add() missing 1 required positional argument: 'a'"
     ]
    }
   ],
   "source": [
    "add(b=10) #a value missing"
   ]
  },
  {
   "cell_type": "code",
   "execution_count": 105,
   "id": "3f66962b",
   "metadata": {},
   "outputs": [
    {
     "name": "stdout",
     "output_type": "stream",
     "text": [
      "10 is a\n",
      "40 is b\n",
      "30 is c\n"
     ]
    },
    {
     "data": {
      "text/plain": [
       "80"
      ]
     },
     "execution_count": 105,
     "metadata": {},
     "output_type": "execute_result"
    }
   ],
   "source": [
    "add(a=10,b=40)"
   ]
  },
  {
   "cell_type": "code",
   "execution_count": 107,
   "id": "b34db70a",
   "metadata": {},
   "outputs": [
    {
     "ename": "TypeError",
     "evalue": "add() got multiple values for argument 'a'",
     "output_type": "error",
     "traceback": [
      "\u001b[1;31m---------------------------------------------------------------------------\u001b[0m",
      "\u001b[1;31mTypeError\u001b[0m                                 Traceback (most recent call last)",
      "Cell \u001b[1;32mIn[107], line 1\u001b[0m\n\u001b[1;32m----> 1\u001b[0m add(\u001b[38;5;241m7\u001b[39m,\u001b[38;5;241m8\u001b[39m,a\u001b[38;5;241m=\u001b[39m\u001b[38;5;241m10\u001b[39m)\n",
      "\u001b[1;31mTypeError\u001b[0m: add() got multiple values for argument 'a'"
     ]
    }
   ],
   "source": [
    "add(7,8,a=10) #add() got multiple values for argument 'a' incorrect"
   ]
  },
  {
   "cell_type": "code",
   "execution_count": 108,
   "id": "a4755570",
   "metadata": {},
   "outputs": [
    {
     "ename": "SyntaxError",
     "evalue": "non-default argument follows default argument (1819962365.py, line 1)",
     "output_type": "error",
     "traceback": [
      "\u001b[1;36m  Cell \u001b[1;32mIn[108], line 1\u001b[1;36m\u001b[0m\n\u001b[1;33m    def add(a,b=1,c): #\u001b[0m\n\u001b[1;37m                  ^\u001b[0m\n\u001b[1;31mSyntaxError\u001b[0m\u001b[1;31m:\u001b[0m non-default argument follows default argument\n"
     ]
    }
   ],
   "source": [
    "def add(a,b=1,c): # it is an error non-default argument follows default argument \n",
    "    print(f\"{a} is a\")\n",
    "    print(f\"{b} is b\")\n",
    "    print(f\"{c} is c\")\n",
    "    return a+b+c"
   ]
  },
  {
   "cell_type": "code",
   "execution_count": 109,
   "id": "880dc91a",
   "metadata": {},
   "outputs": [],
   "source": [
    "def add(a,c,b=1):# a default arg should be defined after all the positional arg\n",
    "    print(f\"{a} is a\")\n",
    "    print(f\"{b} is b\")\n",
    "    print(f\"{c} is c\")\n",
    "    return a+b+c"
   ]
  },
  {
   "cell_type": "code",
   "execution_count": 110,
   "id": "ca1e6ea9",
   "metadata": {},
   "outputs": [
    {
     "name": "stdout",
     "output_type": "stream",
     "text": [
      "1 is a\n",
      "1 is b\n",
      "2 is c\n"
     ]
    },
    {
     "data": {
      "text/plain": [
       "4"
      ]
     },
     "execution_count": 110,
     "metadata": {},
     "output_type": "execute_result"
    }
   ],
   "source": [
    "add(1,2)"
   ]
  },
  {
   "cell_type": "code",
   "execution_count": 111,
   "id": "2e8c2a4c",
   "metadata": {},
   "outputs": [
    {
     "name": "stdout",
     "output_type": "stream",
     "text": [
      "12 is a\n",
      "14 is b\n",
      "13 is c\n"
     ]
    },
    {
     "data": {
      "text/plain": [
       "39"
      ]
     },
     "execution_count": 111,
     "metadata": {},
     "output_type": "execute_result"
    }
   ],
   "source": [
    "add(12,13,14)"
   ]
  },
  {
   "cell_type": "code",
   "execution_count": 112,
   "id": "5c23fbe7",
   "metadata": {},
   "outputs": [
    {
     "name": "stdout",
     "output_type": "stream",
     "text": [
      "10 is a\n",
      "1 is b\n",
      "20 is c\n"
     ]
    },
    {
     "data": {
      "text/plain": [
       "31"
      ]
     },
     "execution_count": 112,
     "metadata": {},
     "output_type": "execute_result"
    }
   ],
   "source": [
    "add(c=20,a=10)"
   ]
  },
  {
   "cell_type": "code",
   "execution_count": 113,
   "id": "a286483c",
   "metadata": {},
   "outputs": [],
   "source": [
    "#for addingn n number of arg (variable length arg)\n",
    "#*args is used for accepting 0 or more arg values in the function.\n",
    "\n",
    "def f1(*args):\n",
    "    pass\n"
   ]
  },
  {
   "cell_type": "code",
   "execution_count": 115,
   "id": "8e034b25",
   "metadata": {},
   "outputs": [],
   "source": [
    "f1()"
   ]
  },
  {
   "cell_type": "code",
   "execution_count": 116,
   "id": "8c2e15bd",
   "metadata": {},
   "outputs": [],
   "source": [
    "f1(2,3,4)"
   ]
  },
  {
   "cell_type": "code",
   "execution_count": 118,
   "id": "17272cbb",
   "metadata": {},
   "outputs": [],
   "source": [
    "f1(1,2,3,4,5,6,7,8,\"hi\")"
   ]
  },
  {
   "cell_type": "code",
   "execution_count": 119,
   "id": "335194fd",
   "metadata": {},
   "outputs": [],
   "source": [
    "def add(*args):\n",
    "    print(args)\n",
    "    print(type(args))"
   ]
  },
  {
   "cell_type": "code",
   "execution_count": 120,
   "id": "c04a8a9d",
   "metadata": {},
   "outputs": [
    {
     "name": "stdout",
     "output_type": "stream",
     "text": [
      "(1, 2, 3, 5, 5)\n",
      "<class 'tuple'>\n"
     ]
    }
   ],
   "source": [
    "add(1,2,3,5,5,)"
   ]
  },
  {
   "cell_type": "code",
   "execution_count": 121,
   "id": "056ac0c3",
   "metadata": {},
   "outputs": [
    {
     "name": "stdout",
     "output_type": "stream",
     "text": [
      "()\n",
      "<class 'tuple'>\n"
     ]
    }
   ],
   "source": [
    "add()"
   ]
  },
  {
   "cell_type": "code",
   "execution_count": 122,
   "id": "7a3b50b0",
   "metadata": {},
   "outputs": [
    {
     "name": "stdout",
     "output_type": "stream",
     "text": [
      "(1,)\n",
      "<class 'tuple'>\n"
     ]
    }
   ],
   "source": [
    "add(1) #if we give one argumnt it will give as 1,"
   ]
  },
  {
   "cell_type": "code",
   "execution_count": 123,
   "id": "a70fe696",
   "metadata": {},
   "outputs": [
    {
     "name": "stdout",
     "output_type": "stream",
     "text": [
      "(10,)\n",
      "<class 'tuple'>\n"
     ]
    }
   ],
   "source": [
    "add(10,)#we can also give it as (10, )"
   ]
  },
  {
   "cell_type": "code",
   "execution_count": 127,
   "id": "a1a68d84",
   "metadata": {},
   "outputs": [],
   "source": [
    "def add(*args):\n",
    "    total=0\n",
    "    for i in args:\n",
    "        total += i\n",
    "    print(total)"
   ]
  },
  {
   "cell_type": "code",
   "execution_count": 128,
   "id": "15cdb8b5",
   "metadata": {},
   "outputs": [
    {
     "name": "stdout",
     "output_type": "stream",
     "text": [
      "38\n"
     ]
    }
   ],
   "source": [
    "add(1,2,3,4,5,6,7,10)"
   ]
  },
  {
   "cell_type": "code",
   "execution_count": 129,
   "id": "b0f1f700",
   "metadata": {},
   "outputs": [
    {
     "name": "stdout",
     "output_type": "stream",
     "text": [
      "3\n"
     ]
    }
   ],
   "source": [
    "add(1,2)"
   ]
  },
  {
   "cell_type": "code",
   "execution_count": 131,
   "id": "b2eaf376",
   "metadata": {},
   "outputs": [
    {
     "name": "stdout",
     "output_type": "stream",
     "text": [
      "1\n"
     ]
    }
   ],
   "source": [
    "add(1)"
   ]
  },
  {
   "cell_type": "code",
   "execution_count": 132,
   "id": "32859ecf",
   "metadata": {},
   "outputs": [
    {
     "name": "stdout",
     "output_type": "stream",
     "text": [
      "28893\n"
     ]
    }
   ],
   "source": [
    "add(1,2,4,6,28880)"
   ]
  },
  {
   "cell_type": "code",
   "execution_count": null,
   "id": "67f4df06",
   "metadata": {},
   "outputs": [],
   "source": [
    "# args is a convention/standard"
   ]
  },
  {
   "cell_type": "code",
   "execution_count": 1,
   "id": "b439df27",
   "metadata": {},
   "outputs": [],
   "source": [
    "#variable length keyword arguments-**kwargs\n",
    "def f1(**kwargs):\n",
    "    print(kwargs)\n",
    "    print(type(kwargs))\n",
    "    "
   ]
  },
  {
   "cell_type": "code",
   "execution_count": 2,
   "id": "65d94b7c",
   "metadata": {},
   "outputs": [
    {
     "name": "stdout",
     "output_type": "stream",
     "text": [
      "{'a': 10, 'b': 20, 'c': 'python'}\n",
      "<class 'dict'>\n"
     ]
    },
    {
     "data": {
      "text/plain": [
       "<function __main__.f1(**kwargs)>"
      ]
     },
     "execution_count": 2,
     "metadata": {},
     "output_type": "execute_result"
    }
   ],
   "source": [
    "f1(a=10,b=20,c=\"python\") #user decides what args eed to be passed hence it will store as dictionary\n",
    "f1"
   ]
  },
  {
   "cell_type": "code",
   "execution_count": 9,
   "id": "fef1d743",
   "metadata": {},
   "outputs": [],
   "source": [
    "def calculate_percent(**marks):\n",
    "    print(marks)\n",
    "    total=sum(marks.values())\n",
    "    num_of_sub=len(marks)\n",
    "    percent=total/num_of_sub\n",
    "    return percent"
   ]
  },
  {
   "cell_type": "code",
   "execution_count": 10,
   "id": "575f6735",
   "metadata": {},
   "outputs": [
    {
     "name": "stdout",
     "output_type": "stream",
     "text": [
      "{'phy': 84, 'chem': 86, 'math': 91, 'python': 95}\n"
     ]
    },
    {
     "data": {
      "text/plain": [
       "89.0"
      ]
     },
     "execution_count": 10,
     "metadata": {},
     "output_type": "execute_result"
    }
   ],
   "source": [
    "calculate_percent(phy=84,chem=86,math=91,python=95)\n"
   ]
  },
  {
   "cell_type": "code",
   "execution_count": 11,
   "id": "329c77c4",
   "metadata": {},
   "outputs": [
    {
     "name": "stdout",
     "output_type": "stream",
     "text": [
      "{'phy': 54, 'chem': 86, 'math': 95}\n"
     ]
    },
    {
     "data": {
      "text/plain": [
       "78.33333333333333"
      ]
     },
     "execution_count": 11,
     "metadata": {},
     "output_type": "execute_result"
    }
   ],
   "source": [
    "calculate_percent(phy=54,chem=86,math=95)\n"
   ]
  },
  {
   "cell_type": "code",
   "execution_count": 12,
   "id": "36ec0d88",
   "metadata": {},
   "outputs": [],
   "source": [
    "# lambda function \n",
    "#anonymous function or a function without a name\n",
    "#function defination in a singl line.\n",
    "#lambda arg1,arg2,....,argn:expression\n"
   ]
  },
  {
   "cell_type": "code",
   "execution_count": 13,
   "id": "7cd2420f",
   "metadata": {},
   "outputs": [],
   "source": [
    "def square(num):\n",
    "    return num**2"
   ]
  },
  {
   "cell_type": "code",
   "execution_count": 14,
   "id": "bbc789f7",
   "metadata": {},
   "outputs": [
    {
     "data": {
      "text/plain": [
       "25"
      ]
     },
     "execution_count": 14,
     "metadata": {},
     "output_type": "execute_result"
    }
   ],
   "source": [
    "square(5)"
   ]
  },
  {
   "cell_type": "code",
   "execution_count": 15,
   "id": "a7a5d543",
   "metadata": {},
   "outputs": [
    {
     "data": {
      "text/plain": [
       "<function __main__.<lambda>(num)>"
      ]
     },
     "execution_count": 15,
     "metadata": {},
     "output_type": "execute_result"
    }
   ],
   "source": [
    "lambda num:num**2  "
   ]
  },
  {
   "cell_type": "code",
   "execution_count": 16,
   "id": "6fc91454",
   "metadata": {},
   "outputs": [
    {
     "data": {
      "text/plain": [
       "36"
      ]
     },
     "execution_count": 16,
     "metadata": {},
     "output_type": "execute_result"
    }
   ],
   "source": [
    "(lambda num:num**2)(6)  #first method"
   ]
  },
  {
   "cell_type": "code",
   "execution_count": 17,
   "id": "24a274ac",
   "metadata": {},
   "outputs": [
    {
     "data": {
      "text/plain": [
       "16"
      ]
     },
     "execution_count": 17,
     "metadata": {},
     "output_type": "execute_result"
    }
   ],
   "source": [
    "(lambda num:num**2)(4) #by doing this reuseablilty factor is missing as we have to write it again and again"
   ]
  },
  {
   "cell_type": "code",
   "execution_count": 18,
   "id": "924cb3a8",
   "metadata": {},
   "outputs": [],
   "source": [
    "sq=(lambda num:num**2) #solution to the first method prob"
   ]
  },
  {
   "cell_type": "code",
   "execution_count": 19,
   "id": "f6ed128a",
   "metadata": {},
   "outputs": [
    {
     "data": {
      "text/plain": [
       "81"
      ]
     },
     "execution_count": 19,
     "metadata": {},
     "output_type": "execute_result"
    }
   ],
   "source": [
    "sq(9)"
   ]
  },
  {
   "cell_type": "code",
   "execution_count": null,
   "id": "25caf2ba",
   "metadata": {},
   "outputs": [],
   "source": [
    "#lambda keyword is used\n",
    "#thereis no function name\n",
    "#there is no return keyword in lambda,the exp gets evaluated and returned implicitly\n",
    "#it is a singl line function\n"
   ]
  },
  {
   "cell_type": "code",
   "execution_count": 20,
   "id": "96403a47",
   "metadata": {},
   "outputs": [],
   "source": [
    "add=lambda x,y : x+y"
   ]
  },
  {
   "cell_type": "code",
   "execution_count": 21,
   "id": "06fa9b39",
   "metadata": {},
   "outputs": [
    {
     "data": {
      "text/plain": [
       "19"
      ]
     },
     "execution_count": 21,
     "metadata": {},
     "output_type": "execute_result"
    }
   ],
   "source": [
    "add(10,9)"
   ]
  },
  {
   "cell_type": "code",
   "execution_count": 22,
   "id": "3d5ffa59",
   "metadata": {},
   "outputs": [],
   "source": [
    "add=lambda x,y=1 : x+y"
   ]
  },
  {
   "cell_type": "code",
   "execution_count": 23,
   "id": "f4619d66",
   "metadata": {},
   "outputs": [
    {
     "data": {
      "text/plain": [
       "11"
      ]
     },
     "execution_count": 23,
     "metadata": {},
     "output_type": "execute_result"
    }
   ],
   "source": [
    "add(10)"
   ]
  },
  {
   "cell_type": "code",
   "execution_count": 26,
   "id": "0458c086",
   "metadata": {},
   "outputs": [],
   "source": [
    "add_all= lambda *args : sum(args)"
   ]
  },
  {
   "cell_type": "code",
   "execution_count": 27,
   "id": "48394941",
   "metadata": {},
   "outputs": [
    {
     "data": {
      "text/plain": [
       "38"
      ]
     },
     "execution_count": 27,
     "metadata": {},
     "output_type": "execute_result"
    }
   ],
   "source": [
    "add_all(1,2,3,4,5,7,8,8)"
   ]
  },
  {
   "cell_type": "code",
   "execution_count": 28,
   "id": "9e2c2387",
   "metadata": {},
   "outputs": [
    {
     "data": {
      "text/plain": [
       "30"
      ]
     },
     "execution_count": 28,
     "metadata": {},
     "output_type": "execute_result"
    }
   ],
   "source": [
    "add_all(10,20)"
   ]
  },
  {
   "cell_type": "code",
   "execution_count": 33,
   "id": "f1a5d838",
   "metadata": {},
   "outputs": [],
   "source": [
    "is_even= lambda x : True if x % 2==0 else False"
   ]
  },
  {
   "cell_type": "code",
   "execution_count": 34,
   "id": "de7ee1fe",
   "metadata": {},
   "outputs": [
    {
     "data": {
      "text/plain": [
       "True"
      ]
     },
     "execution_count": 34,
     "metadata": {},
     "output_type": "execute_result"
    }
   ],
   "source": [
    "is_even(10)"
   ]
  },
  {
   "cell_type": "code",
   "execution_count": 35,
   "id": "4a5e862f",
   "metadata": {},
   "outputs": [
    {
     "data": {
      "text/plain": [
       "False"
      ]
     },
     "execution_count": 35,
     "metadata": {},
     "output_type": "execute_result"
    }
   ],
   "source": [
    "is_even(9)"
   ]
  },
  {
   "cell_type": "code",
   "execution_count": 36,
   "id": "4e82da51",
   "metadata": {},
   "outputs": [],
   "source": [
    "#map() function\n",
    "# it will take one function and then iterable objects as arguments and perform function on each obj"
   ]
  },
  {
   "cell_type": "code",
   "execution_count": null,
   "id": "8d2776ad",
   "metadata": {},
   "outputs": [],
   "source": [
    "#map(function,iterable_obj)\n"
   ]
  },
  {
   "cell_type": "code",
   "execution_count": 38,
   "id": "afec9325",
   "metadata": {},
   "outputs": [
    {
     "data": {
      "text/plain": [
       "True"
      ]
     },
     "execution_count": 38,
     "metadata": {},
     "output_type": "execute_result"
    }
   ],
   "source": [
    "is_even(18)"
   ]
  },
  {
   "cell_type": "code",
   "execution_count": 39,
   "id": "05a4a896",
   "metadata": {},
   "outputs": [],
   "source": [
    "l1=[1,2,3,4,5,6]"
   ]
  },
  {
   "cell_type": "code",
   "execution_count": 40,
   "id": "6f71b37d",
   "metadata": {},
   "outputs": [
    {
     "data": {
      "text/plain": [
       "[1, 2, 3, 4, 5, 6]"
      ]
     },
     "execution_count": 40,
     "metadata": {},
     "output_type": "execute_result"
    }
   ],
   "source": [
    "l1"
   ]
  },
  {
   "cell_type": "code",
   "execution_count": 42,
   "id": "a2e73f42",
   "metadata": {},
   "outputs": [],
   "source": [
    "a=map(is_even,l1) #output is stored in a andit will be mapped"
   ]
  },
  {
   "cell_type": "code",
   "execution_count": 43,
   "id": "4a3856f8",
   "metadata": {},
   "outputs": [
    {
     "data": {
      "text/plain": [
       "<map at 0x1bfccd665f0>"
      ]
     },
     "execution_count": 43,
     "metadata": {},
     "output_type": "execute_result"
    }
   ],
   "source": [
    "a"
   ]
  },
  {
   "cell_type": "code",
   "execution_count": 44,
   "id": "ce2568ca",
   "metadata": {},
   "outputs": [
    {
     "data": {
      "text/plain": [
       "map"
      ]
     },
     "execution_count": 44,
     "metadata": {},
     "output_type": "execute_result"
    }
   ],
   "source": [
    "type(a)"
   ]
  },
  {
   "cell_type": "code",
   "execution_count": 46,
   "id": "787493d7",
   "metadata": {},
   "outputs": [
    {
     "data": {
      "text/plain": [
       "[False, True, False, True, False, True]"
      ]
     },
     "execution_count": 46,
     "metadata": {},
     "output_type": "execute_result"
    }
   ],
   "source": [
    "list(a) #to check the output we have to typecast it."
   ]
  },
  {
   "cell_type": "code",
   "execution_count": 53,
   "id": "b425e8d0",
   "metadata": {},
   "outputs": [],
   "source": [
    "fruits = [\"mango\",\"apple\",\"orange\"]"
   ]
  },
  {
   "cell_type": "code",
   "execution_count": 54,
   "id": "1389951c",
   "metadata": {},
   "outputs": [
    {
     "name": "stdout",
     "output_type": "stream",
     "text": [
      "['Mango', 'Apple', 'Orange']\n"
     ]
    }
   ],
   "source": [
    "#create a new list with each element titlled\n",
    "#[\"Mango\",\"Apple\",\"Orange\"]\n",
    "out=[]\n",
    "for f in fruits:\n",
    "    out.append(f.title())\n",
    "print(out)"
   ]
  },
  {
   "cell_type": "code",
   "execution_count": 57,
   "id": "22c7a78e",
   "metadata": {},
   "outputs": [],
   "source": [
    "a=lambda l1: [i.title() for i in l1] #using labda function"
   ]
  },
  {
   "cell_type": "code",
   "execution_count": 59,
   "id": "77ee9806",
   "metadata": {},
   "outputs": [
    {
     "data": {
      "text/plain": [
       "['Mango', 'Apple', 'Orange']"
      ]
     },
     "execution_count": 59,
     "metadata": {},
     "output_type": "execute_result"
    }
   ],
   "source": [
    "a(fruits)"
   ]
  },
  {
   "cell_type": "code",
   "execution_count": 63,
   "id": "0f285b00",
   "metadata": {},
   "outputs": [
    {
     "data": {
      "text/plain": [
       "<map at 0x1bfccd66d10>"
      ]
     },
     "execution_count": 63,
     "metadata": {},
     "output_type": "execute_result"
    }
   ],
   "source": [
    "res = lambda s1 : s1.title() #using map function\n",
    "map(res,fruits)"
   ]
  },
  {
   "cell_type": "code",
   "execution_count": 64,
   "id": "4a4c08d3",
   "metadata": {},
   "outputs": [
    {
     "data": {
      "text/plain": [
       "['Mango', 'Apple', 'Orange']"
      ]
     },
     "execution_count": 64,
     "metadata": {},
     "output_type": "execute_result"
    }
   ],
   "source": [
    "list(map(res,fruits))"
   ]
  },
  {
   "cell_type": "code",
   "execution_count": 66,
   "id": "baf079ed",
   "metadata": {},
   "outputs": [
    {
     "data": {
      "text/plain": [
       "['Mango', 'Apple', 'Orange']"
      ]
     },
     "execution_count": 66,
     "metadata": {},
     "output_type": "execute_result"
    }
   ],
   "source": [
    "list(map(lambda s1 : s1.title(),[\"mango\",\"apple\",\"orange\"])) #another direct method"
   ]
  },
  {
   "cell_type": "code",
   "execution_count": 67,
   "id": "2734a54b",
   "metadata": {},
   "outputs": [
    {
     "name": "stdout",
     "output_type": "stream",
     "text": [
      "Help on class map in module builtins:\n",
      "\n",
      "class map(object)\n",
      " |  map(func, *iterables) --> map object\n",
      " |  \n",
      " |  Make an iterator that computes the function using arguments from\n",
      " |  each of the iterables.  Stops when the shortest iterable is exhausted.\n",
      " |  \n",
      " |  Methods defined here:\n",
      " |  \n",
      " |  __getattribute__(self, name, /)\n",
      " |      Return getattr(self, name).\n",
      " |  \n",
      " |  __iter__(self, /)\n",
      " |      Implement iter(self).\n",
      " |  \n",
      " |  __next__(self, /)\n",
      " |      Implement next(self).\n",
      " |  \n",
      " |  __reduce__(...)\n",
      " |      Return state information for pickling.\n",
      " |  \n",
      " |  ----------------------------------------------------------------------\n",
      " |  Static methods defined here:\n",
      " |  \n",
      " |  __new__(*args, **kwargs) from builtins.type\n",
      " |      Create and return a new object.  See help(type) for accurate signature.\n",
      "\n"
     ]
    }
   ],
   "source": [
    "help(map)"
   ]
  },
  {
   "cell_type": "code",
   "execution_count": 70,
   "id": "eba8e0d3",
   "metadata": {},
   "outputs": [
    {
     "data": {
      "text/plain": [
       "[3, 5, 7]"
      ]
     },
     "execution_count": 70,
     "metadata": {},
     "output_type": "execute_result"
    }
   ],
   "source": [
    "list(map(lambda x,y:x+y, [1,2,3],[2,3,4]))"
   ]
  },
  {
   "cell_type": "code",
   "execution_count": 71,
   "id": "2e8721f0",
   "metadata": {},
   "outputs": [
    {
     "ename": "TypeError",
     "evalue": "<lambda>() missing 1 required positional argument: 'y'",
     "output_type": "error",
     "traceback": [
      "\u001b[1;31m---------------------------------------------------------------------------\u001b[0m",
      "\u001b[1;31mTypeError\u001b[0m                                 Traceback (most recent call last)",
      "Cell \u001b[1;32mIn[71], line 1\u001b[0m\n\u001b[1;32m----> 1\u001b[0m \u001b[38;5;28mlist\u001b[39m(\u001b[38;5;28mmap\u001b[39m(\u001b[38;5;28;01mlambda\u001b[39;00m x,y:x\u001b[38;5;241m+\u001b[39my, [\u001b[38;5;241m1\u001b[39m,\u001b[38;5;241m2\u001b[39m,\u001b[38;5;241m3\u001b[39m]))\n",
      "\u001b[1;31mTypeError\u001b[0m: <lambda>() missing 1 required positional argument: 'y'"
     ]
    }
   ],
   "source": [
    "list(map(lambda x,y:x+y, [1,2,3])) #missing 1 required positional argument: 'y'"
   ]
  },
  {
   "cell_type": "code",
   "execution_count": 72,
   "id": "f8995c43",
   "metadata": {},
   "outputs": [
    {
     "data": {
      "text/plain": [
       "[2, 3, 4]"
      ]
     },
     "execution_count": 72,
     "metadata": {},
     "output_type": "execute_result"
    }
   ],
   "source": [
    "list(map(lambda x,y=1:x+y, [1,2,3]))"
   ]
  },
  {
   "cell_type": "code",
   "execution_count": 73,
   "id": "db06f3c3",
   "metadata": {},
   "outputs": [
    {
     "data": {
      "text/plain": [
       "[3, 5, 7]"
      ]
     },
     "execution_count": 73,
     "metadata": {},
     "output_type": "execute_result"
    }
   ],
   "source": [
    "list(map(lambda x,y:x+y, [1,2,3,4],[2,3,4])) #mismatch in values does not give error,extra element gets ignored and stopeed\n",
    "#Stops when the shortest iterable is exhausted and discard other values"
   ]
  },
  {
   "cell_type": "code",
   "execution_count": 74,
   "id": "cad4adbc",
   "metadata": {},
   "outputs": [
    {
     "name": "stdout",
     "output_type": "stream",
     "text": [
      "Help on class filter in module builtins:\n",
      "\n",
      "class filter(object)\n",
      " |  filter(function or None, iterable) --> filter object\n",
      " |  \n",
      " |  Return an iterator yielding those items of iterable for which function(item)\n",
      " |  is true. If function is None, return the items that are true.\n",
      " |  \n",
      " |  Methods defined here:\n",
      " |  \n",
      " |  __getattribute__(self, name, /)\n",
      " |      Return getattr(self, name).\n",
      " |  \n",
      " |  __iter__(self, /)\n",
      " |      Implement iter(self).\n",
      " |  \n",
      " |  __next__(self, /)\n",
      " |      Implement next(self).\n",
      " |  \n",
      " |  __reduce__(...)\n",
      " |      Return state information for pickling.\n",
      " |  \n",
      " |  ----------------------------------------------------------------------\n",
      " |  Static methods defined here:\n",
      " |  \n",
      " |  __new__(*args, **kwargs) from builtins.type\n",
      " |      Create and return a new object.  See help(type) for accurate signature.\n",
      "\n"
     ]
    }
   ],
   "source": [
    "#filter\n",
    "#filter(func,iterable) #it will take only one iterator\n",
    "#Return an iterator yielding those items of iterable for which function(item) is true. If function is None, return the items that are true.\n",
    "help(filter)"
   ]
  },
  {
   "cell_type": "code",
   "execution_count": 75,
   "id": "1b82b755",
   "metadata": {},
   "outputs": [
    {
     "data": {
      "text/plain": [
       "[True, False, False, True]"
      ]
     },
     "execution_count": 75,
     "metadata": {},
     "output_type": "execute_result"
    }
   ],
   "source": [
    "list(map(lambda x: True if x % 2==0 else False,[10,305,35,40]))"
   ]
  },
  {
   "cell_type": "code",
   "execution_count": 76,
   "id": "d4ad4570",
   "metadata": {},
   "outputs": [
    {
     "data": {
      "text/plain": [
       "[10, 40]"
      ]
     },
     "execution_count": 76,
     "metadata": {},
     "output_type": "execute_result"
    }
   ],
   "source": [
    "list(filter(lambda x: True if x % 2==0 else False,[10,305,35,40])) #it gives only ele which have true value"
   ]
  },
  {
   "cell_type": "code",
   "execution_count": 77,
   "id": "8fea19ba",
   "metadata": {},
   "outputs": [
    {
     "data": {
      "text/plain": [
       "[1, 2, 3, 4, 5]"
      ]
     },
     "execution_count": 77,
     "metadata": {},
     "output_type": "execute_result"
    }
   ],
   "source": [
    "list(filter(lambda x: x**2,[1,2,3,4,5])) #here 1,4,9,16,25 are true hene it will give ele which has true value hence the output is 12345"
   ]
  },
  {
   "cell_type": "code",
   "execution_count": 78,
   "id": "f77d1d92",
   "metadata": {},
   "outputs": [
    {
     "data": {
      "text/plain": [
       "True"
      ]
     },
     "execution_count": 78,
     "metadata": {},
     "output_type": "execute_result"
    }
   ],
   "source": [
    "bool(25)"
   ]
  },
  {
   "cell_type": "code",
   "execution_count": 79,
   "id": "949f8f14",
   "metadata": {},
   "outputs": [
    {
     "data": {
      "text/plain": [
       "True"
      ]
     },
     "execution_count": 79,
     "metadata": {},
     "output_type": "execute_result"
    }
   ],
   "source": [
    "bool(16)"
   ]
  },
  {
   "cell_type": "code",
   "execution_count": 80,
   "id": "402159ef",
   "metadata": {},
   "outputs": [
    {
     "data": {
      "text/plain": [
       "True"
      ]
     },
     "execution_count": 80,
     "metadata": {},
     "output_type": "execute_result"
    }
   ],
   "source": [
    "bool(9)"
   ]
  },
  {
   "cell_type": "code",
   "execution_count": 81,
   "id": "ba6ed675",
   "metadata": {},
   "outputs": [
    {
     "data": {
      "text/plain": [
       "[1, 4, 9, 16, 25]"
      ]
     },
     "execution_count": 81,
     "metadata": {},
     "output_type": "execute_result"
    }
   ],
   "source": [
    "list(map(lambda x: x**2,[1,2,3,4,5]))"
   ]
  },
  {
   "cell_type": "code",
   "execution_count": 82,
   "id": "1813c201",
   "metadata": {},
   "outputs": [
    {
     "ename": "NameError",
     "evalue": "name 'reduce' is not defined",
     "output_type": "error",
     "traceback": [
      "\u001b[1;31m---------------------------------------------------------------------------\u001b[0m",
      "\u001b[1;31mNameError\u001b[0m                                 Traceback (most recent call last)",
      "Cell \u001b[1;32mIn[82], line 2\u001b[0m\n\u001b[0;32m      1\u001b[0m \u001b[38;5;66;03m#reduce()\u001b[39;00m\n\u001b[1;32m----> 2\u001b[0m reduce(\u001b[38;5;28;01mlambda\u001b[39;00m x,y:x\u001b[38;5;241m+\u001b[39my,[\u001b[38;5;241m1\u001b[39m,\u001b[38;5;241m2\u001b[39m,\u001b[38;5;241m3\u001b[39m,\u001b[38;5;241m4\u001b[39m])\n",
      "\u001b[1;31mNameError\u001b[0m: name 'reduce' is not defined"
     ]
    }
   ],
   "source": [
    "#reduce()\n",
    "reduce(lambda x,y:x+y,[1,2,3,4]) #not a part of buit in func hence error"
   ]
  },
  {
   "cell_type": "code",
   "execution_count": 84,
   "id": "cb96000e",
   "metadata": {},
   "outputs": [],
   "source": [
    "#reduce() func is part of functools module\n",
    "#hence we have to import it\n",
    "import functools\n"
   ]
  },
  {
   "cell_type": "code",
   "execution_count": 85,
   "id": "d2a14d58",
   "metadata": {},
   "outputs": [
    {
     "data": {
      "text/plain": [
       "10"
      ]
     },
     "execution_count": 85,
     "metadata": {},
     "output_type": "execute_result"
    }
   ],
   "source": [
    "functools.reduce(lambda x,y:x+y,[1,2,3,4])"
   ]
  },
  {
   "cell_type": "code",
   "execution_count": 86,
   "id": "4e2bb4ef",
   "metadata": {},
   "outputs": [
    {
     "name": "stdout",
     "output_type": "stream",
     "text": [
      "Help on built-in function reduce in module _functools:\n",
      "\n",
      "reduce(...)\n",
      "    reduce(function, iterable[, initial]) -> value\n",
      "    \n",
      "    Apply a function of two arguments cumulatively to the items of a sequence\n",
      "    or iterable, from left to right, so as to reduce the iterable to a single\n",
      "    value.  For example, reduce(lambda x, y: x+y, [1, 2, 3, 4, 5]) calculates\n",
      "    ((((1+2)+3)+4)+5).  If initial is present, it is placed before the items\n",
      "    of the iterable in the calculation, and serves as a default when the\n",
      "    iterable is empty.\n",
      "\n"
     ]
    }
   ],
   "source": [
    "help(functools.reduce)"
   ]
  },
  {
   "cell_type": "code",
   "execution_count": 87,
   "id": "df059c81",
   "metadata": {},
   "outputs": [
    {
     "data": {
      "text/plain": [
       "24"
      ]
     },
     "execution_count": 87,
     "metadata": {},
     "output_type": "execute_result"
    }
   ],
   "source": [
    "functools.reduce(lambda x,y:x*y,[1,2,3,4])"
   ]
  },
  {
   "cell_type": "code",
   "execution_count": 88,
   "id": "af60e95a",
   "metadata": {},
   "outputs": [
    {
     "data": {
      "text/plain": [
       "44"
      ]
     },
     "execution_count": 88,
     "metadata": {},
     "output_type": "execute_result"
    }
   ],
   "source": [
    "functools.reduce(lambda x,y:(x+y)*2,[1,2,3,4])"
   ]
  },
  {
   "cell_type": "code",
   "execution_count": 90,
   "id": "64f7a228",
   "metadata": {},
   "outputs": [
    {
     "data": {
      "text/plain": [
       "20"
      ]
     },
     "execution_count": 90,
     "metadata": {},
     "output_type": "execute_result"
    }
   ],
   "source": [
    "functools.reduce(lambda x,y:x+y,[1,2,3,4],10) #it will work as [10,1,2,3,4]"
   ]
  },
  {
   "cell_type": "code",
   "execution_count": 91,
   "id": "126a72a8",
   "metadata": {},
   "outputs": [
    {
     "ename": "TypeError",
     "evalue": "reduce() of empty iterable with no initial value",
     "output_type": "error",
     "traceback": [
      "\u001b[1;31m---------------------------------------------------------------------------\u001b[0m",
      "\u001b[1;31mTypeError\u001b[0m                                 Traceback (most recent call last)",
      "Cell \u001b[1;32mIn[91], line 1\u001b[0m\n\u001b[1;32m----> 1\u001b[0m functools\u001b[38;5;241m.\u001b[39mreduce(\u001b[38;5;28;01mlambda\u001b[39;00m x,y:x\u001b[38;5;241m+\u001b[39my,[])\n",
      "\u001b[1;31mTypeError\u001b[0m: reduce() of empty iterable with no initial value"
     ]
    }
   ],
   "source": [
    "functools.reduce(lambda x,y:x+y,[]) #error"
   ]
  },
  {
   "cell_type": "code",
   "execution_count": 92,
   "id": "3f51b130",
   "metadata": {},
   "outputs": [
    {
     "data": {
      "text/plain": [
       "0"
      ]
     },
     "execution_count": 92,
     "metadata": {},
     "output_type": "execute_result"
    }
   ],
   "source": [
    "functools.reduce(lambda x,y:x+y,[],0) #to avoide error"
   ]
  },
  {
   "cell_type": "code",
   "execution_count": null,
   "id": "ece26b3e",
   "metadata": {},
   "outputs": [],
   "source": [
    "#Iterators and generators\n",
    "# Iteration-repetedly executing a block of code.\n",
    "#iterable objects-sets,strings,tuple,list,dict..obj on which iteration can be performed\n",
    "#iterator-it is an object which is used to iterate on an iterable \n",
    "#iterator helps to perform iteration on an iterable\n"
   ]
  },
  {
   "cell_type": "code",
   "execution_count": 93,
   "id": "9b557be9",
   "metadata": {},
   "outputs": [],
   "source": [
    "#iter()=> to create an iterator\n"
   ]
  },
  {
   "cell_type": "code",
   "execution_count": null,
   "id": "749b611f",
   "metadata": {},
   "outputs": [],
   "source": [
    "l1=[1,2,3,4,5,6,7] "
   ]
  },
  {
   "cell_type": "code",
   "execution_count": 94,
   "id": "8a291318",
   "metadata": {},
   "outputs": [],
   "source": [
    "i1=iter(l1)"
   ]
  },
  {
   "cell_type": "code",
   "execution_count": 95,
   "id": "0eb421ec",
   "metadata": {},
   "outputs": [
    {
     "name": "stdout",
     "output_type": "stream",
     "text": [
      "<list_iterator object at 0x000001BFCD2DE110>\n"
     ]
    }
   ],
   "source": [
    "print(i1)"
   ]
  },
  {
   "cell_type": "code",
   "execution_count": 97,
   "id": "6b357b99",
   "metadata": {},
   "outputs": [
    {
     "data": {
      "text/plain": [
       "list_iterator"
      ]
     },
     "execution_count": 97,
     "metadata": {},
     "output_type": "execute_result"
    }
   ],
   "source": [
    "type(i1)"
   ]
  },
  {
   "cell_type": "code",
   "execution_count": 98,
   "id": "9727067e",
   "metadata": {},
   "outputs": [],
   "source": [
    "#next() #to fetch the ele of iter"
   ]
  },
  {
   "cell_type": "code",
   "execution_count": 99,
   "id": "c7ac996e",
   "metadata": {},
   "outputs": [
    {
     "name": "stdout",
     "output_type": "stream",
     "text": [
      "Help on built-in function next in module builtins:\n",
      "\n",
      "next(...)\n",
      "    next(iterator[, default])\n",
      "    \n",
      "    Return the next item from the iterator. If default is given and the iterator\n",
      "    is exhausted, it is returned instead of raising StopIteration.\n",
      "\n"
     ]
    }
   ],
   "source": [
    "help(next)"
   ]
  },
  {
   "cell_type": "code",
   "execution_count": 100,
   "id": "189e9442",
   "metadata": {},
   "outputs": [
    {
     "data": {
      "text/plain": [
       "1"
      ]
     },
     "execution_count": 100,
     "metadata": {},
     "output_type": "execute_result"
    }
   ],
   "source": [
    "next(i1)"
   ]
  },
  {
   "cell_type": "code",
   "execution_count": 101,
   "id": "262eb8f0",
   "metadata": {},
   "outputs": [
    {
     "data": {
      "text/plain": [
       "2"
      ]
     },
     "execution_count": 101,
     "metadata": {},
     "output_type": "execute_result"
    }
   ],
   "source": [
    "next(i1)"
   ]
  },
  {
   "cell_type": "code",
   "execution_count": 103,
   "id": "fe9f7f53",
   "metadata": {},
   "outputs": [
    {
     "data": {
      "text/plain": [
       "3"
      ]
     },
     "execution_count": 103,
     "metadata": {},
     "output_type": "execute_result"
    }
   ],
   "source": [
    "next(i1) #when all elemnts are over it will give stop iteration error,to avoide it default vaue 0 is given"
   ]
  },
  {
   "cell_type": "code",
   "execution_count": 106,
   "id": "1be985c1",
   "metadata": {},
   "outputs": [
    {
     "data": {
      "text/plain": [
       "5"
      ]
     },
     "execution_count": 106,
     "metadata": {},
     "output_type": "execute_result"
    }
   ],
   "source": [
    "next(i1)"
   ]
  },
  {
   "cell_type": "code",
   "execution_count": 107,
   "id": "492a929e",
   "metadata": {},
   "outputs": [
    {
     "data": {
      "text/plain": [
       "6"
      ]
     },
     "execution_count": 107,
     "metadata": {},
     "output_type": "execute_result"
    }
   ],
   "source": [
    "next(i1)"
   ]
  },
  {
   "cell_type": "code",
   "execution_count": 108,
   "id": "018f0e0c",
   "metadata": {},
   "outputs": [
    {
     "ename": "StopIteration",
     "evalue": "",
     "output_type": "error",
     "traceback": [
      "\u001b[1;31m---------------------------------------------------------------------------\u001b[0m",
      "\u001b[1;31mStopIteration\u001b[0m                             Traceback (most recent call last)",
      "Cell \u001b[1;32mIn[108], line 1\u001b[0m\n\u001b[1;32m----> 1\u001b[0m \u001b[38;5;28mnext\u001b[39m(i1)\n",
      "\u001b[1;31mStopIteration\u001b[0m: "
     ]
    }
   ],
   "source": [
    "next(i1)"
   ]
  },
  {
   "cell_type": "code",
   "execution_count": 109,
   "id": "0f802dad",
   "metadata": {},
   "outputs": [
    {
     "data": {
      "text/plain": [
       "0"
      ]
     },
     "execution_count": 109,
     "metadata": {},
     "output_type": "execute_result"
    }
   ],
   "source": [
    "next(i1,0)"
   ]
  },
  {
   "cell_type": "code",
   "execution_count": 110,
   "id": "52b60c8e",
   "metadata": {},
   "outputs": [],
   "source": [
    "t1=(1,2,3)\n",
    "i2=iter(t1)"
   ]
  },
  {
   "cell_type": "code",
   "execution_count": 111,
   "id": "84b49852",
   "metadata": {},
   "outputs": [
    {
     "name": "stdout",
     "output_type": "stream",
     "text": [
      "<tuple_iterator object at 0x000001BFCBF72B30>\n"
     ]
    }
   ],
   "source": [
    "print(i2)"
   ]
  },
  {
   "cell_type": "code",
   "execution_count": 112,
   "id": "7b4246af",
   "metadata": {},
   "outputs": [
    {
     "data": {
      "text/plain": [
       "1"
      ]
     },
     "execution_count": 112,
     "metadata": {},
     "output_type": "execute_result"
    }
   ],
   "source": [
    "next(i2)"
   ]
  },
  {
   "cell_type": "code",
   "execution_count": 113,
   "id": "24db5fe8",
   "metadata": {},
   "outputs": [
    {
     "data": {
      "text/plain": [
       "2"
      ]
     },
     "execution_count": 113,
     "metadata": {},
     "output_type": "execute_result"
    }
   ],
   "source": [
    "next(i2)"
   ]
  },
  {
   "cell_type": "code",
   "execution_count": 114,
   "id": "c5e9b2f4",
   "metadata": {},
   "outputs": [
    {
     "data": {
      "text/plain": [
       "3"
      ]
     },
     "execution_count": 114,
     "metadata": {},
     "output_type": "execute_result"
    }
   ],
   "source": [
    "next(i2)"
   ]
  },
  {
   "cell_type": "code",
   "execution_count": 115,
   "id": "7bb46dee",
   "metadata": {},
   "outputs": [
    {
     "ename": "StopIteration",
     "evalue": "",
     "output_type": "error",
     "traceback": [
      "\u001b[1;31m---------------------------------------------------------------------------\u001b[0m",
      "\u001b[1;31mStopIteration\u001b[0m                             Traceback (most recent call last)",
      "Cell \u001b[1;32mIn[115], line 1\u001b[0m\n\u001b[1;32m----> 1\u001b[0m \u001b[38;5;28mnext\u001b[39m(i2)\n",
      "\u001b[1;31mStopIteration\u001b[0m: "
     ]
    }
   ],
   "source": [
    "next(i2)"
   ]
  },
  {
   "cell_type": "code",
   "execution_count": 118,
   "id": "bb21e2b5",
   "metadata": {},
   "outputs": [
    {
     "data": {
      "text/plain": [
       "'NA'"
      ]
     },
     "execution_count": 118,
     "metadata": {},
     "output_type": "execute_result"
    }
   ],
   "source": [
    "next(i2,\"NA\")"
   ]
  },
  {
   "cell_type": "code",
   "execution_count": null,
   "id": "0a670552",
   "metadata": {},
   "outputs": [],
   "source": [
    "#generators\n",
    "#user defined function which is used to generate a seq of values.\n"
   ]
  },
  {
   "cell_type": "code",
   "execution_count": 2,
   "id": "45520e00",
   "metadata": {},
   "outputs": [
    {
     "data": {
      "text/plain": [
       "<generator object gen1 at 0x000001FD65C4D150>"
      ]
     },
     "execution_count": 2,
     "metadata": {},
     "output_type": "execute_result"
    }
   ],
   "source": [
    "def gen1(a,b):\n",
    "    while a<b:\n",
    "        yield a #yield func is mandatory in gen \n",
    "        a+=1\n",
    "gen1(10,15)"
   ]
  },
  {
   "cell_type": "code",
   "execution_count": 3,
   "id": "04272dcf",
   "metadata": {},
   "outputs": [
    {
     "data": {
      "text/plain": [
       "range(10, 15)"
      ]
     },
     "execution_count": 3,
     "metadata": {},
     "output_type": "execute_result"
    }
   ],
   "source": [
    "range(10,15)"
   ]
  },
  {
   "cell_type": "code",
   "execution_count": 4,
   "id": "19210a27",
   "metadata": {},
   "outputs": [
    {
     "data": {
      "text/plain": [
       "[10, 11, 12, 13, 14]"
      ]
     },
     "execution_count": 4,
     "metadata": {},
     "output_type": "execute_result"
    }
   ],
   "source": [
    "list(range(10,15))"
   ]
  },
  {
   "cell_type": "code",
   "execution_count": 5,
   "id": "7e6d905e",
   "metadata": {},
   "outputs": [
    {
     "data": {
      "text/plain": [
       "[10, 11, 12, 13, 14]"
      ]
     },
     "execution_count": 5,
     "metadata": {},
     "output_type": "execute_result"
    }
   ],
   "source": [
    "list(gen1(10,15))"
   ]
  },
  {
   "cell_type": "code",
   "execution_count": 18,
   "id": "7f14b71b",
   "metadata": {},
   "outputs": [],
   "source": [
    "def gen2(start,stop,step):\n",
    "    while start<stop:\n",
    "        yield start #yield func is mandatory in gen \n",
    "        start+=step"
   ]
  },
  {
   "cell_type": "code",
   "execution_count": 19,
   "id": "2eb6963a",
   "metadata": {},
   "outputs": [
    {
     "data": {
      "text/plain": [
       "[10, 13, 16, 19]"
      ]
     },
     "execution_count": 19,
     "metadata": {},
     "output_type": "execute_result"
    }
   ],
   "source": [
    "list(gen2(10,20,3))"
   ]
  },
  {
   "cell_type": "code",
   "execution_count": 16,
   "id": "8a1a5c87",
   "metadata": {},
   "outputs": [
    {
     "data": {
      "text/plain": [
       "[10, 13, 16, 19]"
      ]
     },
     "execution_count": 16,
     "metadata": {},
     "output_type": "execute_result"
    }
   ],
   "source": [
    "list(range(10,20,3))"
   ]
  },
  {
   "cell_type": "code",
   "execution_count": 20,
   "id": "5c611d1d",
   "metadata": {},
   "outputs": [],
   "source": [
    "def gen3(start,stop,step):\n",
    "    while start<=stop:\n",
    "        yield start #yield func is mandatory in gen \n",
    "        start+=step"
   ]
  },
  {
   "cell_type": "code",
   "execution_count": 21,
   "id": "fc8197a3",
   "metadata": {},
   "outputs": [
    {
     "data": {
      "text/plain": [
       "<generator object gen3 at 0x000001FD654769B0>"
      ]
     },
     "execution_count": 21,
     "metadata": {},
     "output_type": "execute_result"
    }
   ],
   "source": [
    "gen3(10,12,0.5)"
   ]
  },
  {
   "cell_type": "code",
   "execution_count": 22,
   "id": "5b0f7c61",
   "metadata": {},
   "outputs": [
    {
     "data": {
      "text/plain": [
       "[10, 10.5, 11.0, 11.5, 12.0]"
      ]
     },
     "execution_count": 22,
     "metadata": {},
     "output_type": "execute_result"
    }
   ],
   "source": [
    "list(gen3(10,12,0.5))"
   ]
  },
  {
   "cell_type": "code",
   "execution_count": null,
   "id": "cc6e0931",
   "metadata": {},
   "outputs": [],
   "source": [
    "#wap a prog to create a function (generate) to generate alphabets between starting and ending alphabets\n",
    "#generate_alphabets(\"a\",\"f\",1)=>[\"a\",'b','c','d','e','f']"
   ]
  },
  {
   "cell_type": "code",
   "execution_count": 26,
   "id": "adad21bf",
   "metadata": {},
   "outputs": [],
   "source": [
    "def gen_alp(start,stop,step=1):\n",
    "    start_ascii=ord(start)\n",
    "    stop_ascii=ord(stop)\n",
    "    \n",
    "    while start_ascii<=stop_ascii:\n",
    "        yield chr(start_ascii)\n",
    "        start_ascii+=step\n",
    "    "
   ]
  },
  {
   "cell_type": "code",
   "execution_count": 27,
   "id": "2c591297",
   "metadata": {},
   "outputs": [
    {
     "data": {
      "text/plain": [
       "['a', 'b', 'c', 'd', 'e', 'f']"
      ]
     },
     "execution_count": 27,
     "metadata": {},
     "output_type": "execute_result"
    }
   ],
   "source": [
    "list(gen_alp('a','f',1))"
   ]
  },
  {
   "cell_type": "markdown",
   "id": "911d312a",
   "metadata": {},
   "source": [
    "# modules in python\n",
    "# module in a python is a .py file(python file)\n",
    "#example max,copy,functools\n",
    "#to use them we have to import the module and use the module to call the function.\n",
    "#some are directly availble like copy(),print(),max and some we have to import like functools"
   ]
  },
  {
   "cell_type": "code",
   "execution_count": 28,
   "id": "ac06fd0a",
   "metadata": {},
   "outputs": [
    {
     "ename": "NameError",
     "evalue": "name 'math' is not defined",
     "output_type": "error",
     "traceback": [
      "\u001b[1;31m---------------------------------------------------------------------------\u001b[0m",
      "\u001b[1;31mNameError\u001b[0m                                 Traceback (most recent call last)",
      "Cell \u001b[1;32mIn[28], line 1\u001b[0m\n\u001b[1;32m----> 1\u001b[0m help(math)\n",
      "\u001b[1;31mNameError\u001b[0m: name 'math' is not defined"
     ]
    }
   ],
   "source": [
    "help(math)"
   ]
  },
  {
   "cell_type": "code",
   "execution_count": 29,
   "id": "a8bb4b36",
   "metadata": {},
   "outputs": [
    {
     "name": "stdout",
     "output_type": "stream",
     "text": [
      "Help on built-in module math:\n",
      "\n",
      "NAME\n",
      "    math\n",
      "\n",
      "DESCRIPTION\n",
      "    This module provides access to the mathematical functions\n",
      "    defined by the C standard.\n",
      "\n",
      "FUNCTIONS\n",
      "    acos(x, /)\n",
      "        Return the arc cosine (measured in radians) of x.\n",
      "        \n",
      "        The result is between 0 and pi.\n",
      "    \n",
      "    acosh(x, /)\n",
      "        Return the inverse hyperbolic cosine of x.\n",
      "    \n",
      "    asin(x, /)\n",
      "        Return the arc sine (measured in radians) of x.\n",
      "        \n",
      "        The result is between -pi/2 and pi/2.\n",
      "    \n",
      "    asinh(x, /)\n",
      "        Return the inverse hyperbolic sine of x.\n",
      "    \n",
      "    atan(x, /)\n",
      "        Return the arc tangent (measured in radians) of x.\n",
      "        \n",
      "        The result is between -pi/2 and pi/2.\n",
      "    \n",
      "    atan2(y, x, /)\n",
      "        Return the arc tangent (measured in radians) of y/x.\n",
      "        \n",
      "        Unlike atan(y/x), the signs of both x and y are considered.\n",
      "    \n",
      "    atanh(x, /)\n",
      "        Return the inverse hyperbolic tangent of x.\n",
      "    \n",
      "    cbrt(x, /)\n",
      "        Return the cube root of x.\n",
      "    \n",
      "    ceil(x, /)\n",
      "        Return the ceiling of x as an Integral.\n",
      "        \n",
      "        This is the smallest integer >= x.\n",
      "    \n",
      "    comb(n, k, /)\n",
      "        Number of ways to choose k items from n items without repetition and without order.\n",
      "        \n",
      "        Evaluates to n! / (k! * (n - k)!) when k <= n and evaluates\n",
      "        to zero when k > n.\n",
      "        \n",
      "        Also called the binomial coefficient because it is equivalent\n",
      "        to the coefficient of k-th term in polynomial expansion of the\n",
      "        expression (1 + x)**n.\n",
      "        \n",
      "        Raises TypeError if either of the arguments are not integers.\n",
      "        Raises ValueError if either of the arguments are negative.\n",
      "    \n",
      "    copysign(x, y, /)\n",
      "        Return a float with the magnitude (absolute value) of x but the sign of y.\n",
      "        \n",
      "        On platforms that support signed zeros, copysign(1.0, -0.0)\n",
      "        returns -1.0.\n",
      "    \n",
      "    cos(x, /)\n",
      "        Return the cosine of x (measured in radians).\n",
      "    \n",
      "    cosh(x, /)\n",
      "        Return the hyperbolic cosine of x.\n",
      "    \n",
      "    degrees(x, /)\n",
      "        Convert angle x from radians to degrees.\n",
      "    \n",
      "    dist(p, q, /)\n",
      "        Return the Euclidean distance between two points p and q.\n",
      "        \n",
      "        The points should be specified as sequences (or iterables) of\n",
      "        coordinates.  Both inputs must have the same dimension.\n",
      "        \n",
      "        Roughly equivalent to:\n",
      "            sqrt(sum((px - qx) ** 2.0 for px, qx in zip(p, q)))\n",
      "    \n",
      "    erf(x, /)\n",
      "        Error function at x.\n",
      "    \n",
      "    erfc(x, /)\n",
      "        Complementary error function at x.\n",
      "    \n",
      "    exp(x, /)\n",
      "        Return e raised to the power of x.\n",
      "    \n",
      "    exp2(x, /)\n",
      "        Return 2 raised to the power of x.\n",
      "    \n",
      "    expm1(x, /)\n",
      "        Return exp(x)-1.\n",
      "        \n",
      "        This function avoids the loss of precision involved in the direct evaluation of exp(x)-1 for small x.\n",
      "    \n",
      "    fabs(x, /)\n",
      "        Return the absolute value of the float x.\n",
      "    \n",
      "    factorial(n, /)\n",
      "        Find n!.\n",
      "        \n",
      "        Raise a ValueError if x is negative or non-integral.\n",
      "    \n",
      "    floor(x, /)\n",
      "        Return the floor of x as an Integral.\n",
      "        \n",
      "        This is the largest integer <= x.\n",
      "    \n",
      "    fmod(x, y, /)\n",
      "        Return fmod(x, y), according to platform C.\n",
      "        \n",
      "        x % y may differ.\n",
      "    \n",
      "    frexp(x, /)\n",
      "        Return the mantissa and exponent of x, as pair (m, e).\n",
      "        \n",
      "        m is a float and e is an int, such that x = m * 2.**e.\n",
      "        If x is 0, m and e are both 0.  Else 0.5 <= abs(m) < 1.0.\n",
      "    \n",
      "    fsum(seq, /)\n",
      "        Return an accurate floating point sum of values in the iterable seq.\n",
      "        \n",
      "        Assumes IEEE-754 floating point arithmetic.\n",
      "    \n",
      "    gamma(x, /)\n",
      "        Gamma function at x.\n",
      "    \n",
      "    gcd(*integers)\n",
      "        Greatest Common Divisor.\n",
      "    \n",
      "    hypot(...)\n",
      "        hypot(*coordinates) -> value\n",
      "        \n",
      "        Multidimensional Euclidean distance from the origin to a point.\n",
      "        \n",
      "        Roughly equivalent to:\n",
      "            sqrt(sum(x**2 for x in coordinates))\n",
      "        \n",
      "        For a two dimensional point (x, y), gives the hypotenuse\n",
      "        using the Pythagorean theorem:  sqrt(x*x + y*y).\n",
      "        \n",
      "        For example, the hypotenuse of a 3/4/5 right triangle is:\n",
      "        \n",
      "            >>> hypot(3.0, 4.0)\n",
      "            5.0\n",
      "    \n",
      "    isclose(a, b, *, rel_tol=1e-09, abs_tol=0.0)\n",
      "        Determine whether two floating point numbers are close in value.\n",
      "        \n",
      "          rel_tol\n",
      "            maximum difference for being considered \"close\", relative to the\n",
      "            magnitude of the input values\n",
      "          abs_tol\n",
      "            maximum difference for being considered \"close\", regardless of the\n",
      "            magnitude of the input values\n",
      "        \n",
      "        Return True if a is close in value to b, and False otherwise.\n",
      "        \n",
      "        For the values to be considered close, the difference between them\n",
      "        must be smaller than at least one of the tolerances.\n",
      "        \n",
      "        -inf, inf and NaN behave similarly to the IEEE 754 Standard.  That\n",
      "        is, NaN is not close to anything, even itself.  inf and -inf are\n",
      "        only close to themselves.\n",
      "    \n",
      "    isfinite(x, /)\n",
      "        Return True if x is neither an infinity nor a NaN, and False otherwise.\n",
      "    \n",
      "    isinf(x, /)\n",
      "        Return True if x is a positive or negative infinity, and False otherwise.\n",
      "    \n",
      "    isnan(x, /)\n",
      "        Return True if x is a NaN (not a number), and False otherwise.\n",
      "    \n",
      "    isqrt(n, /)\n",
      "        Return the integer part of the square root of the input.\n",
      "    \n",
      "    lcm(*integers)\n",
      "        Least Common Multiple.\n",
      "    \n",
      "    ldexp(x, i, /)\n",
      "        Return x * (2**i).\n",
      "        \n",
      "        This is essentially the inverse of frexp().\n",
      "    \n",
      "    lgamma(x, /)\n",
      "        Natural logarithm of absolute value of Gamma function at x.\n",
      "    \n",
      "    log(...)\n",
      "        log(x, [base=math.e])\n",
      "        Return the logarithm of x to the given base.\n",
      "        \n",
      "        If the base not specified, returns the natural logarithm (base e) of x.\n",
      "    \n",
      "    log10(x, /)\n",
      "        Return the base 10 logarithm of x.\n",
      "    \n",
      "    log1p(x, /)\n",
      "        Return the natural logarithm of 1+x (base e).\n",
      "        \n",
      "        The result is computed in a way which is accurate for x near zero.\n",
      "    \n",
      "    log2(x, /)\n",
      "        Return the base 2 logarithm of x.\n",
      "    \n",
      "    modf(x, /)\n",
      "        Return the fractional and integer parts of x.\n",
      "        \n",
      "        Both results carry the sign of x and are floats.\n",
      "    \n",
      "    nextafter(x, y, /)\n",
      "        Return the next floating-point value after x towards y.\n",
      "    \n",
      "    perm(n, k=None, /)\n",
      "        Number of ways to choose k items from n items without repetition and with order.\n",
      "        \n",
      "        Evaluates to n! / (n - k)! when k <= n and evaluates\n",
      "        to zero when k > n.\n",
      "        \n",
      "        If k is not specified or is None, then k defaults to n\n",
      "        and the function returns n!.\n",
      "        \n",
      "        Raises TypeError if either of the arguments are not integers.\n",
      "        Raises ValueError if either of the arguments are negative.\n",
      "    \n",
      "    pow(x, y, /)\n",
      "        Return x**y (x to the power of y).\n",
      "    \n",
      "    prod(iterable, /, *, start=1)\n",
      "        Calculate the product of all the elements in the input iterable.\n",
      "        \n",
      "        The default start value for the product is 1.\n",
      "        \n",
      "        When the iterable is empty, return the start value.  This function is\n",
      "        intended specifically for use with numeric values and may reject\n",
      "        non-numeric types.\n",
      "    \n",
      "    radians(x, /)\n",
      "        Convert angle x from degrees to radians.\n",
      "    \n",
      "    remainder(x, y, /)\n",
      "        Difference between x and the closest integer multiple of y.\n",
      "        \n",
      "        Return x - n*y where n*y is the closest integer multiple of y.\n",
      "        In the case where x is exactly halfway between two multiples of\n",
      "        y, the nearest even value of n is used. The result is always exact.\n",
      "    \n",
      "    sin(x, /)\n",
      "        Return the sine of x (measured in radians).\n",
      "    \n",
      "    sinh(x, /)\n",
      "        Return the hyperbolic sine of x.\n",
      "    \n",
      "    sqrt(x, /)\n",
      "        Return the square root of x.\n",
      "    \n",
      "    tan(x, /)\n",
      "        Return the tangent of x (measured in radians).\n",
      "    \n",
      "    tanh(x, /)\n",
      "        Return the hyperbolic tangent of x.\n",
      "    \n",
      "    trunc(x, /)\n",
      "        Truncates the Real x to the nearest Integral toward 0.\n",
      "        \n",
      "        Uses the __trunc__ magic method.\n",
      "    \n",
      "    ulp(x, /)\n",
      "        Return the value of the least significant bit of the float x.\n",
      "\n",
      "DATA\n",
      "    e = 2.718281828459045\n",
      "    inf = inf\n",
      "    nan = nan\n",
      "    pi = 3.141592653589793\n",
      "    tau = 6.283185307179586\n",
      "\n",
      "FILE\n",
      "    (built-in)\n",
      "\n",
      "\n"
     ]
    }
   ],
   "source": [
    "import math\n",
    "help(math)"
   ]
  },
  {
   "cell_type": "code",
   "execution_count": 30,
   "id": "2d7c6c2c",
   "metadata": {},
   "outputs": [],
   "source": [
    "#file name=>code.py\n",
    "#module name => code "
   ]
  },
  {
   "cell_type": "code",
   "execution_count": 31,
   "id": "bd5fe56d",
   "metadata": {},
   "outputs": [
    {
     "name": "stdout",
     "output_type": "stream",
     "text": [
      "Help on built-in function print in module builtins:\n",
      "\n",
      "print(*args, sep=' ', end='\\n', file=None, flush=False)\n",
      "    Prints the values to a stream, or to sys.stdout by default.\n",
      "    \n",
      "    sep\n",
      "      string inserted between values, default a space.\n",
      "    end\n",
      "      string appended after the last value, default a newline.\n",
      "    file\n",
      "      a file-like object (stream); defaults to the current sys.stdout.\n",
      "    flush\n",
      "      whether to forcibly flush the stream.\n",
      "\n"
     ]
    }
   ],
   "source": [
    "help(print) #present in  module builtins which is under  builtins.py file\n",
    "#pre imported,"
   ]
  },
  {
   "cell_type": "code",
   "execution_count": 32,
   "id": "92227445",
   "metadata": {},
   "outputs": [
    {
     "ename": "NameError",
     "evalue": "name 'sqrt' is not defined",
     "output_type": "error",
     "traceback": [
      "\u001b[1;31m---------------------------------------------------------------------------\u001b[0m",
      "\u001b[1;31mNameError\u001b[0m                                 Traceback (most recent call last)",
      "Cell \u001b[1;32mIn[32], line 1\u001b[0m\n\u001b[1;32m----> 1\u001b[0m help(sqrt)\n",
      "\u001b[1;31mNameError\u001b[0m: name 'sqrt' is not defined"
     ]
    }
   ],
   "source": [
    "help(sqrt)"
   ]
  },
  {
   "cell_type": "code",
   "execution_count": 34,
   "id": "370fda67",
   "metadata": {},
   "outputs": [
    {
     "name": "stdout",
     "output_type": "stream",
     "text": [
      "Help on built-in function sqrt in module math:\n",
      "\n",
      "sqrt(x, /)\n",
      "    Return the square root of x.\n",
      "\n"
     ]
    }
   ],
   "source": [
    "help(math.sqrt) # / indecates the len of positional arg,it is optional"
   ]
  },
  {
   "cell_type": "code",
   "execution_count": 35,
   "id": "f6e7f7ef",
   "metadata": {},
   "outputs": [
    {
     "data": {
      "text/plain": [
       "3.1622776601683795"
      ]
     },
     "execution_count": 35,
     "metadata": {},
     "output_type": "execute_result"
    }
   ],
   "source": [
    "math.sqrt(10)"
   ]
  },
  {
   "cell_type": "markdown",
   "id": "ca9073d2",
   "metadata": {},
   "source": [
    "#importing a module:two ways\n",
    "\n",
    "import module_name\n",
    "from module_name import function_name"
   ]
  },
  {
   "cell_type": "code",
   "execution_count": 39,
   "id": "4afae5c4",
   "metadata": {},
   "outputs": [],
   "source": [
    "from copy import deepcopy"
   ]
  },
  {
   "cell_type": "code",
   "execution_count": 40,
   "id": "86aa9cea",
   "metadata": {},
   "outputs": [
    {
     "data": {
      "text/plain": [
       "[1, 2, 3, [10, 20]]"
      ]
     },
     "execution_count": 40,
     "metadata": {},
     "output_type": "execute_result"
    }
   ],
   "source": [
    "l1=[1,2,3,[10,20]]\n",
    "l1"
   ]
  },
  {
   "cell_type": "code",
   "execution_count": 41,
   "id": "d13e5f19",
   "metadata": {},
   "outputs": [],
   "source": [
    "l2=deepcopy(l1)"
   ]
  },
  {
   "cell_type": "code",
   "execution_count": 42,
   "id": "24c7ee4e",
   "metadata": {},
   "outputs": [
    {
     "data": {
      "text/plain": [
       "[1, 2, 3, [10, 20]]"
      ]
     },
     "execution_count": 42,
     "metadata": {},
     "output_type": "execute_result"
    }
   ],
   "source": [
    "l2"
   ]
  },
  {
   "cell_type": "code",
   "execution_count": 43,
   "id": "17690412",
   "metadata": {},
   "outputs": [
    {
     "name": "stdout",
     "output_type": "stream",
     "text": [
      "Help on function deepcopy in module copy:\n",
      "\n",
      "deepcopy(x, memo=None, _nil=[])\n",
      "    Deep copy operation on arbitrary Python objects.\n",
      "    \n",
      "    See the module's __doc__ string for more info.\n",
      "\n"
     ]
    }
   ],
   "source": [
    "help(deepcopy)"
   ]
  },
  {
   "cell_type": "code",
   "execution_count": 44,
   "id": "e4e697f0",
   "metadata": {},
   "outputs": [],
   "source": [
    "from math import sqrt #only sqrt function is imported and we will not be able to import other functions from math unslee we import them."
   ]
  },
  {
   "cell_type": "code",
   "execution_count": 45,
   "id": "7fa4ecad",
   "metadata": {},
   "outputs": [
    {
     "data": {
      "text/plain": [
       "3.1622776601683795"
      ]
     },
     "execution_count": 45,
     "metadata": {},
     "output_type": "execute_result"
    }
   ],
   "source": [
    "sqrt(10)"
   ]
  },
  {
   "cell_type": "code",
   "execution_count": 46,
   "id": "7a1cbcf1",
   "metadata": {},
   "outputs": [],
   "source": [
    "from random import choice"
   ]
  },
  {
   "cell_type": "code",
   "execution_count": 47,
   "id": "133ffa17",
   "metadata": {},
   "outputs": [
    {
     "data": {
      "text/plain": [
       "5"
      ]
     },
     "execution_count": 47,
     "metadata": {},
     "output_type": "execute_result"
    }
   ],
   "source": [
    "l3=[1,2,3,4,5]\n",
    "choice(l3)"
   ]
  },
  {
   "cell_type": "code",
   "execution_count": 50,
   "id": "2ca4199a",
   "metadata": {},
   "outputs": [
    {
     "data": {
      "text/plain": [
       "5"
      ]
     },
     "execution_count": 50,
     "metadata": {},
     "output_type": "execute_result"
    }
   ],
   "source": [
    "choice(l3)"
   ]
  },
  {
   "cell_type": "code",
   "execution_count": 49,
   "id": "d7600144",
   "metadata": {},
   "outputs": [
    {
     "ename": "NameError",
     "evalue": "name 'shuffle' is not defined",
     "output_type": "error",
     "traceback": [
      "\u001b[1;31m---------------------------------------------------------------------------\u001b[0m",
      "\u001b[1;31mNameError\u001b[0m                                 Traceback (most recent call last)",
      "Cell \u001b[1;32mIn[49], line 1\u001b[0m\n\u001b[1;32m----> 1\u001b[0m shuffle(l3)\n",
      "\u001b[1;31mNameError\u001b[0m: name 'shuffle' is not defined"
     ]
    }
   ],
   "source": [
    "shuffle(l3) #not defined as we have not called it"
   ]
  },
  {
   "cell_type": "code",
   "execution_count": 52,
   "id": "79846012",
   "metadata": {},
   "outputs": [
    {
     "ename": "NameError",
     "evalue": "name 'random' is not defined",
     "output_type": "error",
     "traceback": [
      "\u001b[1;31m---------------------------------------------------------------------------\u001b[0m",
      "\u001b[1;31mNameError\u001b[0m                                 Traceback (most recent call last)",
      "Cell \u001b[1;32mIn[52], line 1\u001b[0m\n\u001b[1;32m----> 1\u001b[0m random\u001b[38;5;241m.\u001b[39mshuffle(l3)\n",
      "\u001b[1;31mNameError\u001b[0m: name 'random' is not defined"
     ]
    }
   ],
   "source": [
    "random.shuffle(l3)"
   ]
  },
  {
   "cell_type": "code",
   "execution_count": 53,
   "id": "1187733e",
   "metadata": {},
   "outputs": [],
   "source": [
    "from random import choice,shuffle\n",
    "shuffle(l3)"
   ]
  },
  {
   "cell_type": "code",
   "execution_count": 54,
   "id": "b9a1a45a",
   "metadata": {},
   "outputs": [
    {
     "data": {
      "text/plain": [
       "[1, 3, 2, 5, 4]"
      ]
     },
     "execution_count": 54,
     "metadata": {},
     "output_type": "execute_result"
    }
   ],
   "source": [
    "l3"
   ]
  },
  {
   "cell_type": "code",
   "execution_count": 55,
   "id": "af68c7cd",
   "metadata": {},
   "outputs": [],
   "source": [
    "#using alias for module name/function name while importing\n",
    "import functools as tools"
   ]
  },
  {
   "cell_type": "code",
   "execution_count": 57,
   "id": "8b52e37b",
   "metadata": {},
   "outputs": [
    {
     "data": {
      "text/plain": [
       "15"
      ]
     },
     "execution_count": 57,
     "metadata": {},
     "output_type": "execute_result"
    }
   ],
   "source": [
    "tools.reduce(lambda x,y:x+y,l3)"
   ]
  },
  {
   "cell_type": "code",
   "execution_count": 58,
   "id": "d401bc3f",
   "metadata": {},
   "outputs": [
    {
     "ename": "NameError",
     "evalue": "name 'functools' is not defined",
     "output_type": "error",
     "traceback": [
      "\u001b[1;31m---------------------------------------------------------------------------\u001b[0m",
      "\u001b[1;31mNameError\u001b[0m                                 Traceback (most recent call last)",
      "Cell \u001b[1;32mIn[58], line 1\u001b[0m\n\u001b[1;32m----> 1\u001b[0m functools\u001b[38;5;241m.\u001b[39mreduce(\u001b[38;5;28;01mlambda\u001b[39;00m x,y:x\u001b[38;5;241m+\u001b[39my,l3)\n",
      "\u001b[1;31mNameError\u001b[0m: name 'functools' is not defined"
     ]
    }
   ],
   "source": [
    "functools.reduce(lambda x,y:x+y,l3) #error because we have imported it and gave alias name to it ,it will not recognise main name"
   ]
  },
  {
   "cell_type": "code",
   "execution_count": 59,
   "id": "072df636",
   "metadata": {},
   "outputs": [],
   "source": [
    "from functools import reduce as red"
   ]
  },
  {
   "cell_type": "code",
   "execution_count": 60,
   "id": "b32f138e",
   "metadata": {},
   "outputs": [
    {
     "ename": "NameError",
     "evalue": "name 'reduce' is not defined",
     "output_type": "error",
     "traceback": [
      "\u001b[1;31m---------------------------------------------------------------------------\u001b[0m",
      "\u001b[1;31mNameError\u001b[0m                                 Traceback (most recent call last)",
      "Cell \u001b[1;32mIn[60], line 1\u001b[0m\n\u001b[1;32m----> 1\u001b[0m reduce(\u001b[38;5;28;01mlambda\u001b[39;00m x,y:x\u001b[38;5;241m+\u001b[39my,l3)\n",
      "\u001b[1;31mNameError\u001b[0m: name 'reduce' is not defined"
     ]
    }
   ],
   "source": [
    "reduce(lambda x,y:x+y,l3) #error because reduce is not recognized"
   ]
  },
  {
   "cell_type": "code",
   "execution_count": 61,
   "id": "34419ae7",
   "metadata": {},
   "outputs": [
    {
     "data": {
      "text/plain": [
       "15"
      ]
     },
     "execution_count": 61,
     "metadata": {},
     "output_type": "execute_result"
    }
   ],
   "source": [
    "red(lambda x,y:x+y,l3)"
   ]
  },
  {
   "cell_type": "code",
   "execution_count": null,
   "id": "36f8c9c0",
   "metadata": {},
   "outputs": [],
   "source": [
    "#user define modules\n",
    "#modules that we create - python file that we create\n",
    "#we user other IDE's to write progm faster,example:pycharm,vscode,esclips\n",
    "#check for pycharm\n"
   ]
  },
  {
   "cell_type": "markdown",
   "id": "a514a1ff",
   "metadata": {},
   "source": [
    "# files in python\n",
    " file is a collection of data\n",
    " we can manipulate files \n",
    "  # classification of files in python\n",
    " -text file=> store the data in the form of charecters example:.txt ,.py(only plain charecter are present)\n",
    " -binary file=>store the data in the form of bytes(1 byte =8 bits(combination of 8 bits (0,1) is callled bytes) examle: image,videos,audio,pdf files\n",
    " "
   ]
  },
  {
   "cell_type": "code",
   "execution_count": 1,
   "id": "c7634c47",
   "metadata": {},
   "outputs": [],
   "source": [
    "# file handling\n",
    "#operations on file: open,read,write,remove,share,save and close\n",
    " #open()\n",
    "#file_handler=open(file_name,mode)"
   ]
  },
  {
   "cell_type": "code",
   "execution_count": 2,
   "id": "b05ed512",
   "metadata": {},
   "outputs": [
    {
     "name": "stdout",
     "output_type": "stream",
     "text": [
      "Help on function open in module io:\n",
      "\n",
      "open(file, mode='r', buffering=-1, encoding=None, errors=None, newline=None, closefd=True, opener=None)\n",
      "    Open file and return a stream.  Raise OSError upon failure.\n",
      "    \n",
      "    file is either a text or byte string giving the name (and the path\n",
      "    if the file isn't in the current working directory) of the file to\n",
      "    be opened or an integer file descriptor of the file to be\n",
      "    wrapped. (If a file descriptor is given, it is closed when the\n",
      "    returned I/O object is closed, unless closefd is set to False.)\n",
      "    \n",
      "    mode is an optional string that specifies the mode in which the file\n",
      "    is opened. It defaults to 'r' which means open for reading in text\n",
      "    mode.  Other common values are 'w' for writing (truncating the file if\n",
      "    it already exists), 'x' for creating and writing to a new file, and\n",
      "    'a' for appending (which on some Unix systems, means that all writes\n",
      "    append to the end of the file regardless of the current seek position).\n",
      "    In text mode, if encoding is not specified the encoding used is platform\n",
      "    dependent: locale.getencoding() is called to get the current locale encoding.\n",
      "    (For reading and writing raw bytes use binary mode and leave encoding\n",
      "    unspecified.) The available modes are:\n",
      "    \n",
      "    ========= ===============================================================\n",
      "    Character Meaning\n",
      "    --------- ---------------------------------------------------------------\n",
      "    'r'       open for reading (default)\n",
      "    'w'       open for writing, truncating the file first\n",
      "    'x'       create a new file and open it for writing\n",
      "    'a'       open for writing, appending to the end of the file if it exists\n",
      "    'b'       binary mode\n",
      "    't'       text mode (default)\n",
      "    '+'       open a disk file for updating (reading and writing)\n",
      "    ========= ===============================================================\n",
      "    \n",
      "    The default mode is 'rt' (open for reading text). For binary random\n",
      "    access, the mode 'w+b' opens and truncates the file to 0 bytes, while\n",
      "    'r+b' opens the file without truncation. The 'x' mode implies 'w' and\n",
      "    raises an `FileExistsError` if the file already exists.\n",
      "    \n",
      "    Python distinguishes between files opened in binary and text modes,\n",
      "    even when the underlying operating system doesn't. Files opened in\n",
      "    binary mode (appending 'b' to the mode argument) return contents as\n",
      "    bytes objects without any decoding. In text mode (the default, or when\n",
      "    't' is appended to the mode argument), the contents of the file are\n",
      "    returned as strings, the bytes having been first decoded using a\n",
      "    platform-dependent encoding or using the specified encoding if given.\n",
      "    \n",
      "    buffering is an optional integer used to set the buffering policy.\n",
      "    Pass 0 to switch buffering off (only allowed in binary mode), 1 to select\n",
      "    line buffering (only usable in text mode), and an integer > 1 to indicate\n",
      "    the size of a fixed-size chunk buffer.  When no buffering argument is\n",
      "    given, the default buffering policy works as follows:\n",
      "    \n",
      "    * Binary files are buffered in fixed-size chunks; the size of the buffer\n",
      "      is chosen using a heuristic trying to determine the underlying device's\n",
      "      \"block size\" and falling back on `io.DEFAULT_BUFFER_SIZE`.\n",
      "      On many systems, the buffer will typically be 4096 or 8192 bytes long.\n",
      "    \n",
      "    * \"Interactive\" text files (files for which isatty() returns True)\n",
      "      use line buffering.  Other text files use the policy described above\n",
      "      for binary files.\n",
      "    \n",
      "    encoding is the name of the encoding used to decode or encode the\n",
      "    file. This should only be used in text mode. The default encoding is\n",
      "    platform dependent, but any encoding supported by Python can be\n",
      "    passed.  See the codecs module for the list of supported encodings.\n",
      "    \n",
      "    errors is an optional string that specifies how encoding errors are to\n",
      "    be handled---this argument should not be used in binary mode. Pass\n",
      "    'strict' to raise a ValueError exception if there is an encoding error\n",
      "    (the default of None has the same effect), or pass 'ignore' to ignore\n",
      "    errors. (Note that ignoring encoding errors can lead to data loss.)\n",
      "    See the documentation for codecs.register or run 'help(codecs.Codec)'\n",
      "    for a list of the permitted encoding error strings.\n",
      "    \n",
      "    newline controls how universal newlines works (it only applies to text\n",
      "    mode). It can be None, '', '\\n', '\\r', and '\\r\\n'.  It works as\n",
      "    follows:\n",
      "    \n",
      "    * On input, if newline is None, universal newlines mode is\n",
      "      enabled. Lines in the input can end in '\\n', '\\r', or '\\r\\n', and\n",
      "      these are translated into '\\n' before being returned to the\n",
      "      caller. If it is '', universal newline mode is enabled, but line\n",
      "      endings are returned to the caller untranslated. If it has any of\n",
      "      the other legal values, input lines are only terminated by the given\n",
      "      string, and the line ending is returned to the caller untranslated.\n",
      "    \n",
      "    * On output, if newline is None, any '\\n' characters written are\n",
      "      translated to the system default line separator, os.linesep. If\n",
      "      newline is '' or '\\n', no translation takes place. If newline is any\n",
      "      of the other legal values, any '\\n' characters written are translated\n",
      "      to the given string.\n",
      "    \n",
      "    If closefd is False, the underlying file descriptor will be kept open\n",
      "    when the file is closed. This does not work when a file name is given\n",
      "    and must be True in that case.\n",
      "    \n",
      "    A custom opener can be used by passing a callable as *opener*. The\n",
      "    underlying file descriptor for the file object is then obtained by\n",
      "    calling *opener* with (*file*, *flags*). *opener* must return an open\n",
      "    file descriptor (passing os.open as *opener* results in functionality\n",
      "    similar to passing None).\n",
      "    \n",
      "    open() returns a file object whose type depends on the mode, and\n",
      "    through which the standard file operations such as reading and writing\n",
      "    are performed. When open() is used to open a file in a text mode ('w',\n",
      "    'r', 'wt', 'rt', etc.), it returns a TextIOWrapper. When used to open\n",
      "    a file in a binary mode, the returned class varies: in read binary\n",
      "    mode, it returns a BufferedReader; in write binary and append binary\n",
      "    modes, it returns a BufferedWriter, and in read/write mode, it returns\n",
      "    a BufferedRandom.\n",
      "    \n",
      "    It is also possible to use a string or bytearray as a file for both\n",
      "    reading and writing. For strings StringIO can be used like a file\n",
      "    opened in a text mode, and for bytes a BytesIO can be used like a file\n",
      "    opened in a binary mode.\n",
      "\n"
     ]
    }
   ],
   "source": [
    "help(open)"
   ]
  },
  {
   "cell_type": "code",
   "execution_count": 7,
   "id": "c528c115",
   "metadata": {},
   "outputs": [],
   "source": [
    "file_handler = open(\"code.txt\",'rt')"
   ]
  },
  {
   "cell_type": "code",
   "execution_count": 8,
   "id": "2e320e79",
   "metadata": {},
   "outputs": [
    {
     "data": {
      "text/plain": [
       "<_io.TextIOWrapper name='code.txt' mode='rt' encoding='cp1252'>"
      ]
     },
     "execution_count": 8,
     "metadata": {},
     "output_type": "execute_result"
    }
   ],
   "source": [
    "file_handler"
   ]
  },
  {
   "cell_type": "code",
   "execution_count": 9,
   "id": "12d5c56b",
   "metadata": {},
   "outputs": [
    {
     "data": {
      "text/plain": [
       "_io.TextIOWrapper"
      ]
     },
     "execution_count": 9,
     "metadata": {},
     "output_type": "execute_result"
    }
   ],
   "source": [
    "type(file_handler)"
   ]
  },
  {
   "cell_type": "code",
   "execution_count": 1,
   "id": "606354af",
   "metadata": {},
   "outputs": [
    {
     "ename": "FileNotFoundError",
     "evalue": "[Errno 2] No such file or directory: 'file1.txt'",
     "output_type": "error",
     "traceback": [
      "\u001b[1;31m---------------------------------------------------------------------------\u001b[0m",
      "\u001b[1;31mFileNotFoundError\u001b[0m                         Traceback (most recent call last)",
      "Cell \u001b[1;32mIn[1], line 1\u001b[0m\n\u001b[1;32m----> 1\u001b[0m file_handler\u001b[38;5;241m=\u001b[39m\u001b[38;5;28mopen\u001b[39m(\u001b[38;5;124m\"\u001b[39m\u001b[38;5;124mfile1.txt\u001b[39m\u001b[38;5;124m\"\u001b[39m,\u001b[38;5;124m\"\u001b[39m\u001b[38;5;124mrt\u001b[39m\u001b[38;5;124m\"\u001b[39m)\n",
      "File \u001b[1;32mC:\\ProgramData\\anaconda3\\Lib\\site-packages\\IPython\\core\\interactiveshell.py:284\u001b[0m, in \u001b[0;36m_modified_open\u001b[1;34m(file, *args, **kwargs)\u001b[0m\n\u001b[0;32m    277\u001b[0m \u001b[38;5;28;01mif\u001b[39;00m file \u001b[38;5;129;01min\u001b[39;00m {\u001b[38;5;241m0\u001b[39m, \u001b[38;5;241m1\u001b[39m, \u001b[38;5;241m2\u001b[39m}:\n\u001b[0;32m    278\u001b[0m     \u001b[38;5;28;01mraise\u001b[39;00m \u001b[38;5;167;01mValueError\u001b[39;00m(\n\u001b[0;32m    279\u001b[0m         \u001b[38;5;124mf\u001b[39m\u001b[38;5;124m\"\u001b[39m\u001b[38;5;124mIPython won\u001b[39m\u001b[38;5;124m'\u001b[39m\u001b[38;5;124mt let you open fd=\u001b[39m\u001b[38;5;132;01m{\u001b[39;00mfile\u001b[38;5;132;01m}\u001b[39;00m\u001b[38;5;124m by default \u001b[39m\u001b[38;5;124m\"\u001b[39m\n\u001b[0;32m    280\u001b[0m         \u001b[38;5;124m\"\u001b[39m\u001b[38;5;124mas it is likely to crash IPython. If you know what you are doing, \u001b[39m\u001b[38;5;124m\"\u001b[39m\n\u001b[0;32m    281\u001b[0m         \u001b[38;5;124m\"\u001b[39m\u001b[38;5;124myou can use builtins\u001b[39m\u001b[38;5;124m'\u001b[39m\u001b[38;5;124m open.\u001b[39m\u001b[38;5;124m\"\u001b[39m\n\u001b[0;32m    282\u001b[0m     )\n\u001b[1;32m--> 284\u001b[0m \u001b[38;5;28;01mreturn\u001b[39;00m io_open(file, \u001b[38;5;241m*\u001b[39margs, \u001b[38;5;241m*\u001b[39m\u001b[38;5;241m*\u001b[39mkwargs)\n",
      "\u001b[1;31mFileNotFoundError\u001b[0m: [Errno 2] No such file or directory: 'file1.txt'"
     ]
    }
   ],
   "source": [
    "file_handler=open(\"file1.txt\",\"rt\") #no file with filename is present"
   ]
  },
  {
   "cell_type": "code",
   "execution_count": 4,
   "id": "18d24d81",
   "metadata": {},
   "outputs": [],
   "source": [
    "#reading a file\n",
    "file_handler=open(\"code.py\",\"rt\")"
   ]
  },
  {
   "cell_type": "code",
   "execution_count": 5,
   "id": "c1253b0f",
   "metadata": {},
   "outputs": [],
   "source": [
    "contents=file_handler.read()"
   ]
  },
  {
   "cell_type": "code",
   "execution_count": 6,
   "id": "8f0ceb1b",
   "metadata": {},
   "outputs": [
    {
     "data": {
      "text/plain": [
       "'a = 100\\nb = 20\\nresult = a + b\\nprint(result)'"
      ]
     },
     "execution_count": 6,
     "metadata": {},
     "output_type": "execute_result"
    }
   ],
   "source": [
    "contents"
   ]
  },
  {
   "cell_type": "code",
   "execution_count": 7,
   "id": "b8e26920",
   "metadata": {},
   "outputs": [
    {
     "name": "stdout",
     "output_type": "stream",
     "text": [
      "a = 100\n",
      "b = 20\n",
      "result = a + b\n",
      "print(result)\n"
     ]
    }
   ],
   "source": [
    "print(contents)"
   ]
  },
  {
   "cell_type": "code",
   "execution_count": 8,
   "id": "041d5526",
   "metadata": {},
   "outputs": [
    {
     "data": {
      "text/plain": [
       "str"
      ]
     },
     "execution_count": 8,
     "metadata": {},
     "output_type": "execute_result"
    }
   ],
   "source": [
    "type(contents)"
   ]
  },
  {
   "cell_type": "code",
   "execution_count": 9,
   "id": "35f9b775",
   "metadata": {},
   "outputs": [],
   "source": [
    "file_handler.close()"
   ]
  },
  {
   "cell_type": "code",
   "execution_count": 10,
   "id": "d626028b",
   "metadata": {},
   "outputs": [
    {
     "ename": "ValueError",
     "evalue": "I/O operation on closed file.",
     "output_type": "error",
     "traceback": [
      "\u001b[1;31m---------------------------------------------------------------------------\u001b[0m",
      "\u001b[1;31mValueError\u001b[0m                                Traceback (most recent call last)",
      "Cell \u001b[1;32mIn[10], line 1\u001b[0m\n\u001b[1;32m----> 1\u001b[0m file_handler\u001b[38;5;241m.\u001b[39mread()\n",
      "\u001b[1;31mValueError\u001b[0m: I/O operation on closed file."
     ]
    }
   ],
   "source": [
    "file_handler.read() #we have closed it hence we will not be able to read it again but we have stored the data in contents variable,so we can use that"
   ]
  },
  {
   "cell_type": "code",
   "execution_count": 11,
   "id": "93c54b06",
   "metadata": {},
   "outputs": [
    {
     "data": {
      "text/plain": [
       "'a = 100\\nb = 20\\nresult = a + b\\nprint(result)'"
      ]
     },
     "execution_count": 11,
     "metadata": {},
     "output_type": "execute_result"
    }
   ],
   "source": [
    "contents"
   ]
  },
  {
   "cell_type": "code",
   "execution_count": 12,
   "id": "51bd56b1",
   "metadata": {},
   "outputs": [],
   "source": [
    "# 'w'       open for writing, truncating the file first means it delets the content in the file and open to write new data\n",
    "\n",
    "file_handler=open(\"code.py\",\"wt\")"
   ]
  },
  {
   "cell_type": "code",
   "execution_count": 13,
   "id": "75601fad",
   "metadata": {},
   "outputs": [
    {
     "ename": "UnsupportedOperation",
     "evalue": "not readable",
     "output_type": "error",
     "traceback": [
      "\u001b[1;31m---------------------------------------------------------------------------\u001b[0m",
      "\u001b[1;31mUnsupportedOperation\u001b[0m                      Traceback (most recent call last)",
      "Cell \u001b[1;32mIn[13], line 1\u001b[0m\n\u001b[1;32m----> 1\u001b[0m file_handler\u001b[38;5;241m.\u001b[39mread()\n",
      "\u001b[1;31mUnsupportedOperation\u001b[0m: not readable"
     ]
    }
   ],
   "source": [
    "file_handler.read() #when openwd in write mde we cannot read it"
   ]
  },
  {
   "cell_type": "code",
   "execution_count": 15,
   "id": "63987a85",
   "metadata": {},
   "outputs": [],
   "source": [
    "file_handler.close()"
   ]
  },
  {
   "cell_type": "code",
   "execution_count": 16,
   "id": "96939e5e",
   "metadata": {},
   "outputs": [],
   "source": [
    "fh=open(\"file1.txt\",\"wt\") #if the file does not exist,it will create a new file."
   ]
  },
  {
   "cell_type": "code",
   "execution_count": 17,
   "id": "71df1e2a",
   "metadata": {},
   "outputs": [
    {
     "data": {
      "text/plain": [
       "24"
      ]
     },
     "execution_count": 17,
     "metadata": {},
     "output_type": "execute_result"
    }
   ],
   "source": [
    "#write()\n",
    "fh.write(\"hello there,how are you?\") #we can write in the file but it will not be saved, to save the data we have to close the file."
   ]
  },
  {
   "cell_type": "code",
   "execution_count": null,
   "id": "3e35662a",
   "metadata": {},
   "outputs": [],
   "source": [
    "fh.close()"
   ]
  },
  {
   "cell_type": "code",
   "execution_count": 22,
   "id": "ac9a476f",
   "metadata": {},
   "outputs": [
    {
     "ename": "ValueError",
     "evalue": "I/O operation on closed file.",
     "output_type": "error",
     "traceback": [
      "\u001b[1;31m---------------------------------------------------------------------------\u001b[0m",
      "\u001b[1;31mValueError\u001b[0m                                Traceback (most recent call last)",
      "Cell \u001b[1;32mIn[22], line 1\u001b[0m\n\u001b[1;32m----> 1\u001b[0m fh\u001b[38;5;241m.\u001b[39mwrite(\u001b[38;5;124m\"\u001b[39m\u001b[38;5;124mhehehehe\u001b[39m\u001b[38;5;124m\"\u001b[39m)\n",
      "\u001b[1;31mValueError\u001b[0m: I/O operation on closed file."
     ]
    }
   ],
   "source": [
    "fh.write(\"hehehehe\") #after closing we cannot write."
   ]
  },
  {
   "cell_type": "code",
   "execution_count": 24,
   "id": "aa5687d4",
   "metadata": {},
   "outputs": [],
   "source": [
    "fh=open(\"file2\",\"wt\") #if we ddint give any extension,there is no issue .it depends on the content of the file"
   ]
  },
  {
   "cell_type": "code",
   "execution_count": 25,
   "id": "2529dca1",
   "metadata": {},
   "outputs": [
    {
     "data": {
      "text/plain": [
       "32"
      ]
     },
     "execution_count": 25,
     "metadata": {},
     "output_type": "execute_result"
    }
   ],
   "source": [
    "fh.write(\"hey, this is no extension file.\\n\")"
   ]
  },
  {
   "cell_type": "code",
   "execution_count": 26,
   "id": "c046f57e",
   "metadata": {},
   "outputs": [
    {
     "data": {
      "text/plain": [
       "41"
      ]
     },
     "execution_count": 26,
     "metadata": {},
     "output_type": "execute_result"
    }
   ],
   "source": [
    "fh.write(\"we are learming file handling in python.\\n\")\n"
   ]
  },
  {
   "cell_type": "code",
   "execution_count": 27,
   "id": "0d4f1652",
   "metadata": {},
   "outputs": [
    {
     "data": {
      "text/plain": [
       "9"
      ]
     },
     "execution_count": 27,
     "metadata": {},
     "output_type": "execute_result"
    }
   ],
   "source": [
    "fh.write(\"hahhahaha\")"
   ]
  },
  {
   "cell_type": "code",
   "execution_count": 28,
   "id": "8365513e",
   "metadata": {},
   "outputs": [
    {
     "data": {
      "text/plain": [
       "23"
      ]
     },
     "execution_count": 28,
     "metadata": {},
     "output_type": "execute_result"
    }
   ],
   "source": [
    "fh.write(\"/n zohan is a goood boy\")"
   ]
  },
  {
   "cell_type": "code",
   "execution_count": 29,
   "id": "ef1d8d24",
   "metadata": {},
   "outputs": [],
   "source": [
    "fh.close()"
   ]
  },
  {
   "cell_type": "code",
   "execution_count": 30,
   "id": "083bc357",
   "metadata": {},
   "outputs": [],
   "source": [
    "# \"x mode\"\n",
    "fh=open(\"file3\",\"xt\")"
   ]
  },
  {
   "cell_type": "code",
   "execution_count": 31,
   "id": "fa175423",
   "metadata": {},
   "outputs": [
    {
     "data": {
      "text/plain": [
       "31"
      ]
     },
     "execution_count": 31,
     "metadata": {},
     "output_type": "execute_result"
    }
   ],
   "source": [
    "fh.write(\"This is new file using x mode.\\n\")\n"
   ]
  },
  {
   "cell_type": "code",
   "execution_count": 33,
   "id": "a8f20d2a",
   "metadata": {},
   "outputs": [
    {
     "data": {
      "text/plain": [
       "36"
      ]
     },
     "execution_count": 33,
     "metadata": {},
     "output_type": "execute_result"
    }
   ],
   "source": [
    "fh.write(\"my name is sam\\n i am learning python/n\")"
   ]
  },
  {
   "cell_type": "code",
   "execution_count": 34,
   "id": "4ca97a15",
   "metadata": {},
   "outputs": [
    {
     "data": {
      "text/plain": [
       "3"
      ]
     },
     "execution_count": 34,
     "metadata": {},
     "output_type": "execute_result"
    }
   ],
   "source": [
    "fh.write(\"bye\")"
   ]
  },
  {
   "cell_type": "code",
   "execution_count": 35,
   "id": "c0a03b60",
   "metadata": {},
   "outputs": [],
   "source": [
    "fh.close()"
   ]
  },
  {
   "cell_type": "code",
   "execution_count": 36,
   "id": "776abc7c",
   "metadata": {},
   "outputs": [
    {
     "name": "stdout",
     "output_type": "stream",
     "text": [
      "Help on built-in function write:\n",
      "\n",
      "write(text, /) method of _io.TextIOWrapper instance\n",
      "    Write string to stream.\n",
      "    Returns the number of characters written (which is always equal to\n",
      "    the length of the string).\n",
      "\n"
     ]
    }
   ],
   "source": [
    "help(fh.write)"
   ]
  },
  {
   "cell_type": "code",
   "execution_count": 37,
   "id": "ef4ddf39",
   "metadata": {},
   "outputs": [
    {
     "name": "stdout",
     "output_type": "stream",
     "text": [
      "Help on built-in function read:\n",
      "\n",
      "read(size=-1, /) method of _io.TextIOWrapper instance\n",
      "    Read at most n characters from stream.\n",
      "    \n",
      "    Read from underlying buffer until we have n characters or we hit EOF.\n",
      "    If n is negative or omitted, read until EOF.\n",
      "\n"
     ]
    }
   ],
   "source": [
    "help(fh.read)"
   ]
  },
  {
   "cell_type": "markdown",
   "id": "82b0a5d6",
   "metadata": {},
   "source": [
    " Character Meaning\n",
    "    --------- ---------------------------------------------------------------\n",
    "    'r'       open for reading (default)\n",
    "    'w'       open for writing, truncating the file first\n",
    "    'x'       create a new file and open it for writing\n",
    "    'a'       open for writing, appending to the end of the file if it exists\n",
    "    'b'       binary mode\n",
    "    't'       text mode (default)\n",
    "    '+'       open a disk file for updating (reading and writing)"
   ]
  },
  {
   "cell_type": "code",
   "execution_count": 40,
   "id": "68bbd187",
   "metadata": {},
   "outputs": [],
   "source": [
    "fh=open(\"file3\",\"rt\")"
   ]
  },
  {
   "cell_type": "code",
   "execution_count": 41,
   "id": "4d53322f",
   "metadata": {},
   "outputs": [
    {
     "data": {
      "text/plain": [
       "'This is new file using x mode.\\nmy name is sam\\n i am learning pythonbye'"
      ]
     },
     "execution_count": 41,
     "metadata": {},
     "output_type": "execute_result"
    }
   ],
   "source": [
    "fh.read()"
   ]
  },
  {
   "cell_type": "code",
   "execution_count": 42,
   "id": "c546fb53",
   "metadata": {},
   "outputs": [
    {
     "data": {
      "text/plain": [
       "''"
      ]
     },
     "execution_count": 42,
     "metadata": {},
     "output_type": "execute_result"
    }
   ],
   "source": [
    "fh.read() #empty string beacuse once we read the cursor will come to an end and when we try to read again we have empty string"
   ]
  },
  {
   "cell_type": "code",
   "execution_count": 43,
   "id": "a3dfe08d",
   "metadata": {},
   "outputs": [],
   "source": [
    "fh.close()"
   ]
  },
  {
   "cell_type": "code",
   "execution_count": 46,
   "id": "274b7fdf",
   "metadata": {},
   "outputs": [],
   "source": [
    "fh=open(\"file3\",\"rt\")"
   ]
  },
  {
   "cell_type": "code",
   "execution_count": 48,
   "id": "492b5112",
   "metadata": {},
   "outputs": [
    {
     "data": {
      "text/plain": [
       "'This is new file using x mode.\\nmy name is sam\\n i am learning pythonbye'"
      ]
     },
     "execution_count": 48,
     "metadata": {},
     "output_type": "execute_result"
    }
   ],
   "source": [
    "fh.read()"
   ]
  },
  {
   "cell_type": "code",
   "execution_count": 49,
   "id": "23949601",
   "metadata": {},
   "outputs": [
    {
     "name": "stdout",
     "output_type": "stream",
     "text": [
      "Help on built-in function read:\n",
      "\n",
      "read(size=-1, /) method of _io.TextIOWrapper instance\n",
      "    Read at most n characters from stream.\n",
      "    \n",
      "    Read from underlying buffer until we have n characters or we hit EOF.\n",
      "    If n is negative or omitted, read until EOF.\n",
      "\n"
     ]
    }
   ],
   "source": [
    "help(fh.read)"
   ]
  },
  {
   "cell_type": "code",
   "execution_count": 50,
   "id": "776ae123",
   "metadata": {},
   "outputs": [
    {
     "data": {
      "text/plain": [
       "''"
      ]
     },
     "execution_count": 50,
     "metadata": {},
     "output_type": "execute_result"
    }
   ],
   "source": [
    "fh.read(10)"
   ]
  },
  {
   "cell_type": "code",
   "execution_count": 51,
   "id": "7e7a5834",
   "metadata": {},
   "outputs": [],
   "source": [
    "fh.close()\n"
   ]
  },
  {
   "cell_type": "code",
   "execution_count": 52,
   "id": "89a301ee",
   "metadata": {},
   "outputs": [],
   "source": [
    "fh=open(\"file3\",\"rt\")"
   ]
  },
  {
   "cell_type": "code",
   "execution_count": 53,
   "id": "6abdadd4",
   "metadata": {},
   "outputs": [
    {
     "data": {
      "text/plain": [
       "'This is ne'"
      ]
     },
     "execution_count": 53,
     "metadata": {},
     "output_type": "execute_result"
    }
   ],
   "source": [
    "fh.read(10) #first 10 charecter will be read and cursor is at (10-1) position"
   ]
  },
  {
   "cell_type": "code",
   "execution_count": 54,
   "id": "7ba113fa",
   "metadata": {},
   "outputs": [
    {
     "data": {
      "text/plain": [
       "'w fil'"
      ]
     },
     "execution_count": 54,
     "metadata": {},
     "output_type": "execute_result"
    }
   ],
   "source": [
    "fh.read(5)"
   ]
  },
  {
   "cell_type": "code",
   "execution_count": 55,
   "id": "e1a1cd75",
   "metadata": {},
   "outputs": [
    {
     "data": {
      "text/plain": [
       "'e using x mode.\\nmy name is sam\\n i am learning pythonbye'"
      ]
     },
     "execution_count": 55,
     "metadata": {},
     "output_type": "execute_result"
    }
   ],
   "source": [
    "fh.read() #now it will read the remaining charecters"
   ]
  },
  {
   "cell_type": "code",
   "execution_count": 56,
   "id": "aa0f0fdb",
   "metadata": {},
   "outputs": [
    {
     "data": {
      "text/plain": [
       "''"
      ]
     },
     "execution_count": 56,
     "metadata": {},
     "output_type": "execute_result"
    }
   ],
   "source": [
    "fh.read(10)"
   ]
  },
  {
   "cell_type": "code",
   "execution_count": 57,
   "id": "4f647d5a",
   "metadata": {},
   "outputs": [],
   "source": [
    "fh.close()"
   ]
  },
  {
   "cell_type": "code",
   "execution_count": 58,
   "id": "16c816f3",
   "metadata": {},
   "outputs": [],
   "source": [
    "#readline"
   ]
  },
  {
   "cell_type": "markdown",
   "id": "6ca762e5",
   "metadata": {},
   "source": [
    "fh=open(\"file3\",\"rt\")"
   ]
  },
  {
   "cell_type": "code",
   "execution_count": 60,
   "id": "abeff22a",
   "metadata": {},
   "outputs": [
    {
     "data": {
      "text/plain": [
       "'This is new file using x mode.\\n'"
      ]
     },
     "execution_count": 60,
     "metadata": {},
     "output_type": "execute_result"
    }
   ],
   "source": [
    "fh.readline() #read first line"
   ]
  },
  {
   "cell_type": "code",
   "execution_count": 61,
   "id": "b54fa59b",
   "metadata": {},
   "outputs": [
    {
     "data": {
      "text/plain": [
       "'my name is sam\\n'"
      ]
     },
     "execution_count": 61,
     "metadata": {},
     "output_type": "execute_result"
    }
   ],
   "source": [
    "fh.readline() #secondline "
   ]
  },
  {
   "cell_type": "code",
   "execution_count": 62,
   "id": "be3f399a",
   "metadata": {},
   "outputs": [
    {
     "data": {
      "text/plain": [
       "' i am learning pythonbye'"
      ]
     },
     "execution_count": 62,
     "metadata": {},
     "output_type": "execute_result"
    }
   ],
   "source": [
    "fh.readline()"
   ]
  },
  {
   "cell_type": "code",
   "execution_count": 63,
   "id": "0b6d021e",
   "metadata": {},
   "outputs": [
    {
     "data": {
      "text/plain": [
       "''"
      ]
     },
     "execution_count": 63,
     "metadata": {},
     "output_type": "execute_result"
    }
   ],
   "source": [
    "fh.readline() #end of paragraph"
   ]
  },
  {
   "cell_type": "code",
   "execution_count": 64,
   "id": "f4e0e51e",
   "metadata": {},
   "outputs": [],
   "source": [
    "fh.close()"
   ]
  },
  {
   "cell_type": "code",
   "execution_count": 65,
   "id": "63a21115",
   "metadata": {},
   "outputs": [
    {
     "data": {
      "text/plain": [
       "['This is new file using x mode.\\n',\n",
       " 'my name is sam\\n',\n",
       " ' i am learning pythonbye']"
      ]
     },
     "execution_count": 65,
     "metadata": {},
     "output_type": "execute_result"
    }
   ],
   "source": [
    "#readlines()\n",
    "fh=open(\"file3\",\"rt\")\n",
    "fh.readlines() #each line is treated as an element of the list."
   ]
  },
  {
   "cell_type": "code",
   "execution_count": 66,
   "id": "f0685f5c",
   "metadata": {},
   "outputs": [
    {
     "data": {
      "text/plain": [
       "[]"
      ]
     },
     "execution_count": 66,
     "metadata": {},
     "output_type": "execute_result"
    }
   ],
   "source": [
    "fh.readlines() #empty list "
   ]
  },
  {
   "cell_type": "code",
   "execution_count": 68,
   "id": "715c1a58",
   "metadata": {},
   "outputs": [],
   "source": [
    "fh.close()"
   ]
  },
  {
   "cell_type": "code",
   "execution_count": 69,
   "id": "b52ad73c",
   "metadata": {},
   "outputs": [],
   "source": [
    "fh=open(\"file3\",\"rt\")\n",
    "contents=fh.readlines()"
   ]
  },
  {
   "cell_type": "code",
   "execution_count": 70,
   "id": "78974f22",
   "metadata": {},
   "outputs": [
    {
     "data": {
      "text/plain": [
       "['This is new file using x mode.\\n',\n",
       " 'my name is sam\\n',\n",
       " ' i am learning pythonbye']"
      ]
     },
     "execution_count": 70,
     "metadata": {},
     "output_type": "execute_result"
    }
   ],
   "source": [
    "contents"
   ]
  },
  {
   "cell_type": "code",
   "execution_count": 71,
   "id": "e6b605d7",
   "metadata": {},
   "outputs": [
    {
     "data": {
      "text/plain": [
       "list"
      ]
     },
     "execution_count": 71,
     "metadata": {},
     "output_type": "execute_result"
    }
   ],
   "source": [
    "type(contents)"
   ]
  },
  {
   "cell_type": "code",
   "execution_count": 72,
   "id": "66f81527",
   "metadata": {},
   "outputs": [
    {
     "name": "stdout",
     "output_type": "stream",
     "text": [
      "This is new file using x mode.\n",
      "\n",
      "my name is sam\n",
      "\n",
      " i am learning pythonbye\n"
     ]
    }
   ],
   "source": [
    "for line in contents:\n",
    "    print(line)"
   ]
  },
  {
   "cell_type": "code",
   "execution_count": 73,
   "id": "352060e8",
   "metadata": {},
   "outputs": [
    {
     "name": "stdout",
     "output_type": "stream",
     "text": [
      "This is new file using x mode.\n",
      "my name is sam\n",
      " i am learning pythonbye"
     ]
    }
   ],
   "source": [
    "for line in contents:\n",
    "    print(line,end=\"\")"
   ]
  },
  {
   "cell_type": "code",
   "execution_count": 75,
   "id": "fb3ce318",
   "metadata": {},
   "outputs": [
    {
     "name": "stdout",
     "output_type": "stream",
     "text": [
      "This is new file using x mode.\n",
      "my name is sam\n",
      " i am learning pythonbye\n"
     ]
    }
   ],
   "source": [
    "for line in contents:\n",
    "    print(line.strip(\"\\n\"))"
   ]
  },
  {
   "cell_type": "code",
   "execution_count": 79,
   "id": "fbef181b",
   "metadata": {},
   "outputs": [
    {
     "name": "stdout",
     "output_type": "stream",
     "text": [
      "file word found in line 1\n"
     ]
    }
   ],
   "source": [
    "line_num=1\n",
    "for line in contents:\n",
    "    l=line.strip()\n",
    "    if \"file\" in l:\n",
    "        print(F\"file word found in line {line_num}\")\n",
    "    line_num+=1"
   ]
  },
  {
   "cell_type": "code",
   "execution_count": 80,
   "id": "3c21c7c0",
   "metadata": {},
   "outputs": [],
   "source": [
    "fh.close()"
   ]
  },
  {
   "cell_type": "code",
   "execution_count": null,
   "id": "26b828fe",
   "metadata": {},
   "outputs": [],
   "source": [
    "#reading binary file-sir notes\n",
    "#fh=open(\"image name \",\"br\")\n",
    "#content=fh.read() it will work and output will be in binary format.\n",
    "#type(content) #output will be bytes\n",
    "#fh.close()\n"
   ]
  },
  {
   "cell_type": "code",
   "execution_count": 82,
   "id": "63399f34",
   "metadata": {},
   "outputs": [
    {
     "ename": "TypeError",
     "evalue": "a bytes-like object is required, not 'str'",
     "output_type": "error",
     "traceback": [
      "\u001b[1;31m---------------------------------------------------------------------------\u001b[0m",
      "\u001b[1;31mTypeError\u001b[0m                                 Traceback (most recent call last)",
      "Cell \u001b[1;32mIn[82], line 2\u001b[0m\n\u001b[0;32m      1\u001b[0m fh\u001b[38;5;241m=\u001b[39m\u001b[38;5;28mopen\u001b[39m(\u001b[38;5;124m\"\u001b[39m\u001b[38;5;124mfile5\u001b[39m\u001b[38;5;124m\"\u001b[39m,\u001b[38;5;124m\"\u001b[39m\u001b[38;5;124mbx\u001b[39m\u001b[38;5;124m\"\u001b[39m)\n\u001b[1;32m----> 2\u001b[0m fh\u001b[38;5;241m.\u001b[39mwrite(\u001b[38;5;124m\"\u001b[39m\u001b[38;5;124mThis is test component\u001b[39m\u001b[38;5;124m\"\u001b[39m)\n",
      "\u001b[1;31mTypeError\u001b[0m: a bytes-like object is required, not 'str'"
     ]
    }
   ],
   "source": [
    "fh=open(\"file5\",\"bx\")\n",
    "fh.write(\"This is test component\") #error"
   ]
  },
  {
   "cell_type": "code",
   "execution_count": 84,
   "id": "c53f8993",
   "metadata": {},
   "outputs": [
    {
     "data": {
      "text/plain": [
       "22"
      ]
     },
     "execution_count": 84,
     "metadata": {},
     "output_type": "execute_result"
    }
   ],
   "source": [
    "fh.write(b\"This is test component\") #we use b to make string into binary file"
   ]
  },
  {
   "cell_type": "code",
   "execution_count": 85,
   "id": "584f2748",
   "metadata": {},
   "outputs": [],
   "source": [
    "fh.close()"
   ]
  },
  {
   "cell_type": "code",
   "execution_count": 89,
   "id": "6396af5a",
   "metadata": {},
   "outputs": [],
   "source": [
    "fh=open(\"file5\",\"rb\")"
   ]
  },
  {
   "cell_type": "code",
   "execution_count": 90,
   "id": "f9b9830a",
   "metadata": {},
   "outputs": [],
   "source": [
    "var=fh.read()"
   ]
  },
  {
   "cell_type": "code",
   "execution_count": 91,
   "id": "c973fcb4",
   "metadata": {},
   "outputs": [
    {
     "data": {
      "text/plain": [
       "bytes"
      ]
     },
     "execution_count": 91,
     "metadata": {},
     "output_type": "execute_result"
    }
   ],
   "source": [
    "type(var)"
   ]
  },
  {
   "cell_type": "code",
   "execution_count": 92,
   "id": "4553abe0",
   "metadata": {},
   "outputs": [
    {
     "data": {
      "text/plain": [
       "b'This is test component'"
      ]
     },
     "execution_count": 92,
     "metadata": {},
     "output_type": "execute_result"
    }
   ],
   "source": [
    "var"
   ]
  },
  {
   "cell_type": "code",
   "execution_count": 93,
   "id": "49a33f87",
   "metadata": {},
   "outputs": [],
   "source": [
    "str1=str(var)"
   ]
  },
  {
   "cell_type": "code",
   "execution_count": 94,
   "id": "658a5877",
   "metadata": {},
   "outputs": [
    {
     "data": {
      "text/plain": [
       "\"b'This is test component'\""
      ]
     },
     "execution_count": 94,
     "metadata": {},
     "output_type": "execute_result"
    }
   ],
   "source": [
    "str1"
   ]
  },
  {
   "cell_type": "code",
   "execution_count": 95,
   "id": "1f794565",
   "metadata": {},
   "outputs": [
    {
     "ename": "SyntaxError",
     "evalue": "invalid syntax (<string>, line 1)",
     "output_type": "error",
     "traceback": [
      "Traceback \u001b[1;36m(most recent call last)\u001b[0m:\n",
      "\u001b[0m  File \u001b[0;32mC:\\ProgramData\\anaconda3\\Lib\\site-packages\\IPython\\core\\interactiveshell.py:3505\u001b[0m in \u001b[0;35mrun_code\u001b[0m\n    exec(code_obj, self.user_global_ns, self.user_ns)\u001b[0m\n",
      "\u001b[1;36m  Cell \u001b[1;32mIn[95], line 1\u001b[1;36m\n\u001b[1;33m    eval(var)\u001b[1;36m\n",
      "\u001b[1;36m  File \u001b[1;32m<string>:1\u001b[1;36m\u001b[0m\n\u001b[1;33m    This is test component\u001b[0m\n\u001b[1;37m                 ^\u001b[0m\n\u001b[1;31mSyntaxError\u001b[0m\u001b[1;31m:\u001b[0m invalid syntax\n"
     ]
    }
   ],
   "source": [
    "eval(var) #error"
   ]
  },
  {
   "cell_type": "code",
   "execution_count": 96,
   "id": "edb3d25e",
   "metadata": {},
   "outputs": [],
   "source": [
    "fh.close()"
   ]
  },
  {
   "cell_type": "code",
   "execution_count": 100,
   "id": "b519ebbb",
   "metadata": {},
   "outputs": [],
   "source": [
    "fh=open(\"file5\",\"rt\")"
   ]
  },
  {
   "cell_type": "code",
   "execution_count": 101,
   "id": "8c3c58a0",
   "metadata": {},
   "outputs": [],
   "source": [
    "contents=fh.read() #it will work beacuse it has pure ccharecters,suppose if there an image ,it will not work."
   ]
  },
  {
   "cell_type": "code",
   "execution_count": 102,
   "id": "3b49e731",
   "metadata": {},
   "outputs": [
    {
     "data": {
      "text/plain": [
       "'This is test component'"
      ]
     },
     "execution_count": 102,
     "metadata": {},
     "output_type": "execute_result"
    }
   ],
   "source": [
    "contents"
   ]
  },
  {
   "cell_type": "code",
   "execution_count": 103,
   "id": "c092aad5",
   "metadata": {},
   "outputs": [],
   "source": [
    "fh.close()"
   ]
  },
  {
   "cell_type": "code",
   "execution_count": 105,
   "id": "97fdeaa5",
   "metadata": {},
   "outputs": [
    {
     "ename": "FileExistsError",
     "evalue": "[Errno 17] File exists: 'file6'",
     "output_type": "error",
     "traceback": [
      "\u001b[1;31m---------------------------------------------------------------------------\u001b[0m",
      "\u001b[1;31mFileExistsError\u001b[0m                           Traceback (most recent call last)",
      "Cell \u001b[1;32mIn[105], line 1\u001b[0m\n\u001b[1;32m----> 1\u001b[0m fh\u001b[38;5;241m=\u001b[39m\u001b[38;5;28mopen\u001b[39m(\u001b[38;5;124m\"\u001b[39m\u001b[38;5;124mfile6\u001b[39m\u001b[38;5;124m\"\u001b[39m,\u001b[38;5;124m\"\u001b[39m\u001b[38;5;124mbx\u001b[39m\u001b[38;5;124m\"\u001b[39m)\n\u001b[0;32m      2\u001b[0m fh\u001b[38;5;241m.\u001b[39mwrite(\u001b[38;5;124mb\u001b[39m\u001b[38;5;124m\"\u001b[39m\u001b[38;5;130;01m\\x12\u001b[39;00m\u001b[38;5;124mhello\u001b[39m\u001b[38;5;124m\"\u001b[39m)\n",
      "File \u001b[1;32mC:\\ProgramData\\anaconda3\\Lib\\site-packages\\IPython\\core\\interactiveshell.py:284\u001b[0m, in \u001b[0;36m_modified_open\u001b[1;34m(file, *args, **kwargs)\u001b[0m\n\u001b[0;32m    277\u001b[0m \u001b[38;5;28;01mif\u001b[39;00m file \u001b[38;5;129;01min\u001b[39;00m {\u001b[38;5;241m0\u001b[39m, \u001b[38;5;241m1\u001b[39m, \u001b[38;5;241m2\u001b[39m}:\n\u001b[0;32m    278\u001b[0m     \u001b[38;5;28;01mraise\u001b[39;00m \u001b[38;5;167;01mValueError\u001b[39;00m(\n\u001b[0;32m    279\u001b[0m         \u001b[38;5;124mf\u001b[39m\u001b[38;5;124m\"\u001b[39m\u001b[38;5;124mIPython won\u001b[39m\u001b[38;5;124m'\u001b[39m\u001b[38;5;124mt let you open fd=\u001b[39m\u001b[38;5;132;01m{\u001b[39;00mfile\u001b[38;5;132;01m}\u001b[39;00m\u001b[38;5;124m by default \u001b[39m\u001b[38;5;124m\"\u001b[39m\n\u001b[0;32m    280\u001b[0m         \u001b[38;5;124m\"\u001b[39m\u001b[38;5;124mas it is likely to crash IPython. If you know what you are doing, \u001b[39m\u001b[38;5;124m\"\u001b[39m\n\u001b[0;32m    281\u001b[0m         \u001b[38;5;124m\"\u001b[39m\u001b[38;5;124myou can use builtins\u001b[39m\u001b[38;5;124m'\u001b[39m\u001b[38;5;124m open.\u001b[39m\u001b[38;5;124m\"\u001b[39m\n\u001b[0;32m    282\u001b[0m     )\n\u001b[1;32m--> 284\u001b[0m \u001b[38;5;28;01mreturn\u001b[39;00m io_open(file, \u001b[38;5;241m*\u001b[39margs, \u001b[38;5;241m*\u001b[39m\u001b[38;5;241m*\u001b[39mkwargs)\n",
      "\u001b[1;31mFileExistsError\u001b[0m: [Errno 17] File exists: 'file6'"
     ]
    }
   ],
   "source": [
    "fh=open(\"file6\",\"bx\")\n",
    "fh.write(b\"/x12hello\")"
   ]
  },
  {
   "cell_type": "code",
   "execution_count": 106,
   "id": "e3255111",
   "metadata": {},
   "outputs": [
    {
     "data": {
      "text/plain": [
       "6"
      ]
     },
     "execution_count": 106,
     "metadata": {},
     "output_type": "execute_result"
    }
   ],
   "source": [
    "fh.write(b\"\\x12hello\")"
   ]
  },
  {
   "cell_type": "code",
   "execution_count": 107,
   "id": "df6fe8c6",
   "metadata": {},
   "outputs": [],
   "source": [
    "fh.close()"
   ]
  },
  {
   "cell_type": "code",
   "execution_count": 108,
   "id": "335798d1",
   "metadata": {},
   "outputs": [
    {
     "data": {
      "text/plain": [
       "b'/x12hello\\x12hello'"
      ]
     },
     "execution_count": 108,
     "metadata": {},
     "output_type": "execute_result"
    }
   ],
   "source": [
    "fh=open(\"file6\",\"br\")\n",
    "fh.read()"
   ]
  },
  {
   "cell_type": "code",
   "execution_count": 109,
   "id": "c7afe2ad",
   "metadata": {},
   "outputs": [],
   "source": [
    "fh.close()"
   ]
  },
  {
   "cell_type": "code",
   "execution_count": 110,
   "id": "aefa4641",
   "metadata": {},
   "outputs": [
    {
     "name": "stdout",
     "output_type": "stream",
     "text": [
      "This is new file using x mode.\n",
      "my name is sam\n",
      " i am learning pythonbye\n"
     ]
    }
   ],
   "source": [
    "#opening a file using \"with\" statement\n",
    "with open (\"file3\",\"rt\") as fh:\n",
    "    contents=fh.read()\n",
    "    print(contents)"
   ]
  },
  {
   "cell_type": "code",
   "execution_count": 111,
   "id": "e9f33744",
   "metadata": {},
   "outputs": [
    {
     "ename": "ValueError",
     "evalue": "I/O operation on closed file.",
     "output_type": "error",
     "traceback": [
      "\u001b[1;31m---------------------------------------------------------------------------\u001b[0m",
      "\u001b[1;31mValueError\u001b[0m                                Traceback (most recent call last)",
      "Cell \u001b[1;32mIn[111], line 1\u001b[0m\n\u001b[1;32m----> 1\u001b[0m fh\u001b[38;5;241m.\u001b[39mread()\n",
      "\u001b[1;31mValueError\u001b[0m: I/O operation on closed file."
     ]
    }
   ],
   "source": [
    "fh.read() #using #with file is auto closed "
   ]
  },
  {
   "cell_type": "code",
   "execution_count": 112,
   "id": "f5277cca",
   "metadata": {},
   "outputs": [
    {
     "data": {
      "text/plain": [
       "{'id': 101, 'name': 'sam', 'percent': 81.5}"
      ]
     },
     "execution_count": 112,
     "metadata": {},
     "output_type": "execute_result"
    }
   ],
   "source": [
    "#pickel\n",
    "student1={\"id\":101,\"name\":\"sam\",\"percent\":81.5}\n",
    "student1"
   ]
  },
  {
   "cell_type": "code",
   "execution_count": 113,
   "id": "c201ca30",
   "metadata": {},
   "outputs": [
    {
     "data": {
      "text/plain": [
       "dict"
      ]
     },
     "execution_count": 113,
     "metadata": {},
     "output_type": "execute_result"
    }
   ],
   "source": [
    "type(student1)"
   ]
  },
  {
   "cell_type": "code",
   "execution_count": 114,
   "id": "304f57dd",
   "metadata": {},
   "outputs": [],
   "source": [
    "fh=open(\"student_info\",\"xt\")"
   ]
  },
  {
   "cell_type": "code",
   "execution_count": 115,
   "id": "17162063",
   "metadata": {},
   "outputs": [
    {
     "ename": "TypeError",
     "evalue": "write() argument must be str, not dict",
     "output_type": "error",
     "traceback": [
      "\u001b[1;31m---------------------------------------------------------------------------\u001b[0m",
      "\u001b[1;31mTypeError\u001b[0m                                 Traceback (most recent call last)",
      "Cell \u001b[1;32mIn[115], line 1\u001b[0m\n\u001b[1;32m----> 1\u001b[0m fh\u001b[38;5;241m.\u001b[39mwrite(student1)\n",
      "\u001b[1;31mTypeError\u001b[0m: write() argument must be str, not dict"
     ]
    }
   ],
   "source": [
    "fh.write(student1) #in text file we have to write string not dict"
   ]
  },
  {
   "cell_type": "code",
   "execution_count": 116,
   "id": "7ad5a8d6",
   "metadata": {},
   "outputs": [
    {
     "data": {
      "text/plain": [
       "43"
      ]
     },
     "execution_count": 116,
     "metadata": {},
     "output_type": "execute_result"
    }
   ],
   "source": [
    "data =str(student1)\n",
    "fh.write(data)"
   ]
  },
  {
   "cell_type": "code",
   "execution_count": 117,
   "id": "b0052032",
   "metadata": {},
   "outputs": [],
   "source": [
    "fh.close()"
   ]
  },
  {
   "cell_type": "code",
   "execution_count": 119,
   "id": "2497bcd5",
   "metadata": {},
   "outputs": [],
   "source": [
    "fh=open(\"student_info\",\"rt\")\n",
    "con=fh.read()"
   ]
  },
  {
   "cell_type": "code",
   "execution_count": 120,
   "id": "91250052",
   "metadata": {},
   "outputs": [
    {
     "data": {
      "text/plain": [
       "\"{'id': 101, 'name': 'sam', 'percent': 81.5}\""
      ]
     },
     "execution_count": 120,
     "metadata": {},
     "output_type": "execute_result"
    }
   ],
   "source": [
    "con"
   ]
  },
  {
   "cell_type": "code",
   "execution_count": 121,
   "id": "7c91186a",
   "metadata": {},
   "outputs": [
    {
     "data": {
      "text/plain": [
       "str"
      ]
     },
     "execution_count": 121,
     "metadata": {},
     "output_type": "execute_result"
    }
   ],
   "source": [
    "type(con)"
   ]
  },
  {
   "cell_type": "code",
   "execution_count": 122,
   "id": "512a3fa6",
   "metadata": {},
   "outputs": [
    {
     "ename": "ValueError",
     "evalue": "dictionary update sequence element #0 has length 1; 2 is required",
     "output_type": "error",
     "traceback": [
      "\u001b[1;31m---------------------------------------------------------------------------\u001b[0m",
      "\u001b[1;31mValueError\u001b[0m                                Traceback (most recent call last)",
      "Cell \u001b[1;32mIn[122], line 1\u001b[0m\n\u001b[1;32m----> 1\u001b[0m \u001b[38;5;28mdict\u001b[39m(con)\n",
      "\u001b[1;31mValueError\u001b[0m: dictionary update sequence element #0 has length 1; 2 is required"
     ]
    }
   ],
   "source": [
    "dict(con) #error,we cannot type cast string ti dict"
   ]
  },
  {
   "cell_type": "code",
   "execution_count": 124,
   "id": "ad79908e",
   "metadata": {},
   "outputs": [],
   "source": [
    "d1=eval(con)"
   ]
  },
  {
   "cell_type": "code",
   "execution_count": 125,
   "id": "8f6f4e0d",
   "metadata": {},
   "outputs": [
    {
     "data": {
      "text/plain": [
       "dict"
      ]
     },
     "execution_count": 125,
     "metadata": {},
     "output_type": "execute_result"
    }
   ],
   "source": [
    "type(d1)"
   ]
  },
  {
   "cell_type": "code",
   "execution_count": null,
   "id": "ddedb0ec",
   "metadata": {},
   "outputs": [],
   "source": [
    "#pickel helps us to store the structured data into the binary file.\n",
    "#this is also called serialization\n",
    "#pickle module\n"
   ]
  },
  {
   "cell_type": "code",
   "execution_count": 130,
   "id": "c318b243",
   "metadata": {},
   "outputs": [
    {
     "data": {
      "text/plain": [
       "{'id': 101, 'name': 'sam', 'percent': 81.5}"
      ]
     },
     "execution_count": 130,
     "metadata": {},
     "output_type": "execute_result"
    }
   ],
   "source": [
    "import pickle\n",
    "student1"
   ]
  },
  {
   "cell_type": "code",
   "execution_count": 128,
   "id": "4759f2cc",
   "metadata": {},
   "outputs": [],
   "source": [
    "#write into the file \n",
    "#pickle.dump(object,file)\n",
    "\n",
    "fh=open(\"stu_info\",\"xb\")"
   ]
  },
  {
   "cell_type": "code",
   "execution_count": 131,
   "id": "072662f4",
   "metadata": {},
   "outputs": [],
   "source": [
    "pickle.dump(student1,fh)\n",
    "fh.close()"
   ]
  },
  {
   "cell_type": "code",
   "execution_count": 132,
   "id": "ff75d7c1",
   "metadata": {},
   "outputs": [],
   "source": [
    "fh=open(\"stu_info1.bin\",\"xb\")\n",
    "val=pickle.dump(student1,fh)\n",
    "fh.close()"
   ]
  },
  {
   "cell_type": "code",
   "execution_count": 133,
   "id": "4532a30a",
   "metadata": {},
   "outputs": [
    {
     "data": {
      "text/plain": [
       "NoneType"
      ]
     },
     "execution_count": 133,
     "metadata": {},
     "output_type": "execute_result"
    }
   ],
   "source": [
    "type(val)"
   ]
  },
  {
   "cell_type": "code",
   "execution_count": null,
   "id": "46afee02",
   "metadata": {},
   "outputs": [],
   "source": []
  }
 ],
 "metadata": {
  "kernelspec": {
   "display_name": "Python 3 (ipykernel)",
   "language": "python",
   "name": "python3"
  },
  "language_info": {
   "codemirror_mode": {
    "name": "ipython",
    "version": 3
   },
   "file_extension": ".py",
   "mimetype": "text/x-python",
   "name": "python",
   "nbconvert_exporter": "python",
   "pygments_lexer": "ipython3",
   "version": "3.11.4"
  }
 },
 "nbformat": 4,
 "nbformat_minor": 5
}
